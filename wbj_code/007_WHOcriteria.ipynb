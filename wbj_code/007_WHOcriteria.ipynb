{
 "cells": [
  {
   "cell_type": "code",
   "execution_count": 1,
   "metadata": {},
   "outputs": [],
   "source": [
    "import os\n",
    "import seaborn as sns\n",
    "import matplotlib.pyplot as plt\n",
    "import pandas as pd \n",
    "import numpy as np \n",
    "from scipy.stats import entropy\n",
    "from scipy.stats import mannwhitneyu as mwu\n",
    "import plotly.graph_objects as go"
   ]
  },
  {
   "cell_type": "code",
   "execution_count": 5,
   "metadata": {},
   "outputs": [
    {
     "name": "stdout",
     "output_type": "stream",
     "text": [
      "{1: 204, 2: 165, 3: 52, 4: 36, 5: 2}\n",
      "            ID  severity\n",
      "0  COV-CCO-001         2\n",
      "1  COV-CCO-002         2\n",
      "2  COV-CCO-003         2\n",
      "3  COV-CCO-004         2\n",
      "4  COV-CCO-006         1\n",
      "             Sample  Row_number  Total_readcount  Shannon_diversity  \\\n",
      "0  COV-CCO-0411_IGG        2498            19342           6.727983   \n",
      "1  COV-CCO-0411_IGM        7006            11251           8.179853   \n",
      "2  COV-CCO-0412_IGG         348             1523           5.104862   \n",
      "3  COV-CCO-0412_IGM        1183             1850           6.769221   \n",
      "4  COV-CCO-0413_IGG        2743            12102           6.672048   \n",
      "\n",
      "       PlnP2  Squared_Shannon  Time_point Type  \n",
      "0  47.012921        45.265755           1  IGG  \n",
      "1  69.480620        66.909994           1  IGM  \n",
      "2  27.682505        26.059611           2  IGG  \n",
      "3  46.744685        45.822355           2  IGM  \n",
      "4  47.145421        44.516224           3  IGG  \n"
     ]
    },
    {
     "name": "stderr",
     "output_type": "stream",
     "text": [
      "C:\\Users\\정우빈\\AppData\\Local\\Temp\\ipykernel_19592\\2155271137.py:6: DtypeWarning: Columns (17,19,21,23,38,69,84,139,154,165,283,289,290,292,294,316) have mixed types. Specify dtype option on import or set low_memory=False.\n",
      "  cl2 = pd.read_csv( data_dir + \"clinical_data_2.csv\", sep=',')\n"
     ]
    }
   ],
   "source": [
    "data_dir = '../Data/Clinical/'\n",
    "data_dir2 = '../Result/'\n",
    "\n",
    "# max_css = pd.read_csv( data_dir + \"max_css_table.csv\")\n",
    "cl1 = pd.read_csv( data_dir + \"clinical_data_1.csv\", sep=',')\n",
    "cl2 = pd.read_csv( data_dir + \"clinical_data_2.csv\", sep=',')\n",
    "max_css = pd.read_csv(data_dir2 + \"max_css_table.csv\")\n",
    "\n",
    "BCRHC01 = pd.read_csv(data_dir2 + 'aa_shannon_BCR_01_HC.csv')\n",
    "BCRLC01 = pd.read_csv(data_dir2 + 'aa_shannon_BCR_01_LC.csv')\n",
    "TCR01 = pd.read_csv(data_dir2 + 'aa_shannon_TCR_01.csv')\n",
    "BCRHC02 = pd.read_csv(data_dir2 + 'aa_shannon_BCR_02_HC.csv')\n",
    "BCRLC02 = pd.read_csv(data_dir2 + 'aa_shannon_BCR_02_LC.csv')\n",
    "TCR02 = pd.read_csv(data_dir2 + 'aa_shannon_TCR_02.csv')\n",
    "\n",
    "all = [BCRHC01, BCRLC01, TCR01, BCRHC02, BCRLC02, TCR02]\n",
    "only01 = [BCRHC01, BCRLC01, TCR01]\n",
    "only02 = [BCRHC02, BCRLC02, TCR02] \n",
    "\n",
    "BCRHC01.loc[BCRHC01['Time_point'] == 0, 'Time_point'] = 1\n",
    "\n",
    "sev_dict = max_css['severity'].value_counts().to_dict()\n",
    "\n",
    "print(sev_dict)\n",
    "print(max_css.head())\n",
    "print(BCRHC01.head())"
   ]
  },
  {
   "cell_type": "code",
   "execution_count": 8,
   "metadata": {},
   "outputs": [
    {
     "data": {
      "text/html": [
       "<div>\n",
       "<style scoped>\n",
       "    .dataframe tbody tr th:only-of-type {\n",
       "        vertical-align: middle;\n",
       "    }\n",
       "\n",
       "    .dataframe tbody tr th {\n",
       "        vertical-align: top;\n",
       "    }\n",
       "\n",
       "    .dataframe thead th {\n",
       "        text-align: right;\n",
       "    }\n",
       "</style>\n",
       "<table border=\"1\" class=\"dataframe\">\n",
       "  <thead>\n",
       "    <tr style=\"text-align: right;\">\n",
       "      <th></th>\n",
       "      <th>ID</th>\n",
       "      <th>severity</th>\n",
       "      <th>from</th>\n",
       "    </tr>\n",
       "  </thead>\n",
       "  <tbody>\n",
       "    <tr>\n",
       "      <th>0</th>\n",
       "      <td>COV-CCO-041</td>\n",
       "      <td>1</td>\n",
       "      <td>1</td>\n",
       "    </tr>\n",
       "    <tr>\n",
       "      <th>1</th>\n",
       "      <td>COV-CCO-042</td>\n",
       "      <td>1</td>\n",
       "      <td>1</td>\n",
       "    </tr>\n",
       "    <tr>\n",
       "      <th>2</th>\n",
       "      <td>COV-CCO-043</td>\n",
       "      <td>1</td>\n",
       "      <td>1</td>\n",
       "    </tr>\n",
       "    <tr>\n",
       "      <th>3</th>\n",
       "      <td>COV-CCO-044</td>\n",
       "      <td>1</td>\n",
       "      <td>1</td>\n",
       "    </tr>\n",
       "    <tr>\n",
       "      <th>4</th>\n",
       "      <td>COV-CCO-045</td>\n",
       "      <td>2</td>\n",
       "      <td>1</td>\n",
       "    </tr>\n",
       "  </tbody>\n",
       "</table>\n",
       "</div>"
      ],
      "text/plain": [
       "            ID  severity  from\n",
       "0  COV-CCO-041         1     1\n",
       "1  COV-CCO-042         1     1\n",
       "2  COV-CCO-043         1     1\n",
       "3  COV-CCO-044         1     1\n",
       "4  COV-CCO-045         2     1"
      ]
     },
     "execution_count": 8,
     "metadata": {},
     "output_type": "execute_result"
    }
   ],
   "source": [
    "out_dir = '../Result/'\n",
    "\n",
    "adaptome = pd.read_csv(out_dir + 'max_css_adaptome_only.csv')\n",
    "adaptome.head()"
   ]
  },
  {
   "cell_type": "code",
   "execution_count": 12,
   "metadata": {},
   "outputs": [],
   "source": [
    "### sevcl1과 sevcl2은 각각 cl1과 cl2 중에서 adaptome에 있는 환자들만 추출한 데이터프레임\n",
    "\n",
    "sevcl1 = cl1[cl1['ID'].isin(adaptome['ID'])]\n",
    "sevcl2 = cl2[cl2['ID'].isin(adaptome['ID'])]"
   ]
  },
  {
   "cell_type": "code",
   "execution_count": 13,
   "metadata": {},
   "outputs": [
    {
     "name": "stdout",
     "output_type": "stream",
     "text": [
      "avirus\n",
      "0.0    134\n",
      "1.0    131\n",
      "Name: count, dtype: int64\n",
      "avirusr\n",
      "0.0    134\n",
      "1.0    131\n",
      "Name: count, dtype: int64\n"
     ]
    }
   ],
   "source": [
    "# YES ==1, NO == 2, NaN == 99999\n",
    "\n",
    "# [1차 수집]\n",
    "# CMD_AVIRUS__1   항바이러스제 복용 여부\n",
    "# CMD_AVIRUSR__1  렘데시비르 복용 여부\n",
    "\n",
    "# M1_AVIRUS       내원시 항바이러스제 복용 여부\n",
    "# M1_AVIRUSR      내원시 렘데시비르 복용 여부\n",
    "# M2_AVIRUS       항바이러스제 치료 도입 여부\n",
    "# M2_AVIRUSR      렘데시비르 치료 도입 여부\n",
    "\n",
    "class allocate_avirus:\n",
    "    def __init__(self, df1, df2, adaptome):\n",
    "        self.df1 = df1\n",
    "        self.df2 = df2\n",
    "        self.adaptome = adaptome\n",
    "\n",
    "    def allocate(self):\n",
    "        self.adaptome['avirus'] = 0\n",
    "        self.adaptome['avirusr'] = 0\n",
    "\n",
    "        for i in range(len(self.df1)):\n",
    "            if 1 in self.df1.iloc[i][['CMD_AVIRUS__1']].values:\n",
    "                if np.isin(self.adaptome['ID'].values, self.df1.iloc[i]['ID']).any():\n",
    "                    self.adaptome.loc[i, 'avirus'] = 1\n",
    "\n",
    "            if 1 in self.df1.iloc[i][['CMD_AVIRUSR__1']].values:\n",
    "                if np.isin(self.adaptome['ID'].values, self.df1.iloc[i]['ID']).any():\n",
    "                    self.adaptome.loc[i, 'avirusr'] = 1\n",
    "                    \n",
    "        for i in range(len(self.df2)):\n",
    "            if 1 in self.df2.iloc[i][['M1_AVIRUS','M2_AVIRUS']].values:\n",
    "                if np.isin(self.adaptome['ID'].values, self.df2.iloc[i]['ID']).any():\n",
    "                    self.adaptome.loc[i, 'avirus'] = 1\n",
    "\n",
    "            if 1 in self.df2.iloc[i][['M1_AVIRUSR','M2_AVIRUSR']].values:\n",
    "                if np.isin(self.adaptome['ID'].values, self.df2.iloc[i]['ID']).any():\n",
    "                    self.adaptome.loc[i, 'avirusr'] = 1\n",
    "    \n",
    "        return self.adaptome\n",
    "    \n",
    "adaptome = allocate_avirus(sevcl1, sevcl2, adaptome).allocate()\n",
    "\n",
    "### adaptome에서 ID가 NaN인 행 제거\n",
    "adaptome = adaptome.dropna(subset=['ID'])\n",
    "print(adaptome['avirus'].value_counts(), adaptome['avirusr'].value_counts(), sep='\\n')"
   ]
  },
  {
   "cell_type": "code",
   "execution_count": 23,
   "metadata": {},
   "outputs": [
    {
     "name": "stdout",
     "output_type": "stream",
     "text": [
      "(111, 5)\n",
      "(20, 5)\n"
     ]
    }
   ],
   "source": [
    "### adaptome에서 avirus = 1이면서 from = 1인 행만 print\n",
    "\n",
    "print(adaptome[(adaptome['avirus'] == 1) & (adaptome['from'] == 1)].shape)\n",
    "print(adaptome[(adaptome['avirus'] == 1) & (adaptome['from'] == 2)].shape)"
   ]
  },
  {
   "cell_type": "code",
   "execution_count": null,
   "metadata": {},
   "outputs": [],
   "source": []
  }
 ],
 "metadata": {
  "kernelspec": {
   "display_name": "Python 3",
   "language": "python",
   "name": "python3"
  },
  "language_info": {
   "codemirror_mode": {
    "name": "ipython",
    "version": 3
   },
   "file_extension": ".py",
   "mimetype": "text/x-python",
   "name": "python",
   "nbconvert_exporter": "python",
   "pygments_lexer": "ipython3",
   "version": "3.11.5"
  },
  "orig_nbformat": 4,
  "vscode": {
   "interpreter": {
    "hash": "e4cce46d6be9934fbd27f9ca0432556941ea5bdf741d4f4d64c6cd7f8dfa8fba"
   }
  }
 },
 "nbformat": 4,
 "nbformat_minor": 2
}
