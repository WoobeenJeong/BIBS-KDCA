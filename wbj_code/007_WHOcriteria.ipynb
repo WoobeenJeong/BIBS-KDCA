{
 "cells": [
  {
   "cell_type": "code",
   "execution_count": 1,
   "metadata": {},
   "outputs": [],
   "source": [
    "import os\n",
    "import seaborn as sns\n",
    "import matplotlib.pyplot as plt\n",
    "import pandas as pd \n",
    "import numpy as np \n",
    "from scipy.stats import entropy\n",
    "from scipy.stats import mannwhitneyu as mwu\n",
    "import plotly.graph_objects as go"
   ]
  },
  {
   "cell_type": "code",
   "execution_count": 34,
   "metadata": {},
   "outputs": [
    {
     "name": "stdout",
     "output_type": "stream",
     "text": [
      "            ID  severity\n",
      "0  COV-CCO-001         2\n",
      "1  COV-CCO-002         2\n",
      "2  COV-CCO-003         2\n",
      "3  COV-CCO-004         2\n",
      "4  COV-CCO-006         1\n",
      "             Sample  Row_number  Total_readcount  Shannon_diversity  \\\n",
      "0  COV-CCO-0411_IGG        2498            19342           6.727983   \n",
      "1  COV-CCO-0411_IGM        7006            11251           8.179853   \n",
      "2  COV-CCO-0412_IGG         348             1523           5.104862   \n",
      "3  COV-CCO-0412_IGM        1183             1850           6.769221   \n",
      "4  COV-CCO-0413_IGG        2743            12102           6.672048   \n",
      "\n",
      "       PlnP2  Squared_Shannon  Time_point Type  \n",
      "0  47.012921        45.265755           1  IGG  \n",
      "1  69.480620        66.909994           1  IGM  \n",
      "2  27.682505        26.059611           2  IGG  \n",
      "3  46.744685        45.822355           2  IGM  \n",
      "4  47.145421        44.516224           3  IGG  \n"
     ]
    },
    {
     "name": "stderr",
     "output_type": "stream",
     "text": [
      "C:\\Users\\정우빈\\AppData\\Local\\Temp\\ipykernel_15120\\474078937.py:6: DtypeWarning: Columns (17,19,21,23,38,69,84,139,154,165,283,289,290,292,294,316) have mixed types. Specify dtype option on import or set low_memory=False.\n",
      "  cl2 = pd.read_csv( data_dir + \"clinical_data_2.csv\", sep=',')\n"
     ]
    }
   ],
   "source": [
    "data_dir = '../Data/Clinical/'\n",
    "data_dir2 = '../Result/'\n",
    "\n",
    "# max_css = pd.read_csv( data_dir + \"max_css_table.csv\")\n",
    "cl1 = pd.read_csv( data_dir + \"clinical_data_1.csv\", sep=',')\n",
    "cl2 = pd.read_csv( data_dir + \"clinical_data_2.csv\", sep=',')\n",
    "max_css = pd.read_csv(data_dir2 + \"max_css_table.csv\")\n",
    "\n",
    "BCRHC01 = pd.read_csv(data_dir2 + 'aa_shannon_BCR_01_HC.csv')\n",
    "BCRLC01 = pd.read_csv(data_dir2 + 'aa_shannon_BCR_01_LC.csv')\n",
    "TCR01 = pd.read_csv(data_dir2 + 'aa_shannon_TCR_01.csv')\n",
    "BCRHC02 = pd.read_csv(data_dir2 + 'aa_shannon_BCR_02_HC.csv')\n",
    "BCRLC02 = pd.read_csv(data_dir2 + 'aa_shannon_BCR_02_LC.csv')\n",
    "TCR02 = pd.read_csv(data_dir2 + 'aa_shannon_TCR_02.csv')\n",
    "\n",
    "all = [BCRHC01, BCRLC01, TCR01, BCRHC02, BCRLC02, TCR02]\n",
    "only01 = [BCRHC01, BCRLC01, TCR01]\n",
    "only02 = [BCRHC02, BCRLC02, TCR02] \n",
    "\n",
    "BCRHC01.loc[BCRHC01['Time_point'] == 0, 'Time_point'] = 1\n",
    "\n",
    "print(max_css.head())\n",
    "print(BCRHC01.head())"
   ]
  },
  {
   "cell_type": "code",
   "execution_count": 35,
   "metadata": {},
   "outputs": [
    {
     "name": "stdout",
     "output_type": "stream",
     "text": [
      "{1: 204, 2: 165, 3: 52, 4: 36, 5: 2}\n"
     ]
    }
   ],
   "source": [
    "sev_dict = max_css['severity'].value_counts().to_dict()\n",
    "print(sev_dict)"
   ]
  },
  {
   "cell_type": "code",
   "execution_count": 53,
   "metadata": {},
   "outputs": [
    {
     "name": "stdout",
     "output_type": "stream",
     "text": [
      "Severity\n",
      "4.0    94\n",
      "3.0    66\n",
      "0.0    44\n",
      "2.0    16\n",
      "Name: count, dtype: int64\n"
     ]
    }
   ],
   "source": [
    "for i in all:\n",
    "    i['Severity'] = i['Sample'].str[0:11].map(max_css.set_index('ID')['severity'])\n",
    "    i['Severity'] = i['Severity'].fillna(0)\n",
    "\n",
    "print(TCR02['Severity'].value_counts())"
   ]
  },
  {
   "cell_type": "code",
   "execution_count": 55,
   "metadata": {},
   "outputs": [
    {
     "name": "stdout",
     "output_type": "stream",
     "text": [
      "           0    1    2    3    4\n",
      "BCRHC01  122  390  320    4    4\n",
      "BCRLC01  122  390  320    4    4\n",
      "TCR01    122  390  320    4    4\n",
      "BCRHC02   76    0   30  115  161\n",
      "BCRLC02   88    0   32  128  183\n",
      "TCR02     44    0   16   66   94\n"
     ]
    }
   ],
   "source": [
    "severity_count = pd.DataFrame(columns=[0, 1, 2, 3, 4], index=['BCRHC01', 'BCRLC01', 'TCR01', 'BCRHC02', 'BCRLC02', 'TCR02'])ㄴ\n",
    "\n",
    "for i in range(len(all)):\n",
    "    for j in range(5):\n",
    "        severity_count.iloc[i,j] = len(all[i][all[i]['Severity'] == j])\n",
    "\n",
    "print(severity_count)"
   ]
  },
  {
   "cell_type": "code",
   "execution_count": 78,
   "metadata": {},
   "outputs": [
    {
     "name": "stdout",
     "output_type": "stream",
     "text": [
      "81 85 72 10 17\n"
     ]
    }
   ],
   "source": [
    "### 모든 데이터프레임에서 severity가 각각 0, 1, 2, 3, 4인 경우에 대해 'Sample'리스트 작성\n",
    "\n",
    "sev0,sev1,sev2,sev3,sev4 = [],[],[],[],[]\n",
    "\n",
    "for i in all:\n",
    "    sev0 += i[i['Severity'] == 0]['Sample'].str[0:11].unique().tolist()\n",
    "    sev1 += i[i['Severity'] == 1]['Sample'].str[0:11].unique().tolist()\n",
    "    sev2 += i[i['Severity'] == 2]['Sample'].str[0:11].unique().tolist()\n",
    "    sev3 += i[i['Severity'] == 3]['Sample'].str[0:11].unique().tolist()\n",
    "    sev4 += i[i['Severity'] == 4]['Sample'].str[0:11].unique().tolist()\n",
    "\n",
    "### 중복 제거\n",
    "\n",
    "sev0, sev1, sev2, sev3, sev4 = [list(set(sev)) for sev in [sev0, sev1, sev2, sev3, sev4]]\n",
    "\n",
    "print(len(sev0), len(sev1), len(sev2), len(sev3), len(sev4))"
   ]
  },
  {
   "cell_type": "code",
   "execution_count": null,
   "metadata": {},
   "outputs": [],
   "source": []
  }
 ],
 "metadata": {
  "kernelspec": {
   "display_name": "Python 3",
   "language": "python",
   "name": "python3"
  },
  "language_info": {
   "codemirror_mode": {
    "name": "ipython",
    "version": 3
   },
   "file_extension": ".py",
   "mimetype": "text/x-python",
   "name": "python",
   "nbconvert_exporter": "python",
   "pygments_lexer": "ipython3",
   "version": "3.11.5"
  },
  "orig_nbformat": 4,
  "vscode": {
   "interpreter": {
    "hash": "e4cce46d6be9934fbd27f9ca0432556941ea5bdf741d4f4d64c6cd7f8dfa8fba"
   }
  }
 },
 "nbformat": 4,
 "nbformat_minor": 2
}
