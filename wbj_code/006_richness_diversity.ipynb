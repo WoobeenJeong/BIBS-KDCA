{
 "cells": [
  {
   "cell_type": "code",
   "execution_count": 1,
   "metadata": {},
   "outputs": [],
   "source": [
    "import os\n",
    "import seaborn as sns\n",
    "import matplotlib.pyplot as plt\n",
    "import pandas as pd \n",
    "import numpy as np \n",
    "from scipy.stats import entropy\n",
    "from scipy.stats import mannwhitneyu as mwu\n",
    "import plotly.graph_objects as go\n",
    "\n",
    "###################################################\n",
    "### Set the directory\n",
    "dir_BCR_01H = '../Data/BulkBCRseq/1st/BCR_HC_CDR3/'\n",
    "dir_BCR_01L = '../Data/BulkBCRseq/1st/BCR_LC_CDR3/'\n",
    "dir_BCR_02H = '../Data/BulkBCRseq/2nd/BCR_HC_CDR3/'\n",
    "dir_BCR_02L = '../Data/BulkBCRseq/2nd/BCR_LC_CDR3/'\n",
    "dir_TCR_001 = '../Data/BulkTCRseq/1st/'\n",
    "dir_TCR_002 = '../Data/BulkTCRseq/2nd/'\n",
    "###################################################"
   ]
  },
  {
   "cell_type": "code",
   "execution_count": 2,
   "metadata": {},
   "outputs": [
    {
     "data": {
      "text/html": [
       "<div>\n",
       "<style scoped>\n",
       "    .dataframe tbody tr th:only-of-type {\n",
       "        vertical-align: middle;\n",
       "    }\n",
       "\n",
       "    .dataframe tbody tr th {\n",
       "        vertical-align: top;\n",
       "    }\n",
       "\n",
       "    .dataframe thead th {\n",
       "        text-align: right;\n",
       "    }\n",
       "</style>\n",
       "<table border=\"1\" class=\"dataframe\">\n",
       "  <thead>\n",
       "    <tr style=\"text-align: right;\">\n",
       "      <th></th>\n",
       "      <th>Directory</th>\n",
       "      <th>Read Count</th>\n",
       "      <th>Fraction</th>\n",
       "      <th>Clonal Sequence</th>\n",
       "      <th>Clonal Sequence Quality</th>\n",
       "      <th>CDR3 Min Quality</th>\n",
       "      <th>CDR3 Sequence</th>\n",
       "      <th>CDR3 Amino Acid Sequence</th>\n",
       "      <th>Clonal Type</th>\n",
       "      <th>Frame Shift</th>\n",
       "      <th>Stop Codon</th>\n",
       "      <th>Amino Acid Length</th>\n",
       "      <th>V segment</th>\n",
       "      <th>all V hits</th>\n",
       "      <th>D segment</th>\n",
       "      <th>all D hits</th>\n",
       "      <th>J segment</th>\n",
       "      <th>all J hits</th>\n",
       "      <th>C segment</th>\n",
       "      <th>all C hits</th>\n",
       "    </tr>\n",
       "  </thead>\n",
       "  <tbody>\n",
       "    <tr>\n",
       "      <th>0</th>\n",
       "      <td>BCR_HC_CDR3</td>\n",
       "      <td>2459</td>\n",
       "      <td>0.068749</td>\n",
       "      <td>TGTGCAAAAGGAGGCCGTATATCAGCAGATGGTCCTTCTGATTCTTGG</td>\n",
       "      <td>IIIIIIIIIIIIIIIIIIIIIIIIIIIIIIIIIIIIIIIIIIIIIIII</td>\n",
       "      <td>40</td>\n",
       "      <td>TGTGCAAAAGGAGGCCGTATATCAGCAGATGGTCCTTCTGATTCTTGG</td>\n",
       "      <td>CAKGGRISADGPSDSW</td>\n",
       "      <td>IGG</td>\n",
       "      <td>NaN</td>\n",
       "      <td>NaN</td>\n",
       "      <td>16</td>\n",
       "      <td>IGHV3-23</td>\n",
       "      <td>IGHV3-23</td>\n",
       "      <td>IGHD6-13</td>\n",
       "      <td>IGHD6-13</td>\n",
       "      <td>IGHJ1</td>\n",
       "      <td>IGHJ1;IGHJ4;IGHJ5</td>\n",
       "      <td>IGHG1</td>\n",
       "      <td>IGHG1;IGHG2;IGHGP</td>\n",
       "    </tr>\n",
       "    <tr>\n",
       "      <th>1</th>\n",
       "      <td>BCR_HC_CDR3</td>\n",
       "      <td>1974</td>\n",
       "      <td>0.055189</td>\n",
       "      <td>TGTGCGAGAGGCGCAAGAACTATACTTCGGGCCTGG</td>\n",
       "      <td>IIIIIIIIIIIIIIIIIIIIIIIIIIIIIIIIIIII</td>\n",
       "      <td>40</td>\n",
       "      <td>TGTGCGAGAGGCGCAAGAACTATACTTCGGGCCTGG</td>\n",
       "      <td>CARGARTILRAW</td>\n",
       "      <td>IGG</td>\n",
       "      <td>NaN</td>\n",
       "      <td>NaN</td>\n",
       "      <td>12</td>\n",
       "      <td>IGHV4-34</td>\n",
       "      <td>IGHV4-34</td>\n",
       "      <td>IGHD3-10</td>\n",
       "      <td>IGHD3-10;IGHD1-26;IGHD6-6</td>\n",
       "      <td>IGHJ5</td>\n",
       "      <td>IGHJ5;IGHJ4</td>\n",
       "      <td>IGHG1</td>\n",
       "      <td>IGHG1;IGHG2;IGHGP</td>\n",
       "    </tr>\n",
       "  </tbody>\n",
       "</table>\n",
       "</div>"
      ],
      "text/plain": [
       "     Directory  Read Count  Fraction  \\\n",
       "0  BCR_HC_CDR3        2459  0.068749   \n",
       "1  BCR_HC_CDR3        1974  0.055189   \n",
       "\n",
       "                                    Clonal Sequence  \\\n",
       "0  TGTGCAAAAGGAGGCCGTATATCAGCAGATGGTCCTTCTGATTCTTGG   \n",
       "1              TGTGCGAGAGGCGCAAGAACTATACTTCGGGCCTGG   \n",
       "\n",
       "                            Clonal Sequence Quality  CDR3 Min Quality  \\\n",
       "0  IIIIIIIIIIIIIIIIIIIIIIIIIIIIIIIIIIIIIIIIIIIIIIII                40   \n",
       "1              IIIIIIIIIIIIIIIIIIIIIIIIIIIIIIIIIIII                40   \n",
       "\n",
       "                                      CDR3 Sequence CDR3 Amino Acid Sequence  \\\n",
       "0  TGTGCAAAAGGAGGCCGTATATCAGCAGATGGTCCTTCTGATTCTTGG         CAKGGRISADGPSDSW   \n",
       "1              TGTGCGAGAGGCGCAAGAACTATACTTCGGGCCTGG             CARGARTILRAW   \n",
       "\n",
       "  Clonal Type Frame Shift Stop Codon  Amino Acid Length V segment all V hits  \\\n",
       "0         IGG         NaN        NaN                 16  IGHV3-23   IGHV3-23   \n",
       "1         IGG         NaN        NaN                 12  IGHV4-34   IGHV4-34   \n",
       "\n",
       "  D segment                 all D hits J segment         all J hits C segment  \\\n",
       "0  IGHD6-13                   IGHD6-13     IGHJ1  IGHJ1;IGHJ4;IGHJ5     IGHG1   \n",
       "1  IGHD3-10  IGHD3-10;IGHD1-26;IGHD6-6     IGHJ5        IGHJ5;IGHJ4     IGHG1   \n",
       "\n",
       "          all C hits  \n",
       "0  IGHG1;IGHG2;IGHGP  \n",
       "1  IGHG1;IGHG2;IGHGP  "
      ]
     },
     "metadata": {},
     "output_type": "display_data"
    },
    {
     "data": {
      "text/html": [
       "<div>\n",
       "<style scoped>\n",
       "    .dataframe tbody tr th:only-of-type {\n",
       "        vertical-align: middle;\n",
       "    }\n",
       "\n",
       "    .dataframe tbody tr th {\n",
       "        vertical-align: top;\n",
       "    }\n",
       "\n",
       "    .dataframe thead th {\n",
       "        text-align: right;\n",
       "    }\n",
       "</style>\n",
       "<table border=\"1\" class=\"dataframe\">\n",
       "  <thead>\n",
       "    <tr style=\"text-align: right;\">\n",
       "      <th></th>\n",
       "      <th>Directory</th>\n",
       "      <th>Read Count</th>\n",
       "      <th>Fraction</th>\n",
       "      <th>Clonal Sequence</th>\n",
       "      <th>Clonal Sequence Quality</th>\n",
       "      <th>CDR3 Min Quality</th>\n",
       "      <th>CDR3 Sequence</th>\n",
       "      <th>CDR3 Amino Acid Sequence</th>\n",
       "      <th>Clonal Type</th>\n",
       "      <th>Frame Shift</th>\n",
       "      <th>Stop Codon</th>\n",
       "      <th>Amino Acid Length</th>\n",
       "      <th>V segment</th>\n",
       "      <th>all V hits</th>\n",
       "      <th>D segment</th>\n",
       "      <th>all D hits</th>\n",
       "      <th>J segment</th>\n",
       "      <th>all J hits</th>\n",
       "      <th>C segment</th>\n",
       "      <th>all C hits</th>\n",
       "    </tr>\n",
       "  </thead>\n",
       "  <tbody>\n",
       "    <tr>\n",
       "      <th>0</th>\n",
       "      <td>BCR_LC_CDR3</td>\n",
       "      <td>8270</td>\n",
       "      <td>0.081901</td>\n",
       "      <td>TGTCAGCAATATTATCTTAGTCCCTTCACTTTT</td>\n",
       "      <td>IIIIIIIIIIIIIIIIIIIIIIIIIIIIIIIII</td>\n",
       "      <td>40</td>\n",
       "      <td>TGTCAGCAATATTATCTTAGTCCCTTCACTTTT</td>\n",
       "      <td>CQQYYLSPFTF</td>\n",
       "      <td>IGK</td>\n",
       "      <td>NaN</td>\n",
       "      <td>NaN</td>\n",
       "      <td>11</td>\n",
       "      <td>IGKV4-1</td>\n",
       "      <td>IGKV4-1</td>\n",
       "      <td>NaN</td>\n",
       "      <td>NaN</td>\n",
       "      <td>IGKJ2</td>\n",
       "      <td>IGKJ2</td>\n",
       "      <td>IGKC</td>\n",
       "      <td>IGKC</td>\n",
       "    </tr>\n",
       "    <tr>\n",
       "      <th>1</th>\n",
       "      <td>BCR_LC_CDR3</td>\n",
       "      <td>2522</td>\n",
       "      <td>0.024976</td>\n",
       "      <td>TGTCAACAACTTAGTAGTTACCCCCTCACTTTC</td>\n",
       "      <td>IIIIIIIIIIIIIIIIIIIIIIIIIIIIIIIII</td>\n",
       "      <td>40</td>\n",
       "      <td>TGTCAACAACTTAGTAGTTACCCCCTCACTTTC</td>\n",
       "      <td>CQQLSSYPLTF</td>\n",
       "      <td>IGK</td>\n",
       "      <td>NaN</td>\n",
       "      <td>NaN</td>\n",
       "      <td>11</td>\n",
       "      <td>IGKV1-9</td>\n",
       "      <td>IGKV1-9</td>\n",
       "      <td>NaN</td>\n",
       "      <td>NaN</td>\n",
       "      <td>IGKJ4</td>\n",
       "      <td>IGKJ4</td>\n",
       "      <td>IGKC</td>\n",
       "      <td>IGKC</td>\n",
       "    </tr>\n",
       "  </tbody>\n",
       "</table>\n",
       "</div>"
      ],
      "text/plain": [
       "     Directory  Read Count  Fraction                    Clonal Sequence  \\\n",
       "0  BCR_LC_CDR3        8270  0.081901  TGTCAGCAATATTATCTTAGTCCCTTCACTTTT   \n",
       "1  BCR_LC_CDR3        2522  0.024976  TGTCAACAACTTAGTAGTTACCCCCTCACTTTC   \n",
       "\n",
       "             Clonal Sequence Quality  CDR3 Min Quality  \\\n",
       "0  IIIIIIIIIIIIIIIIIIIIIIIIIIIIIIIII                40   \n",
       "1  IIIIIIIIIIIIIIIIIIIIIIIIIIIIIIIII                40   \n",
       "\n",
       "                       CDR3 Sequence CDR3 Amino Acid Sequence Clonal Type  \\\n",
       "0  TGTCAGCAATATTATCTTAGTCCCTTCACTTTT              CQQYYLSPFTF         IGK   \n",
       "1  TGTCAACAACTTAGTAGTTACCCCCTCACTTTC              CQQLSSYPLTF         IGK   \n",
       "\n",
       "  Frame Shift Stop Codon  Amino Acid Length V segment all V hits  D segment  \\\n",
       "0         NaN        NaN                 11   IGKV4-1    IGKV4-1        NaN   \n",
       "1         NaN        NaN                 11   IGKV1-9    IGKV1-9        NaN   \n",
       "\n",
       "   all D hits J segment all J hits C segment all C hits  \n",
       "0         NaN     IGKJ2      IGKJ2      IGKC       IGKC  \n",
       "1         NaN     IGKJ4      IGKJ4      IGKC       IGKC  "
      ]
     },
     "metadata": {},
     "output_type": "display_data"
    },
    {
     "data": {
      "text/html": [
       "<div>\n",
       "<style scoped>\n",
       "    .dataframe tbody tr th:only-of-type {\n",
       "        vertical-align: middle;\n",
       "    }\n",
       "\n",
       "    .dataframe tbody tr th {\n",
       "        vertical-align: top;\n",
       "    }\n",
       "\n",
       "    .dataframe thead th {\n",
       "        text-align: right;\n",
       "    }\n",
       "</style>\n",
       "<table border=\"1\" class=\"dataframe\">\n",
       "  <thead>\n",
       "    <tr style=\"text-align: right;\">\n",
       "      <th></th>\n",
       "      <th>Directory</th>\n",
       "      <th>Read Count</th>\n",
       "      <th>Fraction</th>\n",
       "      <th>Clonal Sequence</th>\n",
       "      <th>Clonal Sequence Quality</th>\n",
       "      <th>CDR3 Min Quality</th>\n",
       "      <th>CDR3 Sequence</th>\n",
       "      <th>CDR3 Amino Acid Sequence</th>\n",
       "      <th>Clonal Type</th>\n",
       "      <th>Frame Shift</th>\n",
       "      <th>Stop Codon</th>\n",
       "      <th>Amino Acid Length</th>\n",
       "      <th>V segment</th>\n",
       "      <th>all V hits</th>\n",
       "      <th>D segment</th>\n",
       "      <th>all D hits</th>\n",
       "      <th>J segment</th>\n",
       "      <th>all J hits</th>\n",
       "      <th>C segment</th>\n",
       "      <th>all C hits</th>\n",
       "    </tr>\n",
       "  </thead>\n",
       "  <tbody>\n",
       "  </tbody>\n",
       "</table>\n",
       "</div>"
      ],
      "text/plain": [
       "Empty DataFrame\n",
       "Columns: [Directory, Read Count, Fraction, Clonal Sequence, Clonal Sequence Quality, CDR3 Min Quality, CDR3 Sequence, CDR3 Amino Acid Sequence, Clonal Type, Frame Shift, Stop Codon, Amino Acid Length, V segment, all V hits, D segment, all D hits, J segment, all J hits, C segment, all C hits]\n",
       "Index: []"
      ]
     },
     "metadata": {},
     "output_type": "display_data"
    },
    {
     "data": {
      "text/html": [
       "<div>\n",
       "<style scoped>\n",
       "    .dataframe tbody tr th:only-of-type {\n",
       "        vertical-align: middle;\n",
       "    }\n",
       "\n",
       "    .dataframe tbody tr th {\n",
       "        vertical-align: top;\n",
       "    }\n",
       "\n",
       "    .dataframe thead th {\n",
       "        text-align: right;\n",
       "    }\n",
       "</style>\n",
       "<table border=\"1\" class=\"dataframe\">\n",
       "  <thead>\n",
       "    <tr style=\"text-align: right;\">\n",
       "      <th></th>\n",
       "      <th>Directory</th>\n",
       "      <th>Read Count</th>\n",
       "      <th>Fraction</th>\n",
       "      <th>Clonal Sequence</th>\n",
       "      <th>Clonal Sequence Quality</th>\n",
       "      <th>CDR3 Min Quality</th>\n",
       "      <th>CDR3 Sequence</th>\n",
       "      <th>CDR3 Amino Acid Sequence</th>\n",
       "      <th>Clonal Type</th>\n",
       "      <th>Frame Shift</th>\n",
       "      <th>Stop Codon</th>\n",
       "      <th>Amino Acid Length</th>\n",
       "      <th>V segment</th>\n",
       "      <th>all V hits</th>\n",
       "      <th>D segment</th>\n",
       "      <th>all D hits</th>\n",
       "      <th>J segment</th>\n",
       "      <th>all J hits</th>\n",
       "      <th>C segment</th>\n",
       "      <th>all C hits</th>\n",
       "    </tr>\n",
       "  </thead>\n",
       "  <tbody>\n",
       "    <tr>\n",
       "      <th>0</th>\n",
       "      <td>BCR_LC_CDR3</td>\n",
       "      <td>651</td>\n",
       "      <td>0.053453</td>\n",
       "      <td>TGCTGCTCATATGCAGGTAGTAGCCCCGTGGTATTC</td>\n",
       "      <td>IIIIIIIIIIIIIIIIIIIIIIIIIIIIIIIIIIII</td>\n",
       "      <td>40</td>\n",
       "      <td>TGCTGCTCATATGCAGGTAGTAGCCCCGTGGTATTC</td>\n",
       "      <td>CCSYAGSSPVVF</td>\n",
       "      <td>IGL</td>\n",
       "      <td>NaN</td>\n",
       "      <td>NaN</td>\n",
       "      <td>12</td>\n",
       "      <td>IGLV2-23</td>\n",
       "      <td>IGLV2-23</td>\n",
       "      <td>NaN</td>\n",
       "      <td>NaN</td>\n",
       "      <td>IGLJ2</td>\n",
       "      <td>IGLJ2</td>\n",
       "      <td>IGLC7</td>\n",
       "      <td>IGLC7;IGLC2;IGLC3;IGLC6</td>\n",
       "    </tr>\n",
       "    <tr>\n",
       "      <th>1</th>\n",
       "      <td>BCR_LC_CDR3</td>\n",
       "      <td>460</td>\n",
       "      <td>0.037770</td>\n",
       "      <td>TGTCAGACCTGGGGCACTGGCATTCAGGTATTC</td>\n",
       "      <td>IIIIIIIIIIIIIIIIIIIIIIIIIIIIIIIII</td>\n",
       "      <td>40</td>\n",
       "      <td>TGTCAGACCTGGGGCACTGGCATTCAGGTATTC</td>\n",
       "      <td>CQTWGTGIQVF</td>\n",
       "      <td>IGL</td>\n",
       "      <td>NaN</td>\n",
       "      <td>NaN</td>\n",
       "      <td>11</td>\n",
       "      <td>IGLV4-69</td>\n",
       "      <td>IGLV4-69</td>\n",
       "      <td>NaN</td>\n",
       "      <td>NaN</td>\n",
       "      <td>IGLJ2</td>\n",
       "      <td>IGLJ2;IGLJ3</td>\n",
       "      <td>IGLC7</td>\n",
       "      <td>IGLC7;IGLC2;IGLC3;IGLC6</td>\n",
       "    </tr>\n",
       "  </tbody>\n",
       "</table>\n",
       "</div>"
      ],
      "text/plain": [
       "     Directory  Read Count  Fraction                       Clonal Sequence  \\\n",
       "0  BCR_LC_CDR3         651  0.053453  TGCTGCTCATATGCAGGTAGTAGCCCCGTGGTATTC   \n",
       "1  BCR_LC_CDR3         460  0.037770     TGTCAGACCTGGGGCACTGGCATTCAGGTATTC   \n",
       "\n",
       "                Clonal Sequence Quality  CDR3 Min Quality  \\\n",
       "0  IIIIIIIIIIIIIIIIIIIIIIIIIIIIIIIIIIII                40   \n",
       "1     IIIIIIIIIIIIIIIIIIIIIIIIIIIIIIIII                40   \n",
       "\n",
       "                          CDR3 Sequence CDR3 Amino Acid Sequence Clonal Type  \\\n",
       "0  TGCTGCTCATATGCAGGTAGTAGCCCCGTGGTATTC             CCSYAGSSPVVF         IGL   \n",
       "1     TGTCAGACCTGGGGCACTGGCATTCAGGTATTC              CQTWGTGIQVF         IGL   \n",
       "\n",
       "  Frame Shift Stop Codon  Amino Acid Length V segment all V hits  D segment  \\\n",
       "0         NaN        NaN                 12  IGLV2-23   IGLV2-23        NaN   \n",
       "1         NaN        NaN                 11  IGLV4-69   IGLV4-69        NaN   \n",
       "\n",
       "   all D hits J segment   all J hits C segment               all C hits  \n",
       "0         NaN     IGLJ2        IGLJ2     IGLC7  IGLC7;IGLC2;IGLC3;IGLC6  \n",
       "1         NaN     IGLJ2  IGLJ2;IGLJ3     IGLC7  IGLC7;IGLC2;IGLC3;IGLC6  "
      ]
     },
     "metadata": {},
     "output_type": "display_data"
    },
    {
     "data": {
      "text/html": [
       "<div>\n",
       "<style scoped>\n",
       "    .dataframe tbody tr th:only-of-type {\n",
       "        vertical-align: middle;\n",
       "    }\n",
       "\n",
       "    .dataframe tbody tr th {\n",
       "        vertical-align: top;\n",
       "    }\n",
       "\n",
       "    .dataframe thead th {\n",
       "        text-align: right;\n",
       "    }\n",
       "</style>\n",
       "<table border=\"1\" class=\"dataframe\">\n",
       "  <thead>\n",
       "    <tr style=\"text-align: right;\">\n",
       "      <th></th>\n",
       "      <th>Directory</th>\n",
       "      <th>Read Count</th>\n",
       "      <th>Fraction</th>\n",
       "      <th>Clonal Sequence</th>\n",
       "      <th>Clonal Sequence Quality</th>\n",
       "      <th>CDR3 Min Quality</th>\n",
       "      <th>CDR3 Sequence</th>\n",
       "      <th>CDR3 Amino Acid Sequence</th>\n",
       "      <th>Clonal Type</th>\n",
       "      <th>Frame Shift</th>\n",
       "      <th>Stop Codon</th>\n",
       "      <th>Amino Acid Length</th>\n",
       "      <th>V segment</th>\n",
       "      <th>all V hits</th>\n",
       "      <th>D segment</th>\n",
       "      <th>all D hits</th>\n",
       "      <th>J segment</th>\n",
       "      <th>all J hits</th>\n",
       "      <th>C segment</th>\n",
       "      <th>all C hits</th>\n",
       "    </tr>\n",
       "  </thead>\n",
       "  <tbody>\n",
       "    <tr>\n",
       "      <th>0</th>\n",
       "      <td>1st</td>\n",
       "      <td>243</td>\n",
       "      <td>0.012202</td>\n",
       "      <td>TGCATCCTGAGAGACGACAATGACATGCGCTTT</td>\n",
       "      <td>IIIIIIIIIIIIIIIIIIIIIIIIIIIIIIIII</td>\n",
       "      <td>40</td>\n",
       "      <td>TGCATCCTGAGAGACGACAATGACATGCGCTTT</td>\n",
       "      <td>CILRDDNDMRF</td>\n",
       "      <td>TRA</td>\n",
       "      <td>NaN</td>\n",
       "      <td>NaN</td>\n",
       "      <td>11</td>\n",
       "      <td>TRAV26-2</td>\n",
       "      <td>TRAV26-2</td>\n",
       "      <td>NaN</td>\n",
       "      <td>NaN</td>\n",
       "      <td>TRAJ43</td>\n",
       "      <td>TRAJ43</td>\n",
       "      <td>TRAC</td>\n",
       "      <td>TRAC</td>\n",
       "    </tr>\n",
       "    <tr>\n",
       "      <th>1</th>\n",
       "      <td>1st</td>\n",
       "      <td>141</td>\n",
       "      <td>0.007080</td>\n",
       "      <td>TGTGCTCTGAGTGAGGCGGGGGACACGGGCAGGAGAGCACTTACTTTT</td>\n",
       "      <td>IIIIIIIIIIIIIIIIIIIIIIIIIIIIIIIIIIIIIIIIIIIIIIII</td>\n",
       "      <td>40</td>\n",
       "      <td>TGTGCTCTGAGTGAGGCGGGGGACACGGGCAGGAGAGCACTTACTTTT</td>\n",
       "      <td>CALSEAGDTGRRALTF</td>\n",
       "      <td>TRA</td>\n",
       "      <td>NaN</td>\n",
       "      <td>NaN</td>\n",
       "      <td>16</td>\n",
       "      <td>TRAV19</td>\n",
       "      <td>TRAV19</td>\n",
       "      <td>NaN</td>\n",
       "      <td>NaN</td>\n",
       "      <td>TRAJ5</td>\n",
       "      <td>TRAJ5</td>\n",
       "      <td>TRAC</td>\n",
       "      <td>TRAC</td>\n",
       "    </tr>\n",
       "  </tbody>\n",
       "</table>\n",
       "</div>"
      ],
      "text/plain": [
       "  Directory  Read Count  Fraction  \\\n",
       "0       1st         243  0.012202   \n",
       "1       1st         141  0.007080   \n",
       "\n",
       "                                    Clonal Sequence  \\\n",
       "0                 TGCATCCTGAGAGACGACAATGACATGCGCTTT   \n",
       "1  TGTGCTCTGAGTGAGGCGGGGGACACGGGCAGGAGAGCACTTACTTTT   \n",
       "\n",
       "                            Clonal Sequence Quality  CDR3 Min Quality  \\\n",
       "0                 IIIIIIIIIIIIIIIIIIIIIIIIIIIIIIIII                40   \n",
       "1  IIIIIIIIIIIIIIIIIIIIIIIIIIIIIIIIIIIIIIIIIIIIIIII                40   \n",
       "\n",
       "                                      CDR3 Sequence CDR3 Amino Acid Sequence  \\\n",
       "0                 TGCATCCTGAGAGACGACAATGACATGCGCTTT              CILRDDNDMRF   \n",
       "1  TGTGCTCTGAGTGAGGCGGGGGACACGGGCAGGAGAGCACTTACTTTT         CALSEAGDTGRRALTF   \n",
       "\n",
       "  Clonal Type Frame Shift Stop Codon  Amino Acid Length V segment all V hits  \\\n",
       "0         TRA         NaN        NaN                 11  TRAV26-2   TRAV26-2   \n",
       "1         TRA         NaN        NaN                 16    TRAV19     TRAV19   \n",
       "\n",
       "   D segment  all D hits J segment all J hits C segment all C hits  \n",
       "0        NaN         NaN    TRAJ43     TRAJ43      TRAC       TRAC  \n",
       "1        NaN         NaN     TRAJ5      TRAJ5      TRAC       TRAC  "
      ]
     },
     "metadata": {},
     "output_type": "display_data"
    },
    {
     "data": {
      "text/html": [
       "<div>\n",
       "<style scoped>\n",
       "    .dataframe tbody tr th:only-of-type {\n",
       "        vertical-align: middle;\n",
       "    }\n",
       "\n",
       "    .dataframe tbody tr th {\n",
       "        vertical-align: top;\n",
       "    }\n",
       "\n",
       "    .dataframe thead th {\n",
       "        text-align: right;\n",
       "    }\n",
       "</style>\n",
       "<table border=\"1\" class=\"dataframe\">\n",
       "  <thead>\n",
       "    <tr style=\"text-align: right;\">\n",
       "      <th></th>\n",
       "      <th>Directory</th>\n",
       "      <th>Read Count</th>\n",
       "      <th>Fraction</th>\n",
       "      <th>Clonal Sequence</th>\n",
       "      <th>Clonal Sequence Quality</th>\n",
       "      <th>CDR3 Min Quality</th>\n",
       "      <th>CDR3 Sequence</th>\n",
       "      <th>CDR3 Amino Acid Sequence</th>\n",
       "      <th>Clonal Type</th>\n",
       "      <th>Frame Shift</th>\n",
       "      <th>Stop Codon</th>\n",
       "      <th>Amino Acid Length</th>\n",
       "      <th>V segment</th>\n",
       "      <th>all V hits</th>\n",
       "      <th>D segment</th>\n",
       "      <th>all D hits</th>\n",
       "      <th>J segment</th>\n",
       "      <th>all J hits</th>\n",
       "      <th>C segment</th>\n",
       "      <th>all C hits</th>\n",
       "    </tr>\n",
       "  </thead>\n",
       "  <tbody>\n",
       "    <tr>\n",
       "      <th>0</th>\n",
       "      <td>2nd</td>\n",
       "      <td>132</td>\n",
       "      <td>0.011495</td>\n",
       "      <td>TGTGCTACGGACGCGGGGGATGACAAGATCATCTTT</td>\n",
       "      <td>IIIIIIIIIIIIIIIIIIIIIIIIIIIIIIIIIIII</td>\n",
       "      <td>40</td>\n",
       "      <td>TGTGCTACGGACGCGGGGGATGACAAGATCATCTTT</td>\n",
       "      <td>CATDAGDDKIIF</td>\n",
       "      <td>TRA</td>\n",
       "      <td>NaN</td>\n",
       "      <td>NaN</td>\n",
       "      <td>12</td>\n",
       "      <td>TRAV17</td>\n",
       "      <td>TRAV17</td>\n",
       "      <td>NaN</td>\n",
       "      <td>NaN</td>\n",
       "      <td>TRAJ30</td>\n",
       "      <td>TRAJ30</td>\n",
       "      <td>TRAC</td>\n",
       "      <td>TRAC</td>\n",
       "    </tr>\n",
       "    <tr>\n",
       "      <th>1</th>\n",
       "      <td>2nd</td>\n",
       "      <td>130</td>\n",
       "      <td>0.011321</td>\n",
       "      <td>TGTGCAGCATTGAGAGATGGAGGAAGCCAAGGAAATCTCATCTTT</td>\n",
       "      <td>IIIIIIIIIIIIIIIIIIIIIIIIIIIIIIIIIIIIIIIIIIIII</td>\n",
       "      <td>40</td>\n",
       "      <td>TGTGCAGCATTGAGAGATGGAGGAAGCCAAGGAAATCTCATCTTT</td>\n",
       "      <td>CAALRDGGSQGNLIF</td>\n",
       "      <td>TRA</td>\n",
       "      <td>NaN</td>\n",
       "      <td>NaN</td>\n",
       "      <td>15</td>\n",
       "      <td>TRAV29DV5</td>\n",
       "      <td>TRAV29DV5</td>\n",
       "      <td>NaN</td>\n",
       "      <td>NaN</td>\n",
       "      <td>TRAJ42</td>\n",
       "      <td>TRAJ42</td>\n",
       "      <td>TRAC</td>\n",
       "      <td>TRAC</td>\n",
       "    </tr>\n",
       "  </tbody>\n",
       "</table>\n",
       "</div>"
      ],
      "text/plain": [
       "  Directory  Read Count  Fraction  \\\n",
       "0       2nd         132  0.011495   \n",
       "1       2nd         130  0.011321   \n",
       "\n",
       "                                 Clonal Sequence  \\\n",
       "0           TGTGCTACGGACGCGGGGGATGACAAGATCATCTTT   \n",
       "1  TGTGCAGCATTGAGAGATGGAGGAAGCCAAGGAAATCTCATCTTT   \n",
       "\n",
       "                         Clonal Sequence Quality  CDR3 Min Quality  \\\n",
       "0           IIIIIIIIIIIIIIIIIIIIIIIIIIIIIIIIIIII                40   \n",
       "1  IIIIIIIIIIIIIIIIIIIIIIIIIIIIIIIIIIIIIIIIIIIII                40   \n",
       "\n",
       "                                   CDR3 Sequence CDR3 Amino Acid Sequence  \\\n",
       "0           TGTGCTACGGACGCGGGGGATGACAAGATCATCTTT             CATDAGDDKIIF   \n",
       "1  TGTGCAGCATTGAGAGATGGAGGAAGCCAAGGAAATCTCATCTTT          CAALRDGGSQGNLIF   \n",
       "\n",
       "  Clonal Type Frame Shift Stop Codon  Amino Acid Length  V segment all V hits  \\\n",
       "0         TRA         NaN        NaN                 12     TRAV17     TRAV17   \n",
       "1         TRA         NaN        NaN                 15  TRAV29DV5  TRAV29DV5   \n",
       "\n",
       "   D segment  all D hits J segment all J hits C segment all C hits  \n",
       "0        NaN         NaN    TRAJ30     TRAJ30      TRAC       TRAC  \n",
       "1        NaN         NaN    TRAJ42     TRAJ42      TRAC       TRAC  "
      ]
     },
     "metadata": {},
     "output_type": "display_data"
    }
   ],
   "source": [
    "def short_view(directory):\n",
    "    all_dfs = []\n",
    "    filenames = os.listdir(directory) \n",
    "    if filenames:\n",
    "        filename = filenames[10]\n",
    "        if filename.startswith('COV') and filename.endswith('.csv'):\n",
    "            df = pd.read_csv(directory + filename, sep=',')\n",
    "            df['Directory'] = directory.split('/')[-2]\n",
    "            df.insert(0, 'Directory', df.pop('Directory'))\n",
    "            all_dfs.append(df.head(n=2))\n",
    "            \n",
    "    result = pd.concat(all_dfs)\n",
    "    display(result)\n",
    "\n",
    "dir_list = [dir_BCR_01H, dir_BCR_01L, dir_BCR_02H, dir_BCR_02L, dir_TCR_001, dir_TCR_002]\n",
    "for i in dir_list:\n",
    "    short_view(i)"
   ]
  },
  {
   "cell_type": "code",
   "execution_count": null,
   "metadata": {},
   "outputs": [],
   "source": [
    "path = dir_BCR_01H\n",
    "results = pd.DataFrame(columns=['Sample', 'Row_number', 'Total_readcount', 'Shannon', 'Own'])\n",
    "\n",
    "\n",
    "def diversity(data):\n",
    "    total = sum(data)\n",
    "    normal = data/total\n",
    "    if normal is 0:\n",
    "        return 0\n",
    "    else:\n",
    "        return -1*sum(normal*np.log(normal)), sum(normal*(np.log(normal)**2)), sum((normal*np.log(normal)))**2\n",
    "\n",
    "for filename in os.listdir(path):\n",
    "    if filename.endswith('.csv') and filename.startswith('COV'):\n",
    "        sample = '_'.join(filename.split('_')[:2])\n",
    "        data = pd.read_csv(path+filename)\n",
    "        total = data['Read Count'].sum()\n",
    "        shannon = entropy(data['Fraction'])         # already normalized (Read count -> Fraction)\n",
    "        \n",
    "        ### data['CDR3 Sequence'] 중 중복 값이 있는 경우 data['Fraction']를 합쳐주고, 하나만 남기기\n",
    "        data = data.groupby('CDR3 Sequence').agg({'Fraction': 'sum'}).reset_index()\n",
    "        \n",
    "        shannon02,_,_ = diversity(data['Fraction'])        # result is same with entropy        \n",
    "        results = results.append({'Sample': sample, 'Row_number': len(data), 'Total_readcount' : total,'Shannon': shannon, 'Own': shannon02}, ignore_index=True)\n",
    "        results[\"Time_point\"] = results[\"Sample\"].str[-5]\n",
    "        results[\"Type\"] = results[\"Sample\"].str[-3:]\n",
    "\n",
    "print(results)"
   ]
  },
  {
   "cell_type": "code",
   "execution_count": 21,
   "metadata": {},
   "outputs": [
    {
     "name": "stdout",
     "output_type": "stream",
     "text": [
      "Different\n"
     ]
    }
   ],
   "source": [
    "if (results['Shannon'] == results['Own']).all():\n",
    "    print('Same')\n",
    "else:\n",
    "    print('Different')"
   ]
  },
  {
   "cell_type": "code",
   "execution_count": 24,
   "metadata": {},
   "outputs": [
    {
     "data": {
      "text/html": [
       "<div>\n",
       "<style scoped>\n",
       "    .dataframe tbody tr th:only-of-type {\n",
       "        vertical-align: middle;\n",
       "    }\n",
       "\n",
       "    .dataframe tbody tr th {\n",
       "        vertical-align: top;\n",
       "    }\n",
       "\n",
       "    .dataframe thead th {\n",
       "        text-align: right;\n",
       "    }\n",
       "</style>\n",
       "<table border=\"1\" class=\"dataframe\">\n",
       "  <thead>\n",
       "    <tr style=\"text-align: right;\">\n",
       "      <th></th>\n",
       "      <th>Sample</th>\n",
       "      <th>Row_number</th>\n",
       "      <th>Total_readcount</th>\n",
       "      <th>Shannon</th>\n",
       "      <th>Own</th>\n",
       "      <th>Time_point</th>\n",
       "      <th>Type</th>\n",
       "    </tr>\n",
       "  </thead>\n",
       "  <tbody>\n",
       "    <tr>\n",
       "      <th>0</th>\n",
       "      <td>COV-CCO-0411_IGG</td>\n",
       "      <td>2498</td>\n",
       "      <td>19342</td>\n",
       "      <td>6.727983</td>\n",
       "      <td>6.727983</td>\n",
       "      <td>1</td>\n",
       "      <td>IGG</td>\n",
       "    </tr>\n",
       "    <tr>\n",
       "      <th>1</th>\n",
       "      <td>COV-CCO-0411_IGM</td>\n",
       "      <td>7006</td>\n",
       "      <td>11251</td>\n",
       "      <td>8.179853</td>\n",
       "      <td>8.179853</td>\n",
       "      <td>1</td>\n",
       "      <td>IGM</td>\n",
       "    </tr>\n",
       "    <tr>\n",
       "      <th>2</th>\n",
       "      <td>COV-CCO-0412_IGG</td>\n",
       "      <td>348</td>\n",
       "      <td>1523</td>\n",
       "      <td>5.104862</td>\n",
       "      <td>5.104862</td>\n",
       "      <td>2</td>\n",
       "      <td>IGG</td>\n",
       "    </tr>\n",
       "    <tr>\n",
       "      <th>3</th>\n",
       "      <td>COV-CCO-0412_IGM</td>\n",
       "      <td>1183</td>\n",
       "      <td>1850</td>\n",
       "      <td>6.769221</td>\n",
       "      <td>6.769221</td>\n",
       "      <td>2</td>\n",
       "      <td>IGM</td>\n",
       "    </tr>\n",
       "    <tr>\n",
       "      <th>4</th>\n",
       "      <td>COV-CCO-0413_IGG</td>\n",
       "      <td>2743</td>\n",
       "      <td>12102</td>\n",
       "      <td>6.672048</td>\n",
       "      <td>6.672048</td>\n",
       "      <td>3</td>\n",
       "      <td>IGG</td>\n",
       "    </tr>\n",
       "    <tr>\n",
       "      <th>...</th>\n",
       "      <td>...</td>\n",
       "      <td>...</td>\n",
       "      <td>...</td>\n",
       "      <td>...</td>\n",
       "      <td>...</td>\n",
       "      <td>...</td>\n",
       "      <td>...</td>\n",
       "    </tr>\n",
       "    <tr>\n",
       "      <th>835</th>\n",
       "      <td>COV-SCO-0722_IGM</td>\n",
       "      <td>1863</td>\n",
       "      <td>4641</td>\n",
       "      <td>6.458115</td>\n",
       "      <td>6.458115</td>\n",
       "      <td>2</td>\n",
       "      <td>IGM</td>\n",
       "    </tr>\n",
       "    <tr>\n",
       "      <th>836</th>\n",
       "      <td>COV-SCO-0741_IGG</td>\n",
       "      <td>2246</td>\n",
       "      <td>14300</td>\n",
       "      <td>6.906704</td>\n",
       "      <td>6.906704</td>\n",
       "      <td>1</td>\n",
       "      <td>IGG</td>\n",
       "    </tr>\n",
       "    <tr>\n",
       "      <th>837</th>\n",
       "      <td>COV-SCO-0741_IGM</td>\n",
       "      <td>10382</td>\n",
       "      <td>17849</td>\n",
       "      <td>8.579959</td>\n",
       "      <td>8.579959</td>\n",
       "      <td>1</td>\n",
       "      <td>IGM</td>\n",
       "    </tr>\n",
       "    <tr>\n",
       "      <th>838</th>\n",
       "      <td>COV-SCO-0742_IGG</td>\n",
       "      <td>2255</td>\n",
       "      <td>15406</td>\n",
       "      <td>6.761581</td>\n",
       "      <td>6.761581</td>\n",
       "      <td>2</td>\n",
       "      <td>IGG</td>\n",
       "    </tr>\n",
       "    <tr>\n",
       "      <th>839</th>\n",
       "      <td>COV-SCO-0742_IGM</td>\n",
       "      <td>9606</td>\n",
       "      <td>19017</td>\n",
       "      <td>8.118653</td>\n",
       "      <td>8.118653</td>\n",
       "      <td>2</td>\n",
       "      <td>IGM</td>\n",
       "    </tr>\n",
       "  </tbody>\n",
       "</table>\n",
       "<p>830 rows × 7 columns</p>\n",
       "</div>"
      ],
      "text/plain": [
       "               Sample Row_number Total_readcount   Shannon       Own  \\\n",
       "0    COV-CCO-0411_IGG       2498           19342  6.727983  6.727983   \n",
       "1    COV-CCO-0411_IGM       7006           11251  8.179853  8.179853   \n",
       "2    COV-CCO-0412_IGG        348            1523  5.104862  5.104862   \n",
       "3    COV-CCO-0412_IGM       1183            1850  6.769221  6.769221   \n",
       "4    COV-CCO-0413_IGG       2743           12102  6.672048  6.672048   \n",
       "..                ...        ...             ...       ...       ...   \n",
       "835  COV-SCO-0722_IGM       1863            4641  6.458115  6.458115   \n",
       "836  COV-SCO-0741_IGG       2246           14300  6.906704  6.906704   \n",
       "837  COV-SCO-0741_IGM      10382           17849  8.579959  8.579959   \n",
       "838  COV-SCO-0742_IGG       2255           15406  6.761581  6.761581   \n",
       "839  COV-SCO-0742_IGM       9606           19017  8.118653  8.118653   \n",
       "\n",
       "    Time_point Type  \n",
       "0            1  IGG  \n",
       "1            1  IGM  \n",
       "2            2  IGG  \n",
       "3            2  IGM  \n",
       "4            3  IGG  \n",
       "..         ...  ...  \n",
       "835          2  IGM  \n",
       "836          1  IGG  \n",
       "837          1  IGM  \n",
       "838          2  IGG  \n",
       "839          2  IGM  \n",
       "\n",
       "[830 rows x 7 columns]"
      ]
     },
     "metadata": {},
     "output_type": "display_data"
    },
    {
     "data": {
      "text/html": [
       "<div>\n",
       "<style scoped>\n",
       "    .dataframe tbody tr th:only-of-type {\n",
       "        vertical-align: middle;\n",
       "    }\n",
       "\n",
       "    .dataframe tbody tr th {\n",
       "        vertical-align: top;\n",
       "    }\n",
       "\n",
       "    .dataframe thead th {\n",
       "        text-align: right;\n",
       "    }\n",
       "</style>\n",
       "<table border=\"1\" class=\"dataframe\">\n",
       "  <thead>\n",
       "    <tr style=\"text-align: right;\">\n",
       "      <th></th>\n",
       "      <th>Sample</th>\n",
       "      <th>Row_number</th>\n",
       "      <th>Total_readcount</th>\n",
       "      <th>Shannon</th>\n",
       "      <th>Own</th>\n",
       "      <th>Time_point</th>\n",
       "      <th>Type</th>\n",
       "    </tr>\n",
       "  </thead>\n",
       "  <tbody>\n",
       "    <tr>\n",
       "      <th>102</th>\n",
       "      <td>COV-CCO-0621_IGG</td>\n",
       "      <td>163</td>\n",
       "      <td>537</td>\n",
       "      <td>4.779778</td>\n",
       "      <td>4.779778</td>\n",
       "      <td>1</td>\n",
       "      <td>IGG</td>\n",
       "    </tr>\n",
       "    <tr>\n",
       "      <th>204</th>\n",
       "      <td>COV-CCO-0833_IGG</td>\n",
       "      <td>21</td>\n",
       "      <td>32</td>\n",
       "      <td>2.878306</td>\n",
       "      <td>2.878306</td>\n",
       "      <td>3</td>\n",
       "      <td>IGG</td>\n",
       "    </tr>\n",
       "    <tr>\n",
       "      <th>340</th>\n",
       "      <td>COV-CCO-1462_IGG</td>\n",
       "      <td>299</td>\n",
       "      <td>2300</td>\n",
       "      <td>4.268140</td>\n",
       "      <td>4.268140</td>\n",
       "      <td>2</td>\n",
       "      <td>IGG</td>\n",
       "    </tr>\n",
       "    <tr>\n",
       "      <th>470</th>\n",
       "      <td>COV-CCO-2011_IGG</td>\n",
       "      <td>507</td>\n",
       "      <td>1929</td>\n",
       "      <td>5.750371</td>\n",
       "      <td>5.750371</td>\n",
       "      <td>1</td>\n",
       "      <td>IGG</td>\n",
       "    </tr>\n",
       "    <tr>\n",
       "      <th>488</th>\n",
       "      <td>COV-CCO-2083_IGG</td>\n",
       "      <td>259</td>\n",
       "      <td>1107</td>\n",
       "      <td>4.903421</td>\n",
       "      <td>4.903421</td>\n",
       "      <td>3</td>\n",
       "      <td>IGG</td>\n",
       "    </tr>\n",
       "    <tr>\n",
       "      <th>582</th>\n",
       "      <td>COV-CNC-0251_IGG</td>\n",
       "      <td>656</td>\n",
       "      <td>2003</td>\n",
       "      <td>5.859456</td>\n",
       "      <td>5.859456</td>\n",
       "      <td>1</td>\n",
       "      <td>IGG</td>\n",
       "    </tr>\n",
       "    <tr>\n",
       "      <th>619</th>\n",
       "      <td>COV-CNO-0411_IGM</td>\n",
       "      <td>151</td>\n",
       "      <td>239</td>\n",
       "      <td>4.807966</td>\n",
       "      <td>4.807966</td>\n",
       "      <td>1</td>\n",
       "      <td>IGM</td>\n",
       "    </tr>\n",
       "    <tr>\n",
       "      <th>639</th>\n",
       "      <td>COV-CNO-0521_IGM</td>\n",
       "      <td>265</td>\n",
       "      <td>375</td>\n",
       "      <td>5.469823</td>\n",
       "      <td>5.469823</td>\n",
       "      <td>1</td>\n",
       "      <td>IGM</td>\n",
       "    </tr>\n",
       "    <tr>\n",
       "      <th>652</th>\n",
       "      <td>COV-CNO-0591_IGG</td>\n",
       "      <td>334</td>\n",
       "      <td>979</td>\n",
       "      <td>4.979069</td>\n",
       "      <td>4.979069</td>\n",
       "      <td>1</td>\n",
       "      <td>IGG</td>\n",
       "    </tr>\n",
       "    <tr>\n",
       "      <th>792</th>\n",
       "      <td>COV-SCO-0601_IGG</td>\n",
       "      <td>461</td>\n",
       "      <td>2217</td>\n",
       "      <td>5.667725</td>\n",
       "      <td>5.667725</td>\n",
       "      <td>1</td>\n",
       "      <td>IGG</td>\n",
       "    </tr>\n",
       "  </tbody>\n",
       "</table>\n",
       "</div>"
      ],
      "text/plain": [
       "               Sample Row_number Total_readcount   Shannon       Own  \\\n",
       "102  COV-CCO-0621_IGG        163             537  4.779778  4.779778   \n",
       "204  COV-CCO-0833_IGG         21              32  2.878306  2.878306   \n",
       "340  COV-CCO-1462_IGG        299            2300  4.268140  4.268140   \n",
       "470  COV-CCO-2011_IGG        507            1929  5.750371  5.750371   \n",
       "488  COV-CCO-2083_IGG        259            1107  4.903421  4.903421   \n",
       "582  COV-CNC-0251_IGG        656            2003  5.859456  5.859456   \n",
       "619  COV-CNO-0411_IGM        151             239  4.807966  4.807966   \n",
       "639  COV-CNO-0521_IGM        265             375  5.469823  5.469823   \n",
       "652  COV-CNO-0591_IGG        334             979  4.979069  4.979069   \n",
       "792  COV-SCO-0601_IGG        461            2217  5.667725  5.667725   \n",
       "\n",
       "    Time_point Type  \n",
       "102          1  IGG  \n",
       "204          3  IGG  \n",
       "340          2  IGG  \n",
       "470          1  IGG  \n",
       "488          3  IGG  \n",
       "582          1  IGG  \n",
       "619          1  IGM  \n",
       "639          1  IGM  \n",
       "652          1  IGG  \n",
       "792          1  IGG  "
      ]
     },
     "metadata": {},
     "output_type": "display_data"
    }
   ],
   "source": [
    "### Shannon과 다른 Own이 있는 열만 diff에 저장\n",
    "\n",
    "diff = results[results['Shannon'] != results['Own']]\n",
    "same = results[results['Shannon'] == results['Own']]\n",
    "\n",
    "display(diff)\n",
    "display(same)"
   ]
  },
  {
   "cell_type": "code",
   "execution_count": 2,
   "metadata": {},
   "outputs": [],
   "source": [
    "def shannon_maker(path):\n",
    "    output = \"../Result/\"\n",
    "    name = path.split('/')\n",
    "    \n",
    "    results = pd.DataFrame(columns=['Sample', 'Row_number', 'Total_readcount', 'Shannon_diversity', 'PlnP2', 'Squared_Shannon'])\n",
    "    \n",
    "    for filename in os.listdir(path):\n",
    "        if filename.endswith('.csv') and filename.startswith('COV'):\n",
    "            sample = '_'.join(filename.split('_')[:2])\n",
    "            data = pd.read_csv(path+filename, sep=',', low_memory=False)\n",
    "            \n",
    "            total = data['Read Count'].sum()\n",
    "            \n",
    "            ############################################\n",
    "            ### \"entropy\" package problem\n",
    "            # data['Fraction'] = data['Fraction'].fillna(0)\n",
    "            # shannon = entropy(data['Fraction'])      \n",
    "            ### Error ufunc 'entr' not supported for the input types, and the inputs could not be safely coerced to any supported types according to the casting rule ''safe''\n",
    "            ############################################\n",
    "            \n",
    "            ### 단백질 서열에 맞춰 중복 합치기\n",
    "            data = data.groupby('CDR3 Sequence').agg({'Fraction': 'sum'}).reset_index()\n",
    "            \n",
    "            shannon,plnp2,sqdiv = diversity(data['Fraction'])\n",
    "            \n",
    "            results = results.append({'Sample': sample, 'Row_number': len(data), 'Total_readcount' : total,'Shannon_diversity': shannon, 'PlnP2': plnp2, 'Squared_Shannon': sqdiv}, ignore_index=True)\n",
    "            results[\"Time_point\"] = results[\"Sample\"].str[-5]\n",
    "            results[\"Type\"] = results[\"Sample\"].str[-3:]\n",
    "    \n",
    "    if name[2][4:7] == 'BCR':\n",
    "        output_file = output + 'aa_shannon_' + name[2][4:7] + '_0' + name[3][0] + '_' + name[4].split('_')[1] + '.csv'\n",
    "    else:\n",
    "        output_file = output + 'aa_shannon_' + name[2][4:7] + '_0' + name[3][0] + '.csv'\n",
    "            \n",
    "    results.to_csv(output_file, index=False)\n",
    "    if os.path.exists(output_file):\n",
    "        print(f'{output_file} is created')"
   ]
  },
  {
   "cell_type": "code",
   "execution_count": null,
   "metadata": {},
   "outputs": [],
   "source": [
    "dir_list = [dir_BCR_01H, dir_BCR_01L, dir_BCR_02H, dir_BCR_02L, dir_TCR_001, dir_TCR_002]\n",
    "for i in dir_list:\n",
    "    shannon_maker(i)"
   ]
  },
  {
   "cell_type": "code",
   "execution_count": 2,
   "metadata": {},
   "outputs": [
    {
     "name": "stdout",
     "output_type": "stream",
     "text": [
      "aa_shannon_BCR_01_HC.csv : 215\n",
      "aa_shannon_BCR_01_LC.csv : 215\n",
      "aa_shannon_BCR_02_HC.csv : 50\n",
      "aa_shannon_BCR_02_LC.csv : 50\n",
      "aa_shannon_TCR_01.csv : 215\n",
      "aa_shannon_TCR_02.csv : 50\n"
     ]
    }
   ],
   "source": [
    "def sample_counter(file):\n",
    "    df = pd.read_csv(file)\n",
    "    df['Sample'] = df['Sample'].str[0:11]\n",
    "    # print(df['Sample'].unique())\n",
    "    list = df['Sample'].unique()\n",
    "    countid = len(list)\n",
    "    return countid, list\n",
    "\n",
    "for i in os.listdir('../Result/'):\n",
    "    if i.startswith('aa_shannon'):\n",
    "        \n",
    "        ### i 에 해당하는 각각의 list에 sample_counter(\"../Result/\"+i)[1] 결과를 각각 저장\n",
    "        locals()[i.split('.')[0][8:]+'_list'] = sample_counter(\"../Result/\"+i)[1]\n",
    "        \n",
    "        print(f'{i} : {sample_counter(\"../Result/\"+i)[0]}')"
   ]
  },
  {
   "cell_type": "code",
   "execution_count": 3,
   "metadata": {},
   "outputs": [
    {
     "name": "stdout",
     "output_type": "stream",
     "text": [
      "            ID  severity\n",
      "0  COV-CCO-001         2\n",
      "1  COV-CCO-002         2\n",
      "2  COV-CCO-003         2\n",
      "3  COV-CCO-004         2\n",
      "4  COV-CCO-006         1\n"
     ]
    },
    {
     "name": "stderr",
     "output_type": "stream",
     "text": [
      "C:\\Users\\정우빈\\AppData\\Local\\Temp\\ipykernel_18260\\3914977440.py:5: DtypeWarning: Columns (17,19,21,23,38,69,84,139,154,165,283,289,290,292,294,316) have mixed types. Specify dtype option on import or set low_memory=False.\n",
      "  cl2 = pd.read_csv( data_dir + \"clinical_data_2.csv\", sep=',')\n"
     ]
    }
   ],
   "source": [
    "data_dir = '../Data/Clinical/'\n",
    "data_dir2 = '../Result/'\n",
    "cl1 = pd.read_csv( data_dir + \"clinical_data_1.csv\", sep=',')\n",
    "cl2 = pd.read_csv( data_dir + \"clinical_data_2.csv\", sep=',')\n",
    "max_css = pd.read_csv(data_dir2 + \"useful_table/max_css_table.csv\")\n",
    "print(max_css.head())"
   ]
  },
  {
   "cell_type": "code",
   "execution_count": 4,
   "metadata": {},
   "outputs": [
    {
     "name": "stdout",
     "output_type": "stream",
     "text": [
      "{1: 204, 2: 165, 3: 52, 4: 36, 5: 2}\n"
     ]
    }
   ],
   "source": [
    "sev_dict = max_css['severity'].value_counts().to_dict()\n",
    "print(sev_dict)"
   ]
  },
  {
   "cell_type": "code",
   "execution_count": 5,
   "metadata": {},
   "outputs": [
    {
     "name": "stdout",
     "output_type": "stream",
     "text": [
      "             Sample  Row_number  Total_readcount  Shannon_diversity  \\\n",
      "0  COV-CCO-0411_IGG        2498            19342           6.727983   \n",
      "1  COV-CCO-0411_IGM        7006            11251           8.179853   \n",
      "2  COV-CCO-0412_IGG         348             1523           5.104862   \n",
      "3  COV-CCO-0412_IGM        1183             1850           6.769221   \n",
      "4  COV-CCO-0413_IGG        2743            12102           6.672048   \n",
      "\n",
      "       PlnP2  Squared_Shannon  Time_point Type  \n",
      "0  47.012921        45.265755           1  IGG  \n",
      "1  69.480620        66.909994           1  IGM  \n",
      "2  27.682505        26.059611           2  IGG  \n",
      "3  46.744685        45.822355           2  IGM  \n",
      "4  47.145421        44.516224           3  IGG  \n"
     ]
    }
   ],
   "source": [
    "data_dir = '../Result/'\n",
    "BCRHC01 = pd.read_csv(data_dir + 'aa_shannon_BCR_01_HC.csv')\n",
    "BCRLC01 = pd.read_csv(data_dir + 'aa_shannon_BCR_01_LC.csv')\n",
    "TCR01 = pd.read_csv(data_dir + 'aa_shannon_TCR_01.csv')\n",
    "BCRHC02 = pd.read_csv(data_dir + 'aa_shannon_BCR_02_HC.csv')\n",
    "BCRLC02 = pd.read_csv(data_dir + 'aa_shannon_BCR_02_LC.csv')\n",
    "TCR02 = pd.read_csv(data_dir + 'aa_shannon_TCR_02.csv')\n",
    "\n",
    "all = [BCRHC01, BCRLC01, TCR01, BCRHC02, BCRLC02, TCR02]\n",
    "only01 = [BCRHC01, BCRLC01, TCR01]\n",
    "only02 = [BCRHC02, BCRLC02, TCR02] \n",
    "\n",
    "print(BCRHC01.head())"
   ]
  },
  {
   "cell_type": "code",
   "execution_count": 6,
   "metadata": {},
   "outputs": [
    {
     "name": "stdout",
     "output_type": "stream",
     "text": [
      "Severity\n",
      "1.0    390\n",
      "2.0    320\n",
      "0.0    122\n",
      "3.0      4\n",
      "4.0      4\n",
      "Name: count, dtype: int64\n"
     ]
    }
   ],
   "source": [
    "### all 에 해당하는 모든 데이터프레임에 대해 'Sample'의 11글자가 max_css['ID']와 같다면 해당 'severity' 값을 가져와서 'Severity' 열에 저장\n",
    "\n",
    "for i in all:\n",
    "    i['Severity'] = i['Sample'].str[0:11].map(max_css.set_index('ID')['severity'])\n",
    "    i['Severity'] = i['Severity'].fillna(0)\n",
    "\n",
    "print(BCRHC01['Severity'].value_counts())"
   ]
  },
  {
   "cell_type": "code",
   "execution_count": 7,
   "metadata": {},
   "outputs": [],
   "source": [
    "BCRHC01.loc[BCRHC01['Time_point'] == 0, 'Time_point'] = 1"
   ]
  },
  {
   "cell_type": "code",
   "execution_count": 8,
   "metadata": {},
   "outputs": [
    {
     "name": "stdout",
     "output_type": "stream",
     "text": [
      "(215,)\n"
     ]
    }
   ],
   "source": [
    "### all의 데이터 프레임을 각각마다 copy해서 trim_앞에 붙인 새로운 데이티 프레임으로 각각 저장\n",
    "\n",
    "trim_BCRHC01 = BCRHC01.copy()\n",
    "trim_BCRLC01 = BCRLC01.copy()\n",
    "trim_TCR01 = TCR01.copy()\n",
    "trim_BCRHC02 = BCRHC02.copy()\n",
    "trim_BCRLC02 = BCRLC02.copy()\n",
    "trim_TCR02 = TCR02.copy()\n",
    "\n",
    "trim_all = [trim_BCRHC01, trim_BCRLC01, trim_TCR01, trim_BCRHC02, trim_BCRLC02, trim_TCR02]\n",
    "trim_01 = [trim_BCRHC01, trim_BCRLC01, trim_TCR01]\n",
    "\n",
    "### trim_all의 모든 데이터 프레임에 대해 'Sample'의 앞 11자리만 남기기\n",
    "\n",
    "for i in trim_all:\n",
    "    i['Sample'] = i['Sample'].str[0:11]\n",
    "\n",
    "print(trim_BCRHC01['Sample'].unique().shape)"
   ]
  },
  {
   "cell_type": "code",
   "execution_count": 9,
   "metadata": {},
   "outputs": [],
   "source": [
    "### trim_BCRHC01['Sample'].unique() 중 해당 Sample에 해당하는 'Time_point' 가 1이 존재 안하는 unique한 Sample만 출력\n",
    "\n",
    "for i in trim_BCRHC01['Sample'].unique():\n",
    "    if 1 not in trim_BCRHC01[trim_BCRHC01['Sample'] == i]['Time_point'].unique():\n",
    "        print(i)"
   ]
  },
  {
   "cell_type": "code",
   "execution_count": 10,
   "metadata": {},
   "outputs": [
    {
     "name": "stdout",
     "output_type": "stream",
     "text": [
      "            0   1   2  3   4\n",
      "HC01_IGG   59  85  69  1   1\n",
      "HC01_IGM   59  85  69  1   1\n",
      "HC02_IGG   22   0   2  9  10\n",
      "HC02_IGM   22   0   2  9  10\n",
      "LC01_IGL    0  67  44  0   1\n",
      "LC01_IGK    0  67  44  0   1\n",
      "LC02_IGL    0   0   1  8  13\n",
      "LC02_IGK    0   0   1  8  13\n",
      "TCR01_TRA  59  85  69  1   1\n",
      "TCR01_TRB  59  85  69  1   1\n",
      "TCR02_TRA  22   0   2  9  10\n",
      "TCR02_TRB  22   0   2  9  10\n"
     ]
    }
   ],
   "source": [
    "### trim_BCRHC01 중 Time_point가 1이고 Type이 각각 IGG와 IGM에 대해 trim_init_BCRHC01_IGG, trim_init_BCRHC01_IGM에 저장\n",
    "\n",
    "trim_init_BCRHC01_IGG = trim_BCRHC01[(trim_BCRHC01['Time_point'] == 1) & (trim_BCRHC01['Type'] == 'IGG')]\n",
    "trim_init_BCRHC01_IGM = trim_BCRHC01[(trim_BCRHC01['Time_point'] == 1) & (trim_BCRHC01['Type'] == 'IGM')]\n",
    "trim_init_BCRHC02_IGG = trim_BCRHC02[(trim_BCRHC02['Time_point'] == 1) & (trim_BCRHC02['Type'] == 'IGG')]\n",
    "trim_init_BCRHC02_IGM = trim_BCRHC02[(trim_BCRHC02['Time_point'] == 1) & (trim_BCRHC02['Type'] == 'IGM')]\n",
    "\n",
    "trim_init_BCRLC01_IGL = trim_BCRLC01[(trim_BCRLC01['Time_point'] == 3) & (trim_BCRLC01['Type'] == 'IGL')]\n",
    "trim_init_BCRLC01_IGK = trim_BCRLC01[(trim_BCRLC01['Time_point'] == 3) & (trim_BCRLC01['Type'] == 'IGK')]\n",
    "trim_init_BCRLC02_IGL = trim_BCRLC02[(trim_BCRLC02['Time_point'] == 3) & (trim_BCRLC02['Type'] == 'IGL')]\n",
    "trim_init_BCRLC02_IGK = trim_BCRLC02[(trim_BCRLC02['Time_point'] == 3) & (trim_BCRLC02['Type'] == 'IGK')]\n",
    "\n",
    "trim_init_TCR01_TRA = trim_TCR01[(trim_TCR01['Time_point'] == 1) & (trim_TCR01['Type'] == 'TRA')]\n",
    "trim_init_TCR01_TRB = trim_TCR01[(trim_TCR01['Time_point'] == 1) & (trim_TCR01['Type'] == 'TRB')]\n",
    "trim_init_TCR02_TRA = trim_TCR02[(trim_TCR02['Time_point'] == 1) & (trim_TCR02['Type'] == 'TRA')]\n",
    "trim_init_TCR02_TRB = trim_TCR02[(trim_TCR02['Time_point'] == 1) & (trim_TCR02['Type'] == 'TRB')]\n",
    "\n",
    "trim_init_all = [trim_init_BCRHC01_IGG, trim_init_BCRHC01_IGM, trim_init_BCRHC02_IGG, trim_init_BCRHC02_IGM, trim_init_BCRLC01_IGL, trim_init_BCRLC01_IGK, trim_init_BCRLC02_IGL, trim_init_BCRLC02_IGK, trim_init_TCR01_TRA, trim_init_TCR01_TRB, trim_init_TCR02_TRA, trim_init_TCR02_TRB]\n",
    "\n",
    "### 각각의 Severity 해당 개수를 담은 통합 데이터 프레임을 생성\n",
    "### column은 Severity에 따라 0, 1, 2, 3, 4 로 구성\n",
    "### row는 HC01_IGG, HC01_IGM, HC02_IGG, HC02_IGM, LC01_IGL, LC01_IGK, LC02_IGL, LC02_IGK, TCR01_TRA, TCR01_TRB, TCR02_TRA, TCR02_TRB로 구성\n",
    "\n",
    "severity_count = pd.DataFrame(columns=[0, 1, 2, 3, 4], index=['HC01_IGG', 'HC01_IGM', 'HC02_IGG', 'HC02_IGM', 'LC01_IGL', 'LC01_IGK', 'LC02_IGL', 'LC02_IGK', 'TCR01_TRA', 'TCR01_TRB', 'TCR02_TRA', 'TCR02_TRB'])\n",
    "\n",
    "for i in range(len(trim_init_all)):\n",
    "    for j in range(5):\n",
    "        severity_count.iloc[i,j] = len(trim_init_all[i][trim_init_all[i]['Severity'] == j])\n",
    "\n",
    "print(severity_count)"
   ]
  },
  {
   "cell_type": "code",
   "execution_count": 11,
   "metadata": {},
   "outputs": [
    {
     "name": "stdout",
     "output_type": "stream",
     "text": [
      "          Sample  Severity\n",
      "0    COV-CCO-041       1.0\n",
      "1    COV-CCO-042       1.0\n",
      "2    COV-CCO-043       1.0\n",
      "3    COV-CCO-044       1.0\n",
      "4    COV-CCO-045       2.0\n",
      "..           ...       ...\n",
      "260  COV-CNC-111       0.0\n",
      "261  COV-CNC-113       0.0\n",
      "262  COV-CNC-115       0.0\n",
      "263  COV-CNC-117       0.0\n",
      "264  COV-MCO-010       4.0\n",
      "\n",
      "[265 rows x 2 columns]\n",
      "Severity\n",
      "1.0    85\n",
      "0.0    81\n",
      "2.0    72\n",
      "4.0    17\n",
      "3.0    10\n",
      "Name: count, dtype: int64\n"
     ]
    }
   ],
   "source": [
    "### unique한 모든 Sample과 그 Severity를 담은 데이터 프레임 생성\n",
    "\n",
    "unique_sample = pd.concat([df[['Sample', 'Severity']] for df in trim_all]).drop_duplicates().reset_index(drop=True)\n",
    "\n",
    "print(unique_sample)\n",
    "print(unique_sample['Severity'].value_counts())"
   ]
  },
  {
   "cell_type": "code",
   "execution_count": 12,
   "metadata": {},
   "outputs": [],
   "source": [
    "out_dir = '../Result/'\n",
    "\n",
    "uniques = unique_sample.rename(columns={'Sample':'ID', 'Severity':'severity'})\n",
    "uniques['severity'] = uniques['severity'].astype(int)\n",
    "uniques.to_csv(out_dir + 'max_css_adaptome_only.csv', index=False)"
   ]
  },
  {
   "cell_type": "code",
   "execution_count": 12,
   "metadata": {},
   "outputs": [
    {
     "name": "stdout",
     "output_type": "stream",
     "text": [
      "(1,)\n",
      "['COV-SCO-069']\n",
      "          Sample Type Time_point  Severity  Row_number  Total_readcount  \\\n",
      "820  COV-SCO-069  IGG          1       4.0       626.0           4449.0   \n",
      "821  COV-SCO-069  IGM          1       4.0      4748.0          10161.0   \n",
      "822  COV-SCO-069  IGG          3       4.0       534.0           3071.0   \n",
      "823  COV-SCO-069  IGM          3       4.0      4051.0           7585.0   \n",
      "820  COV-SCO-069  IGK          1       4.0      5795.0          59582.0   \n",
      "821  COV-SCO-069  IGL          1       4.0      4395.0          53915.0   \n",
      "822  COV-SCO-069  IGK          3       4.0      4162.0          16817.0   \n",
      "823  COV-SCO-069  IGL          3       4.0      3884.0          20747.0   \n",
      "820  COV-SCO-069  TRA          1       4.0     16503.0          31754.0   \n",
      "821  COV-SCO-069  TRB          1       4.0     63699.0         147958.0   \n",
      "822  COV-SCO-069  TRA          3       4.0      5392.0           7919.0   \n",
      "823  COV-SCO-069  TRB          3       4.0     34938.0          54738.0   \n",
      "\n",
      "     Shannon_diversity       PlnP2  Squared_Shannon  \n",
      "820           5.736668   34.067166        32.909359  \n",
      "821           7.757033   62.167733        60.171565  \n",
      "822           5.285125   29.709303        27.932551  \n",
      "823           7.493489   58.982717        56.152375  \n",
      "820           7.223866   54.451830        52.184242  \n",
      "821           6.910733   49.860464        47.758228  \n",
      "822           7.133149   53.851728        50.881819  \n",
      "823           6.821492   49.696146        46.532753  \n",
      "820           8.910111   82.905376        79.390086  \n",
      "821           9.727158  101.530888        94.617599  \n",
      "822           8.349779   70.518806        69.718817  \n",
      "823          10.097721  103.516176       101.963972  \n"
     ]
    }
   ],
   "source": [
    "### 빈 df를 만들어서, severity가 4인 행을 모아서 concat으로 합치기\n",
    "\n",
    "max_severity = pd.DataFrame(columns=['Sample', 'Type', 'Time_point', 'Severity'])\n",
    "\n",
    "for i in trim_01:\n",
    "    if (i['Severity'] == 3).any():\n",
    "        max_severity = pd.concat([max_severity, i[i['Severity'] == 4]])\n",
    "\n",
    "print(max_severity['Sample'].unique().shape)\n",
    "print(max_severity['Sample'].unique())\n",
    "print(max_severity)"
   ]
  },
  {
   "cell_type": "code",
   "execution_count": 13,
   "metadata": {},
   "outputs": [
    {
     "name": "stdout",
     "output_type": "stream",
     "text": [
      "840 718\n"
     ]
    }
   ],
   "source": [
    "### df에서 df['Sample']의 구성요소중 COV-CNC, COV-CNO 와 부분일치하는 것을 제거\n",
    "### df 이름이 BCRHC01, BCRHC02, BCRLC01, BCRLC02, TCR01, TCR02 이라면, trimBCRHC01, trimBCRHC02, trimBCRLC01, trimBCRLC02, trimTCR01, trimTCR02에 저장하도록\n",
    "\n",
    "def trim_nonclinic(df):\n",
    "    df = df[~df['Sample'].str.contains('COV-CNC|COV-CNO')]\n",
    "    return df\n",
    "\n",
    "for i in range(1, 3):\n",
    "    for j in ['BCRHC', 'BCRLC', 'TCR']:\n",
    "        globals()[f'trim{j}0{i}'] = trim_nonclinic(globals()[f'{j}0{i}'])\n",
    "        \n",
    "print(len(BCRHC01['Sample'].unique()), len(trimBCRHC01['Sample'].unique()))"
   ]
  },
  {
   "cell_type": "code",
   "execution_count": null,
   "metadata": {},
   "outputs": [],
   "source": [
    "### 이번엔 BCRHC01['Sample']과 BCRHC02['Sample']에서 ID가 COV-CNC, COV-CNO 인 것을 제외하고 비교\n",
    "\n",
    "def shannon_boxplot2(df, title, detect):\n",
    "        \n",
    "        colors = {'IGM': 'gold', 'IGG': 'tomato', 'IGK': 'skyblue', 'IGL': 'darkblue', 'TRA': 'turquoise', 'TRB': 'teal'}\n",
    "        \n",
    "        fig = go.Figure()\n",
    "        \n",
    "        ### input df의 이름자체에 HC가 있으면 IGG,IGM, LC가 있으면 IGL,IGK, 둘 다 없으면 TRA,TRB를 고르도록\n",
    "        ### df가 지칭하는 항목이 무엇인지에 따라서 Typelist를 다르게 설정\n",
    "        ### 아래에서 \n",
    "        \n",
    "        if detect == 'HC':\n",
    "            Typelist = ['IGM', 'IGG']\n",
    "        elif detect == 'LC':\n",
    "            Typelist = ['IGK', 'IGL']\n",
    "        else:\n",
    "            Typelist = ['TRA', 'TRB']\n",
    "    \n",
    "        for t in Typelist:\n",
    "            temp = df[(df['Type'] == t) & (df['Sample'] != 'COV-CNC') & (df['Sample'] != 'COV-CNO')]\n",
    "            for i in range(1, 4):\n",
    "                    fig.add_trace(go.Box(y=temp[temp['Time_point'] == i]['Shannon_diversity'], x=[f'{t}']*len(temp[temp['Time_point'] == i]), name=f'{t}', marker_color=colors[t]))\n",
    "            \n",
    "        fig.update_layout(title=title, xaxis_title='Time Point', yaxis_title='Shannon Diversity', boxmode='group',\n",
    "                            plot_bgcolor='rgba(255, 255, 255, 1)', yaxis=dict(gridcolor='lightgray'), width=1000, height=400)\n",
    "        \n",
    "        fig.show()\n",
    "        \n",
    "shannon_boxplot2(trimBCRHC01, 'Time point comparison of BCR_HC 01', 'HC')\n",
    "shannon_boxplot2(trimBCRHC02, 'Time point comparison of BCR_HC 02', 'HC')\n",
    "shannon_boxplot2(trimBCRLC01, 'Time point comparison of BCR_LC 01', 'LC')\n",
    "shannon_boxplot2(trimBCRLC02, 'Time point comparison of BCR_LC 02', 'LC')\n",
    "shannon_boxplot2(trimTCR01, 'Time point comparison of TCR 01','')\n",
    "shannon_boxplot2(trimTCR02, 'Time point comparison of TCR 02','')"
   ]
  },
  {
   "cell_type": "code",
   "execution_count": 17,
   "metadata": {},
   "outputs": [
    {
     "data": {
      "application/vnd.plotly.v1+json": {
       "config": {
        "plotlyServerURL": "https://plot.ly"
       },
       "data": [
        {
         "marker": {
          "color": "darkblue"
         },
         "name": "IGM 1 Severity 0",
         "type": "box",
         "x": [
          "IGM",
          "IGM",
          "IGM",
          "IGM",
          "IGM",
          "IGM",
          "IGM",
          "IGM",
          "IGM",
          "IGM",
          "IGM",
          "IGM",
          "IGM",
          "IGM",
          "IGM",
          "IGM",
          "IGM",
          "IGM",
          "IGM",
          "IGM",
          "IGM",
          "IGM",
          "IGM",
          "IGM",
          "IGM",
          "IGM",
          "IGM",
          "IGM",
          "IGM",
          "IGM",
          "IGM",
          "IGM",
          "IGM",
          "IGM",
          "IGM",
          "IGM",
          "IGM",
          "IGM",
          "IGM",
          "IGM",
          "IGM",
          "IGM",
          "IGM",
          "IGM",
          "IGM",
          "IGM",
          "IGM",
          "IGM",
          "IGM",
          "IGM",
          "IGM",
          "IGM",
          "IGM",
          "IGM",
          "IGM",
          "IGM",
          "IGM",
          "IGM",
          "IGM"
         ],
         "y": [
          8.44743787448177,
          8.092246939826305,
          8.601943935009002,
          8.714368710957434,
          8.203453040135262,
          8.020046001877757,
          8.810322102854947,
          8.661489157368939,
          8.272934750138724,
          8.165532421440563,
          8.498780099380728,
          7.206958141262746,
          8.630582697104602,
          8.543471583202782,
          8.375410872564117,
          8.406073775718589,
          9.071478646821983,
          8.184362909381653,
          8.655025338771361,
          6.526655010591043,
          6.701979911783807,
          5.829406403226916,
          6.7811837258091,
          7.169762651292191,
          6.053219598919544,
          4.810069789719566,
          5.773230613454017,
          5.570979438095758,
          7.104833313914404,
          6.04739321426122,
          4.807966354401561,
          5.759253485573908,
          7.737120618629158,
          7.350207877059497,
          7.62596115431494,
          4.806929409926156,
          6.938984834473953,
          6.070846474186935,
          8.965996318542873,
          6.437630277654907,
          5.46982322142832,
          7.376403373788232,
          8.980996647337221,
          8.735647771251935,
          7.464477666854934,
          6.2789485729594805,
          8.601364959086565,
          8.645415646731687,
          7.88106346690622,
          8.960284817468029,
          8.003170581318342,
          8.246969087890449,
          9.2244583651969,
          8.777297899740251,
          8.351142717065027,
          8.29370567224501,
          8.661875008267714,
          7.578310310290432,
          8.754316633078544
         ]
        },
        {
         "marker": {
          "color": "darkblue"
         },
         "name": "IGM 2 Severity 0",
         "type": "box",
         "x": [
          "IGM",
          "IGM"
         ],
         "y": [
          7.79136234545581,
          7.681326830364616
         ]
        },
        {
         "marker": {
          "color": "teal"
         },
         "name": "IGM 1 Severity 1",
         "type": "box",
         "x": [
          "IGM",
          "IGM",
          "IGM",
          "IGM",
          "IGM",
          "IGM",
          "IGM",
          "IGM",
          "IGM",
          "IGM",
          "IGM",
          "IGM",
          "IGM",
          "IGM",
          "IGM",
          "IGM",
          "IGM",
          "IGM",
          "IGM",
          "IGM",
          "IGM",
          "IGM",
          "IGM",
          "IGM",
          "IGM",
          "IGM",
          "IGM",
          "IGM",
          "IGM",
          "IGM",
          "IGM",
          "IGM",
          "IGM",
          "IGM",
          "IGM",
          "IGM",
          "IGM",
          "IGM",
          "IGM",
          "IGM",
          "IGM",
          "IGM",
          "IGM",
          "IGM",
          "IGM",
          "IGM",
          "IGM",
          "IGM",
          "IGM",
          "IGM",
          "IGM",
          "IGM",
          "IGM",
          "IGM",
          "IGM",
          "IGM",
          "IGM",
          "IGM",
          "IGM",
          "IGM",
          "IGM",
          "IGM",
          "IGM",
          "IGM",
          "IGM",
          "IGM",
          "IGM",
          "IGM",
          "IGM",
          "IGM",
          "IGM",
          "IGM",
          "IGM",
          "IGM",
          "IGM",
          "IGM",
          "IGM",
          "IGM",
          "IGM",
          "IGM",
          "IGM",
          "IGM",
          "IGM",
          "IGM",
          "IGM"
         ],
         "y": [
          8.17985294404447,
          7.957169282610262,
          8.265711089868383,
          8.093039549964594,
          8.695308588099572,
          8.265806267672414,
          6.981976862711924,
          9.225082072164373,
          9.207544241386056,
          8.088297545642535,
          8.111389392294456,
          7.66402360958345,
          7.9877335661710225,
          7.11597764271325,
          7.611959008394999,
          7.562125714259381,
          6.387349425775136,
          7.32701447097758,
          7.976633198045278,
          6.283291270831102,
          8.183272638891596,
          8.769150912798201,
          7.390937490652419,
          8.258953525791968,
          8.381032462437785,
          7.407190222535005,
          7.220895778454262,
          5.561338603833617,
          6.730505076231023,
          7.482884253740857,
          6.55975543889849,
          7.357714332854204,
          6.512047015860552,
          5.862433106657755,
          6.565393611162189,
          6.515532691444931,
          7.72023990127336,
          7.945599502832631,
          6.438506052337055,
          8.004481142389686,
          6.880789438798616,
          7.725017168689392,
          6.338327092608489,
          7.0330473458423794,
          6.534259087408529,
          6.04984897842341,
          7.608482535482486,
          6.661844746270564,
          8.874722047983443,
          8.715214892205557,
          8.670720774639385,
          7.545744685665476,
          7.660981490032188,
          7.757646732239498,
          6.386862777779315,
          6.396869601606462,
          8.645682083882196,
          6.682786317789002,
          7.205865933658416,
          7.753027783177583,
          8.13413289820037,
          7.485452511912521,
          8.205550388858098,
          7.911373705949007,
          7.721411858932955,
          7.806493255160048,
          8.42566570723833,
          7.62325559278985,
          7.825074865497075,
          8.982399685302962,
          8.991409249193854,
          8.381073914562531,
          9.1485012488866,
          9.71530707554782,
          7.485478823854554,
          7.529110843150852,
          8.190180283069358,
          6.436646997413599,
          7.176373645023878,
          8.759747941755858,
          8.810914391032766,
          8.592013774688775,
          7.258669809688473,
          9.154267071405616,
          8.871743497547348
         ]
        },
        {
         "marker": {
          "color": "teal"
         },
         "name": "IGM 2 Severity 1",
         "type": "box",
         "x": [
          "IGM",
          "IGM",
          "IGM",
          "IGM",
          "IGM",
          "IGM",
          "IGM",
          "IGM",
          "IGM",
          "IGM",
          "IGM",
          "IGM",
          "IGM",
          "IGM",
          "IGM",
          "IGM",
          "IGM",
          "IGM",
          "IGM",
          "IGM",
          "IGM",
          "IGM",
          "IGM",
          "IGM",
          "IGM",
          "IGM",
          "IGM",
          "IGM",
          "IGM",
          "IGM",
          "IGM",
          "IGM",
          "IGM",
          "IGM",
          "IGM",
          "IGM",
          "IGM",
          "IGM",
          "IGM",
          "IGM",
          "IGM",
          "IGM",
          "IGM"
         ],
         "y": [
          6.769221180648266,
          8.024965294528458,
          8.617035532276542,
          7.990666364705812,
          7.535905905148728,
          8.339416162485728,
          6.577080375517056,
          7.023765170473661,
          10.208777910906958,
          7.901928412760845,
          7.540834443794464,
          7.754928910311202,
          7.509062005206054,
          7.277167291484207,
          7.298461253521608,
          6.280617439680586,
          5.755773163809996,
          7.612171899965616,
          8.587845642996363,
          7.866495303756613,
          7.624253803633136,
          6.179724066481518,
          8.205469316265962,
          7.297299781053412,
          7.201386906836994,
          5.970088084969319,
          5.647128269158276,
          8.405641844912118,
          7.367145773314498,
          8.429575928539057,
          8.62042653652843,
          9.26135784849405,
          7.327662114955961,
          7.318134439336404,
          6.613024852394396,
          9.226526416551907,
          6.844698944564204,
          8.2368522263214,
          8.634618089762975,
          4.83145252806462,
          7.6777865018054,
          7.963747079066509,
          9.005086433752043
         ]
        },
        {
         "marker": {
          "color": "teal"
         },
         "name": "IGM 3 Severity 1",
         "type": "box",
         "x": [
          "IGM",
          "IGM",
          "IGM",
          "IGM",
          "IGM",
          "IGM",
          "IGM",
          "IGM",
          "IGM",
          "IGM",
          "IGM",
          "IGM",
          "IGM",
          "IGM",
          "IGM",
          "IGM",
          "IGM",
          "IGM",
          "IGM",
          "IGM",
          "IGM",
          "IGM",
          "IGM",
          "IGM",
          "IGM",
          "IGM",
          "IGM",
          "IGM",
          "IGM",
          "IGM",
          "IGM",
          "IGM",
          "IGM",
          "IGM",
          "IGM",
          "IGM",
          "IGM",
          "IGM",
          "IGM",
          "IGM",
          "IGM",
          "IGM",
          "IGM",
          "IGM",
          "IGM",
          "IGM",
          "IGM",
          "IGM",
          "IGM",
          "IGM",
          "IGM",
          "IGM",
          "IGM",
          "IGM",
          "IGM",
          "IGM",
          "IGM",
          "IGM",
          "IGM",
          "IGM",
          "IGM",
          "IGM",
          "IGM",
          "IGM",
          "IGM",
          "IGM",
          "IGM"
         ],
         "y": [
          8.651372019351793,
          7.235091162097147,
          9.174787559670335,
          8.376834564800083,
          7.167768749365878,
          7.899967561918043,
          7.797742474994864,
          8.522756957792133,
          8.168079289451631,
          8.246051604723933,
          8.32925160219425,
          7.980955265112121,
          8.702797129630543,
          5.952554733489295,
          7.2004827668397,
          7.376596759484199,
          6.94065705814368,
          7.968672907027995,
          9.372152632421916,
          8.299956023754236,
          8.414202088303094,
          8.047902979432886,
          8.19745222652054,
          6.479839101907973,
          7.279405790222509,
          7.476792967275591,
          6.855092949567419,
          7.351809524605171,
          7.45267924698822,
          7.723323364678473,
          8.700948392305762,
          9.559146121177182,
          7.723387275742921,
          8.027879987549479,
          7.587501641936149,
          7.9151169084631,
          6.795177375191152,
          5.509116800414775,
          5.03809381700568,
          6.985910288893871,
          7.611015813096628,
          6.957652351913441,
          7.660317388130241,
          7.593294031468825,
          7.974772673443995,
          8.902613833337911,
          7.8858640057196,
          9.077375717534576,
          9.131663576637589,
          7.935704895581439,
          8.25052363144832,
          7.898991748622675,
          7.7727595141008194,
          8.667925392298518,
          8.574036245597847,
          6.608325185307701,
          7.488766615181437,
          7.826313946626116,
          8.920988997648138,
          8.48734951821257,
          8.977944617860908,
          8.556688660201855,
          7.16917204719999,
          6.179865046529965,
          9.185069340201869,
          7.744391817834973,
          8.296715472359462
         ]
        },
        {
         "marker": {
          "color": "orange"
         },
         "name": "IGM 1 Severity 2",
         "type": "box",
         "x": [
          "IGM",
          "IGM",
          "IGM",
          "IGM",
          "IGM",
          "IGM",
          "IGM",
          "IGM",
          "IGM",
          "IGM",
          "IGM",
          "IGM",
          "IGM",
          "IGM",
          "IGM",
          "IGM",
          "IGM",
          "IGM",
          "IGM",
          "IGM",
          "IGM",
          "IGM",
          "IGM",
          "IGM",
          "IGM",
          "IGM",
          "IGM",
          "IGM",
          "IGM",
          "IGM",
          "IGM",
          "IGM",
          "IGM",
          "IGM",
          "IGM",
          "IGM",
          "IGM",
          "IGM",
          "IGM",
          "IGM",
          "IGM",
          "IGM",
          "IGM",
          "IGM",
          "IGM",
          "IGM",
          "IGM",
          "IGM",
          "IGM",
          "IGM",
          "IGM",
          "IGM",
          "IGM",
          "IGM",
          "IGM",
          "IGM",
          "IGM",
          "IGM",
          "IGM",
          "IGM",
          "IGM",
          "IGM",
          "IGM",
          "IGM",
          "IGM",
          "IGM",
          "IGM",
          "IGM",
          "IGM"
         ],
         "y": [
          9.01897911799264,
          8.715673047149759,
          9.458804413830835,
          8.210910076914802,
          8.068714873262604,
          7.8785996923114,
          7.739885495840796,
          7.888066039904335,
          7.170441154458168,
          5.974923902272833,
          6.133733017669998,
          7.877803233797941,
          8.200588217914992,
          7.030069275300194,
          6.877959270568296,
          9.110235572006648,
          8.2102710872543,
          8.209815311463661,
          7.319918914810329,
          8.664226614474845,
          6.696260912098239,
          7.548960324935087,
          8.727034635460402,
          8.368932583165414,
          6.3634404556525626,
          7.439726544121967,
          7.7121395472127166,
          7.779479327262522,
          7.069462639081619,
          7.4969214703409905,
          7.864022724536984,
          8.336272180631795,
          8.151597473995952,
          7.506626866145891,
          7.425515171867274,
          7.39965932682602,
          7.054854302185496,
          7.57489107788511,
          7.286277684416682,
          6.512001565357528,
          8.835980516356797,
          7.861985613201487,
          7.849665434092341,
          7.80577668405293,
          8.110592731755736,
          8.061606015640285,
          8.58610562676959,
          8.71133465240665,
          7.023198780603182,
          8.089629765069965,
          8.297667276084498,
          7.15303762828357,
          8.141767577848256,
          4.936236690217132,
          8.774168487529339,
          7.643277231410998,
          8.623676671376357,
          8.592024880801606,
          8.84622160894258,
          7.6596695058758115,
          5.998794100490072,
          8.295537818970171,
          8.38400229895428,
          8.729320729076795,
          8.170376579990528,
          8.485996429329019,
          9.32786960242668,
          6.359111882455024,
          8.579959042753881
         ]
        },
        {
         "marker": {
          "color": "orange"
         },
         "name": "IGM 2 Severity 2",
         "type": "box",
         "x": [
          "IGM",
          "IGM",
          "IGM",
          "IGM",
          "IGM",
          "IGM",
          "IGM",
          "IGM",
          "IGM",
          "IGM",
          "IGM",
          "IGM",
          "IGM",
          "IGM",
          "IGM",
          "IGM",
          "IGM",
          "IGM",
          "IGM",
          "IGM",
          "IGM",
          "IGM",
          "IGM",
          "IGM",
          "IGM",
          "IGM",
          "IGM",
          "IGM",
          "IGM",
          "IGM",
          "IGM",
          "IGM",
          "IGM",
          "IGM",
          "IGM",
          "IGM",
          "IGM",
          "IGM",
          "IGM",
          "IGM",
          "IGM",
          "IGM",
          "IGM",
          "IGM",
          "IGM",
          "IGM",
          "IGM"
         ],
         "y": [
          9.940307389266724,
          6.442045677902714,
          7.426469354835164,
          5.405103223497525,
          7.048767131262397,
          5.988615121315375,
          7.857319605032917,
          7.447855873517428,
          7.065195523878297,
          8.383930883815736,
          6.9959230027361965,
          7.809790238117896,
          7.290371351576977,
          8.017002943899024,
          7.655256206824549,
          8.051935225787286,
          6.991939351799632,
          7.268500621158443,
          7.6472677581031165,
          7.394471595234994,
          7.948682192094939,
          7.900052300941114,
          6.674801624731233,
          7.105704461710755,
          8.518564794226611,
          7.219974760818082,
          7.910432780582619,
          7.296157629886847,
          7.8319817730132515,
          7.179172638634139,
          7.358004057708874,
          7.567431288590825,
          7.617026750062693,
          8.979359087106975,
          9.684873274172991,
          6.929866056470044,
          8.75266689597653,
          8.712171099782555,
          8.74331861192431,
          8.728344581972589,
          8.75643777081883,
          7.351221811550904,
          8.628374922742847,
          8.01239281193577,
          9.410348622898402,
          6.458115399676527,
          8.118653269468451
         ]
        },
        {
         "marker": {
          "color": "orange"
         },
         "name": "IGM 3 Severity 2",
         "type": "box",
         "x": [
          "IGM",
          "IGM",
          "IGM",
          "IGM",
          "IGM",
          "IGM",
          "IGM",
          "IGM",
          "IGM",
          "IGM",
          "IGM",
          "IGM",
          "IGM",
          "IGM",
          "IGM",
          "IGM",
          "IGM",
          "IGM",
          "IGM",
          "IGM",
          "IGM",
          "IGM",
          "IGM",
          "IGM",
          "IGM",
          "IGM",
          "IGM",
          "IGM",
          "IGM",
          "IGM",
          "IGM",
          "IGM",
          "IGM",
          "IGM",
          "IGM",
          "IGM",
          "IGM",
          "IGM",
          "IGM",
          "IGM",
          "IGM",
          "IGM",
          "IGM",
          "IGM"
         ],
         "y": [
          7.709613449856294,
          7.719610185165725,
          7.240657532157361,
          7.880532834156855,
          8.535157057329748,
          6.992130326674654,
          8.256688478467144,
          7.373874858232424,
          6.812415455603737,
          7.621141560718216,
          7.194747287232335,
          7.17078075088746,
          6.644767967305439,
          7.493838296840885,
          6.625912340008814,
          7.75394308670606,
          8.073281145929313,
          8.283252798368613,
          8.78637211356677,
          7.540403252888722,
          7.523216020969562,
          6.40965496372437,
          7.355619815555247,
          8.998766142127083,
          7.664970703567366,
          5.997903410859421,
          7.362758603507586,
          8.775345231708775,
          8.889658012445146,
          6.8399222356754725,
          8.489179466920776,
          8.847000733870937,
          5.970633553563085,
          9.5461940101411,
          8.002851006147504,
          8.386645453336326,
          8.828721441573826,
          7.238614365702571,
          7.661546779635068,
          4.875971924459655,
          6.183355758762292,
          9.364289115034111,
          9.018148558891744,
          8.82604598613321
         ]
        },
        {
         "marker": {
          "color": "tomato"
         },
         "name": "IGM 1 Severity 3",
         "type": "box",
         "x": [
          "IGM"
         ],
         "y": [
          8.5901623370271
         ]
        },
        {
         "marker": {
          "color": "tomato"
         },
         "name": "IGM 2 Severity 3",
         "type": "box",
         "x": [
          "IGM"
         ],
         "y": [
          9.057993192332969
         ]
        },
        {
         "marker": {
          "color": "brown"
         },
         "name": "IGM 1 Severity 4",
         "type": "box",
         "x": [
          "IGM"
         ],
         "y": [
          7.757033258305614
         ]
        },
        {
         "marker": {
          "color": "brown"
         },
         "name": "IGM 3 Severity 4",
         "type": "box",
         "x": [
          "IGM"
         ],
         "y": [
          7.493488824248068
         ]
        },
        {
         "marker": {
          "color": "darkblue"
         },
         "name": "IGG 1 Severity 0",
         "type": "box",
         "x": [
          "IGG",
          "IGG",
          "IGG",
          "IGG",
          "IGG",
          "IGG",
          "IGG",
          "IGG",
          "IGG",
          "IGG",
          "IGG",
          "IGG",
          "IGG",
          "IGG",
          "IGG",
          "IGG",
          "IGG",
          "IGG",
          "IGG",
          "IGG",
          "IGG",
          "IGG",
          "IGG",
          "IGG",
          "IGG",
          "IGG",
          "IGG",
          "IGG",
          "IGG",
          "IGG",
          "IGG",
          "IGG",
          "IGG",
          "IGG",
          "IGG",
          "IGG",
          "IGG",
          "IGG",
          "IGG",
          "IGG",
          "IGG",
          "IGG",
          "IGG",
          "IGG",
          "IGG",
          "IGG",
          "IGG",
          "IGG",
          "IGG",
          "IGG",
          "IGG",
          "IGG",
          "IGG",
          "IGG",
          "IGG",
          "IGG",
          "IGG",
          "IGG",
          "IGG"
         ],
         "y": [
          6.193058032838419,
          6.717871853805641,
          6.3159850302245255,
          5.816984073273274,
          5.876942913010653,
          5.773779047303736,
          5.917954969667636,
          6.469998325491324,
          6.0474038054149775,
          5.909858423327593,
          5.896454249685439,
          4.896780475197659,
          5.859456113231217,
          5.356666189743192,
          5.601784833313682,
          5.771994610986134,
          6.030933453194041,
          5.29038764110618,
          5.94586066212304,
          5.1680173872085895,
          5.011789532965061,
          3.7191227335283896,
          5.181113342664639,
          5.735744189480642,
          3.955422803684829,
          3.606472870668661,
          4.420394240927614,
          4.136078682106532,
          4.434753956078977,
          4.695920439055136,
          4.462673123084045,
          4.508108464099861,
          6.321030942695943,
          4.677194042128937,
          5.370357071430322,
          3.279145943536101,
          5.111867385760199,
          3.7602700792941,
          4.971737311631809,
          5.258805269227596,
          4.0420224185451215,
          5.218234040421695,
          5.990516540561273,
          5.926539711884733,
          4.555233840523728,
          3.9074265664677794,
          5.711618931410373,
          4.979069187162259,
          6.517494069394858,
          6.580625370229995,
          5.497817246639967,
          6.132553430652292,
          6.759576472157537,
          5.752550005885571,
          5.495442619529651,
          5.643201151363965,
          5.787673524141302,
          5.5153615913037335,
          5.022189066533281
         ]
        },
        {
         "marker": {
          "color": "darkblue"
         },
         "name": "IGG 2 Severity 0",
         "type": "box",
         "x": [
          "IGG",
          "IGG"
         ],
         "y": [
          5.978861901203812,
          6.4662229015826185
         ]
        },
        {
         "marker": {
          "color": "teal"
         },
         "name": "IGG 1 Severity 1",
         "type": "box",
         "x": [
          "IGG",
          "IGG",
          "IGG",
          "IGG",
          "IGG",
          "IGG",
          "IGG",
          "IGG",
          "IGG",
          "IGG",
          "IGG",
          "IGG",
          "IGG",
          "IGG",
          "IGG",
          "IGG",
          "IGG",
          "IGG",
          "IGG",
          "IGG",
          "IGG",
          "IGG",
          "IGG",
          "IGG",
          "IGG",
          "IGG",
          "IGG",
          "IGG",
          "IGG",
          "IGG",
          "IGG",
          "IGG",
          "IGG",
          "IGG",
          "IGG",
          "IGG",
          "IGG",
          "IGG",
          "IGG",
          "IGG",
          "IGG",
          "IGG",
          "IGG",
          "IGG",
          "IGG",
          "IGG",
          "IGG",
          "IGG",
          "IGG",
          "IGG",
          "IGG",
          "IGG",
          "IGG",
          "IGG",
          "IGG",
          "IGG",
          "IGG",
          "IGG",
          "IGG",
          "IGG",
          "IGG",
          "IGG",
          "IGG",
          "IGG",
          "IGG",
          "IGG",
          "IGG",
          "IGG",
          "IGG",
          "IGG",
          "IGG",
          "IGG",
          "IGG",
          "IGG",
          "IGG",
          "IGG",
          "IGG",
          "IGG",
          "IGG",
          "IGG",
          "IGG",
          "IGG",
          "IGG",
          "IGG",
          "IGG"
         ],
         "y": [
          6.727982986912968,
          6.640316064074672,
          2.733632036980419,
          6.167584845107037,
          6.228722184046077,
          6.811048013961943,
          4.279725964658922,
          6.106447790536355,
          6.260965181223813,
          5.856873240131919,
          5.728418969608647,
          5.717586437286472,
          6.037633890710808,
          3.7201763809580575,
          5.12115112840943,
          4.662929413302105,
          6.561189954879457,
          4.875461063018109,
          6.3159106221994685,
          5.6529861520162985,
          5.047836299359512,
          6.38400772555247,
          5.395426213213964,
          5.812987599533919,
          5.837902925465986,
          5.25779755134659,
          5.104623753942893,
          5.054028608219245,
          5.170672357296795,
          5.634019743722609,
          5.278987590228491,
          5.367552026776651,
          4.811252175680063,
          4.712648772249081,
          5.801079813657558,
          5.598003298592088,
          5.856396937525672,
          6.253642720607306,
          4.599841142114882,
          6.344786881597551,
          5.032952708521775,
          6.338910621455035,
          5.607179540637677,
          6.358428921796876,
          4.717814124256099,
          4.804383026188717,
          6.286706746018544,
          4.973770737730449,
          6.377998943906537,
          5.265284716857212,
          5.698099379800873,
          5.6747019794293765,
          5.26132000197524,
          5.750371186154139,
          6.532692308077417,
          6.005035181528149,
          6.231757696859481,
          4.723741210392159,
          5.1436648396902,
          5.43672768859867,
          6.18179561109304,
          5.33475680950469,
          5.691962546324128,
          6.027729815562157,
          6.161047713342283,
          6.071120858359145,
          6.869282410678337,
          5.363684320647369,
          5.026087697894397,
          5.606089906195885,
          5.529326571749021,
          6.497692202512706,
          4.255779647358131,
          6.2296151859793145,
          5.338281233293106,
          5.9604465666468895,
          5.819652316740683,
          6.22495813290011,
          5.409392704023436,
          6.32505199876878,
          6.21098602875263,
          6.0287197427177,
          5.667725436033165,
          7.339448619638055,
          6.4009160575853015
         ]
        },
        {
         "marker": {
          "color": "teal"
         },
         "name": "IGG 2 Severity 1",
         "type": "box",
         "x": [
          "IGG",
          "IGG",
          "IGG",
          "IGG",
          "IGG",
          "IGG",
          "IGG",
          "IGG",
          "IGG",
          "IGG",
          "IGG",
          "IGG",
          "IGG",
          "IGG",
          "IGG",
          "IGG",
          "IGG",
          "IGG",
          "IGG",
          "IGG",
          "IGG",
          "IGG",
          "IGG",
          "IGG",
          "IGG",
          "IGG",
          "IGG",
          "IGG",
          "IGG",
          "IGG",
          "IGG",
          "IGG",
          "IGG",
          "IGG",
          "IGG",
          "IGG",
          "IGG",
          "IGG",
          "IGG",
          "IGG",
          "IGG",
          "IGG",
          "IGG"
         ],
         "y": [
          5.104861513913926,
          6.086599692370437,
          5.693070938293685,
          5.302044814142816,
          5.868245276209427,
          5.854990659086701,
          4.777718975857604,
          5.1911952069377,
          6.536409913771416,
          6.457949563196187,
          5.530357131341833,
          5.263940506494801,
          5.167687980694535,
          5.0457265009953085,
          3.0078048452896984,
          6.215915743378583,
          4.063172324005981,
          5.395830062777573,
          5.324758301501819,
          6.058900750418958,
          5.73658978648262,
          5.33631875915716,
          5.54998017397953,
          5.084545896300949,
          3.523387248819596,
          4.268140470428993,
          4.168426161356193,
          6.402001178914202,
          6.410769472688029,
          6.947610695531244,
          5.817652976768506,
          6.077730946336114,
          5.321610342825636,
          5.715178582186738,
          4.59362845489578,
          6.189282724769619,
          5.402602890856111,
          6.0295209973044,
          6.5714906860312166,
          3.67734768739706,
          6.051520969131559,
          5.913158202244016,
          6.107794375128026
         ]
        },
        {
         "marker": {
          "color": "teal"
         },
         "name": "IGG 3 Severity 1",
         "type": "box",
         "x": [
          "IGG",
          "IGG",
          "IGG",
          "IGG",
          "IGG",
          "IGG",
          "IGG",
          "IGG",
          "IGG",
          "IGG",
          "IGG",
          "IGG",
          "IGG",
          "IGG",
          "IGG",
          "IGG",
          "IGG",
          "IGG",
          "IGG",
          "IGG",
          "IGG",
          "IGG",
          "IGG",
          "IGG",
          "IGG",
          "IGG",
          "IGG",
          "IGG",
          "IGG",
          "IGG",
          "IGG",
          "IGG",
          "IGG",
          "IGG",
          "IGG",
          "IGG",
          "IGG",
          "IGG",
          "IGG",
          "IGG",
          "IGG",
          "IGG",
          "IGG",
          "IGG",
          "IGG",
          "IGG",
          "IGG",
          "IGG",
          "IGG",
          "IGG",
          "IGG",
          "IGG",
          "IGG",
          "IGG",
          "IGG",
          "IGG",
          "IGG",
          "IGG",
          "IGG",
          "IGG",
          "IGG",
          "IGG",
          "IGG",
          "IGG",
          "IGG",
          "IGG",
          "IGG"
         ],
         "y": [
          6.672047968206821,
          6.427033291611796,
          5.550152879102799,
          6.141177219525724,
          5.731771131826099,
          5.4811420828390345,
          5.52233337029704,
          6.543802847608652,
          6.579080644175449,
          5.76686955534748,
          5.799995907976353,
          5.261596330188339,
          5.697316330405804,
          2.8783063285016373,
          5.603911359369616,
          4.453675908895161,
          5.309061468628451,
          5.215343896607707,
          5.370050247275352,
          5.841703411872313,
          6.056581660464654,
          5.392008749628412,
          5.621363528341453,
          3.757734206248473,
          4.709890969335274,
          5.772570431663462,
          4.970526444340845,
          5.634232186684989,
          5.860027195320479,
          5.563025376333453,
          5.2386961181199405,
          6.231108120338144,
          5.9026761528600735,
          6.86822020195773,
          6.002022733406926,
          5.387243283927952,
          6.08587562481789,
          3.5895995211762206,
          3.571943828037168,
          5.862663037780865,
          5.734866601489034,
          5.776864996333423,
          5.34814352323235,
          5.356395098698564,
          5.344205047479649,
          5.804031715806191,
          6.628870188676876,
          5.352023970689686,
          5.887616888671027,
          5.758717571666383,
          5.479842389609117,
          5.213191440725893,
          5.960716524136417,
          6.760177478360565,
          6.295088251857159,
          4.903421244055824,
          5.4358480485976575,
          5.363786208865164,
          6.035523311748572,
          5.820095785170088,
          5.706109099986731,
          5.718033839798226,
          4.570327530703742,
          4.5544552190157575,
          6.155975894760277,
          6.213167086358732,
          5.439732827712206
         ]
        },
        {
         "marker": {
          "color": "orange"
         },
         "name": "IGG 1 Severity 2",
         "type": "box",
         "x": [
          "IGG",
          "IGG",
          "IGG",
          "IGG",
          "IGG",
          "IGG",
          "IGG",
          "IGG",
          "IGG",
          "IGG",
          "IGG",
          "IGG",
          "IGG",
          "IGG",
          "IGG",
          "IGG",
          "IGG",
          "IGG",
          "IGG",
          "IGG",
          "IGG",
          "IGG",
          "IGG",
          "IGG",
          "IGG",
          "IGG",
          "IGG",
          "IGG",
          "IGG",
          "IGG",
          "IGG",
          "IGG",
          "IGG",
          "IGG",
          "IGG",
          "IGG",
          "IGG",
          "IGG",
          "IGG",
          "IGG",
          "IGG",
          "IGG",
          "IGG",
          "IGG",
          "IGG",
          "IGG",
          "IGG",
          "IGG",
          "IGG",
          "IGG",
          "IGG",
          "IGG",
          "IGG",
          "IGG",
          "IGG",
          "IGG",
          "IGG",
          "IGG",
          "IGG",
          "IGG",
          "IGG",
          "IGG",
          "IGG",
          "IGG",
          "IGG",
          "IGG",
          "IGG",
          "IGG",
          "IGG"
         ],
         "y": [
          6.4405641677945376,
          6.348930194315248,
          5.543658322668781,
          5.1267866586125725,
          6.322909283075668,
          5.105275157024948,
          5.454173233549474,
          5.979455714234413,
          5.030831255740688,
          4.779778372870051,
          3.306314188968249,
          5.747710667208978,
          5.49606011291928,
          4.800472308660606,
          5.686948100135599,
          6.8027904314005445,
          6.830391075823404,
          6.06498288098859,
          5.482911625120986,
          6.402194551083351,
          5.618513754528649,
          5.526046213867471,
          6.113710315716006,
          5.998561214911152,
          5.245169446763368,
          6.270700448186278,
          4.8877971000252405,
          5.845569961855357,
          4.829128761684493,
          5.104889727342304,
          5.894471103622322,
          5.843297428754803,
          6.438131656096644,
          5.503547803430068,
          5.77965445113622,
          5.56601419954499,
          6.381930360030882,
          6.697511891603812,
          5.17177186620154,
          5.728089254327024,
          6.589975551765512,
          6.0955560114645815,
          5.319342229875423,
          5.4699812981164975,
          5.537830622669922,
          6.813152575649472,
          6.566672015503201,
          6.159082329710751,
          4.839352454343479,
          4.9848819032912814,
          6.795512408065039,
          5.293738206821973,
          5.744504899962408,
          5.400996330772332,
          5.914851117787067,
          6.396060397978828,
          6.780928162802857,
          6.161479441942952,
          5.676818975972726,
          6.770796667713167,
          5.197639545561442,
          6.487113552384814,
          6.464160036152741,
          6.647960569522809,
          6.586275884250965,
          6.522333726526447,
          6.097026265855643,
          4.365334954934885,
          6.9067040556209545
         ]
        },
        {
         "marker": {
          "color": "orange"
         },
         "name": "IGG 2 Severity 2",
         "type": "box",
         "x": [
          "IGG",
          "IGG",
          "IGG",
          "IGG",
          "IGG",
          "IGG",
          "IGG",
          "IGG",
          "IGG",
          "IGG",
          "IGG",
          "IGG",
          "IGG",
          "IGG",
          "IGG",
          "IGG",
          "IGG",
          "IGG",
          "IGG",
          "IGG",
          "IGG",
          "IGG",
          "IGG",
          "IGG",
          "IGG",
          "IGG",
          "IGG",
          "IGG",
          "IGG",
          "IGG",
          "IGG",
          "IGG",
          "IGG",
          "IGG",
          "IGG",
          "IGG",
          "IGG",
          "IGG",
          "IGG",
          "IGG",
          "IGG",
          "IGG",
          "IGG",
          "IGG",
          "IGG",
          "IGG",
          "IGG"
         ],
         "y": [
          6.157224453485413,
          5.311976709064633,
          5.1578887165359255,
          6.059634859482522,
          5.072981192563328,
          4.411300956875948,
          6.075880244976054,
          4.6088077331525215,
          5.618055765293778,
          5.839147132705816,
          3.535038708930528,
          5.697252312374371,
          5.11063786450803,
          5.443093010363507,
          6.049565809541564,
          6.185234152813735,
          4.628570469661475,
          5.38273361725294,
          5.1566036575063805,
          5.358015560953481,
          6.124039980713724,
          5.758100196560305,
          5.400460234128667,
          6.377704416262873,
          6.095006611401496,
          5.395595819566167,
          5.154439033591509,
          5.207291022858223,
          3.399768498262556,
          7.002078063478528,
          5.779900280581214,
          4.784259728146987,
          6.840215637611528,
          5.544464226368696,
          6.490041484811109,
          6.413517898281098,
          5.650907423286223,
          6.499690717419213,
          4.776384030319242,
          6.473858558334798,
          4.869698705546249,
          6.63003097025748,
          6.780591666759827,
          3.112448032405681,
          6.007788828085538,
          5.44617552768127,
          6.761581370326199
         ]
        },
        {
         "marker": {
          "color": "orange"
         },
         "name": "IGG 3 Severity 2",
         "type": "box",
         "x": [
          "IGG",
          "IGG",
          "IGG",
          "IGG",
          "IGG",
          "IGG",
          "IGG",
          "IGG",
          "IGG",
          "IGG",
          "IGG",
          "IGG",
          "IGG",
          "IGG",
          "IGG",
          "IGG",
          "IGG",
          "IGG",
          "IGG",
          "IGG",
          "IGG",
          "IGG",
          "IGG",
          "IGG",
          "IGG",
          "IGG",
          "IGG",
          "IGG",
          "IGG",
          "IGG",
          "IGG",
          "IGG",
          "IGG",
          "IGG",
          "IGG",
          "IGG",
          "IGG",
          "IGG",
          "IGG",
          "IGG",
          "IGG",
          "IGG",
          "IGG",
          "IGG"
         ],
         "y": [
          6.080859954093636,
          5.571827149320511,
          6.479597347278513,
          5.71299626861204,
          5.598068992322769,
          5.106736638572913,
          6.072579842804276,
          6.3630206710613,
          5.689472902171874,
          5.656995077293932,
          5.126154806472615,
          5.469855872402437,
          5.352190030167969,
          5.351681003872605,
          5.194673426527154,
          5.173010588431751,
          6.033805206173449,
          4.809826301619091,
          5.650607209770572,
          5.765785303572205,
          5.799627805820834,
          3.665950982905053,
          5.426976573764004,
          5.513799692595717,
          5.060006904170009,
          4.374881990078445,
          5.247715903420676,
          6.291018306915519,
          5.836849614717104,
          5.827864553529363,
          6.767263430272078,
          6.391924646708812,
          6.42009276504838,
          6.30621685791414,
          6.04912496270356,
          5.597334928776709,
          6.437593320659735,
          5.537419335036359,
          4.779340519099523,
          2.8657034203478973,
          5.289974180550589,
          6.527444769269685,
          6.7443344030611065,
          6.36183322372854
         ]
        },
        {
         "marker": {
          "color": "tomato"
         },
         "name": "IGG 1 Severity 3",
         "type": "box",
         "x": [
          "IGG"
         ],
         "y": [
          6.034889991299728
         ]
        },
        {
         "marker": {
          "color": "tomato"
         },
         "name": "IGG 2 Severity 3",
         "type": "box",
         "x": [
          "IGG"
         ],
         "y": [
          6.425014820068206
         ]
        },
        {
         "marker": {
          "color": "brown"
         },
         "name": "IGG 1 Severity 4",
         "type": "box",
         "x": [
          "IGG"
         ],
         "y": [
          5.736667934282215
         ]
        },
        {
         "marker": {
          "color": "brown"
         },
         "name": "IGG 3 Severity 4",
         "type": "box",
         "x": [
          "IGG"
         ],
         "y": [
          5.285125424001593
         ]
        }
       ],
       "layout": {
        "boxmode": "group",
        "height": 500,
        "plot_bgcolor": "rgba(255, 255, 255, 1)",
        "template": {
         "data": {
          "bar": [
           {
            "error_x": {
             "color": "#2a3f5f"
            },
            "error_y": {
             "color": "#2a3f5f"
            },
            "marker": {
             "line": {
              "color": "#E5ECF6",
              "width": 0.5
             },
             "pattern": {
              "fillmode": "overlay",
              "size": 10,
              "solidity": 0.2
             }
            },
            "type": "bar"
           }
          ],
          "barpolar": [
           {
            "marker": {
             "line": {
              "color": "#E5ECF6",
              "width": 0.5
             },
             "pattern": {
              "fillmode": "overlay",
              "size": 10,
              "solidity": 0.2
             }
            },
            "type": "barpolar"
           }
          ],
          "carpet": [
           {
            "aaxis": {
             "endlinecolor": "#2a3f5f",
             "gridcolor": "white",
             "linecolor": "white",
             "minorgridcolor": "white",
             "startlinecolor": "#2a3f5f"
            },
            "baxis": {
             "endlinecolor": "#2a3f5f",
             "gridcolor": "white",
             "linecolor": "white",
             "minorgridcolor": "white",
             "startlinecolor": "#2a3f5f"
            },
            "type": "carpet"
           }
          ],
          "choropleth": [
           {
            "colorbar": {
             "outlinewidth": 0,
             "ticks": ""
            },
            "type": "choropleth"
           }
          ],
          "contour": [
           {
            "colorbar": {
             "outlinewidth": 0,
             "ticks": ""
            },
            "colorscale": [
             [
              0,
              "#0d0887"
             ],
             [
              0.1111111111111111,
              "#46039f"
             ],
             [
              0.2222222222222222,
              "#7201a8"
             ],
             [
              0.3333333333333333,
              "#9c179e"
             ],
             [
              0.4444444444444444,
              "#bd3786"
             ],
             [
              0.5555555555555556,
              "#d8576b"
             ],
             [
              0.6666666666666666,
              "#ed7953"
             ],
             [
              0.7777777777777778,
              "#fb9f3a"
             ],
             [
              0.8888888888888888,
              "#fdca26"
             ],
             [
              1,
              "#f0f921"
             ]
            ],
            "type": "contour"
           }
          ],
          "contourcarpet": [
           {
            "colorbar": {
             "outlinewidth": 0,
             "ticks": ""
            },
            "type": "contourcarpet"
           }
          ],
          "heatmap": [
           {
            "colorbar": {
             "outlinewidth": 0,
             "ticks": ""
            },
            "colorscale": [
             [
              0,
              "#0d0887"
             ],
             [
              0.1111111111111111,
              "#46039f"
             ],
             [
              0.2222222222222222,
              "#7201a8"
             ],
             [
              0.3333333333333333,
              "#9c179e"
             ],
             [
              0.4444444444444444,
              "#bd3786"
             ],
             [
              0.5555555555555556,
              "#d8576b"
             ],
             [
              0.6666666666666666,
              "#ed7953"
             ],
             [
              0.7777777777777778,
              "#fb9f3a"
             ],
             [
              0.8888888888888888,
              "#fdca26"
             ],
             [
              1,
              "#f0f921"
             ]
            ],
            "type": "heatmap"
           }
          ],
          "heatmapgl": [
           {
            "colorbar": {
             "outlinewidth": 0,
             "ticks": ""
            },
            "colorscale": [
             [
              0,
              "#0d0887"
             ],
             [
              0.1111111111111111,
              "#46039f"
             ],
             [
              0.2222222222222222,
              "#7201a8"
             ],
             [
              0.3333333333333333,
              "#9c179e"
             ],
             [
              0.4444444444444444,
              "#bd3786"
             ],
             [
              0.5555555555555556,
              "#d8576b"
             ],
             [
              0.6666666666666666,
              "#ed7953"
             ],
             [
              0.7777777777777778,
              "#fb9f3a"
             ],
             [
              0.8888888888888888,
              "#fdca26"
             ],
             [
              1,
              "#f0f921"
             ]
            ],
            "type": "heatmapgl"
           }
          ],
          "histogram": [
           {
            "marker": {
             "pattern": {
              "fillmode": "overlay",
              "size": 10,
              "solidity": 0.2
             }
            },
            "type": "histogram"
           }
          ],
          "histogram2d": [
           {
            "colorbar": {
             "outlinewidth": 0,
             "ticks": ""
            },
            "colorscale": [
             [
              0,
              "#0d0887"
             ],
             [
              0.1111111111111111,
              "#46039f"
             ],
             [
              0.2222222222222222,
              "#7201a8"
             ],
             [
              0.3333333333333333,
              "#9c179e"
             ],
             [
              0.4444444444444444,
              "#bd3786"
             ],
             [
              0.5555555555555556,
              "#d8576b"
             ],
             [
              0.6666666666666666,
              "#ed7953"
             ],
             [
              0.7777777777777778,
              "#fb9f3a"
             ],
             [
              0.8888888888888888,
              "#fdca26"
             ],
             [
              1,
              "#f0f921"
             ]
            ],
            "type": "histogram2d"
           }
          ],
          "histogram2dcontour": [
           {
            "colorbar": {
             "outlinewidth": 0,
             "ticks": ""
            },
            "colorscale": [
             [
              0,
              "#0d0887"
             ],
             [
              0.1111111111111111,
              "#46039f"
             ],
             [
              0.2222222222222222,
              "#7201a8"
             ],
             [
              0.3333333333333333,
              "#9c179e"
             ],
             [
              0.4444444444444444,
              "#bd3786"
             ],
             [
              0.5555555555555556,
              "#d8576b"
             ],
             [
              0.6666666666666666,
              "#ed7953"
             ],
             [
              0.7777777777777778,
              "#fb9f3a"
             ],
             [
              0.8888888888888888,
              "#fdca26"
             ],
             [
              1,
              "#f0f921"
             ]
            ],
            "type": "histogram2dcontour"
           }
          ],
          "mesh3d": [
           {
            "colorbar": {
             "outlinewidth": 0,
             "ticks": ""
            },
            "type": "mesh3d"
           }
          ],
          "parcoords": [
           {
            "line": {
             "colorbar": {
              "outlinewidth": 0,
              "ticks": ""
             }
            },
            "type": "parcoords"
           }
          ],
          "pie": [
           {
            "automargin": true,
            "type": "pie"
           }
          ],
          "scatter": [
           {
            "fillpattern": {
             "fillmode": "overlay",
             "size": 10,
             "solidity": 0.2
            },
            "type": "scatter"
           }
          ],
          "scatter3d": [
           {
            "line": {
             "colorbar": {
              "outlinewidth": 0,
              "ticks": ""
             }
            },
            "marker": {
             "colorbar": {
              "outlinewidth": 0,
              "ticks": ""
             }
            },
            "type": "scatter3d"
           }
          ],
          "scattercarpet": [
           {
            "marker": {
             "colorbar": {
              "outlinewidth": 0,
              "ticks": ""
             }
            },
            "type": "scattercarpet"
           }
          ],
          "scattergeo": [
           {
            "marker": {
             "colorbar": {
              "outlinewidth": 0,
              "ticks": ""
             }
            },
            "type": "scattergeo"
           }
          ],
          "scattergl": [
           {
            "marker": {
             "colorbar": {
              "outlinewidth": 0,
              "ticks": ""
             }
            },
            "type": "scattergl"
           }
          ],
          "scattermapbox": [
           {
            "marker": {
             "colorbar": {
              "outlinewidth": 0,
              "ticks": ""
             }
            },
            "type": "scattermapbox"
           }
          ],
          "scatterpolar": [
           {
            "marker": {
             "colorbar": {
              "outlinewidth": 0,
              "ticks": ""
             }
            },
            "type": "scatterpolar"
           }
          ],
          "scatterpolargl": [
           {
            "marker": {
             "colorbar": {
              "outlinewidth": 0,
              "ticks": ""
             }
            },
            "type": "scatterpolargl"
           }
          ],
          "scatterternary": [
           {
            "marker": {
             "colorbar": {
              "outlinewidth": 0,
              "ticks": ""
             }
            },
            "type": "scatterternary"
           }
          ],
          "surface": [
           {
            "colorbar": {
             "outlinewidth": 0,
             "ticks": ""
            },
            "colorscale": [
             [
              0,
              "#0d0887"
             ],
             [
              0.1111111111111111,
              "#46039f"
             ],
             [
              0.2222222222222222,
              "#7201a8"
             ],
             [
              0.3333333333333333,
              "#9c179e"
             ],
             [
              0.4444444444444444,
              "#bd3786"
             ],
             [
              0.5555555555555556,
              "#d8576b"
             ],
             [
              0.6666666666666666,
              "#ed7953"
             ],
             [
              0.7777777777777778,
              "#fb9f3a"
             ],
             [
              0.8888888888888888,
              "#fdca26"
             ],
             [
              1,
              "#f0f921"
             ]
            ],
            "type": "surface"
           }
          ],
          "table": [
           {
            "cells": {
             "fill": {
              "color": "#EBF0F8"
             },
             "line": {
              "color": "white"
             }
            },
            "header": {
             "fill": {
              "color": "#C8D4E3"
             },
             "line": {
              "color": "white"
             }
            },
            "type": "table"
           }
          ]
         },
         "layout": {
          "annotationdefaults": {
           "arrowcolor": "#2a3f5f",
           "arrowhead": 0,
           "arrowwidth": 1
          },
          "autotypenumbers": "strict",
          "coloraxis": {
           "colorbar": {
            "outlinewidth": 0,
            "ticks": ""
           }
          },
          "colorscale": {
           "diverging": [
            [
             0,
             "#8e0152"
            ],
            [
             0.1,
             "#c51b7d"
            ],
            [
             0.2,
             "#de77ae"
            ],
            [
             0.3,
             "#f1b6da"
            ],
            [
             0.4,
             "#fde0ef"
            ],
            [
             0.5,
             "#f7f7f7"
            ],
            [
             0.6,
             "#e6f5d0"
            ],
            [
             0.7,
             "#b8e186"
            ],
            [
             0.8,
             "#7fbc41"
            ],
            [
             0.9,
             "#4d9221"
            ],
            [
             1,
             "#276419"
            ]
           ],
           "sequential": [
            [
             0,
             "#0d0887"
            ],
            [
             0.1111111111111111,
             "#46039f"
            ],
            [
             0.2222222222222222,
             "#7201a8"
            ],
            [
             0.3333333333333333,
             "#9c179e"
            ],
            [
             0.4444444444444444,
             "#bd3786"
            ],
            [
             0.5555555555555556,
             "#d8576b"
            ],
            [
             0.6666666666666666,
             "#ed7953"
            ],
            [
             0.7777777777777778,
             "#fb9f3a"
            ],
            [
             0.8888888888888888,
             "#fdca26"
            ],
            [
             1,
             "#f0f921"
            ]
           ],
           "sequentialminus": [
            [
             0,
             "#0d0887"
            ],
            [
             0.1111111111111111,
             "#46039f"
            ],
            [
             0.2222222222222222,
             "#7201a8"
            ],
            [
             0.3333333333333333,
             "#9c179e"
            ],
            [
             0.4444444444444444,
             "#bd3786"
            ],
            [
             0.5555555555555556,
             "#d8576b"
            ],
            [
             0.6666666666666666,
             "#ed7953"
            ],
            [
             0.7777777777777778,
             "#fb9f3a"
            ],
            [
             0.8888888888888888,
             "#fdca26"
            ],
            [
             1,
             "#f0f921"
            ]
           ]
          },
          "colorway": [
           "#636efa",
           "#EF553B",
           "#00cc96",
           "#ab63fa",
           "#FFA15A",
           "#19d3f3",
           "#FF6692",
           "#B6E880",
           "#FF97FF",
           "#FECB52"
          ],
          "font": {
           "color": "#2a3f5f"
          },
          "geo": {
           "bgcolor": "white",
           "lakecolor": "white",
           "landcolor": "#E5ECF6",
           "showlakes": true,
           "showland": true,
           "subunitcolor": "white"
          },
          "hoverlabel": {
           "align": "left"
          },
          "hovermode": "closest",
          "mapbox": {
           "style": "light"
          },
          "paper_bgcolor": "white",
          "plot_bgcolor": "#E5ECF6",
          "polar": {
           "angularaxis": {
            "gridcolor": "white",
            "linecolor": "white",
            "ticks": ""
           },
           "bgcolor": "#E5ECF6",
           "radialaxis": {
            "gridcolor": "white",
            "linecolor": "white",
            "ticks": ""
           }
          },
          "scene": {
           "xaxis": {
            "backgroundcolor": "#E5ECF6",
            "gridcolor": "white",
            "gridwidth": 2,
            "linecolor": "white",
            "showbackground": true,
            "ticks": "",
            "zerolinecolor": "white"
           },
           "yaxis": {
            "backgroundcolor": "#E5ECF6",
            "gridcolor": "white",
            "gridwidth": 2,
            "linecolor": "white",
            "showbackground": true,
            "ticks": "",
            "zerolinecolor": "white"
           },
           "zaxis": {
            "backgroundcolor": "#E5ECF6",
            "gridcolor": "white",
            "gridwidth": 2,
            "linecolor": "white",
            "showbackground": true,
            "ticks": "",
            "zerolinecolor": "white"
           }
          },
          "shapedefaults": {
           "line": {
            "color": "#2a3f5f"
           }
          },
          "ternary": {
           "aaxis": {
            "gridcolor": "white",
            "linecolor": "white",
            "ticks": ""
           },
           "baxis": {
            "gridcolor": "white",
            "linecolor": "white",
            "ticks": ""
           },
           "bgcolor": "#E5ECF6",
           "caxis": {
            "gridcolor": "white",
            "linecolor": "white",
            "ticks": ""
           }
          },
          "title": {
           "x": 0.05
          },
          "xaxis": {
           "automargin": true,
           "gridcolor": "white",
           "linecolor": "white",
           "ticks": "",
           "title": {
            "standoff": 15
           },
           "zerolinecolor": "white",
           "zerolinewidth": 2
          },
          "yaxis": {
           "automargin": true,
           "gridcolor": "white",
           "linecolor": "white",
           "ticks": "",
           "title": {
            "standoff": 15
           },
           "zerolinecolor": "white",
           "zerolinewidth": 2
          }
         }
        },
        "title": {
         "text": "Time point comparison of BCR_HC 01"
        },
        "width": 2000,
        "xaxis": {
         "title": {
          "text": "Time Point"
         }
        },
        "yaxis": {
         "gridcolor": "lightgray",
         "range": [
          2,
          12
         ],
         "tickfont": {
          "size": 15
         },
         "title": {
          "font": {
           "size": 20
          },
          "text": "Shannon Diversity"
         }
        }
       }
      }
     },
     "metadata": {},
     "output_type": "display_data"
    },
    {
     "data": {
      "application/vnd.plotly.v1+json": {
       "config": {
        "plotlyServerURL": "https://plot.ly"
       },
       "data": [
        {
         "marker": {
          "color": "darkblue"
         },
         "name": "IGM 1 Severity 0",
         "type": "box",
         "x": [
          "IGM",
          "IGM",
          "IGM",
          "IGM",
          "IGM",
          "IGM",
          "IGM",
          "IGM",
          "IGM",
          "IGM",
          "IGM",
          "IGM",
          "IGM",
          "IGM",
          "IGM",
          "IGM",
          "IGM",
          "IGM",
          "IGM",
          "IGM",
          "IGM",
          "IGM"
         ],
         "y": [
          7.662139131927243,
          8.34731200091739,
          7.856620795869583,
          7.426429493377162,
          7.948345884412162,
          7.1143299116444325,
          7.930441958894582,
          8.174244507490307,
          7.966695626013383,
          8.65415437082343,
          8.243771610623819,
          8.254811003846616,
          8.375854268320884,
          8.604356894515426,
          7.843336651238603,
          9.71457246598966,
          8.570613265408232,
          7.866166604593435,
          9.080678707166218,
          9.35127463202001,
          9.083381673471196,
          8.351836148982693
         ]
        },
        {
         "marker": {
          "color": "orange"
         },
         "name": "IGM 1 Severity 2",
         "type": "box",
         "x": [
          "IGM",
          "IGM"
         ],
         "y": [
          8.4416467421941,
          8.67953982660505
         ]
        },
        {
         "marker": {
          "color": "orange"
         },
         "name": "IGM 2 Severity 2",
         "type": "box",
         "x": [
          "IGM",
          "IGM",
          "IGM"
         ],
         "y": [
          9.034723248297592,
          8.08775194412302,
          9.47304574730611
         ]
        },
        {
         "marker": {
          "color": "orange"
         },
         "name": "IGM 3 Severity 2",
         "type": "box",
         "x": [
          "IGM"
         ],
         "y": [
          9.76433864147946
         ]
        },
        {
         "marker": {
          "color": "orange"
         },
         "name": "IGM 4 Severity 2",
         "type": "box",
         "x": [
          "IGM",
          "IGM"
         ],
         "y": [
          6.847462714062154,
          8.80034303143257
         ]
        },
        {
         "marker": {
          "color": "tomato"
         },
         "name": "IGM 1 Severity 3",
         "type": "box",
         "x": [
          "IGM",
          "IGM",
          "IGM",
          "IGM",
          "IGM",
          "IGM",
          "IGM",
          "IGM",
          "IGM"
         ],
         "y": [
          7.955533219555028,
          8.726774419382151,
          5.294845245398011,
          5.440007126760473,
          6.924139244639661,
          7.851718071555406,
          7.423911012408287,
          9.163864452344368,
          7.817248297018299
         ]
        },
        {
         "marker": {
          "color": "tomato"
         },
         "name": "IGM 2 Severity 3",
         "type": "box",
         "x": [
          "IGM",
          "IGM",
          "IGM",
          "IGM",
          "IGM",
          "IGM",
          "IGM",
          "IGM",
          "IGM"
         ],
         "y": [
          8.47419820090025,
          9.334783888527028,
          7.8478870913128,
          7.948192833786045,
          6.356219669443136,
          9.592232214865389,
          8.856768294286065,
          8.626377393116616,
          6.435316010712731
         ]
        },
        {
         "marker": {
          "color": "tomato"
         },
         "name": "IGM 3 Severity 3",
         "type": "box",
         "x": [
          "IGM",
          "IGM",
          "IGM",
          "IGM",
          "IGM",
          "IGM",
          "IGM",
          "IGM"
         ],
         "y": [
          8.5477100492801,
          9.28253939720865,
          8.249884978353663,
          9.54326423694438,
          7.553813291948584,
          8.701273308857596,
          8.747030423776843,
          7.933890523909177
         ]
        },
        {
         "marker": {
          "color": "tomato"
         },
         "name": "IGM 4 Severity 3",
         "type": "box",
         "x": [
          "IGM",
          "IGM",
          "IGM",
          "IGM",
          "IGM",
          "IGM",
          "IGM"
         ],
         "y": [
          9.794299126459908,
          8.470250540181524,
          8.91165632983443,
          6.7047232704578885,
          8.802126998594487,
          8.695527099934365,
          8.076908306246668
         ]
        },
        {
         "marker": {
          "color": "brown"
         },
         "name": "IGM 1 Severity 4",
         "type": "box",
         "x": [
          "IGM",
          "IGM",
          "IGM",
          "IGM",
          "IGM",
          "IGM",
          "IGM",
          "IGM",
          "IGM",
          "IGM"
         ],
         "y": [
          3.443338722457307,
          4.4919533900294,
          5.727563521774155,
          4.494736138977748,
          6.456359191368181,
          8.66605405986679,
          8.16834866044558,
          6.195971141292548,
          7.722717277418895,
          8.340287586360068
         ]
        },
        {
         "marker": {
          "color": "brown"
         },
         "name": "IGM 2 Severity 4",
         "type": "box",
         "x": [
          "IGM",
          "IGM",
          "IGM",
          "IGM",
          "IGM",
          "IGM",
          "IGM",
          "IGM",
          "IGM",
          "IGM",
          "IGM",
          "IGM",
          "IGM",
          "IGM",
          "IGM",
          "IGM"
         ],
         "y": [
          5.364016987093159,
          7.258370457453999,
          7.770553971852814,
          5.627306079438025,
          8.032269313018626,
          7.903917290112298,
          6.021338691294799,
          8.388226020982241,
          4.816317394825544,
          8.471301674028458,
          8.818604766506683,
          8.155342878551307,
          6.207360293775323,
          5.505349798816826,
          7.305917057651665,
          6.065691302306347
         ]
        },
        {
         "marker": {
          "color": "brown"
         },
         "name": "IGM 3 Severity 4",
         "type": "box",
         "x": [
          "IGM",
          "IGM",
          "IGM",
          "IGM",
          "IGM",
          "IGM",
          "IGM",
          "IGM",
          "IGM",
          "IGM",
          "IGM",
          "IGM",
          "IGM"
         ],
         "y": [
          8.460904981145559,
          8.671946378200463,
          7.106293032046152,
          7.649841794741072,
          8.136164820230174,
          7.201422359561458,
          7.094320666290984,
          8.97225055072856,
          8.631627437793703,
          7.48476176538245,
          7.389491061461967,
          8.539814935038336,
          7.721806285563003
         ]
        },
        {
         "marker": {
          "color": "brown"
         },
         "name": "IGM 4 Severity 4",
         "type": "box",
         "x": [
          "IGM",
          "IGM",
          "IGM",
          "IGM",
          "IGM",
          "IGM",
          "IGM",
          "IGM"
         ],
         "y": [
          4.672729493924368,
          7.325496945625402,
          9.075275309950456,
          9.80291268550651,
          8.636924789339957,
          5.410745047980305,
          8.332041144339545,
          8.051802926254492
         ]
        },
        {
         "marker": {
          "color": "darkblue"
         },
         "name": "IGG 1 Severity 0",
         "type": "box",
         "x": [
          "IGG",
          "IGG",
          "IGG",
          "IGG",
          "IGG",
          "IGG",
          "IGG",
          "IGG",
          "IGG",
          "IGG",
          "IGG",
          "IGG",
          "IGG",
          "IGG",
          "IGG",
          "IGG",
          "IGG",
          "IGG",
          "IGG",
          "IGG",
          "IGG",
          "IGG"
         ],
         "y": [
          6.070235635083509,
          5.871689922113368,
          4.961955102667262,
          5.492646653613487,
          4.978291626780091,
          4.901068038849346,
          4.212053308291229,
          5.530278696903556,
          5.149912292767826,
          5.139364749804442,
          4.70913904668343,
          4.66162077782111,
          4.948338029762062,
          6.023813736754764,
          6.070241583546396,
          6.984098720375586,
          6.271660483971434,
          5.303232472481758,
          5.972012623085214,
          6.51930497945972,
          5.839773872162244,
          6.241207706592717
         ]
        },
        {
         "marker": {
          "color": "orange"
         },
         "name": "IGG 1 Severity 2",
         "type": "box",
         "x": [
          "IGG",
          "IGG"
         ],
         "y": [
          5.547574069874434,
          5.847541714647775
         ]
        },
        {
         "marker": {
          "color": "orange"
         },
         "name": "IGG 2 Severity 2",
         "type": "box",
         "x": [
          "IGG",
          "IGG",
          "IGG"
         ],
         "y": [
          5.977907863126693,
          6.691727052611333,
          6.412390389890652
         ]
        },
        {
         "marker": {
          "color": "orange"
         },
         "name": "IGG 3 Severity 2",
         "type": "box",
         "x": [
          "IGG"
         ],
         "y": [
          6.537117495275265
         ]
        },
        {
         "marker": {
          "color": "orange"
         },
         "name": "IGG 4 Severity 2",
         "type": "box",
         "x": [
          "IGG",
          "IGG"
         ],
         "y": [
          4.985045046935227,
          6.34555251403549
         ]
        },
        {
         "marker": {
          "color": "tomato"
         },
         "name": "IGG 1 Severity 3",
         "type": "box",
         "x": [
          "IGG",
          "IGG",
          "IGG",
          "IGG",
          "IGG",
          "IGG",
          "IGG",
          "IGG",
          "IGG"
         ],
         "y": [
          5.945678012206287,
          6.461071896646824,
          5.658680717645432,
          4.190424566944391,
          5.531594583381949,
          4.630778095003548,
          6.1598597370575385,
          5.2345979040378685,
          6.551355159900392
         ]
        },
        {
         "marker": {
          "color": "tomato"
         },
         "name": "IGG 2 Severity 3",
         "type": "box",
         "x": [
          "IGG",
          "IGG",
          "IGG",
          "IGG",
          "IGG",
          "IGG",
          "IGG",
          "IGG",
          "IGG"
         ],
         "y": [
          5.564989570104548,
          6.295795587582952,
          6.012224427975296,
          6.261872947166472,
          6.639059089724404,
          5.789974888906484,
          6.039977135353887,
          5.573052804930103,
          6.069629914236363
         ]
        },
        {
         "marker": {
          "color": "tomato"
         },
         "name": "IGG 3 Severity 3",
         "type": "box",
         "x": [
          "IGG",
          "IGG",
          "IGG",
          "IGG",
          "IGG",
          "IGG",
          "IGG",
          "IGG"
         ],
         "y": [
          5.801787411600215,
          5.962071237965099,
          6.483452122657529,
          6.271010220658931,
          5.565591453450886,
          5.266246186333981,
          6.350667710679252,
          5.440598128214186
         ]
        },
        {
         "marker": {
          "color": "tomato"
         },
         "name": "IGG 4 Severity 3",
         "type": "box",
         "x": [
          "IGG",
          "IGG",
          "IGG",
          "IGG",
          "IGG",
          "IGG",
          "IGG"
         ],
         "y": [
          6.272579182980429,
          6.511193802472134,
          6.339771503235377,
          5.48920736051824,
          5.57600658694932,
          6.974852493774947,
          5.025685505811608
         ]
        },
        {
         "marker": {
          "color": "brown"
         },
         "name": "IGG 1 Severity 4",
         "type": "box",
         "x": [
          "IGG",
          "IGG",
          "IGG",
          "IGG",
          "IGG",
          "IGG",
          "IGG",
          "IGG",
          "IGG",
          "IGG"
         ],
         "y": [
          3.1587547206623805,
          4.331173686768286,
          5.463285267047183,
          2.5927517482826654,
          6.743173141763109,
          6.002249841551215,
          6.070998656229127,
          5.57870193329069,
          5.50224579381369,
          6.23550234551119
         ]
        },
        {
         "marker": {
          "color": "brown"
         },
         "name": "IGG 2 Severity 4",
         "type": "box",
         "x": [
          "IGG",
          "IGG",
          "IGG",
          "IGG",
          "IGG",
          "IGG",
          "IGG",
          "IGG",
          "IGG",
          "IGG",
          "IGG",
          "IGG",
          "IGG",
          "IGG",
          "IGG",
          "IGG"
         ],
         "y": [
          4.970513262613966,
          5.969130337985199,
          6.657042107436095,
          5.576636582758942,
          3.908310841500129,
          5.708812048069252,
          6.2947742059719625,
          6.579750853440704,
          4.441541139169204,
          5.313149034077924,
          6.142725650078055,
          5.536675995090033,
          4.987249285026134,
          5.618297548336597,
          6.09643476670321,
          5.716830777548431
         ]
        },
        {
         "marker": {
          "color": "brown"
         },
         "name": "IGG 3 Severity 4",
         "type": "box",
         "x": [
          "IGG",
          "IGG",
          "IGG",
          "IGG",
          "IGG",
          "IGG",
          "IGG",
          "IGG",
          "IGG",
          "IGG",
          "IGG",
          "IGG",
          "IGG"
         ],
         "y": [
          5.651761266366453,
          5.436667477875053,
          6.250263993874766,
          5.462535062805353,
          5.750987419841088,
          5.846829715756506,
          4.777265016217766,
          5.2676162269184434,
          5.730659026036115,
          4.721168426442798,
          6.83490456796959,
          5.909121405433486,
          6.032856781596648
         ]
        },
        {
         "marker": {
          "color": "brown"
         },
         "name": "IGG 4 Severity 4",
         "type": "box",
         "x": [
          "IGG",
          "IGG",
          "IGG",
          "IGG",
          "IGG",
          "IGG",
          "IGG",
          "IGG"
         ],
         "y": [
          4.807708664342483,
          6.855706249045034,
          5.615850468384784,
          6.476862834233657,
          5.936966107471006,
          4.129963405612889,
          6.780240200779903,
          5.9270469782686055
         ]
        }
       ],
       "layout": {
        "boxmode": "group",
        "height": 500,
        "plot_bgcolor": "rgba(255, 255, 255, 1)",
        "template": {
         "data": {
          "bar": [
           {
            "error_x": {
             "color": "#2a3f5f"
            },
            "error_y": {
             "color": "#2a3f5f"
            },
            "marker": {
             "line": {
              "color": "#E5ECF6",
              "width": 0.5
             },
             "pattern": {
              "fillmode": "overlay",
              "size": 10,
              "solidity": 0.2
             }
            },
            "type": "bar"
           }
          ],
          "barpolar": [
           {
            "marker": {
             "line": {
              "color": "#E5ECF6",
              "width": 0.5
             },
             "pattern": {
              "fillmode": "overlay",
              "size": 10,
              "solidity": 0.2
             }
            },
            "type": "barpolar"
           }
          ],
          "carpet": [
           {
            "aaxis": {
             "endlinecolor": "#2a3f5f",
             "gridcolor": "white",
             "linecolor": "white",
             "minorgridcolor": "white",
             "startlinecolor": "#2a3f5f"
            },
            "baxis": {
             "endlinecolor": "#2a3f5f",
             "gridcolor": "white",
             "linecolor": "white",
             "minorgridcolor": "white",
             "startlinecolor": "#2a3f5f"
            },
            "type": "carpet"
           }
          ],
          "choropleth": [
           {
            "colorbar": {
             "outlinewidth": 0,
             "ticks": ""
            },
            "type": "choropleth"
           }
          ],
          "contour": [
           {
            "colorbar": {
             "outlinewidth": 0,
             "ticks": ""
            },
            "colorscale": [
             [
              0,
              "#0d0887"
             ],
             [
              0.1111111111111111,
              "#46039f"
             ],
             [
              0.2222222222222222,
              "#7201a8"
             ],
             [
              0.3333333333333333,
              "#9c179e"
             ],
             [
              0.4444444444444444,
              "#bd3786"
             ],
             [
              0.5555555555555556,
              "#d8576b"
             ],
             [
              0.6666666666666666,
              "#ed7953"
             ],
             [
              0.7777777777777778,
              "#fb9f3a"
             ],
             [
              0.8888888888888888,
              "#fdca26"
             ],
             [
              1,
              "#f0f921"
             ]
            ],
            "type": "contour"
           }
          ],
          "contourcarpet": [
           {
            "colorbar": {
             "outlinewidth": 0,
             "ticks": ""
            },
            "type": "contourcarpet"
           }
          ],
          "heatmap": [
           {
            "colorbar": {
             "outlinewidth": 0,
             "ticks": ""
            },
            "colorscale": [
             [
              0,
              "#0d0887"
             ],
             [
              0.1111111111111111,
              "#46039f"
             ],
             [
              0.2222222222222222,
              "#7201a8"
             ],
             [
              0.3333333333333333,
              "#9c179e"
             ],
             [
              0.4444444444444444,
              "#bd3786"
             ],
             [
              0.5555555555555556,
              "#d8576b"
             ],
             [
              0.6666666666666666,
              "#ed7953"
             ],
             [
              0.7777777777777778,
              "#fb9f3a"
             ],
             [
              0.8888888888888888,
              "#fdca26"
             ],
             [
              1,
              "#f0f921"
             ]
            ],
            "type": "heatmap"
           }
          ],
          "heatmapgl": [
           {
            "colorbar": {
             "outlinewidth": 0,
             "ticks": ""
            },
            "colorscale": [
             [
              0,
              "#0d0887"
             ],
             [
              0.1111111111111111,
              "#46039f"
             ],
             [
              0.2222222222222222,
              "#7201a8"
             ],
             [
              0.3333333333333333,
              "#9c179e"
             ],
             [
              0.4444444444444444,
              "#bd3786"
             ],
             [
              0.5555555555555556,
              "#d8576b"
             ],
             [
              0.6666666666666666,
              "#ed7953"
             ],
             [
              0.7777777777777778,
              "#fb9f3a"
             ],
             [
              0.8888888888888888,
              "#fdca26"
             ],
             [
              1,
              "#f0f921"
             ]
            ],
            "type": "heatmapgl"
           }
          ],
          "histogram": [
           {
            "marker": {
             "pattern": {
              "fillmode": "overlay",
              "size": 10,
              "solidity": 0.2
             }
            },
            "type": "histogram"
           }
          ],
          "histogram2d": [
           {
            "colorbar": {
             "outlinewidth": 0,
             "ticks": ""
            },
            "colorscale": [
             [
              0,
              "#0d0887"
             ],
             [
              0.1111111111111111,
              "#46039f"
             ],
             [
              0.2222222222222222,
              "#7201a8"
             ],
             [
              0.3333333333333333,
              "#9c179e"
             ],
             [
              0.4444444444444444,
              "#bd3786"
             ],
             [
              0.5555555555555556,
              "#d8576b"
             ],
             [
              0.6666666666666666,
              "#ed7953"
             ],
             [
              0.7777777777777778,
              "#fb9f3a"
             ],
             [
              0.8888888888888888,
              "#fdca26"
             ],
             [
              1,
              "#f0f921"
             ]
            ],
            "type": "histogram2d"
           }
          ],
          "histogram2dcontour": [
           {
            "colorbar": {
             "outlinewidth": 0,
             "ticks": ""
            },
            "colorscale": [
             [
              0,
              "#0d0887"
             ],
             [
              0.1111111111111111,
              "#46039f"
             ],
             [
              0.2222222222222222,
              "#7201a8"
             ],
             [
              0.3333333333333333,
              "#9c179e"
             ],
             [
              0.4444444444444444,
              "#bd3786"
             ],
             [
              0.5555555555555556,
              "#d8576b"
             ],
             [
              0.6666666666666666,
              "#ed7953"
             ],
             [
              0.7777777777777778,
              "#fb9f3a"
             ],
             [
              0.8888888888888888,
              "#fdca26"
             ],
             [
              1,
              "#f0f921"
             ]
            ],
            "type": "histogram2dcontour"
           }
          ],
          "mesh3d": [
           {
            "colorbar": {
             "outlinewidth": 0,
             "ticks": ""
            },
            "type": "mesh3d"
           }
          ],
          "parcoords": [
           {
            "line": {
             "colorbar": {
              "outlinewidth": 0,
              "ticks": ""
             }
            },
            "type": "parcoords"
           }
          ],
          "pie": [
           {
            "automargin": true,
            "type": "pie"
           }
          ],
          "scatter": [
           {
            "fillpattern": {
             "fillmode": "overlay",
             "size": 10,
             "solidity": 0.2
            },
            "type": "scatter"
           }
          ],
          "scatter3d": [
           {
            "line": {
             "colorbar": {
              "outlinewidth": 0,
              "ticks": ""
             }
            },
            "marker": {
             "colorbar": {
              "outlinewidth": 0,
              "ticks": ""
             }
            },
            "type": "scatter3d"
           }
          ],
          "scattercarpet": [
           {
            "marker": {
             "colorbar": {
              "outlinewidth": 0,
              "ticks": ""
             }
            },
            "type": "scattercarpet"
           }
          ],
          "scattergeo": [
           {
            "marker": {
             "colorbar": {
              "outlinewidth": 0,
              "ticks": ""
             }
            },
            "type": "scattergeo"
           }
          ],
          "scattergl": [
           {
            "marker": {
             "colorbar": {
              "outlinewidth": 0,
              "ticks": ""
             }
            },
            "type": "scattergl"
           }
          ],
          "scattermapbox": [
           {
            "marker": {
             "colorbar": {
              "outlinewidth": 0,
              "ticks": ""
             }
            },
            "type": "scattermapbox"
           }
          ],
          "scatterpolar": [
           {
            "marker": {
             "colorbar": {
              "outlinewidth": 0,
              "ticks": ""
             }
            },
            "type": "scatterpolar"
           }
          ],
          "scatterpolargl": [
           {
            "marker": {
             "colorbar": {
              "outlinewidth": 0,
              "ticks": ""
             }
            },
            "type": "scatterpolargl"
           }
          ],
          "scatterternary": [
           {
            "marker": {
             "colorbar": {
              "outlinewidth": 0,
              "ticks": ""
             }
            },
            "type": "scatterternary"
           }
          ],
          "surface": [
           {
            "colorbar": {
             "outlinewidth": 0,
             "ticks": ""
            },
            "colorscale": [
             [
              0,
              "#0d0887"
             ],
             [
              0.1111111111111111,
              "#46039f"
             ],
             [
              0.2222222222222222,
              "#7201a8"
             ],
             [
              0.3333333333333333,
              "#9c179e"
             ],
             [
              0.4444444444444444,
              "#bd3786"
             ],
             [
              0.5555555555555556,
              "#d8576b"
             ],
             [
              0.6666666666666666,
              "#ed7953"
             ],
             [
              0.7777777777777778,
              "#fb9f3a"
             ],
             [
              0.8888888888888888,
              "#fdca26"
             ],
             [
              1,
              "#f0f921"
             ]
            ],
            "type": "surface"
           }
          ],
          "table": [
           {
            "cells": {
             "fill": {
              "color": "#EBF0F8"
             },
             "line": {
              "color": "white"
             }
            },
            "header": {
             "fill": {
              "color": "#C8D4E3"
             },
             "line": {
              "color": "white"
             }
            },
            "type": "table"
           }
          ]
         },
         "layout": {
          "annotationdefaults": {
           "arrowcolor": "#2a3f5f",
           "arrowhead": 0,
           "arrowwidth": 1
          },
          "autotypenumbers": "strict",
          "coloraxis": {
           "colorbar": {
            "outlinewidth": 0,
            "ticks": ""
           }
          },
          "colorscale": {
           "diverging": [
            [
             0,
             "#8e0152"
            ],
            [
             0.1,
             "#c51b7d"
            ],
            [
             0.2,
             "#de77ae"
            ],
            [
             0.3,
             "#f1b6da"
            ],
            [
             0.4,
             "#fde0ef"
            ],
            [
             0.5,
             "#f7f7f7"
            ],
            [
             0.6,
             "#e6f5d0"
            ],
            [
             0.7,
             "#b8e186"
            ],
            [
             0.8,
             "#7fbc41"
            ],
            [
             0.9,
             "#4d9221"
            ],
            [
             1,
             "#276419"
            ]
           ],
           "sequential": [
            [
             0,
             "#0d0887"
            ],
            [
             0.1111111111111111,
             "#46039f"
            ],
            [
             0.2222222222222222,
             "#7201a8"
            ],
            [
             0.3333333333333333,
             "#9c179e"
            ],
            [
             0.4444444444444444,
             "#bd3786"
            ],
            [
             0.5555555555555556,
             "#d8576b"
            ],
            [
             0.6666666666666666,
             "#ed7953"
            ],
            [
             0.7777777777777778,
             "#fb9f3a"
            ],
            [
             0.8888888888888888,
             "#fdca26"
            ],
            [
             1,
             "#f0f921"
            ]
           ],
           "sequentialminus": [
            [
             0,
             "#0d0887"
            ],
            [
             0.1111111111111111,
             "#46039f"
            ],
            [
             0.2222222222222222,
             "#7201a8"
            ],
            [
             0.3333333333333333,
             "#9c179e"
            ],
            [
             0.4444444444444444,
             "#bd3786"
            ],
            [
             0.5555555555555556,
             "#d8576b"
            ],
            [
             0.6666666666666666,
             "#ed7953"
            ],
            [
             0.7777777777777778,
             "#fb9f3a"
            ],
            [
             0.8888888888888888,
             "#fdca26"
            ],
            [
             1,
             "#f0f921"
            ]
           ]
          },
          "colorway": [
           "#636efa",
           "#EF553B",
           "#00cc96",
           "#ab63fa",
           "#FFA15A",
           "#19d3f3",
           "#FF6692",
           "#B6E880",
           "#FF97FF",
           "#FECB52"
          ],
          "font": {
           "color": "#2a3f5f"
          },
          "geo": {
           "bgcolor": "white",
           "lakecolor": "white",
           "landcolor": "#E5ECF6",
           "showlakes": true,
           "showland": true,
           "subunitcolor": "white"
          },
          "hoverlabel": {
           "align": "left"
          },
          "hovermode": "closest",
          "mapbox": {
           "style": "light"
          },
          "paper_bgcolor": "white",
          "plot_bgcolor": "#E5ECF6",
          "polar": {
           "angularaxis": {
            "gridcolor": "white",
            "linecolor": "white",
            "ticks": ""
           },
           "bgcolor": "#E5ECF6",
           "radialaxis": {
            "gridcolor": "white",
            "linecolor": "white",
            "ticks": ""
           }
          },
          "scene": {
           "xaxis": {
            "backgroundcolor": "#E5ECF6",
            "gridcolor": "white",
            "gridwidth": 2,
            "linecolor": "white",
            "showbackground": true,
            "ticks": "",
            "zerolinecolor": "white"
           },
           "yaxis": {
            "backgroundcolor": "#E5ECF6",
            "gridcolor": "white",
            "gridwidth": 2,
            "linecolor": "white",
            "showbackground": true,
            "ticks": "",
            "zerolinecolor": "white"
           },
           "zaxis": {
            "backgroundcolor": "#E5ECF6",
            "gridcolor": "white",
            "gridwidth": 2,
            "linecolor": "white",
            "showbackground": true,
            "ticks": "",
            "zerolinecolor": "white"
           }
          },
          "shapedefaults": {
           "line": {
            "color": "#2a3f5f"
           }
          },
          "ternary": {
           "aaxis": {
            "gridcolor": "white",
            "linecolor": "white",
            "ticks": ""
           },
           "baxis": {
            "gridcolor": "white",
            "linecolor": "white",
            "ticks": ""
           },
           "bgcolor": "#E5ECF6",
           "caxis": {
            "gridcolor": "white",
            "linecolor": "white",
            "ticks": ""
           }
          },
          "title": {
           "x": 0.05
          },
          "xaxis": {
           "automargin": true,
           "gridcolor": "white",
           "linecolor": "white",
           "ticks": "",
           "title": {
            "standoff": 15
           },
           "zerolinecolor": "white",
           "zerolinewidth": 2
          },
          "yaxis": {
           "automargin": true,
           "gridcolor": "white",
           "linecolor": "white",
           "ticks": "",
           "title": {
            "standoff": 15
           },
           "zerolinecolor": "white",
           "zerolinewidth": 2
          }
         }
        },
        "title": {
         "text": "Time point comparison of BCR_HC 02"
        },
        "width": 2000,
        "xaxis": {
         "title": {
          "text": "Time Point"
         }
        },
        "yaxis": {
         "gridcolor": "lightgray",
         "range": [
          2,
          12
         ],
         "tickfont": {
          "size": 15
         },
         "title": {
          "font": {
           "size": 20
          },
          "text": "Shannon Diversity"
         }
        }
       }
      }
     },
     "metadata": {},
     "output_type": "display_data"
    },
    {
     "data": {
      "application/vnd.plotly.v1+json": {
       "config": {
        "plotlyServerURL": "https://plot.ly"
       },
       "data": [
        {
         "marker": {
          "color": "darkblue"
         },
         "name": "IGK 1 Severity 0",
         "type": "box",
         "x": [
          "IGK",
          "IGK",
          "IGK",
          "IGK",
          "IGK",
          "IGK",
          "IGK",
          "IGK",
          "IGK",
          "IGK",
          "IGK",
          "IGK",
          "IGK",
          "IGK",
          "IGK",
          "IGK",
          "IGK",
          "IGK",
          "IGK",
          "IGK",
          "IGK",
          "IGK",
          "IGK",
          "IGK",
          "IGK",
          "IGK",
          "IGK",
          "IGK",
          "IGK",
          "IGK",
          "IGK",
          "IGK",
          "IGK",
          "IGK",
          "IGK",
          "IGK",
          "IGK",
          "IGK",
          "IGK",
          "IGK",
          "IGK",
          "IGK",
          "IGK",
          "IGK",
          "IGK",
          "IGK",
          "IGK",
          "IGK",
          "IGK",
          "IGK",
          "IGK",
          "IGK",
          "IGK",
          "IGK",
          "IGK",
          "IGK",
          "IGK",
          "IGK",
          "IGK"
         ],
         "y": [
          8.012084088395852,
          7.899935386868606,
          8.013467549586743,
          7.947139161302891,
          7.553258855147979,
          7.747147286883274,
          7.857983423331222,
          8.29265999920396,
          7.431680194943631,
          7.856512033832581,
          7.774091904341136,
          6.950870098440387,
          7.656685793403872,
          7.737696880182108,
          7.605716084076428,
          7.65437883187487,
          7.913494820916683,
          7.583212521817537,
          7.96654931486484,
          6.958396987225669,
          7.252085330929131,
          6.138704569086919,
          7.004651926322378,
          7.297563281485576,
          6.548607464529967,
          5.738429807060927,
          6.080080130838855,
          6.242690543566088,
          6.543521675895429,
          6.4327316312968295,
          6.203039059841029,
          6.400258213177697,
          7.704586969218063,
          7.221709433685799,
          7.203567015039607,
          5.644869572118358,
          7.154956067366726,
          6.650932348173031,
          7.397568684096492,
          6.85101070845613,
          6.003799385982179,
          6.986940292603884,
          7.597151196110218,
          7.517993604131022,
          6.643575389507057,
          6.506502144665191,
          7.473905078602705,
          7.627401482525516,
          7.486551726463256,
          8.022967454198826,
          7.148665352052396,
          7.624483775069035,
          8.294456428155238,
          7.459804260110131,
          7.573612324455606,
          7.972614965659161,
          7.862791575862798,
          7.380581543260234,
          7.91035063853028
         ]
        },
        {
         "marker": {
          "color": "darkblue"
         },
         "name": "IGK 2 Severity 0",
         "type": "box",
         "x": [
          "IGK",
          "IGK"
         ],
         "y": [
          7.74620956517903,
          7.620636894203019
         ]
        },
        {
         "marker": {
          "color": "teal"
         },
         "name": "IGK 1 Severity 1",
         "type": "box",
         "x": [
          "IGK",
          "IGK",
          "IGK",
          "IGK",
          "IGK",
          "IGK",
          "IGK",
          "IGK",
          "IGK",
          "IGK",
          "IGK",
          "IGK",
          "IGK",
          "IGK",
          "IGK",
          "IGK",
          "IGK",
          "IGK",
          "IGK",
          "IGK",
          "IGK",
          "IGK",
          "IGK",
          "IGK",
          "IGK",
          "IGK",
          "IGK",
          "IGK",
          "IGK",
          "IGK",
          "IGK",
          "IGK",
          "IGK",
          "IGK",
          "IGK",
          "IGK",
          "IGK",
          "IGK",
          "IGK",
          "IGK",
          "IGK",
          "IGK",
          "IGK",
          "IGK",
          "IGK",
          "IGK",
          "IGK",
          "IGK",
          "IGK",
          "IGK",
          "IGK",
          "IGK",
          "IGK",
          "IGK",
          "IGK",
          "IGK",
          "IGK",
          "IGK",
          "IGK",
          "IGK",
          "IGK",
          "IGK",
          "IGK",
          "IGK",
          "IGK",
          "IGK",
          "IGK",
          "IGK",
          "IGK",
          "IGK",
          "IGK",
          "IGK",
          "IGK",
          "IGK",
          "IGK",
          "IGK",
          "IGK",
          "IGK",
          "IGK",
          "IGK",
          "IGK",
          "IGK",
          "IGK",
          "IGK",
          "IGK"
         ],
         "y": [
          7.937936129300804,
          7.548379583208869,
          6.951202055173365,
          7.475414248666819,
          7.189089722609346,
          7.934112072599927,
          6.581145093985164,
          7.328096843295902,
          7.79827707540696,
          7.443324517581064,
          7.084173389383702,
          7.352568793740292,
          7.391030534341456,
          6.956061541486431,
          7.128929872928592,
          6.893191743137127,
          7.037024888813709,
          6.8873299896597375,
          7.773294559064144,
          6.858865736056966,
          7.510942086222861,
          8.09317650248253,
          6.824210547318395,
          7.525405031542557,
          7.929617367227075,
          5.912169380867854,
          6.71658495034318,
          6.193638769579692,
          7.160164541468087,
          6.737983277142749,
          6.604226911150136,
          6.543570918344472,
          6.486184453260554,
          6.569287828604152,
          6.433836410064669,
          7.5047636787698035,
          7.142774756001224,
          7.627554111783425,
          6.595499227513951,
          7.771983629805656,
          6.805729747144344,
          7.827942995382451,
          7.036673889048219,
          7.597757883721539,
          6.711154884957072,
          6.255954243162723,
          6.750013412894723,
          7.077478262378594,
          7.974651251960051,
          7.735706798254058,
          7.708073676623125,
          7.089869330232808,
          7.347333975971555,
          7.422714041895779,
          7.464715733750372,
          7.349456638734781,
          7.545252487756384,
          6.416476911761077,
          6.570047396201466,
          7.212398100012335,
          7.614346024597874,
          6.607450558412398,
          7.356440904071695,
          7.418211790417114,
          7.04243745671351,
          7.295947187299252,
          7.849035764420851,
          1.155707751328829,
          7.413718815860593,
          7.697500991712877,
          7.416578022381367,
          7.939883656971313,
          7.215036396506916,
          7.868919382177369,
          6.394064065809565,
          7.7237580054683,
          7.647391675741318,
          7.248647725467983,
          7.209334355620968,
          7.503288106092445,
          7.614288127976358,
          7.751838951500197,
          7.0643647833541605,
          8.083434664323548,
          6.989883410998201
         ]
        },
        {
         "marker": {
          "color": "teal"
         },
         "name": "IGK 2 Severity 1",
         "type": "box",
         "x": [
          "IGK",
          "IGK",
          "IGK",
          "IGK",
          "IGK",
          "IGK",
          "IGK",
          "IGK",
          "IGK",
          "IGK",
          "IGK",
          "IGK",
          "IGK",
          "IGK",
          "IGK",
          "IGK",
          "IGK",
          "IGK",
          "IGK",
          "IGK",
          "IGK",
          "IGK",
          "IGK",
          "IGK",
          "IGK",
          "IGK",
          "IGK",
          "IGK",
          "IGK",
          "IGK",
          "IGK",
          "IGK",
          "IGK",
          "IGK",
          "IGK",
          "IGK",
          "IGK",
          "IGK",
          "IGK",
          "IGK",
          "IGK",
          "IGK",
          "IGK"
         ],
         "y": [
          7.051237869008613,
          6.685350548161014,
          6.182834931983397,
          7.211239571987467,
          6.962745930072082,
          6.355594467679052,
          6.771030632821237,
          6.798211382652982,
          7.869644384381831,
          7.663098702231024,
          6.810572232537557,
          7.286025982048184,
          6.795205542885369,
          6.994402507863841,
          6.679492108386297,
          6.5274487333286055,
          5.584820621487543,
          6.738358075409552,
          6.978116181753025,
          7.378527389106529,
          7.120498932726854,
          6.46276554851146,
          7.319138304872855,
          6.554569848750262,
          7.0643789212640895,
          6.000341325448991,
          6.1410880419995255,
          7.564811721683706,
          6.920562160230832,
          7.65782478805338,
          0.9320738874454944,
          7.95947616868301,
          7.138668616925793,
          7.424370448651808,
          6.657947815399621,
          7.772514974359989,
          6.777522273429703,
          6.428690641475581,
          7.596948073783254,
          5.534784731806843,
          7.320582255955284,
          7.244698683814092,
          7.646930725379535
         ]
        },
        {
         "marker": {
          "color": "teal"
         },
         "name": "IGK 3 Severity 1",
         "type": "box",
         "x": [
          "IGK",
          "IGK",
          "IGK",
          "IGK",
          "IGK",
          "IGK",
          "IGK",
          "IGK",
          "IGK",
          "IGK",
          "IGK",
          "IGK",
          "IGK",
          "IGK",
          "IGK",
          "IGK",
          "IGK",
          "IGK",
          "IGK",
          "IGK",
          "IGK",
          "IGK",
          "IGK",
          "IGK",
          "IGK",
          "IGK",
          "IGK",
          "IGK",
          "IGK",
          "IGK",
          "IGK",
          "IGK",
          "IGK",
          "IGK",
          "IGK",
          "IGK",
          "IGK",
          "IGK",
          "IGK",
          "IGK",
          "IGK",
          "IGK",
          "IGK",
          "IGK",
          "IGK",
          "IGK",
          "IGK",
          "IGK",
          "IGK",
          "IGK",
          "IGK",
          "IGK",
          "IGK",
          "IGK",
          "IGK",
          "IGK",
          "IGK",
          "IGK",
          "IGK",
          "IGK",
          "IGK",
          "IGK",
          "IGK",
          "IGK",
          "IGK",
          "IGK",
          "IGK"
         ],
         "y": [
          8.319249141517812,
          6.706479859593872,
          7.965883095108074,
          7.860167462424633,
          5.810104391176695,
          7.325740219217209,
          7.152188214973873,
          7.329850346892382,
          7.596480204168029,
          7.149730555333709,
          7.595513495867837,
          7.257421393048533,
          7.945031321253112,
          6.041041524323131,
          6.822062207898711,
          7.037045842260618,
          6.957030293381151,
          7.050597198637898,
          7.944500750993604,
          7.28079135256144,
          7.538766228992573,
          7.148605574640602,
          7.992620200914098,
          6.53861909507619,
          7.083850658157727,
          7.358850254345047,
          7.102554644757507,
          7.157380545892536,
          6.8166883220594,
          7.407770346099153,
          7.221833624796512,
          8.099015884136653,
          6.925295904946446,
          8.084374409144008,
          6.23853407861641,
          7.472729906276951,
          6.555936457358874,
          6.185971223887045,
          5.857385721519733,
          7.1836978381404215,
          6.960886465933251,
          7.1750524997605405,
          7.498176347974397,
          6.867542981500874,
          7.070860233097201,
          7.869724749685801,
          6.863735589628746,
          7.843199639580668,
          7.963108825820647,
          7.067456133068458,
          7.279140064150362,
          7.632379611022687,
          7.240320073262524,
          7.72506961057547,
          7.767135339100988,
          6.776710300405121,
          6.577260508391642,
          7.254737286987427,
          7.96559930053262,
          7.68547401171177,
          7.566610401528332,
          7.647639487031983,
          7.188949338908708,
          6.545449570634193,
          7.366355918582262,
          7.052192219153874,
          7.112861148755572
         ]
        },
        {
         "marker": {
          "color": "orange"
         },
         "name": "IGK 1 Severity 2",
         "type": "box",
         "x": [
          "IGK",
          "IGK",
          "IGK",
          "IGK",
          "IGK",
          "IGK",
          "IGK",
          "IGK",
          "IGK",
          "IGK",
          "IGK",
          "IGK",
          "IGK",
          "IGK",
          "IGK",
          "IGK",
          "IGK",
          "IGK",
          "IGK",
          "IGK",
          "IGK",
          "IGK",
          "IGK",
          "IGK",
          "IGK",
          "IGK",
          "IGK",
          "IGK",
          "IGK",
          "IGK",
          "IGK",
          "IGK",
          "IGK",
          "IGK",
          "IGK",
          "IGK",
          "IGK",
          "IGK",
          "IGK",
          "IGK",
          "IGK",
          "IGK",
          "IGK",
          "IGK",
          "IGK",
          "IGK",
          "IGK",
          "IGK",
          "IGK",
          "IGK",
          "IGK",
          "IGK",
          "IGK",
          "IGK",
          "IGK",
          "IGK",
          "IGK",
          "IGK",
          "IGK",
          "IGK",
          "IGK",
          "IGK",
          "IGK",
          "IGK",
          "IGK",
          "IGK",
          "IGK",
          "IGK",
          "IGK"
         ],
         "y": [
          7.895742151406682,
          7.578609320835533,
          7.083974542119326,
          6.910228580716213,
          7.61993792550977,
          7.139894666275141,
          6.897404278290475,
          7.540446958449843,
          6.975513387508217,
          6.313877645572099,
          6.46902546737197,
          7.1189166202495535,
          7.127586633200076,
          5.245476277400396,
          7.394628672901573,
          8.080323425273981,
          8.257764953565594,
          7.789154128853389,
          6.428340542645838,
          7.637036258168714,
          6.823798547272284,
          7.102299899956391,
          7.47973506115751,
          6.627409494615273,
          6.722610794033979,
          7.105314274234413,
          6.941840108180374,
          6.186577964703906,
          6.533986776260977,
          7.030032808402141,
          7.121543078935558,
          7.187258626851048,
          7.79095350728508,
          6.9651805597249705,
          7.273558330252145,
          7.230351526289061,
          6.989209479047718,
          7.737105504175353,
          6.940239507061518,
          6.718876593301411,
          7.741375357457065,
          7.562915464802997,
          7.676272936746363,
          6.996447992110275,
          7.220575466485122,
          7.871704035037208,
          7.82615845829171,
          7.413194817690283,
          6.930849903201095,
          6.901366329703533,
          7.744154154684251,
          7.513465931724681,
          7.230266727273524,
          6.67357597030692,
          7.683350800598381,
          6.83298258432296,
          7.844376022601429,
          7.747638480395791,
          7.419151569401939,
          7.491008191198539,
          6.152271991728789,
          7.029109536533157,
          7.290408238535934,
          7.330682921724797,
          7.561064797420687,
          7.184079325072328,
          7.636951448195836,
          5.976924334814289,
          7.489206589278175
         ]
        },
        {
         "marker": {
          "color": "orange"
         },
         "name": "IGK 2 Severity 2",
         "type": "box",
         "x": [
          "IGK",
          "IGK",
          "IGK",
          "IGK",
          "IGK",
          "IGK",
          "IGK",
          "IGK",
          "IGK",
          "IGK",
          "IGK",
          "IGK",
          "IGK",
          "IGK",
          "IGK",
          "IGK",
          "IGK",
          "IGK",
          "IGK",
          "IGK",
          "IGK",
          "IGK",
          "IGK",
          "IGK",
          "IGK",
          "IGK",
          "IGK",
          "IGK",
          "IGK",
          "IGK",
          "IGK",
          "IGK",
          "IGK",
          "IGK",
          "IGK",
          "IGK",
          "IGK",
          "IGK",
          "IGK",
          "IGK",
          "IGK",
          "IGK",
          "IGK",
          "IGK",
          "IGK",
          "IGK",
          "IGK"
         ],
         "y": [
          7.407155650724884,
          6.599680915659624,
          6.87582833792703,
          6.78650072008039,
          6.602752220715429,
          5.741253874253688,
          6.71771884786432,
          6.945426347063244,
          6.83805843611614,
          7.250801074816908,
          6.593534735525506,
          7.303560197399123,
          6.637195616128176,
          7.119778418551143,
          7.003560786931791,
          7.508986721520718,
          6.714725132189122,
          6.827024548105452,
          7.04289541875056,
          6.92158930947967,
          7.400030879584156,
          6.880519757372609,
          5.86419916148168,
          6.699606506793243,
          7.127698085887694,
          6.236661052006005,
          6.255618818842278,
          6.746913485342003,
          6.07798883118293,
          7.267348894353514,
          7.215810075775334,
          6.193912147952574,
          7.353044051424508,
          7.729094156164437,
          7.773299953547789,
          7.102418929313006,
          7.836924681667406,
          7.412132418608074,
          7.514736160510719,
          7.606221763852135,
          6.474499483629272,
          7.157984307643078,
          6.578432142576593,
          6.702084177129647,
          7.710164066397382,
          5.412913786523323,
          7.183753497753036
         ]
        },
        {
         "marker": {
          "color": "orange"
         },
         "name": "IGK 3 Severity 2",
         "type": "box",
         "x": [
          "IGK",
          "IGK",
          "IGK",
          "IGK",
          "IGK",
          "IGK",
          "IGK",
          "IGK",
          "IGK",
          "IGK",
          "IGK",
          "IGK",
          "IGK",
          "IGK",
          "IGK",
          "IGK",
          "IGK",
          "IGK",
          "IGK",
          "IGK",
          "IGK",
          "IGK",
          "IGK",
          "IGK",
          "IGK",
          "IGK",
          "IGK",
          "IGK",
          "IGK",
          "IGK",
          "IGK",
          "IGK",
          "IGK",
          "IGK",
          "IGK",
          "IGK",
          "IGK",
          "IGK",
          "IGK",
          "IGK",
          "IGK",
          "IGK",
          "IGK",
          "IGK"
         ],
         "y": [
          7.011464403941503,
          6.971786821617496,
          6.89718204353543,
          7.373759761966812,
          7.501787220089911,
          6.661534335247252,
          7.435665505930864,
          7.150773453214947,
          5.911354780812335,
          7.033305104867102,
          7.261456367517351,
          7.029767442947663,
          6.589652684134274,
          7.305465964338849,
          6.67859927129009,
          6.681904539132491,
          7.758986346565327,
          7.366816749776673,
          7.421977868238943,
          7.153576237331836,
          7.1364053945088575,
          6.956988025745996,
          6.707924392793726,
          7.57507161364152,
          7.541248938170982,
          6.369353692150528,
          7.405487494686276,
          7.38904660524152,
          7.592460258118187,
          6.511900325062624,
          7.6858332973322705,
          8.004523347083868,
          6.5637550592362,
          7.931383344468877,
          7.1556433362491125,
          6.714002184482602,
          8.136341368845887,
          6.109155448078698,
          7.001747059237085,
          5.533414631474635,
          6.42518184919711,
          7.21576930807939,
          7.695270860192924,
          7.430636175068266
         ]
        },
        {
         "marker": {
          "color": "tomato"
         },
         "name": "IGK 1 Severity 3",
         "type": "box",
         "x": [
          "IGK"
         ],
         "y": [
          6.865182940013459
         ]
        },
        {
         "marker": {
          "color": "tomato"
         },
         "name": "IGK 2 Severity 3",
         "type": "box",
         "x": [
          "IGK"
         ],
         "y": [
          7.480801660576895
         ]
        },
        {
         "marker": {
          "color": "brown"
         },
         "name": "IGK 1 Severity 4",
         "type": "box",
         "x": [
          "IGK"
         ],
         "y": [
          7.223866148569198
         ]
        },
        {
         "marker": {
          "color": "brown"
         },
         "name": "IGK 3 Severity 4",
         "type": "box",
         "x": [
          "IGK"
         ],
         "y": [
          7.13314927265148
         ]
        },
        {
         "marker": {
          "color": "darkblue"
         },
         "name": "IGL 1 Severity 0",
         "type": "box",
         "x": [
          "IGL",
          "IGL",
          "IGL",
          "IGL",
          "IGL",
          "IGL",
          "IGL",
          "IGL",
          "IGL",
          "IGL",
          "IGL",
          "IGL",
          "IGL",
          "IGL",
          "IGL",
          "IGL",
          "IGL",
          "IGL",
          "IGL",
          "IGL",
          "IGL",
          "IGL",
          "IGL",
          "IGL",
          "IGL",
          "IGL",
          "IGL",
          "IGL",
          "IGL",
          "IGL",
          "IGL",
          "IGL",
          "IGL",
          "IGL",
          "IGL",
          "IGL",
          "IGL",
          "IGL",
          "IGL",
          "IGL",
          "IGL",
          "IGL",
          "IGL",
          "IGL",
          "IGL",
          "IGL",
          "IGL",
          "IGL",
          "IGL",
          "IGL",
          "IGL",
          "IGL",
          "IGL",
          "IGL",
          "IGL",
          "IGL",
          "IGL",
          "IGL",
          "IGL"
         ],
         "y": [
          7.829920188214596,
          7.453976455818919,
          7.850579220489578,
          7.55801858558468,
          7.415717056859624,
          7.500249114468132,
          7.695254841225615,
          7.90437663883976,
          7.246667735036188,
          7.593502971020892,
          7.550991750848285,
          6.459418363162567,
          7.084865555083728,
          7.255564288657379,
          7.364907872474614,
          7.401070602433129,
          7.597416414846759,
          7.2454747889270275,
          7.609817012938829,
          6.597572120547011,
          6.820248778714657,
          5.972560705383808,
          6.571871854780227,
          6.870475817244916,
          6.09811778967766,
          5.433275045261114,
          5.919139957909117,
          5.460203054930329,
          6.383150874832576,
          6.124879665739581,
          6.021756878423012,
          5.977295531979633,
          7.310809630112936,
          7.0501258638948014,
          6.877213923622066,
          5.436368347132325,
          7.17347124108205,
          6.074137371980141,
          7.1412031119972585,
          6.299295851382704,
          5.797584427937732,
          6.564290104386503,
          7.2266605209195,
          7.075538203275532,
          6.385192351743013,
          5.86119417871221,
          7.434039750198324,
          7.394940101346107,
          7.331145380127081,
          7.77984499856028,
          7.027153720125869,
          7.449513045357786,
          8.003939035496709,
          6.9822145626951615,
          7.270219876342341,
          7.590413125598967,
          7.695491266313639,
          6.760708898096,
          7.371191724599259
         ]
        },
        {
         "marker": {
          "color": "darkblue"
         },
         "name": "IGL 2 Severity 0",
         "type": "box",
         "x": [
          "IGL",
          "IGL"
         ],
         "y": [
          7.625428082906873,
          7.147715738851203
         ]
        },
        {
         "marker": {
          "color": "teal"
         },
         "name": "IGL 1 Severity 1",
         "type": "box",
         "x": [
          "IGL",
          "IGL",
          "IGL",
          "IGL",
          "IGL",
          "IGL",
          "IGL",
          "IGL",
          "IGL",
          "IGL",
          "IGL",
          "IGL",
          "IGL",
          "IGL",
          "IGL",
          "IGL",
          "IGL",
          "IGL",
          "IGL",
          "IGL",
          "IGL",
          "IGL",
          "IGL",
          "IGL",
          "IGL",
          "IGL",
          "IGL",
          "IGL",
          "IGL",
          "IGL",
          "IGL",
          "IGL",
          "IGL",
          "IGL",
          "IGL",
          "IGL",
          "IGL",
          "IGL",
          "IGL",
          "IGL",
          "IGL",
          "IGL",
          "IGL",
          "IGL",
          "IGL",
          "IGL",
          "IGL",
          "IGL",
          "IGL",
          "IGL",
          "IGL",
          "IGL",
          "IGL",
          "IGL",
          "IGL",
          "IGL",
          "IGL",
          "IGL",
          "IGL",
          "IGL",
          "IGL",
          "IGL",
          "IGL",
          "IGL",
          "IGL",
          "IGL",
          "IGL",
          "IGL",
          "IGL",
          "IGL",
          "IGL",
          "IGL",
          "IGL",
          "IGL",
          "IGL",
          "IGL",
          "IGL",
          "IGL",
          "IGL",
          "IGL",
          "IGL",
          "IGL",
          "IGL",
          "IGL",
          "IGL"
         ],
         "y": [
          7.749634441750855,
          7.284584703955487,
          7.292826009042725,
          7.181341683498869,
          7.240834973710766,
          7.667385765174515,
          5.250365460237476,
          7.0140375073737165,
          7.226710029388866,
          7.2204368332618225,
          6.585966596006842,
          7.2255278950777,
          7.252380375692058,
          6.252175869065784,
          6.837383444688143,
          6.456778500413074,
          6.733714043501702,
          6.512625416365262,
          7.561401444009361,
          6.4518922885808,
          7.052428400740294,
          7.779613516016284,
          6.5569383830675525,
          7.180775427047728,
          7.483433712414992,
          6.789901080849341,
          6.503582119971747,
          6.362584411339925,
          6.744453574493164,
          6.690825478220391,
          6.331866561770604,
          6.43118225448498,
          6.389654238228056,
          6.259497655351875,
          6.635260775200999,
          6.966899776933464,
          6.643782183936418,
          7.120175826206088,
          6.29156971226765,
          7.57199668082228,
          6.389019856500414,
          7.5288816934945375,
          6.13837533987684,
          7.687692158059084,
          6.291755233690511,
          6.246511381224887,
          6.780045872777086,
          6.892758608077354,
          7.533099546108705,
          7.29623920166561,
          7.400638693409083,
          6.91289417909975,
          6.8313308857068495,
          7.029842859451628,
          6.981049207179527,
          7.051550413427209,
          7.390450510917825,
          6.243777129878877,
          6.565405278807694,
          6.869913724974986,
          7.174065416304416,
          6.951849854083424,
          6.8171113547373405,
          7.031441590739357,
          6.942450249385152,
          7.099141494231177,
          7.548318833184867,
          4.310944657755888,
          6.933653783732718,
          7.37076994834599,
          7.032703353928736,
          7.447621289971554,
          5.387672035025484,
          7.267799449122376,
          6.245556950528483,
          7.677632483909919,
          7.271302138717029,
          6.872307732042742,
          6.980240481158973,
          7.139584522830056,
          7.279073232193779,
          7.28714593734886,
          6.841729610904222,
          7.848447735709117,
          6.687314255904591
         ]
        },
        {
         "marker": {
          "color": "teal"
         },
         "name": "IGL 2 Severity 1",
         "type": "box",
         "x": [
          "IGL",
          "IGL",
          "IGL",
          "IGL",
          "IGL",
          "IGL",
          "IGL",
          "IGL",
          "IGL",
          "IGL",
          "IGL",
          "IGL",
          "IGL",
          "IGL",
          "IGL",
          "IGL",
          "IGL",
          "IGL",
          "IGL",
          "IGL",
          "IGL",
          "IGL",
          "IGL",
          "IGL",
          "IGL",
          "IGL",
          "IGL",
          "IGL",
          "IGL",
          "IGL",
          "IGL",
          "IGL",
          "IGL",
          "IGL",
          "IGL",
          "IGL",
          "IGL",
          "IGL",
          "IGL",
          "IGL",
          "IGL",
          "IGL",
          "IGL"
         ],
         "y": [
          6.6697165164479015,
          6.608215363208098,
          6.845945783949287,
          6.827851908997081,
          6.853928859819717,
          6.869535739396519,
          7.055722938993946,
          6.449364294815801,
          7.361978320628346,
          7.449912186421196,
          6.14426614266357,
          7.150203534921804,
          6.675942633890366,
          7.105927729434331,
          6.099651143957802,
          6.573153792969876,
          5.326330144083309,
          5.88996939450232,
          6.1347235921107055,
          7.007602693121041,
          6.775972542544754,
          5.588374787224614,
          7.140846290436307,
          6.560330204705062,
          4.055430901475075,
          5.923129983827018,
          5.699520356258272,
          7.319959741415685,
          6.92232181054654,
          7.555832440774713,
          3.6967213081996144,
          7.509025483517789,
          6.633030527215335,
          6.6766699281822826,
          5.962605768746144,
          7.418954310629364,
          5.683907898699147,
          6.592959646021794,
          7.329387867267888,
          5.516829933658322,
          6.618952228644461,
          6.807069680205577,
          7.085389355521668
         ]
        },
        {
         "marker": {
          "color": "teal"
         },
         "name": "IGL 3 Severity 1",
         "type": "box",
         "x": [
          "IGL",
          "IGL",
          "IGL",
          "IGL",
          "IGL",
          "IGL",
          "IGL",
          "IGL",
          "IGL",
          "IGL",
          "IGL",
          "IGL",
          "IGL",
          "IGL",
          "IGL",
          "IGL",
          "IGL",
          "IGL",
          "IGL",
          "IGL",
          "IGL",
          "IGL",
          "IGL",
          "IGL",
          "IGL",
          "IGL",
          "IGL",
          "IGL",
          "IGL",
          "IGL",
          "IGL",
          "IGL",
          "IGL",
          "IGL",
          "IGL",
          "IGL",
          "IGL",
          "IGL",
          "IGL",
          "IGL",
          "IGL",
          "IGL",
          "IGL",
          "IGL",
          "IGL",
          "IGL",
          "IGL",
          "IGL",
          "IGL",
          "IGL",
          "IGL",
          "IGL",
          "IGL",
          "IGL",
          "IGL",
          "IGL",
          "IGL",
          "IGL",
          "IGL",
          "IGL",
          "IGL",
          "IGL",
          "IGL",
          "IGL",
          "IGL",
          "IGL",
          "IGL"
         ],
         "y": [
          7.974964227644924,
          6.688912062436637,
          7.604441949388467,
          7.380421319934323,
          6.369287528852127,
          6.907188915507434,
          6.955963427718395,
          6.940005376503293,
          7.370618726346843,
          6.951692393504607,
          7.4865442565366145,
          7.057935345066955,
          7.813830607057038,
          6.031203071073542,
          6.553871195467766,
          6.607673334138193,
          6.744705129635647,
          7.1163245937952455,
          7.212850983170646,
          7.255169435884778,
          7.269684341588366,
          6.650766725135192,
          7.477375293094153,
          6.469469390033579,
          6.643706853360191,
          7.392685942869669,
          6.061659014646202,
          6.672545853885509,
          7.00082232817496,
          7.1160250301450265,
          6.766969669235563,
          7.495385491260164,
          6.816219635306092,
          7.661975957084979,
          6.332709809844272,
          7.158110132816172,
          6.24703573529593,
          5.8992224684938,
          5.573570389218145,
          7.30896303584461,
          6.184769122784815,
          7.220556246142613,
          7.185673293976943,
          6.463074406242083,
          6.895741486262635,
          7.634010651446289,
          6.390422878131356,
          7.537238162963369,
          7.804840467501804,
          6.791398053027107,
          6.740077451590076,
          7.191001123211318,
          6.796389330177695,
          7.259394971157356,
          7.399697402916573,
          6.350471696323089,
          6.525625935845193,
          5.899512933448357,
          7.52710275111767,
          7.409100442641002,
          6.739753479104194,
          6.649400645687615,
          6.814060099048651,
          6.376566570623616,
          7.141709015240034,
          6.030161542622502,
          6.559207996641553
         ]
        },
        {
         "marker": {
          "color": "orange"
         },
         "name": "IGL 1 Severity 2",
         "type": "box",
         "x": [
          "IGL",
          "IGL",
          "IGL",
          "IGL",
          "IGL",
          "IGL",
          "IGL",
          "IGL",
          "IGL",
          "IGL",
          "IGL",
          "IGL",
          "IGL",
          "IGL",
          "IGL",
          "IGL",
          "IGL",
          "IGL",
          "IGL",
          "IGL",
          "IGL",
          "IGL",
          "IGL",
          "IGL",
          "IGL",
          "IGL",
          "IGL",
          "IGL",
          "IGL",
          "IGL",
          "IGL",
          "IGL",
          "IGL",
          "IGL",
          "IGL",
          "IGL",
          "IGL",
          "IGL",
          "IGL",
          "IGL",
          "IGL",
          "IGL",
          "IGL",
          "IGL",
          "IGL",
          "IGL",
          "IGL",
          "IGL",
          "IGL",
          "IGL",
          "IGL",
          "IGL",
          "IGL",
          "IGL",
          "IGL",
          "IGL",
          "IGL",
          "IGL",
          "IGL",
          "IGL",
          "IGL",
          "IGL",
          "IGL",
          "IGL",
          "IGL",
          "IGL",
          "IGL",
          "IGL",
          "IGL"
         ],
         "y": [
          7.523968282440493,
          7.253834204999831,
          6.398251131321992,
          6.886108362492951,
          7.35448033588152,
          6.908942964615682,
          5.681591313866541,
          6.994003629747348,
          6.27391134805335,
          6.021576978115394,
          7.953541210441176,
          6.96735457959108,
          6.835103363652248,
          5.702172519072528,
          7.113636155349459,
          7.696197892273264,
          8.069629073121748,
          7.2938117854529825,
          6.933541105938552,
          7.467282930885769,
          6.642317166613604,
          6.937535757883616,
          7.138119311577497,
          7.504496338499123,
          6.246138074197946,
          7.014183241359213,
          5.806990754512659,
          6.595866236605145,
          6.449963198674294,
          6.531789824343001,
          6.748598637827563,
          7.156738341329849,
          7.190943777978193,
          6.670892993759819,
          6.931321827796574,
          6.909791296185784,
          6.446438402546732,
          7.328981433763345,
          6.737105910367606,
          6.499217324955358,
          7.436978740296701,
          6.987301703184728,
          7.267120160241985,
          6.722526746002122,
          6.647064706932475,
          7.434694917641419,
          7.305711046099586,
          6.604157289995562,
          6.697881906747017,
          6.417760631204567,
          7.569518124072435,
          7.192633962244206,
          6.692137038882178,
          6.913433001938437,
          7.321783599534557,
          6.653175163741862,
          7.547902798089553,
          7.212506979101337,
          7.304670541563058,
          6.505439398082348,
          5.928177396553763,
          6.2924772342146245,
          6.38882508228395,
          6.705043623198851,
          7.882687702999544,
          6.420938854302029,
          7.295879270350949,
          5.144718305985983,
          7.314276613668598
         ]
        },
        {
         "marker": {
          "color": "orange"
         },
         "name": "IGL 2 Severity 2",
         "type": "box",
         "x": [
          "IGL",
          "IGL",
          "IGL",
          "IGL",
          "IGL",
          "IGL",
          "IGL",
          "IGL",
          "IGL",
          "IGL",
          "IGL",
          "IGL",
          "IGL",
          "IGL",
          "IGL",
          "IGL",
          "IGL",
          "IGL",
          "IGL",
          "IGL",
          "IGL",
          "IGL",
          "IGL",
          "IGL",
          "IGL",
          "IGL",
          "IGL",
          "IGL",
          "IGL",
          "IGL",
          "IGL",
          "IGL",
          "IGL",
          "IGL",
          "IGL",
          "IGL",
          "IGL",
          "IGL",
          "IGL",
          "IGL",
          "IGL",
          "IGL",
          "IGL",
          "IGL",
          "IGL",
          "IGL",
          "IGL"
         ],
         "y": [
          6.805813297069828,
          6.1922899787570245,
          6.851470222648279,
          6.807936999815995,
          6.53510239177146,
          4.754059289648872,
          7.035951450063951,
          6.318585304030636,
          6.429307755875485,
          7.20728140620876,
          4.880811420365188,
          7.131245441540855,
          6.537379820329203,
          6.583433695319195,
          6.613642644734709,
          7.072346103157435,
          6.192862983453152,
          6.896196894144714,
          6.7340739403678205,
          6.435691322147597,
          7.095657249116054,
          6.593032545461599,
          6.350134575130746,
          6.528077632441623,
          6.797422530103999,
          5.914732467094043,
          6.203766685094021,
          6.618100652663824,
          6.525870647736263,
          7.132758109722346,
          7.0758065783503445,
          5.916834012873905,
          7.11783130913827,
          6.330916431077117,
          7.48876976722806,
          6.553169664336396,
          7.329145658299355,
          6.58944946631027,
          5.113878810705982,
          7.309438949328714,
          7.052007796250946,
          6.413218435522542,
          6.28070848454993,
          5.831564435733602,
          7.261535928408206,
          5.103825712585881,
          7.213301147632237
         ]
        },
        {
         "marker": {
          "color": "orange"
         },
         "name": "IGL 3 Severity 2",
         "type": "box",
         "x": [
          "IGL",
          "IGL",
          "IGL",
          "IGL",
          "IGL",
          "IGL",
          "IGL",
          "IGL",
          "IGL",
          "IGL",
          "IGL",
          "IGL",
          "IGL",
          "IGL",
          "IGL",
          "IGL",
          "IGL",
          "IGL",
          "IGL",
          "IGL",
          "IGL",
          "IGL",
          "IGL",
          "IGL",
          "IGL",
          "IGL",
          "IGL",
          "IGL",
          "IGL",
          "IGL",
          "IGL",
          "IGL",
          "IGL",
          "IGL",
          "IGL",
          "IGL",
          "IGL",
          "IGL",
          "IGL",
          "IGL",
          "IGL",
          "IGL",
          "IGL",
          "IGL"
         ],
         "y": [
          6.772868077897596,
          6.683012869108403,
          6.244302495680579,
          7.180053677171697,
          6.650710031386288,
          6.477967625811789,
          6.825813167521431,
          6.986020718356782,
          6.349195982720308,
          6.756046386219717,
          6.8179256065529605,
          6.607533599891396,
          6.362428760704615,
          6.875627292979001,
          6.516880943423631,
          6.922782008019346,
          7.494281835977425,
          6.833829358527266,
          6.919957287541608,
          7.011642167322557,
          6.886167639237897,
          6.276271869349927,
          6.514682241755186,
          7.05115412302549,
          7.110758779717001,
          6.157967623888693,
          6.711210733755448,
          6.854015411985233,
          7.125175872731603,
          6.570976522386898,
          6.820240228319526,
          7.567711531771951,
          6.714452698120753,
          7.5687948370195475,
          5.85089129226171,
          7.060331948180687,
          7.89971099601394,
          5.839810368942893,
          6.570684363024272,
          5.464854187770308,
          5.980636887896657,
          6.518873188467181,
          7.001896796394489,
          6.788716326116418
         ]
        },
        {
         "marker": {
          "color": "tomato"
         },
         "name": "IGL 1 Severity 3",
         "type": "box",
         "x": [
          "IGL"
         ],
         "y": [
          6.848802073813424
         ]
        },
        {
         "marker": {
          "color": "tomato"
         },
         "name": "IGL 2 Severity 3",
         "type": "box",
         "x": [
          "IGL"
         ],
         "y": [
          6.883835936581559
         ]
        },
        {
         "marker": {
          "color": "brown"
         },
         "name": "IGL 1 Severity 4",
         "type": "box",
         "x": [
          "IGL"
         ],
         "y": [
          6.910732827012819
         ]
        },
        {
         "marker": {
          "color": "brown"
         },
         "name": "IGL 3 Severity 4",
         "type": "box",
         "x": [
          "IGL"
         ],
         "y": [
          6.821491956554917
         ]
        }
       ],
       "layout": {
        "boxmode": "group",
        "height": 500,
        "plot_bgcolor": "rgba(255, 255, 255, 1)",
        "template": {
         "data": {
          "bar": [
           {
            "error_x": {
             "color": "#2a3f5f"
            },
            "error_y": {
             "color": "#2a3f5f"
            },
            "marker": {
             "line": {
              "color": "#E5ECF6",
              "width": 0.5
             },
             "pattern": {
              "fillmode": "overlay",
              "size": 10,
              "solidity": 0.2
             }
            },
            "type": "bar"
           }
          ],
          "barpolar": [
           {
            "marker": {
             "line": {
              "color": "#E5ECF6",
              "width": 0.5
             },
             "pattern": {
              "fillmode": "overlay",
              "size": 10,
              "solidity": 0.2
             }
            },
            "type": "barpolar"
           }
          ],
          "carpet": [
           {
            "aaxis": {
             "endlinecolor": "#2a3f5f",
             "gridcolor": "white",
             "linecolor": "white",
             "minorgridcolor": "white",
             "startlinecolor": "#2a3f5f"
            },
            "baxis": {
             "endlinecolor": "#2a3f5f",
             "gridcolor": "white",
             "linecolor": "white",
             "minorgridcolor": "white",
             "startlinecolor": "#2a3f5f"
            },
            "type": "carpet"
           }
          ],
          "choropleth": [
           {
            "colorbar": {
             "outlinewidth": 0,
             "ticks": ""
            },
            "type": "choropleth"
           }
          ],
          "contour": [
           {
            "colorbar": {
             "outlinewidth": 0,
             "ticks": ""
            },
            "colorscale": [
             [
              0,
              "#0d0887"
             ],
             [
              0.1111111111111111,
              "#46039f"
             ],
             [
              0.2222222222222222,
              "#7201a8"
             ],
             [
              0.3333333333333333,
              "#9c179e"
             ],
             [
              0.4444444444444444,
              "#bd3786"
             ],
             [
              0.5555555555555556,
              "#d8576b"
             ],
             [
              0.6666666666666666,
              "#ed7953"
             ],
             [
              0.7777777777777778,
              "#fb9f3a"
             ],
             [
              0.8888888888888888,
              "#fdca26"
             ],
             [
              1,
              "#f0f921"
             ]
            ],
            "type": "contour"
           }
          ],
          "contourcarpet": [
           {
            "colorbar": {
             "outlinewidth": 0,
             "ticks": ""
            },
            "type": "contourcarpet"
           }
          ],
          "heatmap": [
           {
            "colorbar": {
             "outlinewidth": 0,
             "ticks": ""
            },
            "colorscale": [
             [
              0,
              "#0d0887"
             ],
             [
              0.1111111111111111,
              "#46039f"
             ],
             [
              0.2222222222222222,
              "#7201a8"
             ],
             [
              0.3333333333333333,
              "#9c179e"
             ],
             [
              0.4444444444444444,
              "#bd3786"
             ],
             [
              0.5555555555555556,
              "#d8576b"
             ],
             [
              0.6666666666666666,
              "#ed7953"
             ],
             [
              0.7777777777777778,
              "#fb9f3a"
             ],
             [
              0.8888888888888888,
              "#fdca26"
             ],
             [
              1,
              "#f0f921"
             ]
            ],
            "type": "heatmap"
           }
          ],
          "heatmapgl": [
           {
            "colorbar": {
             "outlinewidth": 0,
             "ticks": ""
            },
            "colorscale": [
             [
              0,
              "#0d0887"
             ],
             [
              0.1111111111111111,
              "#46039f"
             ],
             [
              0.2222222222222222,
              "#7201a8"
             ],
             [
              0.3333333333333333,
              "#9c179e"
             ],
             [
              0.4444444444444444,
              "#bd3786"
             ],
             [
              0.5555555555555556,
              "#d8576b"
             ],
             [
              0.6666666666666666,
              "#ed7953"
             ],
             [
              0.7777777777777778,
              "#fb9f3a"
             ],
             [
              0.8888888888888888,
              "#fdca26"
             ],
             [
              1,
              "#f0f921"
             ]
            ],
            "type": "heatmapgl"
           }
          ],
          "histogram": [
           {
            "marker": {
             "pattern": {
              "fillmode": "overlay",
              "size": 10,
              "solidity": 0.2
             }
            },
            "type": "histogram"
           }
          ],
          "histogram2d": [
           {
            "colorbar": {
             "outlinewidth": 0,
             "ticks": ""
            },
            "colorscale": [
             [
              0,
              "#0d0887"
             ],
             [
              0.1111111111111111,
              "#46039f"
             ],
             [
              0.2222222222222222,
              "#7201a8"
             ],
             [
              0.3333333333333333,
              "#9c179e"
             ],
             [
              0.4444444444444444,
              "#bd3786"
             ],
             [
              0.5555555555555556,
              "#d8576b"
             ],
             [
              0.6666666666666666,
              "#ed7953"
             ],
             [
              0.7777777777777778,
              "#fb9f3a"
             ],
             [
              0.8888888888888888,
              "#fdca26"
             ],
             [
              1,
              "#f0f921"
             ]
            ],
            "type": "histogram2d"
           }
          ],
          "histogram2dcontour": [
           {
            "colorbar": {
             "outlinewidth": 0,
             "ticks": ""
            },
            "colorscale": [
             [
              0,
              "#0d0887"
             ],
             [
              0.1111111111111111,
              "#46039f"
             ],
             [
              0.2222222222222222,
              "#7201a8"
             ],
             [
              0.3333333333333333,
              "#9c179e"
             ],
             [
              0.4444444444444444,
              "#bd3786"
             ],
             [
              0.5555555555555556,
              "#d8576b"
             ],
             [
              0.6666666666666666,
              "#ed7953"
             ],
             [
              0.7777777777777778,
              "#fb9f3a"
             ],
             [
              0.8888888888888888,
              "#fdca26"
             ],
             [
              1,
              "#f0f921"
             ]
            ],
            "type": "histogram2dcontour"
           }
          ],
          "mesh3d": [
           {
            "colorbar": {
             "outlinewidth": 0,
             "ticks": ""
            },
            "type": "mesh3d"
           }
          ],
          "parcoords": [
           {
            "line": {
             "colorbar": {
              "outlinewidth": 0,
              "ticks": ""
             }
            },
            "type": "parcoords"
           }
          ],
          "pie": [
           {
            "automargin": true,
            "type": "pie"
           }
          ],
          "scatter": [
           {
            "fillpattern": {
             "fillmode": "overlay",
             "size": 10,
             "solidity": 0.2
            },
            "type": "scatter"
           }
          ],
          "scatter3d": [
           {
            "line": {
             "colorbar": {
              "outlinewidth": 0,
              "ticks": ""
             }
            },
            "marker": {
             "colorbar": {
              "outlinewidth": 0,
              "ticks": ""
             }
            },
            "type": "scatter3d"
           }
          ],
          "scattercarpet": [
           {
            "marker": {
             "colorbar": {
              "outlinewidth": 0,
              "ticks": ""
             }
            },
            "type": "scattercarpet"
           }
          ],
          "scattergeo": [
           {
            "marker": {
             "colorbar": {
              "outlinewidth": 0,
              "ticks": ""
             }
            },
            "type": "scattergeo"
           }
          ],
          "scattergl": [
           {
            "marker": {
             "colorbar": {
              "outlinewidth": 0,
              "ticks": ""
             }
            },
            "type": "scattergl"
           }
          ],
          "scattermapbox": [
           {
            "marker": {
             "colorbar": {
              "outlinewidth": 0,
              "ticks": ""
             }
            },
            "type": "scattermapbox"
           }
          ],
          "scatterpolar": [
           {
            "marker": {
             "colorbar": {
              "outlinewidth": 0,
              "ticks": ""
             }
            },
            "type": "scatterpolar"
           }
          ],
          "scatterpolargl": [
           {
            "marker": {
             "colorbar": {
              "outlinewidth": 0,
              "ticks": ""
             }
            },
            "type": "scatterpolargl"
           }
          ],
          "scatterternary": [
           {
            "marker": {
             "colorbar": {
              "outlinewidth": 0,
              "ticks": ""
             }
            },
            "type": "scatterternary"
           }
          ],
          "surface": [
           {
            "colorbar": {
             "outlinewidth": 0,
             "ticks": ""
            },
            "colorscale": [
             [
              0,
              "#0d0887"
             ],
             [
              0.1111111111111111,
              "#46039f"
             ],
             [
              0.2222222222222222,
              "#7201a8"
             ],
             [
              0.3333333333333333,
              "#9c179e"
             ],
             [
              0.4444444444444444,
              "#bd3786"
             ],
             [
              0.5555555555555556,
              "#d8576b"
             ],
             [
              0.6666666666666666,
              "#ed7953"
             ],
             [
              0.7777777777777778,
              "#fb9f3a"
             ],
             [
              0.8888888888888888,
              "#fdca26"
             ],
             [
              1,
              "#f0f921"
             ]
            ],
            "type": "surface"
           }
          ],
          "table": [
           {
            "cells": {
             "fill": {
              "color": "#EBF0F8"
             },
             "line": {
              "color": "white"
             }
            },
            "header": {
             "fill": {
              "color": "#C8D4E3"
             },
             "line": {
              "color": "white"
             }
            },
            "type": "table"
           }
          ]
         },
         "layout": {
          "annotationdefaults": {
           "arrowcolor": "#2a3f5f",
           "arrowhead": 0,
           "arrowwidth": 1
          },
          "autotypenumbers": "strict",
          "coloraxis": {
           "colorbar": {
            "outlinewidth": 0,
            "ticks": ""
           }
          },
          "colorscale": {
           "diverging": [
            [
             0,
             "#8e0152"
            ],
            [
             0.1,
             "#c51b7d"
            ],
            [
             0.2,
             "#de77ae"
            ],
            [
             0.3,
             "#f1b6da"
            ],
            [
             0.4,
             "#fde0ef"
            ],
            [
             0.5,
             "#f7f7f7"
            ],
            [
             0.6,
             "#e6f5d0"
            ],
            [
             0.7,
             "#b8e186"
            ],
            [
             0.8,
             "#7fbc41"
            ],
            [
             0.9,
             "#4d9221"
            ],
            [
             1,
             "#276419"
            ]
           ],
           "sequential": [
            [
             0,
             "#0d0887"
            ],
            [
             0.1111111111111111,
             "#46039f"
            ],
            [
             0.2222222222222222,
             "#7201a8"
            ],
            [
             0.3333333333333333,
             "#9c179e"
            ],
            [
             0.4444444444444444,
             "#bd3786"
            ],
            [
             0.5555555555555556,
             "#d8576b"
            ],
            [
             0.6666666666666666,
             "#ed7953"
            ],
            [
             0.7777777777777778,
             "#fb9f3a"
            ],
            [
             0.8888888888888888,
             "#fdca26"
            ],
            [
             1,
             "#f0f921"
            ]
           ],
           "sequentialminus": [
            [
             0,
             "#0d0887"
            ],
            [
             0.1111111111111111,
             "#46039f"
            ],
            [
             0.2222222222222222,
             "#7201a8"
            ],
            [
             0.3333333333333333,
             "#9c179e"
            ],
            [
             0.4444444444444444,
             "#bd3786"
            ],
            [
             0.5555555555555556,
             "#d8576b"
            ],
            [
             0.6666666666666666,
             "#ed7953"
            ],
            [
             0.7777777777777778,
             "#fb9f3a"
            ],
            [
             0.8888888888888888,
             "#fdca26"
            ],
            [
             1,
             "#f0f921"
            ]
           ]
          },
          "colorway": [
           "#636efa",
           "#EF553B",
           "#00cc96",
           "#ab63fa",
           "#FFA15A",
           "#19d3f3",
           "#FF6692",
           "#B6E880",
           "#FF97FF",
           "#FECB52"
          ],
          "font": {
           "color": "#2a3f5f"
          },
          "geo": {
           "bgcolor": "white",
           "lakecolor": "white",
           "landcolor": "#E5ECF6",
           "showlakes": true,
           "showland": true,
           "subunitcolor": "white"
          },
          "hoverlabel": {
           "align": "left"
          },
          "hovermode": "closest",
          "mapbox": {
           "style": "light"
          },
          "paper_bgcolor": "white",
          "plot_bgcolor": "#E5ECF6",
          "polar": {
           "angularaxis": {
            "gridcolor": "white",
            "linecolor": "white",
            "ticks": ""
           },
           "bgcolor": "#E5ECF6",
           "radialaxis": {
            "gridcolor": "white",
            "linecolor": "white",
            "ticks": ""
           }
          },
          "scene": {
           "xaxis": {
            "backgroundcolor": "#E5ECF6",
            "gridcolor": "white",
            "gridwidth": 2,
            "linecolor": "white",
            "showbackground": true,
            "ticks": "",
            "zerolinecolor": "white"
           },
           "yaxis": {
            "backgroundcolor": "#E5ECF6",
            "gridcolor": "white",
            "gridwidth": 2,
            "linecolor": "white",
            "showbackground": true,
            "ticks": "",
            "zerolinecolor": "white"
           },
           "zaxis": {
            "backgroundcolor": "#E5ECF6",
            "gridcolor": "white",
            "gridwidth": 2,
            "linecolor": "white",
            "showbackground": true,
            "ticks": "",
            "zerolinecolor": "white"
           }
          },
          "shapedefaults": {
           "line": {
            "color": "#2a3f5f"
           }
          },
          "ternary": {
           "aaxis": {
            "gridcolor": "white",
            "linecolor": "white",
            "ticks": ""
           },
           "baxis": {
            "gridcolor": "white",
            "linecolor": "white",
            "ticks": ""
           },
           "bgcolor": "#E5ECF6",
           "caxis": {
            "gridcolor": "white",
            "linecolor": "white",
            "ticks": ""
           }
          },
          "title": {
           "x": 0.05
          },
          "xaxis": {
           "automargin": true,
           "gridcolor": "white",
           "linecolor": "white",
           "ticks": "",
           "title": {
            "standoff": 15
           },
           "zerolinecolor": "white",
           "zerolinewidth": 2
          },
          "yaxis": {
           "automargin": true,
           "gridcolor": "white",
           "linecolor": "white",
           "ticks": "",
           "title": {
            "standoff": 15
           },
           "zerolinecolor": "white",
           "zerolinewidth": 2
          }
         }
        },
        "title": {
         "text": "Time point comparison of BCR_LC 01"
        },
        "width": 2000,
        "xaxis": {
         "title": {
          "text": "Time Point"
         }
        },
        "yaxis": {
         "gridcolor": "lightgray",
         "range": [
          2,
          12
         ],
         "tickfont": {
          "size": 15
         },
         "title": {
          "font": {
           "size": 20
          },
          "text": "Shannon Diversity"
         }
        }
       }
      }
     },
     "metadata": {},
     "output_type": "display_data"
    },
    {
     "data": {
      "application/vnd.plotly.v1+json": {
       "config": {
        "plotlyServerURL": "https://plot.ly"
       },
       "data": [
        {
         "marker": {
          "color": "darkblue"
         },
         "name": "IGK 1 Severity 0",
         "type": "box",
         "x": [
          "IGK",
          "IGK",
          "IGK",
          "IGK",
          "IGK",
          "IGK",
          "IGK",
          "IGK",
          "IGK",
          "IGK",
          "IGK",
          "IGK",
          "IGK",
          "IGK",
          "IGK",
          "IGK",
          "IGK",
          "IGK",
          "IGK",
          "IGK",
          "IGK",
          "IGK"
         ],
         "y": [
          7.611895201707821,
          7.996123406429861,
          6.662807545583897,
          7.612707131766674,
          7.279785777015485,
          6.98294961878134,
          7.0812922727573415,
          7.874712189716217,
          6.998957811796137,
          7.42693617748347,
          7.039125562602528,
          7.385576947836705,
          7.0674567813522975,
          7.667893408351852,
          7.448098810278396,
          8.362572649000485,
          7.743819677000624,
          6.914833082518004,
          8.025000767427887,
          8.436637560871171,
          7.979954403129533,
          7.857551385297761
         ]
        },
        {
         "marker": {
          "color": "orange"
         },
         "name": "IGK 1 Severity 2",
         "type": "box",
         "x": [
          "IGK",
          "IGK"
         ],
         "y": [
          7.128108461505829,
          7.294465720019691
         ]
        },
        {
         "marker": {
          "color": "orange"
         },
         "name": "IGK 2 Severity 2",
         "type": "box",
         "x": [
          "IGK",
          "IGK",
          "IGK"
         ],
         "y": [
          7.263016303514997,
          7.465814994026173,
          7.309018353258215
         ]
        },
        {
         "marker": {
          "color": "orange"
         },
         "name": "IGK 3 Severity 2",
         "type": "box",
         "x": [
          "IGK"
         ],
         "y": [
          7.901520162038924
         ]
        },
        {
         "marker": {
          "color": "orange"
         },
         "name": "IGK 4 Severity 2",
         "type": "box",
         "x": [
          "IGK",
          "IGK"
         ],
         "y": [
          6.228455758026552,
          7.242984827646191
         ]
        },
        {
         "marker": {
          "color": "tomato"
         },
         "name": "IGK 1 Severity 3",
         "type": "box",
         "x": [
          "IGK",
          "IGK",
          "IGK",
          "IGK",
          "IGK",
          "IGK",
          "IGK",
          "IGK",
          "IGK"
         ],
         "y": [
          6.703545002669698,
          7.235606494178483,
          6.348441365683411,
          5.754812157187583,
          4.838341345206403,
          6.754494381338654,
          6.124237774731774,
          5.623121066683562,
          6.270997762086627
         ]
        },
        {
         "marker": {
          "color": "tomato"
         },
         "name": "IGK 2 Severity 3",
         "type": "box",
         "x": [
          "IGK",
          "IGK",
          "IGK",
          "IGK",
          "IGK",
          "IGK",
          "IGK",
          "IGK",
          "IGK"
         ],
         "y": [
          7.471738513853955,
          8.050661298663938,
          7.478408847428811,
          7.152921299298961,
          6.079542624561859,
          7.155979442062615,
          6.514345504725104,
          6.942706221397539,
          5.998697466196316
         ]
        },
        {
         "marker": {
          "color": "tomato"
         },
         "name": "IGK 3 Severity 3",
         "type": "box",
         "x": [
          "IGK",
          "IGK",
          "IGK",
          "IGK",
          "IGK",
          "IGK",
          "IGK",
          "IGK"
         ],
         "y": [
          7.769884842366859,
          7.98694353742823,
          7.631450385093975,
          8.045146231267353,
          6.523790954485399,
          6.889616499838588,
          6.048953026194715,
          6.78175629388358
         ]
        },
        {
         "marker": {
          "color": "tomato"
         },
         "name": "IGK 4 Severity 3",
         "type": "box",
         "x": [
          "IGK",
          "IGK",
          "IGK",
          "IGK",
          "IGK",
          "IGK",
          "IGK"
         ],
         "y": [
          8.26845895751112,
          7.734383137552527,
          7.722461777308774,
          6.098243539853894,
          7.01193285998351,
          7.647629168815664,
          6.550143311825318
         ]
        },
        {
         "marker": {
          "color": "brown"
         },
         "name": "IGK 1 Severity 4",
         "type": "box",
         "x": [
          "IGK",
          "IGK",
          "IGK",
          "IGK",
          "IGK",
          "IGK",
          "IGK",
          "IGK",
          "IGK",
          "IGK"
         ],
         "y": [
          4.2954235046955445,
          5.396280840600373,
          6.471491231319267,
          4.832132402964526,
          7.151623483955373,
          7.329094882080939,
          6.6860090289599015,
          6.4682928427359165,
          6.57675187414237,
          6.999531254527812
         ]
        },
        {
         "marker": {
          "color": "brown"
         },
         "name": "IGK 2 Severity 4",
         "type": "box",
         "x": [
          "IGK",
          "IGK",
          "IGK",
          "IGK",
          "IGK",
          "IGK",
          "IGK",
          "IGK",
          "IGK",
          "IGK",
          "IGK",
          "IGK",
          "IGK",
          "IGK",
          "IGK",
          "IGK"
         ],
         "y": [
          5.720479859924367,
          6.595548948446978,
          7.049871587232385,
          5.529356016068856,
          4.555871790703546,
          7.3243652241315536,
          6.853666931069736,
          7.074722149226014,
          5.63622450661998,
          7.101487050786182,
          7.853330529309129,
          7.948179761086998,
          4.940279515647029,
          6.808473166792419,
          6.807457648701008,
          5.663063629871588
         ]
        },
        {
         "marker": {
          "color": "brown"
         },
         "name": "IGK 3 Severity 4",
         "type": "box",
         "x": [
          "IGK",
          "IGK",
          "IGK",
          "IGK",
          "IGK",
          "IGK",
          "IGK",
          "IGK",
          "IGK",
          "IGK",
          "IGK",
          "IGK",
          "IGK"
         ],
         "y": [
          7.63357934276219,
          7.294584294797308,
          6.701224930316202,
          6.536033818911859,
          7.193745879786323,
          6.894646871297415,
          6.522186135623791,
          7.720472981445493,
          7.821332897928992,
          6.5372865317385935,
          7.100415441971367,
          7.359097584027377,
          6.200830485361756
         ]
        },
        {
         "marker": {
          "color": "brown"
         },
         "name": "IGK 4 Severity 4",
         "type": "box",
         "x": [
          "IGK",
          "IGK",
          "IGK",
          "IGK",
          "IGK",
          "IGK",
          "IGK",
          "IGK"
         ],
         "y": [
          5.104043058797775,
          7.30825918947147,
          7.7077146197066515,
          7.598293366408754,
          7.463761576567196,
          5.703715519121736,
          7.390273787286156,
          7.23647087024328
         ]
        },
        {
         "marker": {
          "color": "darkblue"
         },
         "name": "IGL 1 Severity 0",
         "type": "box",
         "x": [
          "IGL",
          "IGL",
          "IGL",
          "IGL",
          "IGL",
          "IGL",
          "IGL",
          "IGL",
          "IGL",
          "IGL",
          "IGL",
          "IGL",
          "IGL",
          "IGL",
          "IGL",
          "IGL",
          "IGL",
          "IGL",
          "IGL",
          "IGL",
          "IGL",
          "IGL"
         ],
         "y": [
          7.356174363174907,
          7.727304581289644,
          6.599833813239566,
          7.517441205899911,
          7.156740340355576,
          6.666134039940023,
          6.818578169623484,
          7.432080597144972,
          6.713331708106449,
          7.119768766009705,
          6.767231765006259,
          7.085503722826895,
          6.825191097875796,
          7.324035421765625,
          7.354055756360137,
          7.920412765180923,
          7.274127916308097,
          6.88339104678604,
          7.634203372110398,
          8.179187831846654,
          7.614420780055999,
          7.531962769994318
         ]
        },
        {
         "marker": {
          "color": "orange"
         },
         "name": "IGL 1 Severity 2",
         "type": "box",
         "x": [
          "IGL",
          "IGL"
         ],
         "y": [
          6.778804673806197,
          6.775805152077536
         ]
        },
        {
         "marker": {
          "color": "orange"
         },
         "name": "IGL 2 Severity 2",
         "type": "box",
         "x": [
          "IGL",
          "IGL",
          "IGL"
         ],
         "y": [
          6.993336859734833,
          7.168293051830676,
          7.283091192234578
         ]
        },
        {
         "marker": {
          "color": "orange"
         },
         "name": "IGL 3 Severity 2",
         "type": "box",
         "x": [
          "IGL"
         ],
         "y": [
          7.381642211761691
         ]
        },
        {
         "marker": {
          "color": "orange"
         },
         "name": "IGL 4 Severity 2",
         "type": "box",
         "x": [
          "IGL",
          "IGL"
         ],
         "y": [
          5.648289428490795,
          6.594882834874573
         ]
        },
        {
         "marker": {
          "color": "tomato"
         },
         "name": "IGL 1 Severity 3",
         "type": "box",
         "x": [
          "IGL",
          "IGL",
          "IGL",
          "IGL",
          "IGL",
          "IGL",
          "IGL",
          "IGL",
          "IGL"
         ],
         "y": [
          6.605372230014413,
          6.943738227085386,
          6.029593899485364,
          5.439855886822879,
          6.008693313394334,
          6.306331268129323,
          6.389777690954973,
          7.1690038633295465,
          6.922266809101468
         ]
        },
        {
         "marker": {
          "color": "tomato"
         },
         "name": "IGL 2 Severity 3",
         "type": "box",
         "x": [
          "IGL",
          "IGL",
          "IGL",
          "IGL",
          "IGL",
          "IGL",
          "IGL",
          "IGL",
          "IGL"
         ],
         "y": [
          7.161654523296758,
          7.831138731450955,
          7.048258771774049,
          6.898126098978197,
          5.980754369763578,
          6.998743411135019,
          6.886051085696545,
          6.674963874926726,
          6.094819313839325
         ]
        },
        {
         "marker": {
          "color": "tomato"
         },
         "name": "IGL 3 Severity 3",
         "type": "box",
         "x": [
          "IGL",
          "IGL",
          "IGL",
          "IGL",
          "IGL",
          "IGL",
          "IGL",
          "IGL"
         ],
         "y": [
          7.041584125574843,
          7.775536111892377,
          7.2023645925115165,
          7.59764348844805,
          6.16249385464737,
          6.454104356331485,
          7.097578527274265,
          6.515316421842112
         ]
        },
        {
         "marker": {
          "color": "tomato"
         },
         "name": "IGL 4 Severity 3",
         "type": "box",
         "x": [
          "IGL",
          "IGL",
          "IGL",
          "IGL",
          "IGL",
          "IGL",
          "IGL"
         ],
         "y": [
          8.12134558737986,
          7.343904776147558,
          7.335077259382584,
          5.914166055403824,
          6.536396067766664,
          7.4091678938589025,
          6.08741712572068
         ]
        },
        {
         "marker": {
          "color": "brown"
         },
         "name": "IGL 1 Severity 4",
         "type": "box",
         "x": [
          "IGL",
          "IGL",
          "IGL",
          "IGL",
          "IGL",
          "IGL",
          "IGL",
          "IGL",
          "IGL",
          "IGL"
         ],
         "y": [
          4.108509559231233,
          5.258512309126484,
          5.969411395005331,
          4.653728122580496,
          4.443451011195485,
          7.315703641849407,
          6.183346324079239,
          6.3912512421389245,
          6.392654159009573,
          7.089591383390311
         ]
        },
        {
         "marker": {
          "color": "brown"
         },
         "name": "IGL 2 Severity 4",
         "type": "box",
         "x": [
          "IGL",
          "IGL",
          "IGL",
          "IGL",
          "IGL",
          "IGL",
          "IGL",
          "IGL",
          "IGL",
          "IGL",
          "IGL",
          "IGL",
          "IGL",
          "IGL",
          "IGL",
          "IGL"
         ],
         "y": [
          5.739497175590882,
          6.880509470335305,
          6.889315061134378,
          5.908158899009287,
          6.591850100462615,
          6.269838271318761,
          6.6487996650624375,
          7.116110839133618,
          5.115979910883307,
          6.919554506328384,
          7.358813716842947,
          7.4271582191943235,
          5.322703976416583,
          5.768797823855586,
          5.756222916284563,
          6.2892724023946736
         ]
        },
        {
         "marker": {
          "color": "brown"
         },
         "name": "IGL 3 Severity 4",
         "type": "box",
         "x": [
          "IGL",
          "IGL",
          "IGL",
          "IGL",
          "IGL",
          "IGL",
          "IGL",
          "IGL",
          "IGL",
          "IGL",
          "IGL",
          "IGL",
          "IGL"
         ],
         "y": [
          7.360038800693368,
          6.376438767649653,
          6.332758606410367,
          5.789238868367289,
          6.847945090242069,
          7.03472764983088,
          6.264383353132627,
          7.424732145713426,
          7.276625820366888,
          5.849912205465334,
          6.997332694946629,
          7.0068816115500026,
          6.457788924741167
         ]
        },
        {
         "marker": {
          "color": "brown"
         },
         "name": "IGL 4 Severity 4",
         "type": "box",
         "x": [
          "IGL",
          "IGL",
          "IGL",
          "IGL",
          "IGL",
          "IGL",
          "IGL",
          "IGL"
         ],
         "y": [
          4.775135960522388,
          6.898710550183742,
          7.751856404369957,
          7.367293969645508,
          7.264959080487981,
          5.319793813246417,
          7.370136121367796,
          6.812049783010593
         ]
        }
       ],
       "layout": {
        "boxmode": "group",
        "height": 500,
        "plot_bgcolor": "rgba(255, 255, 255, 1)",
        "template": {
         "data": {
          "bar": [
           {
            "error_x": {
             "color": "#2a3f5f"
            },
            "error_y": {
             "color": "#2a3f5f"
            },
            "marker": {
             "line": {
              "color": "#E5ECF6",
              "width": 0.5
             },
             "pattern": {
              "fillmode": "overlay",
              "size": 10,
              "solidity": 0.2
             }
            },
            "type": "bar"
           }
          ],
          "barpolar": [
           {
            "marker": {
             "line": {
              "color": "#E5ECF6",
              "width": 0.5
             },
             "pattern": {
              "fillmode": "overlay",
              "size": 10,
              "solidity": 0.2
             }
            },
            "type": "barpolar"
           }
          ],
          "carpet": [
           {
            "aaxis": {
             "endlinecolor": "#2a3f5f",
             "gridcolor": "white",
             "linecolor": "white",
             "minorgridcolor": "white",
             "startlinecolor": "#2a3f5f"
            },
            "baxis": {
             "endlinecolor": "#2a3f5f",
             "gridcolor": "white",
             "linecolor": "white",
             "minorgridcolor": "white",
             "startlinecolor": "#2a3f5f"
            },
            "type": "carpet"
           }
          ],
          "choropleth": [
           {
            "colorbar": {
             "outlinewidth": 0,
             "ticks": ""
            },
            "type": "choropleth"
           }
          ],
          "contour": [
           {
            "colorbar": {
             "outlinewidth": 0,
             "ticks": ""
            },
            "colorscale": [
             [
              0,
              "#0d0887"
             ],
             [
              0.1111111111111111,
              "#46039f"
             ],
             [
              0.2222222222222222,
              "#7201a8"
             ],
             [
              0.3333333333333333,
              "#9c179e"
             ],
             [
              0.4444444444444444,
              "#bd3786"
             ],
             [
              0.5555555555555556,
              "#d8576b"
             ],
             [
              0.6666666666666666,
              "#ed7953"
             ],
             [
              0.7777777777777778,
              "#fb9f3a"
             ],
             [
              0.8888888888888888,
              "#fdca26"
             ],
             [
              1,
              "#f0f921"
             ]
            ],
            "type": "contour"
           }
          ],
          "contourcarpet": [
           {
            "colorbar": {
             "outlinewidth": 0,
             "ticks": ""
            },
            "type": "contourcarpet"
           }
          ],
          "heatmap": [
           {
            "colorbar": {
             "outlinewidth": 0,
             "ticks": ""
            },
            "colorscale": [
             [
              0,
              "#0d0887"
             ],
             [
              0.1111111111111111,
              "#46039f"
             ],
             [
              0.2222222222222222,
              "#7201a8"
             ],
             [
              0.3333333333333333,
              "#9c179e"
             ],
             [
              0.4444444444444444,
              "#bd3786"
             ],
             [
              0.5555555555555556,
              "#d8576b"
             ],
             [
              0.6666666666666666,
              "#ed7953"
             ],
             [
              0.7777777777777778,
              "#fb9f3a"
             ],
             [
              0.8888888888888888,
              "#fdca26"
             ],
             [
              1,
              "#f0f921"
             ]
            ],
            "type": "heatmap"
           }
          ],
          "heatmapgl": [
           {
            "colorbar": {
             "outlinewidth": 0,
             "ticks": ""
            },
            "colorscale": [
             [
              0,
              "#0d0887"
             ],
             [
              0.1111111111111111,
              "#46039f"
             ],
             [
              0.2222222222222222,
              "#7201a8"
             ],
             [
              0.3333333333333333,
              "#9c179e"
             ],
             [
              0.4444444444444444,
              "#bd3786"
             ],
             [
              0.5555555555555556,
              "#d8576b"
             ],
             [
              0.6666666666666666,
              "#ed7953"
             ],
             [
              0.7777777777777778,
              "#fb9f3a"
             ],
             [
              0.8888888888888888,
              "#fdca26"
             ],
             [
              1,
              "#f0f921"
             ]
            ],
            "type": "heatmapgl"
           }
          ],
          "histogram": [
           {
            "marker": {
             "pattern": {
              "fillmode": "overlay",
              "size": 10,
              "solidity": 0.2
             }
            },
            "type": "histogram"
           }
          ],
          "histogram2d": [
           {
            "colorbar": {
             "outlinewidth": 0,
             "ticks": ""
            },
            "colorscale": [
             [
              0,
              "#0d0887"
             ],
             [
              0.1111111111111111,
              "#46039f"
             ],
             [
              0.2222222222222222,
              "#7201a8"
             ],
             [
              0.3333333333333333,
              "#9c179e"
             ],
             [
              0.4444444444444444,
              "#bd3786"
             ],
             [
              0.5555555555555556,
              "#d8576b"
             ],
             [
              0.6666666666666666,
              "#ed7953"
             ],
             [
              0.7777777777777778,
              "#fb9f3a"
             ],
             [
              0.8888888888888888,
              "#fdca26"
             ],
             [
              1,
              "#f0f921"
             ]
            ],
            "type": "histogram2d"
           }
          ],
          "histogram2dcontour": [
           {
            "colorbar": {
             "outlinewidth": 0,
             "ticks": ""
            },
            "colorscale": [
             [
              0,
              "#0d0887"
             ],
             [
              0.1111111111111111,
              "#46039f"
             ],
             [
              0.2222222222222222,
              "#7201a8"
             ],
             [
              0.3333333333333333,
              "#9c179e"
             ],
             [
              0.4444444444444444,
              "#bd3786"
             ],
             [
              0.5555555555555556,
              "#d8576b"
             ],
             [
              0.6666666666666666,
              "#ed7953"
             ],
             [
              0.7777777777777778,
              "#fb9f3a"
             ],
             [
              0.8888888888888888,
              "#fdca26"
             ],
             [
              1,
              "#f0f921"
             ]
            ],
            "type": "histogram2dcontour"
           }
          ],
          "mesh3d": [
           {
            "colorbar": {
             "outlinewidth": 0,
             "ticks": ""
            },
            "type": "mesh3d"
           }
          ],
          "parcoords": [
           {
            "line": {
             "colorbar": {
              "outlinewidth": 0,
              "ticks": ""
             }
            },
            "type": "parcoords"
           }
          ],
          "pie": [
           {
            "automargin": true,
            "type": "pie"
           }
          ],
          "scatter": [
           {
            "fillpattern": {
             "fillmode": "overlay",
             "size": 10,
             "solidity": 0.2
            },
            "type": "scatter"
           }
          ],
          "scatter3d": [
           {
            "line": {
             "colorbar": {
              "outlinewidth": 0,
              "ticks": ""
             }
            },
            "marker": {
             "colorbar": {
              "outlinewidth": 0,
              "ticks": ""
             }
            },
            "type": "scatter3d"
           }
          ],
          "scattercarpet": [
           {
            "marker": {
             "colorbar": {
              "outlinewidth": 0,
              "ticks": ""
             }
            },
            "type": "scattercarpet"
           }
          ],
          "scattergeo": [
           {
            "marker": {
             "colorbar": {
              "outlinewidth": 0,
              "ticks": ""
             }
            },
            "type": "scattergeo"
           }
          ],
          "scattergl": [
           {
            "marker": {
             "colorbar": {
              "outlinewidth": 0,
              "ticks": ""
             }
            },
            "type": "scattergl"
           }
          ],
          "scattermapbox": [
           {
            "marker": {
             "colorbar": {
              "outlinewidth": 0,
              "ticks": ""
             }
            },
            "type": "scattermapbox"
           }
          ],
          "scatterpolar": [
           {
            "marker": {
             "colorbar": {
              "outlinewidth": 0,
              "ticks": ""
             }
            },
            "type": "scatterpolar"
           }
          ],
          "scatterpolargl": [
           {
            "marker": {
             "colorbar": {
              "outlinewidth": 0,
              "ticks": ""
             }
            },
            "type": "scatterpolargl"
           }
          ],
          "scatterternary": [
           {
            "marker": {
             "colorbar": {
              "outlinewidth": 0,
              "ticks": ""
             }
            },
            "type": "scatterternary"
           }
          ],
          "surface": [
           {
            "colorbar": {
             "outlinewidth": 0,
             "ticks": ""
            },
            "colorscale": [
             [
              0,
              "#0d0887"
             ],
             [
              0.1111111111111111,
              "#46039f"
             ],
             [
              0.2222222222222222,
              "#7201a8"
             ],
             [
              0.3333333333333333,
              "#9c179e"
             ],
             [
              0.4444444444444444,
              "#bd3786"
             ],
             [
              0.5555555555555556,
              "#d8576b"
             ],
             [
              0.6666666666666666,
              "#ed7953"
             ],
             [
              0.7777777777777778,
              "#fb9f3a"
             ],
             [
              0.8888888888888888,
              "#fdca26"
             ],
             [
              1,
              "#f0f921"
             ]
            ],
            "type": "surface"
           }
          ],
          "table": [
           {
            "cells": {
             "fill": {
              "color": "#EBF0F8"
             },
             "line": {
              "color": "white"
             }
            },
            "header": {
             "fill": {
              "color": "#C8D4E3"
             },
             "line": {
              "color": "white"
             }
            },
            "type": "table"
           }
          ]
         },
         "layout": {
          "annotationdefaults": {
           "arrowcolor": "#2a3f5f",
           "arrowhead": 0,
           "arrowwidth": 1
          },
          "autotypenumbers": "strict",
          "coloraxis": {
           "colorbar": {
            "outlinewidth": 0,
            "ticks": ""
           }
          },
          "colorscale": {
           "diverging": [
            [
             0,
             "#8e0152"
            ],
            [
             0.1,
             "#c51b7d"
            ],
            [
             0.2,
             "#de77ae"
            ],
            [
             0.3,
             "#f1b6da"
            ],
            [
             0.4,
             "#fde0ef"
            ],
            [
             0.5,
             "#f7f7f7"
            ],
            [
             0.6,
             "#e6f5d0"
            ],
            [
             0.7,
             "#b8e186"
            ],
            [
             0.8,
             "#7fbc41"
            ],
            [
             0.9,
             "#4d9221"
            ],
            [
             1,
             "#276419"
            ]
           ],
           "sequential": [
            [
             0,
             "#0d0887"
            ],
            [
             0.1111111111111111,
             "#46039f"
            ],
            [
             0.2222222222222222,
             "#7201a8"
            ],
            [
             0.3333333333333333,
             "#9c179e"
            ],
            [
             0.4444444444444444,
             "#bd3786"
            ],
            [
             0.5555555555555556,
             "#d8576b"
            ],
            [
             0.6666666666666666,
             "#ed7953"
            ],
            [
             0.7777777777777778,
             "#fb9f3a"
            ],
            [
             0.8888888888888888,
             "#fdca26"
            ],
            [
             1,
             "#f0f921"
            ]
           ],
           "sequentialminus": [
            [
             0,
             "#0d0887"
            ],
            [
             0.1111111111111111,
             "#46039f"
            ],
            [
             0.2222222222222222,
             "#7201a8"
            ],
            [
             0.3333333333333333,
             "#9c179e"
            ],
            [
             0.4444444444444444,
             "#bd3786"
            ],
            [
             0.5555555555555556,
             "#d8576b"
            ],
            [
             0.6666666666666666,
             "#ed7953"
            ],
            [
             0.7777777777777778,
             "#fb9f3a"
            ],
            [
             0.8888888888888888,
             "#fdca26"
            ],
            [
             1,
             "#f0f921"
            ]
           ]
          },
          "colorway": [
           "#636efa",
           "#EF553B",
           "#00cc96",
           "#ab63fa",
           "#FFA15A",
           "#19d3f3",
           "#FF6692",
           "#B6E880",
           "#FF97FF",
           "#FECB52"
          ],
          "font": {
           "color": "#2a3f5f"
          },
          "geo": {
           "bgcolor": "white",
           "lakecolor": "white",
           "landcolor": "#E5ECF6",
           "showlakes": true,
           "showland": true,
           "subunitcolor": "white"
          },
          "hoverlabel": {
           "align": "left"
          },
          "hovermode": "closest",
          "mapbox": {
           "style": "light"
          },
          "paper_bgcolor": "white",
          "plot_bgcolor": "#E5ECF6",
          "polar": {
           "angularaxis": {
            "gridcolor": "white",
            "linecolor": "white",
            "ticks": ""
           },
           "bgcolor": "#E5ECF6",
           "radialaxis": {
            "gridcolor": "white",
            "linecolor": "white",
            "ticks": ""
           }
          },
          "scene": {
           "xaxis": {
            "backgroundcolor": "#E5ECF6",
            "gridcolor": "white",
            "gridwidth": 2,
            "linecolor": "white",
            "showbackground": true,
            "ticks": "",
            "zerolinecolor": "white"
           },
           "yaxis": {
            "backgroundcolor": "#E5ECF6",
            "gridcolor": "white",
            "gridwidth": 2,
            "linecolor": "white",
            "showbackground": true,
            "ticks": "",
            "zerolinecolor": "white"
           },
           "zaxis": {
            "backgroundcolor": "#E5ECF6",
            "gridcolor": "white",
            "gridwidth": 2,
            "linecolor": "white",
            "showbackground": true,
            "ticks": "",
            "zerolinecolor": "white"
           }
          },
          "shapedefaults": {
           "line": {
            "color": "#2a3f5f"
           }
          },
          "ternary": {
           "aaxis": {
            "gridcolor": "white",
            "linecolor": "white",
            "ticks": ""
           },
           "baxis": {
            "gridcolor": "white",
            "linecolor": "white",
            "ticks": ""
           },
           "bgcolor": "#E5ECF6",
           "caxis": {
            "gridcolor": "white",
            "linecolor": "white",
            "ticks": ""
           }
          },
          "title": {
           "x": 0.05
          },
          "xaxis": {
           "automargin": true,
           "gridcolor": "white",
           "linecolor": "white",
           "ticks": "",
           "title": {
            "standoff": 15
           },
           "zerolinecolor": "white",
           "zerolinewidth": 2
          },
          "yaxis": {
           "automargin": true,
           "gridcolor": "white",
           "linecolor": "white",
           "ticks": "",
           "title": {
            "standoff": 15
           },
           "zerolinecolor": "white",
           "zerolinewidth": 2
          }
         }
        },
        "title": {
         "text": "Time point comparison of BCR_LC 02"
        },
        "width": 2000,
        "xaxis": {
         "title": {
          "text": "Time Point"
         }
        },
        "yaxis": {
         "gridcolor": "lightgray",
         "range": [
          2,
          12
         ],
         "tickfont": {
          "size": 15
         },
         "title": {
          "font": {
           "size": 20
          },
          "text": "Shannon Diversity"
         }
        }
       }
      }
     },
     "metadata": {},
     "output_type": "display_data"
    },
    {
     "data": {
      "application/vnd.plotly.v1+json": {
       "config": {
        "plotlyServerURL": "https://plot.ly"
       },
       "data": [
        {
         "marker": {
          "color": "darkblue"
         },
         "name": "TRA 1 Severity 0",
         "type": "box",
         "x": [
          "TRA",
          "TRA",
          "TRA",
          "TRA",
          "TRA",
          "TRA",
          "TRA",
          "TRA",
          "TRA",
          "TRA",
          "TRA",
          "TRA",
          "TRA",
          "TRA",
          "TRA",
          "TRA",
          "TRA",
          "TRA",
          "TRA",
          "TRA",
          "TRA",
          "TRA",
          "TRA",
          "TRA",
          "TRA",
          "TRA",
          "TRA",
          "TRA",
          "TRA",
          "TRA",
          "TRA",
          "TRA",
          "TRA",
          "TRA",
          "TRA",
          "TRA",
          "TRA",
          "TRA",
          "TRA",
          "TRA",
          "TRA",
          "TRA",
          "TRA",
          "TRA",
          "TRA",
          "TRA",
          "TRA",
          "TRA",
          "TRA",
          "TRA",
          "TRA",
          "TRA",
          "TRA",
          "TRA",
          "TRA",
          "TRA",
          "TRA",
          "TRA",
          "TRA"
         ],
         "y": [
          9.67615898959536,
          9.736003935493054,
          8.452150705980689,
          9.03929575953259,
          9.054872755322824,
          9.1169647634798,
          7.796511596895114,
          8.905504161201577,
          6.917174714847697,
          8.781580130415358,
          8.824433859229064,
          8.585023483105049,
          8.599784880706782,
          7.225967000666593,
          9.619513433744888,
          9.391544683363955,
          8.711900544457297,
          9.633861586011625,
          8.368768407043389,
          8.193484266569623,
          7.730334427347307,
          7.062486477470832,
          7.7893177666947535,
          7.380687783415267,
          7.243930236541036,
          6.952795973181127,
          7.024609502120477,
          6.976019981392522,
          8.174127732837778,
          7.1722951763544645,
          6.8842742578473,
          7.362652043922314,
          9.200480046722973,
          8.059301718143914,
          7.862646811728926,
          6.265221379441327,
          7.189902455075654,
          7.434134910075207,
          8.898906307574242,
          7.091543040828711,
          6.443078587978074,
          9.4263907651955,
          8.647336417605095,
          9.406988459139509,
          9.412225402370169,
          9.0652165267514,
          9.307016955829331,
          7.914250082420161,
          8.440688195749553,
          8.904528346057068,
          8.44713389621563,
          9.315702494433715,
          9.471387865664749,
          9.167775254068466,
          8.880619203839522,
          9.103150319568154,
          9.50814999109514,
          7.796290339751326,
          9.081824283257223
         ]
        },
        {
         "marker": {
          "color": "darkblue"
         },
         "name": "TRA 2 Severity 0",
         "type": "box",
         "x": [
          "TRA",
          "TRA"
         ],
         "y": [
          8.750615595603106,
          8.976620971159742
         ]
        },
        {
         "marker": {
          "color": "teal"
         },
         "name": "TRA 1 Severity 1",
         "type": "box",
         "x": [
          "TRA",
          "TRA",
          "TRA",
          "TRA",
          "TRA",
          "TRA",
          "TRA",
          "TRA",
          "TRA",
          "TRA",
          "TRA",
          "TRA",
          "TRA",
          "TRA",
          "TRA",
          "TRA",
          "TRA",
          "TRA",
          "TRA",
          "TRA",
          "TRA",
          "TRA",
          "TRA",
          "TRA",
          "TRA",
          "TRA",
          "TRA",
          "TRA",
          "TRA",
          "TRA",
          "TRA",
          "TRA",
          "TRA",
          "TRA",
          "TRA",
          "TRA",
          "TRA",
          "TRA",
          "TRA",
          "TRA",
          "TRA",
          "TRA",
          "TRA",
          "TRA",
          "TRA",
          "TRA",
          "TRA",
          "TRA",
          "TRA",
          "TRA",
          "TRA",
          "TRA",
          "TRA",
          "TRA",
          "TRA",
          "TRA",
          "TRA",
          "TRA",
          "TRA",
          "TRA",
          "TRA",
          "TRA",
          "TRA",
          "TRA",
          "TRA",
          "TRA",
          "TRA",
          "TRA",
          "TRA",
          "TRA",
          "TRA",
          "TRA",
          "TRA",
          "TRA",
          "TRA",
          "TRA",
          "TRA",
          "TRA",
          "TRA",
          "TRA",
          "TRA",
          "TRA",
          "TRA",
          "TRA",
          "TRA"
         ],
         "y": [
          9.878078311916411,
          9.50003789528355,
          7.473029375770938,
          8.936793935081498,
          8.218305156482865,
          9.320839301274344,
          8.0697832632495,
          10.002732897118252,
          7.868786040045343,
          8.382187662858414,
          9.263313430302505,
          8.268034115042857,
          9.81618041968097,
          7.394015652976009,
          8.201360879572034,
          9.871996059026069,
          8.105349358913273,
          8.674424457036798,
          9.198304545786115,
          7.032013920283415,
          8.390644561519519,
          9.24198831253654,
          9.780950276460526,
          7.845785369249842,
          9.183970385527996,
          9.791882211739152,
          7.839353638839119,
          8.02577241210089,
          7.404400649558688,
          8.382488192754732,
          7.823004786113994,
          7.773262423265738,
          6.445010170865897,
          7.363961294901733,
          8.081334891576983,
          8.073298296624511,
          8.200257203384393,
          7.696157808816542,
          6.637090912215339,
          8.285587331547012,
          6.159924880537329,
          7.373316273349735,
          7.824661394436448,
          8.03613982150025,
          8.849085597927406,
          5.976672754419243,
          8.756096763869307,
          7.546090449680759,
          9.133044631357151,
          9.635131048460138,
          9.07135277048656,
          8.85765318976693,
          8.415879855926782,
          8.876994065186688,
          8.043018303548111,
          4.982594187208542,
          8.730528623273019,
          8.784201933288355,
          8.389309484949314,
          9.711030720318448,
          9.13183279421957,
          9.31229058826542,
          8.672922076098965,
          9.199585391946668,
          9.20031128714407,
          9.580181601217843,
          8.59934031677314,
          8.380570589009997,
          8.305049414504325,
          8.757224607610642,
          9.167189651222364,
          9.456192802039576,
          7.51864201499157,
          9.376187659735937,
          6.473128745591636,
          9.351223947415216,
          8.498381817070308,
          8.520882183476958,
          7.960613459106765,
          9.323240717978535,
          10.18612529616468,
          9.935196737547416,
          7.206933400392303,
          10.090126761139189,
          9.382842094521935
         ]
        },
        {
         "marker": {
          "color": "teal"
         },
         "name": "TRA 2 Severity 1",
         "type": "box",
         "x": [
          "TRA",
          "TRA",
          "TRA",
          "TRA",
          "TRA",
          "TRA",
          "TRA",
          "TRA",
          "TRA",
          "TRA",
          "TRA",
          "TRA",
          "TRA",
          "TRA",
          "TRA",
          "TRA",
          "TRA",
          "TRA",
          "TRA",
          "TRA",
          "TRA",
          "TRA",
          "TRA",
          "TRA",
          "TRA",
          "TRA",
          "TRA",
          "TRA",
          "TRA",
          "TRA",
          "TRA",
          "TRA",
          "TRA",
          "TRA",
          "TRA",
          "TRA",
          "TRA",
          "TRA",
          "TRA",
          "TRA",
          "TRA",
          "TRA",
          "TRA"
         ],
         "y": [
          8.138826636878928,
          8.142507813466223,
          9.721070182476703,
          8.825561368223276,
          8.618216422192836,
          8.598263738972237,
          7.721588669331949,
          8.70377828034286,
          7.963837946824256,
          10.12845682391649,
          9.921977046179103,
          8.378297696069499,
          8.190738621409269,
          8.071505955172801,
          7.994923680019421,
          8.422024891647483,
          6.963591679512258,
          8.024731344932672,
          9.179394707844168,
          8.207077287049474,
          8.498726836613853,
          8.588366774342521,
          8.96402323795304,
          9.191010795987388,
          8.09521872878298,
          8.424502782721943,
          7.02016687954791,
          9.7483155889151,
          9.84803858928077,
          8.88355303041347,
          8.494531845449867,
          7.881382228135412,
          7.672886996759972,
          8.117048043108394,
          6.501792582762273,
          9.198220843617774,
          6.888011694513505,
          8.435663271950329,
          9.481910343020033,
          5.266727712736174,
          9.550123240891793,
          9.730337468825049,
          10.291615725543142
         ]
        },
        {
         "marker": {
          "color": "teal"
         },
         "name": "TRA 3 Severity 1",
         "type": "box",
         "x": [
          "TRA",
          "TRA",
          "TRA",
          "TRA",
          "TRA",
          "TRA",
          "TRA",
          "TRA",
          "TRA",
          "TRA",
          "TRA",
          "TRA",
          "TRA",
          "TRA",
          "TRA",
          "TRA",
          "TRA",
          "TRA",
          "TRA",
          "TRA",
          "TRA",
          "TRA",
          "TRA",
          "TRA",
          "TRA",
          "TRA",
          "TRA",
          "TRA",
          "TRA",
          "TRA",
          "TRA",
          "TRA",
          "TRA",
          "TRA",
          "TRA",
          "TRA",
          "TRA",
          "TRA",
          "TRA",
          "TRA",
          "TRA",
          "TRA",
          "TRA",
          "TRA",
          "TRA",
          "TRA",
          "TRA",
          "TRA",
          "TRA",
          "TRA",
          "TRA",
          "TRA",
          "TRA",
          "TRA",
          "TRA",
          "TRA",
          "TRA",
          "TRA",
          "TRA",
          "TRA",
          "TRA",
          "TRA",
          "TRA",
          "TRA",
          "TRA",
          "TRA",
          "TRA"
         ],
         "y": [
          10.18177534475806,
          8.622739200089317,
          9.286505084493085,
          8.298651634529433,
          8.235079020818606,
          6.331571881741006,
          7.679634030918433,
          7.879327102742656,
          9.065052763137858,
          8.662541143809571,
          8.002232738414227,
          8.608345363971827,
          8.525576465437778,
          6.701330830222326,
          8.410170339894945,
          7.662208578144093,
          8.15636034123003,
          7.5720620483423104,
          9.035643038626043,
          8.79091077030078,
          8.638322654242598,
          7.510735699367157,
          9.129624699244316,
          8.262145068365845,
          7.653777114383333,
          9.17958543808412,
          7.566894672611455,
          8.03661705990651,
          9.075336282981649,
          7.884715691326678,
          7.348656604781474,
          9.473788535177317,
          8.127945954886751,
          8.720752277823845,
          8.646444136708405,
          7.257270008353815,
          7.093429430777243,
          6.512636032868699,
          5.0965980576660215,
          8.109879996846203,
          8.25802922102408,
          7.748935152657948,
          9.09524337525205,
          8.919899293739464,
          7.74400503369669,
          8.467864681330392,
          8.862968211897158,
          9.685494260358514,
          9.315972238549588,
          9.146580815138933,
          9.435483943591274,
          8.769978985898137,
          8.35945419168347,
          7.921481646226552,
          9.132459145615249,
          8.940443109332953,
          8.760342895405845,
          9.8008596979812,
          10.154505487691347,
          9.733102235918103,
          8.879866220649744,
          10.054625607714565,
          6.75021098515467,
          6.592370739629918,
          9.815313323697351,
          8.93698447884144,
          9.109235731023544
         ]
        },
        {
         "marker": {
          "color": "orange"
         },
         "name": "TRA 1 Severity 2",
         "type": "box",
         "x": [
          "TRA",
          "TRA",
          "TRA",
          "TRA",
          "TRA",
          "TRA",
          "TRA",
          "TRA",
          "TRA",
          "TRA",
          "TRA",
          "TRA",
          "TRA",
          "TRA",
          "TRA",
          "TRA",
          "TRA",
          "TRA",
          "TRA",
          "TRA",
          "TRA",
          "TRA",
          "TRA",
          "TRA",
          "TRA",
          "TRA",
          "TRA",
          "TRA",
          "TRA",
          "TRA",
          "TRA",
          "TRA",
          "TRA",
          "TRA",
          "TRA",
          "TRA",
          "TRA",
          "TRA",
          "TRA",
          "TRA",
          "TRA",
          "TRA",
          "TRA",
          "TRA",
          "TRA",
          "TRA",
          "TRA",
          "TRA",
          "TRA",
          "TRA",
          "TRA",
          "TRA",
          "TRA",
          "TRA",
          "TRA",
          "TRA",
          "TRA",
          "TRA",
          "TRA",
          "TRA",
          "TRA",
          "TRA",
          "TRA",
          "TRA",
          "TRA",
          "TRA",
          "TRA",
          "TRA",
          "TRA"
         ],
         "y": [
          9.731772950745626,
          9.432253266765931,
          9.903566040660987,
          9.363117569332053,
          7.769093742384452,
          7.31993178521564,
          8.49092881920446,
          8.223313027280689,
          7.705106184392762,
          6.864039622042846,
          6.404208764906741,
          9.862388886421884,
          8.865922296691245,
          7.385633079716207,
          8.16470845695447,
          9.103881767539116,
          8.35372445976442,
          10.450339760573486,
          9.100425106090167,
          8.940212936120448,
          8.160969869762438,
          9.474284836398525,
          8.868556507516795,
          8.890702959905365,
          8.360502242259594,
          9.091541947608189,
          8.373338039725569,
          8.564529453976236,
          7.777463872250264,
          7.939666370853172,
          7.964552147627534,
          8.573690867306313,
          8.463492761347208,
          9.400602849404024,
          8.27250642228903,
          7.8176884147701715,
          6.517385511088131,
          9.23571559110634,
          8.794229643389649,
          9.455729368311214,
          9.579280713451634,
          9.166273634383913,
          8.7003044971963,
          8.407277298290655,
          8.827784808365964,
          8.027223874243745,
          6.307667963495694,
          9.144098389975944,
          6.378670322701351,
          8.096627866426271,
          8.435745778310118,
          7.403525883312167,
          8.340551385104575,
          6.476976458792174,
          8.04272626100089,
          9.260178171387931,
          8.662532366462353,
          7.737664390064461,
          9.800960348901128,
          8.735044643871337,
          7.826847920648714,
          6.015986260294218,
          9.882980840769482,
          9.036167088547892,
          8.117330185201883,
          9.365333928097746,
          10.038615868469693,
          8.834136183813472,
          9.81364255552492
         ]
        },
        {
         "marker": {
          "color": "orange"
         },
         "name": "TRA 2 Severity 2",
         "type": "box",
         "x": [
          "TRA",
          "TRA",
          "TRA",
          "TRA",
          "TRA",
          "TRA",
          "TRA",
          "TRA",
          "TRA",
          "TRA",
          "TRA",
          "TRA",
          "TRA",
          "TRA",
          "TRA",
          "TRA",
          "TRA",
          "TRA",
          "TRA",
          "TRA",
          "TRA",
          "TRA",
          "TRA",
          "TRA",
          "TRA",
          "TRA",
          "TRA",
          "TRA",
          "TRA",
          "TRA",
          "TRA",
          "TRA",
          "TRA",
          "TRA",
          "TRA",
          "TRA",
          "TRA",
          "TRA",
          "TRA",
          "TRA",
          "TRA",
          "TRA",
          "TRA",
          "TRA",
          "TRA",
          "TRA",
          "TRA"
         ],
         "y": [
          9.742642176986612,
          7.530660641118712,
          8.664375062272475,
          8.134688814554686,
          8.308254081249023,
          7.069678561152959,
          9.68753920155092,
          7.354029197885292,
          8.433358976347611,
          7.266620544487722,
          10.149898742684424,
          8.241135985441211,
          7.819065164693898,
          8.170898214282536,
          8.289375848093524,
          8.550229106077731,
          8.043837735897219,
          7.793561309430166,
          7.969311344600249,
          7.759344734532046,
          9.79361533955844,
          8.539194043281418,
          9.159285911761058,
          8.274136130483575,
          8.030871981424985,
          7.762024808433045,
          7.698611920376237,
          8.028546474983244,
          8.204843943414748,
          8.6295782891644,
          8.382747144770157,
          8.907741360533294,
          8.703807793129181,
          7.521310842011341,
          8.821382398722314,
          8.050765189591523,
          8.19548309455734,
          9.282842510699524,
          9.117854050097652,
          8.976026042907215,
          10.085012462842576,
          9.345651834840536,
          9.624094622305746,
          7.319637655071595,
          9.434290382439093,
          8.521591139339993,
          9.74722381433139
         ]
        },
        {
         "marker": {
          "color": "orange"
         },
         "name": "TRA 3 Severity 2",
         "type": "box",
         "x": [
          "TRA",
          "TRA",
          "TRA",
          "TRA",
          "TRA",
          "TRA",
          "TRA",
          "TRA",
          "TRA",
          "TRA",
          "TRA",
          "TRA",
          "TRA",
          "TRA",
          "TRA",
          "TRA",
          "TRA",
          "TRA",
          "TRA",
          "TRA",
          "TRA",
          "TRA",
          "TRA",
          "TRA",
          "TRA",
          "TRA",
          "TRA",
          "TRA",
          "TRA",
          "TRA",
          "TRA",
          "TRA",
          "TRA",
          "TRA",
          "TRA",
          "TRA",
          "TRA",
          "TRA",
          "TRA",
          "TRA",
          "TRA",
          "TRA",
          "TRA",
          "TRA"
         ],
         "y": [
          8.758563158117184,
          8.591173200910747,
          7.582334163467824,
          8.326222994766084,
          8.51859458431928,
          7.232570414678146,
          8.028999290015202,
          8.066878970941183,
          8.07756306868258,
          7.501814195437088,
          9.18387216923739,
          6.903818134259711,
          7.013229182827,
          8.625918625096899,
          7.02429135240829,
          7.76809753964541,
          8.462040781162331,
          9.21615231246587,
          8.461859302656615,
          8.829297550148684,
          8.010731385029015,
          6.572995603218944,
          7.971477767534869,
          8.450392799414455,
          7.852622071809953,
          6.9943019720564354,
          8.228509420628257,
          8.164163952778619,
          8.367868848238643,
          6.9798560564313465,
          9.018111950451123,
          9.214210896291888,
          8.894502817757957,
          10.052266206229891,
          9.240097827867688,
          9.451296036165598,
          8.726472665755555,
          7.7165679332640496,
          8.22075684615788,
          4.59812814235544,
          7.814271962269811,
          7.867851014533015,
          9.46092913081623,
          9.728685547334496
         ]
        },
        {
         "marker": {
          "color": "tomato"
         },
         "name": "TRA 1 Severity 3",
         "type": "box",
         "x": [
          "TRA"
         ],
         "y": [
          8.516415863853625
         ]
        },
        {
         "marker": {
          "color": "tomato"
         },
         "name": "TRA 2 Severity 3",
         "type": "box",
         "x": [
          "TRA"
         ],
         "y": [
          8.852028635362986
         ]
        },
        {
         "marker": {
          "color": "brown"
         },
         "name": "TRA 1 Severity 4",
         "type": "box",
         "x": [
          "TRA"
         ],
         "y": [
          8.910111446704446
         ]
        },
        {
         "marker": {
          "color": "brown"
         },
         "name": "TRA 3 Severity 4",
         "type": "box",
         "x": [
          "TRA"
         ],
         "y": [
          8.349779441898797
         ]
        },
        {
         "marker": {
          "color": "darkblue"
         },
         "name": "TRB 1 Severity 0",
         "type": "box",
         "x": [
          "TRB",
          "TRB",
          "TRB",
          "TRB",
          "TRB",
          "TRB",
          "TRB",
          "TRB",
          "TRB",
          "TRB",
          "TRB",
          "TRB",
          "TRB",
          "TRB",
          "TRB",
          "TRB",
          "TRB",
          "TRB",
          "TRB",
          "TRB",
          "TRB",
          "TRB",
          "TRB",
          "TRB",
          "TRB",
          "TRB",
          "TRB",
          "TRB",
          "TRB",
          "TRB",
          "TRB",
          "TRB",
          "TRB",
          "TRB",
          "TRB",
          "TRB",
          "TRB",
          "TRB",
          "TRB",
          "TRB",
          "TRB",
          "TRB",
          "TRB",
          "TRB",
          "TRB",
          "TRB",
          "TRB",
          "TRB",
          "TRB",
          "TRB",
          "TRB",
          "TRB",
          "TRB",
          "TRB",
          "TRB",
          "TRB",
          "TRB",
          "TRB",
          "TRB"
         ],
         "y": [
          10.83918036375149,
          11.263307754457609,
          9.339375557752106,
          10.172139301751905,
          10.221501926385224,
          10.106957104152398,
          9.223945012784892,
          10.286702692271811,
          7.625753009640858,
          10.015886411664646,
          10.163956708637585,
          10.174239232355337,
          9.658156627491136,
          7.968294645986816,
          11.022533853349842,
          10.663950041955385,
          9.257846856843171,
          10.875342180646998,
          9.394540992212145,
          9.581943972868007,
          8.753920548614094,
          8.510577853568206,
          8.917320208482854,
          8.34508649229822,
          8.625812749899174,
          8.355481360161026,
          6.885641249664769,
          7.882260485794906,
          9.365497323263112,
          7.982412666581668,
          7.964112346503495,
          8.65512461691806,
          9.888342302099526,
          9.44437223575228,
          8.845897058959023,
          7.328060974094407,
          8.275079703126169,
          8.38995890488753,
          10.173440960728382,
          7.55801398503448,
          6.985579031325126,
          10.621878385895204,
          9.631691211262227,
          10.392150479578351,
          10.45657634218573,
          9.722405715617796,
          10.658044645958633,
          8.849860628513271,
          9.417165847272813,
          10.076556979322715,
          9.595977664855472,
          10.59000680639071,
          10.583191454218696,
          10.34541134733457,
          9.957066070353855,
          9.750783414505522,
          10.634519511290229,
          9.06270301123698,
          10.313020834857786
         ]
        },
        {
         "marker": {
          "color": "darkblue"
         },
         "name": "TRB 2 Severity 0",
         "type": "box",
         "x": [
          "TRB",
          "TRB"
         ],
         "y": [
          10.084174499906563,
          10.510702282260388
         ]
        },
        {
         "marker": {
          "color": "teal"
         },
         "name": "TRB 1 Severity 1",
         "type": "box",
         "x": [
          "TRB",
          "TRB",
          "TRB",
          "TRB",
          "TRB",
          "TRB",
          "TRB",
          "TRB",
          "TRB",
          "TRB",
          "TRB",
          "TRB",
          "TRB",
          "TRB",
          "TRB",
          "TRB",
          "TRB",
          "TRB",
          "TRB",
          "TRB",
          "TRB",
          "TRB",
          "TRB",
          "TRB",
          "TRB",
          "TRB",
          "TRB",
          "TRB",
          "TRB",
          "TRB",
          "TRB",
          "TRB",
          "TRB",
          "TRB",
          "TRB",
          "TRB",
          "TRB",
          "TRB",
          "TRB",
          "TRB",
          "TRB",
          "TRB",
          "TRB",
          "TRB",
          "TRB",
          "TRB",
          "TRB",
          "TRB",
          "TRB",
          "TRB",
          "TRB",
          "TRB",
          "TRB",
          "TRB",
          "TRB",
          "TRB",
          "TRB",
          "TRB",
          "TRB",
          "TRB",
          "TRB",
          "TRB",
          "TRB",
          "TRB",
          "TRB",
          "TRB",
          "TRB",
          "TRB",
          "TRB",
          "TRB",
          "TRB",
          "TRB",
          "TRB",
          "TRB",
          "TRB",
          "TRB",
          "TRB",
          "TRB",
          "TRB",
          "TRB",
          "TRB",
          "TRB",
          "TRB",
          "TRB",
          "TRB"
         ],
         "y": [
          10.937828051461096,
          10.13417456817905,
          8.614337856090657,
          9.741691445887431,
          8.107762944266021,
          9.616916460735084,
          8.97014620549338,
          11.183952445537772,
          9.201966261520838,
          9.858212580257876,
          10.32532201422871,
          9.21347785211466,
          11.031239052685232,
          8.361296868447694,
          9.384801341134605,
          11.006075648038884,
          8.834316250277261,
          9.59715228015816,
          10.53251903927631,
          5.925232989307961,
          9.422145866066536,
          10.240167244761816,
          10.995936644255051,
          8.662857142698616,
          10.087827046114215,
          10.882852123488798,
          7.211579660441098,
          9.341889692677348,
          8.477293196152047,
          9.178380883220337,
          8.150212558597719,
          8.536869203228825,
          7.172942964538555,
          7.723824388377611,
          8.73986487413575,
          8.477450902184692,
          9.010966236792475,
          9.000165946902035,
          7.549471601399137,
          9.59098935728256,
          6.879649875904713,
          8.958044966832576,
          8.470034433100453,
          8.701838014622771,
          10.27304320454848,
          7.220865065794061,
          9.52853251143222,
          8.53906117727413,
          10.278991638366968,
          10.397750820330666,
          9.957497846051329,
          9.87837521232081,
          9.730608176969945,
          10.047312064638078,
          8.595248041880124,
          6.535995953669611,
          9.62692226492615,
          9.242678136399531,
          9.03808755955455,
          10.650241319166788,
          10.03858768033931,
          10.090682421044097,
          8.863079812438134,
          9.7177783061431,
          9.244203061759444,
          10.536374880089642,
          8.821570380613583,
          9.584568156388302,
          9.49099717399744,
          9.253407305230663,
          9.847425821420469,
          10.43534707504075,
          7.911824279037392,
          9.865013853615954,
          7.03966383211192,
          10.143595540842504,
          9.550092802018655,
          9.40667296390452,
          8.853937823963882,
          10.48460405353302,
          11.202774334613032,
          10.652899416206546,
          8.367194595500791,
          11.134424591171992,
          10.44412414236972
         ]
        },
        {
         "marker": {
          "color": "teal"
         },
         "name": "TRB 2 Severity 1",
         "type": "box",
         "x": [
          "TRB",
          "TRB",
          "TRB",
          "TRB",
          "TRB",
          "TRB",
          "TRB",
          "TRB",
          "TRB",
          "TRB",
          "TRB",
          "TRB",
          "TRB",
          "TRB",
          "TRB",
          "TRB",
          "TRB",
          "TRB",
          "TRB",
          "TRB",
          "TRB",
          "TRB",
          "TRB",
          "TRB",
          "TRB",
          "TRB",
          "TRB",
          "TRB",
          "TRB",
          "TRB",
          "TRB",
          "TRB",
          "TRB",
          "TRB",
          "TRB",
          "TRB",
          "TRB",
          "TRB",
          "TRB",
          "TRB",
          "TRB",
          "TRB",
          "TRB"
         ],
         "y": [
          9.519017183470282,
          9.423486891496452,
          10.427133208785646,
          9.9626157851008,
          8.86262253059156,
          8.877637151095136,
          8.346305383535814,
          9.909162162401934,
          9.30362769775609,
          11.135553670229116,
          10.690529887297885,
          9.441965207210783,
          9.4758848336726,
          9.163527102159746,
          9.381706256956925,
          9.39490316654968,
          7.984413297253079,
          6.409743458585593,
          10.267749248787672,
          9.18847129216096,
          9.468429108757013,
          9.492555603674326,
          10.1351567794288,
          10.402139169026714,
          7.702406030464529,
          9.894069028183509,
          8.151366272679983,
          10.344827593204684,
          11.001862321921168,
          9.36808375770896,
          9.589115757492417,
          9.770151706283263,
          8.684750704132448,
          9.295566514704158,
          7.539054135722167,
          9.700117795924784,
          7.633953858468643,
          9.334062437286436,
          10.536958123850312,
          6.650546261356799,
          10.637359355020806,
          9.333762867815231,
          11.222035447007904
         ]
        },
        {
         "marker": {
          "color": "teal"
         },
         "name": "TRB 3 Severity 1",
         "type": "box",
         "x": [
          "TRB",
          "TRB",
          "TRB",
          "TRB",
          "TRB",
          "TRB",
          "TRB",
          "TRB",
          "TRB",
          "TRB",
          "TRB",
          "TRB",
          "TRB",
          "TRB",
          "TRB",
          "TRB",
          "TRB",
          "TRB",
          "TRB",
          "TRB",
          "TRB",
          "TRB",
          "TRB",
          "TRB",
          "TRB",
          "TRB",
          "TRB",
          "TRB",
          "TRB",
          "TRB",
          "TRB",
          "TRB",
          "TRB",
          "TRB",
          "TRB",
          "TRB",
          "TRB",
          "TRB",
          "TRB",
          "TRB",
          "TRB",
          "TRB",
          "TRB",
          "TRB",
          "TRB",
          "TRB",
          "TRB",
          "TRB",
          "TRB",
          "TRB",
          "TRB",
          "TRB",
          "TRB",
          "TRB",
          "TRB",
          "TRB",
          "TRB",
          "TRB",
          "TRB",
          "TRB",
          "TRB",
          "TRB",
          "TRB",
          "TRB",
          "TRB",
          "TRB",
          "TRB"
         ],
         "y": [
          11.120138380183782,
          9.53849190225358,
          10.293583961443051,
          8.573461814130594,
          8.525759733742603,
          7.269018149733013,
          8.022368096519969,
          9.270375361067574,
          10.215970956683156,
          9.595412241742732,
          8.975604934942348,
          9.76283576461386,
          9.37107133810502,
          7.639137889338966,
          9.595193043877837,
          7.953581976141642,
          9.535706211428703,
          6.0481425100324975,
          9.982889555333156,
          10.069233864537242,
          9.515293771216504,
          7.804805754456002,
          10.301146872327756,
          9.46044286279906,
          7.215159405340214,
          10.58994461559395,
          8.35173373627072,
          9.121552962830048,
          9.16339078846728,
          8.966628155018874,
          7.2234653501719635,
          9.887694127179964,
          8.971117187236935,
          9.640725710930624,
          9.440392515175082,
          8.481456474281522,
          7.915252729885388,
          7.771469787428555,
          6.494813927697096,
          9.271693308016108,
          8.885517888256214,
          8.6325140500962,
          10.32267118233155,
          9.831317314541618,
          8.79862877074147,
          9.216565020611212,
          9.91407639100672,
          10.41663337264974,
          10.056722622523903,
          10.107049320898698,
          10.375746012179253,
          10.03556754858251,
          8.445438963157859,
          8.82737440256368,
          10.135466184341327,
          10.054769455477222,
          9.318019644596642,
          11.137968043707332,
          11.11711761766801,
          10.63729590251031,
          9.123068391373428,
          10.974889941979317,
          7.708476529964932,
          7.501237117270189,
          10.870403416359526,
          9.95108398285749,
          10.151362493837194
         ]
        },
        {
         "marker": {
          "color": "orange"
         },
         "name": "TRB 1 Severity 2",
         "type": "box",
         "x": [
          "TRB",
          "TRB",
          "TRB",
          "TRB",
          "TRB",
          "TRB",
          "TRB",
          "TRB",
          "TRB",
          "TRB",
          "TRB",
          "TRB",
          "TRB",
          "TRB",
          "TRB",
          "TRB",
          "TRB",
          "TRB",
          "TRB",
          "TRB",
          "TRB",
          "TRB",
          "TRB",
          "TRB",
          "TRB",
          "TRB",
          "TRB",
          "TRB",
          "TRB",
          "TRB",
          "TRB",
          "TRB",
          "TRB",
          "TRB",
          "TRB",
          "TRB",
          "TRB",
          "TRB",
          "TRB",
          "TRB",
          "TRB",
          "TRB",
          "TRB",
          "TRB",
          "TRB",
          "TRB",
          "TRB",
          "TRB",
          "TRB",
          "TRB",
          "TRB",
          "TRB",
          "TRB",
          "TRB",
          "TRB",
          "TRB",
          "TRB",
          "TRB",
          "TRB",
          "TRB",
          "TRB",
          "TRB",
          "TRB",
          "TRB",
          "TRB",
          "TRB",
          "TRB",
          "TRB",
          "TRB"
         ],
         "y": [
          10.390183837586662,
          10.467071593276554,
          10.905863004484656,
          10.61870088731536,
          8.446847599296593,
          7.91520363063992,
          8.818058447132255,
          9.599005695407326,
          9.071716507252324,
          7.351877590400809,
          6.952799450501658,
          10.389989843974767,
          9.762963717941542,
          8.724861073411594,
          9.655692282433964,
          9.965688545132462,
          8.927373592602777,
          11.417448347261129,
          9.749017439609393,
          10.115576571620698,
          8.985929383421023,
          10.692096302893974,
          9.938683596613268,
          10.30702775038479,
          9.075854873354505,
          10.046033599782618,
          9.576137825573534,
          9.327588698376193,
          8.250072780889347,
          9.2351546286606,
          8.609561682517032,
          8.298472610418225,
          9.847114543932758,
          10.31077290690646,
          9.117872599021943,
          7.294215474740872,
          6.634246238060619,
          10.227963582060468,
          9.91687233424744,
          10.58361833932389,
          10.420453475068864,
          10.392348311700076,
          9.601441138242556,
          9.56130096317116,
          8.908144638988798,
          9.514283722581556,
          7.366696092785558,
          9.78843716161607,
          6.720940501596341,
          8.39359469196902,
          8.364363187283784,
          8.059428175322767,
          9.31163721615699,
          6.975868885251924,
          8.403743373591373,
          9.874213722849603,
          9.98285669317081,
          8.928830772346604,
          10.799270431304247,
          9.638621390127902,
          8.503084152745698,
          8.475347796657445,
          10.411771655206936,
          9.931280190080964,
          9.700530886969554,
          10.356101718259488,
          11.16031102928784,
          9.939934555918343,
          10.4733977980712
         ]
        },
        {
         "marker": {
          "color": "orange"
         },
         "name": "TRB 2 Severity 2",
         "type": "box",
         "x": [
          "TRB",
          "TRB",
          "TRB",
          "TRB",
          "TRB",
          "TRB",
          "TRB",
          "TRB",
          "TRB",
          "TRB",
          "TRB",
          "TRB",
          "TRB",
          "TRB",
          "TRB",
          "TRB",
          "TRB",
          "TRB",
          "TRB",
          "TRB",
          "TRB",
          "TRB",
          "TRB",
          "TRB",
          "TRB",
          "TRB",
          "TRB",
          "TRB",
          "TRB",
          "TRB",
          "TRB",
          "TRB",
          "TRB",
          "TRB",
          "TRB",
          "TRB",
          "TRB",
          "TRB",
          "TRB",
          "TRB",
          "TRB",
          "TRB",
          "TRB",
          "TRB",
          "TRB",
          "TRB",
          "TRB"
         ],
         "y": [
          10.80603531723938,
          8.755247737505782,
          9.975138734876362,
          8.57907886256033,
          8.58323340342315,
          7.27753643417173,
          10.342490106149947,
          8.581396492258541,
          7.896316968234458,
          7.581173119024164,
          10.224970456820117,
          8.942607792020517,
          9.042723440407713,
          9.705083502769224,
          8.914580085906138,
          9.60315769397639,
          9.417737599146976,
          8.561807456650568,
          9.16292921360226,
          8.650063569992673,
          10.9967913694952,
          9.797249708594649,
          10.31752253660608,
          9.16274845481251,
          8.748590706062846,
          8.654059839581063,
          8.953467152445228,
          9.176975341006068,
          9.35531527038338,
          9.909904012258764,
          9.23487547835764,
          9.503323752720242,
          9.657841415167372,
          8.689429566243254,
          9.622591486535937,
          8.720362254392146,
          8.636715341615707,
          9.977897380332978,
          10.118938454213128,
          9.596871877706668,
          11.10916886327869,
          10.08934505594361,
          10.235256382619776,
          9.300657868870813,
          10.789739690926403,
          9.632578082013032,
          10.550993711323676
         ]
        },
        {
         "marker": {
          "color": "orange"
         },
         "name": "TRB 3 Severity 2",
         "type": "box",
         "x": [
          "TRB",
          "TRB",
          "TRB",
          "TRB",
          "TRB",
          "TRB",
          "TRB",
          "TRB",
          "TRB",
          "TRB",
          "TRB",
          "TRB",
          "TRB",
          "TRB",
          "TRB",
          "TRB",
          "TRB",
          "TRB",
          "TRB",
          "TRB",
          "TRB",
          "TRB",
          "TRB",
          "TRB",
          "TRB",
          "TRB",
          "TRB",
          "TRB",
          "TRB",
          "TRB",
          "TRB",
          "TRB",
          "TRB",
          "TRB",
          "TRB",
          "TRB",
          "TRB",
          "TRB",
          "TRB",
          "TRB",
          "TRB",
          "TRB",
          "TRB",
          "TRB"
         ],
         "y": [
          9.852442920557351,
          8.805295039209087,
          7.497704093580988,
          9.377635542022748,
          9.353546609738494,
          6.828479377694466,
          8.409826921961722,
          8.104506165160766,
          8.792869640184795,
          8.909223503755902,
          10.165769679924,
          7.073169936028447,
          8.08385637067103,
          9.907879476848883,
          7.70770603884359,
          9.028486458951718,
          9.38707057523976,
          10.49157606275263,
          9.472251262448774,
          9.942253406131838,
          9.201385573234646,
          7.81670164850354,
          8.86804553815826,
          9.434415672990797,
          8.880771341414437,
          8.35386673836511,
          9.698569123247747,
          8.938136316499872,
          8.594149485967021,
          6.740596144942095,
          9.59087762830877,
          10.079084066105116,
          9.75179479454129,
          10.79653732463878,
          10.217919320773936,
          10.279786173346375,
          9.039113976797667,
          8.13069285061547,
          8.505257229821737,
          5.8750400271675325,
          8.614842067188503,
          9.867736951401222,
          10.168015469954426,
          10.553671686686377
         ]
        },
        {
         "marker": {
          "color": "tomato"
         },
         "name": "TRB 1 Severity 3",
         "type": "box",
         "x": [
          "TRB"
         ],
         "y": [
          10.124189085481106
         ]
        },
        {
         "marker": {
          "color": "tomato"
         },
         "name": "TRB 2 Severity 3",
         "type": "box",
         "x": [
          "TRB"
         ],
         "y": [
          10.333188917044389
         ]
        },
        {
         "marker": {
          "color": "brown"
         },
         "name": "TRB 1 Severity 4",
         "type": "box",
         "x": [
          "TRB"
         ],
         "y": [
          9.727157798042043
         ]
        },
        {
         "marker": {
          "color": "brown"
         },
         "name": "TRB 3 Severity 4",
         "type": "box",
         "x": [
          "TRB"
         ],
         "y": [
          10.097721124943703
         ]
        }
       ],
       "layout": {
        "boxmode": "group",
        "height": 500,
        "plot_bgcolor": "rgba(255, 255, 255, 1)",
        "template": {
         "data": {
          "bar": [
           {
            "error_x": {
             "color": "#2a3f5f"
            },
            "error_y": {
             "color": "#2a3f5f"
            },
            "marker": {
             "line": {
              "color": "#E5ECF6",
              "width": 0.5
             },
             "pattern": {
              "fillmode": "overlay",
              "size": 10,
              "solidity": 0.2
             }
            },
            "type": "bar"
           }
          ],
          "barpolar": [
           {
            "marker": {
             "line": {
              "color": "#E5ECF6",
              "width": 0.5
             },
             "pattern": {
              "fillmode": "overlay",
              "size": 10,
              "solidity": 0.2
             }
            },
            "type": "barpolar"
           }
          ],
          "carpet": [
           {
            "aaxis": {
             "endlinecolor": "#2a3f5f",
             "gridcolor": "white",
             "linecolor": "white",
             "minorgridcolor": "white",
             "startlinecolor": "#2a3f5f"
            },
            "baxis": {
             "endlinecolor": "#2a3f5f",
             "gridcolor": "white",
             "linecolor": "white",
             "minorgridcolor": "white",
             "startlinecolor": "#2a3f5f"
            },
            "type": "carpet"
           }
          ],
          "choropleth": [
           {
            "colorbar": {
             "outlinewidth": 0,
             "ticks": ""
            },
            "type": "choropleth"
           }
          ],
          "contour": [
           {
            "colorbar": {
             "outlinewidth": 0,
             "ticks": ""
            },
            "colorscale": [
             [
              0,
              "#0d0887"
             ],
             [
              0.1111111111111111,
              "#46039f"
             ],
             [
              0.2222222222222222,
              "#7201a8"
             ],
             [
              0.3333333333333333,
              "#9c179e"
             ],
             [
              0.4444444444444444,
              "#bd3786"
             ],
             [
              0.5555555555555556,
              "#d8576b"
             ],
             [
              0.6666666666666666,
              "#ed7953"
             ],
             [
              0.7777777777777778,
              "#fb9f3a"
             ],
             [
              0.8888888888888888,
              "#fdca26"
             ],
             [
              1,
              "#f0f921"
             ]
            ],
            "type": "contour"
           }
          ],
          "contourcarpet": [
           {
            "colorbar": {
             "outlinewidth": 0,
             "ticks": ""
            },
            "type": "contourcarpet"
           }
          ],
          "heatmap": [
           {
            "colorbar": {
             "outlinewidth": 0,
             "ticks": ""
            },
            "colorscale": [
             [
              0,
              "#0d0887"
             ],
             [
              0.1111111111111111,
              "#46039f"
             ],
             [
              0.2222222222222222,
              "#7201a8"
             ],
             [
              0.3333333333333333,
              "#9c179e"
             ],
             [
              0.4444444444444444,
              "#bd3786"
             ],
             [
              0.5555555555555556,
              "#d8576b"
             ],
             [
              0.6666666666666666,
              "#ed7953"
             ],
             [
              0.7777777777777778,
              "#fb9f3a"
             ],
             [
              0.8888888888888888,
              "#fdca26"
             ],
             [
              1,
              "#f0f921"
             ]
            ],
            "type": "heatmap"
           }
          ],
          "heatmapgl": [
           {
            "colorbar": {
             "outlinewidth": 0,
             "ticks": ""
            },
            "colorscale": [
             [
              0,
              "#0d0887"
             ],
             [
              0.1111111111111111,
              "#46039f"
             ],
             [
              0.2222222222222222,
              "#7201a8"
             ],
             [
              0.3333333333333333,
              "#9c179e"
             ],
             [
              0.4444444444444444,
              "#bd3786"
             ],
             [
              0.5555555555555556,
              "#d8576b"
             ],
             [
              0.6666666666666666,
              "#ed7953"
             ],
             [
              0.7777777777777778,
              "#fb9f3a"
             ],
             [
              0.8888888888888888,
              "#fdca26"
             ],
             [
              1,
              "#f0f921"
             ]
            ],
            "type": "heatmapgl"
           }
          ],
          "histogram": [
           {
            "marker": {
             "pattern": {
              "fillmode": "overlay",
              "size": 10,
              "solidity": 0.2
             }
            },
            "type": "histogram"
           }
          ],
          "histogram2d": [
           {
            "colorbar": {
             "outlinewidth": 0,
             "ticks": ""
            },
            "colorscale": [
             [
              0,
              "#0d0887"
             ],
             [
              0.1111111111111111,
              "#46039f"
             ],
             [
              0.2222222222222222,
              "#7201a8"
             ],
             [
              0.3333333333333333,
              "#9c179e"
             ],
             [
              0.4444444444444444,
              "#bd3786"
             ],
             [
              0.5555555555555556,
              "#d8576b"
             ],
             [
              0.6666666666666666,
              "#ed7953"
             ],
             [
              0.7777777777777778,
              "#fb9f3a"
             ],
             [
              0.8888888888888888,
              "#fdca26"
             ],
             [
              1,
              "#f0f921"
             ]
            ],
            "type": "histogram2d"
           }
          ],
          "histogram2dcontour": [
           {
            "colorbar": {
             "outlinewidth": 0,
             "ticks": ""
            },
            "colorscale": [
             [
              0,
              "#0d0887"
             ],
             [
              0.1111111111111111,
              "#46039f"
             ],
             [
              0.2222222222222222,
              "#7201a8"
             ],
             [
              0.3333333333333333,
              "#9c179e"
             ],
             [
              0.4444444444444444,
              "#bd3786"
             ],
             [
              0.5555555555555556,
              "#d8576b"
             ],
             [
              0.6666666666666666,
              "#ed7953"
             ],
             [
              0.7777777777777778,
              "#fb9f3a"
             ],
             [
              0.8888888888888888,
              "#fdca26"
             ],
             [
              1,
              "#f0f921"
             ]
            ],
            "type": "histogram2dcontour"
           }
          ],
          "mesh3d": [
           {
            "colorbar": {
             "outlinewidth": 0,
             "ticks": ""
            },
            "type": "mesh3d"
           }
          ],
          "parcoords": [
           {
            "line": {
             "colorbar": {
              "outlinewidth": 0,
              "ticks": ""
             }
            },
            "type": "parcoords"
           }
          ],
          "pie": [
           {
            "automargin": true,
            "type": "pie"
           }
          ],
          "scatter": [
           {
            "fillpattern": {
             "fillmode": "overlay",
             "size": 10,
             "solidity": 0.2
            },
            "type": "scatter"
           }
          ],
          "scatter3d": [
           {
            "line": {
             "colorbar": {
              "outlinewidth": 0,
              "ticks": ""
             }
            },
            "marker": {
             "colorbar": {
              "outlinewidth": 0,
              "ticks": ""
             }
            },
            "type": "scatter3d"
           }
          ],
          "scattercarpet": [
           {
            "marker": {
             "colorbar": {
              "outlinewidth": 0,
              "ticks": ""
             }
            },
            "type": "scattercarpet"
           }
          ],
          "scattergeo": [
           {
            "marker": {
             "colorbar": {
              "outlinewidth": 0,
              "ticks": ""
             }
            },
            "type": "scattergeo"
           }
          ],
          "scattergl": [
           {
            "marker": {
             "colorbar": {
              "outlinewidth": 0,
              "ticks": ""
             }
            },
            "type": "scattergl"
           }
          ],
          "scattermapbox": [
           {
            "marker": {
             "colorbar": {
              "outlinewidth": 0,
              "ticks": ""
             }
            },
            "type": "scattermapbox"
           }
          ],
          "scatterpolar": [
           {
            "marker": {
             "colorbar": {
              "outlinewidth": 0,
              "ticks": ""
             }
            },
            "type": "scatterpolar"
           }
          ],
          "scatterpolargl": [
           {
            "marker": {
             "colorbar": {
              "outlinewidth": 0,
              "ticks": ""
             }
            },
            "type": "scatterpolargl"
           }
          ],
          "scatterternary": [
           {
            "marker": {
             "colorbar": {
              "outlinewidth": 0,
              "ticks": ""
             }
            },
            "type": "scatterternary"
           }
          ],
          "surface": [
           {
            "colorbar": {
             "outlinewidth": 0,
             "ticks": ""
            },
            "colorscale": [
             [
              0,
              "#0d0887"
             ],
             [
              0.1111111111111111,
              "#46039f"
             ],
             [
              0.2222222222222222,
              "#7201a8"
             ],
             [
              0.3333333333333333,
              "#9c179e"
             ],
             [
              0.4444444444444444,
              "#bd3786"
             ],
             [
              0.5555555555555556,
              "#d8576b"
             ],
             [
              0.6666666666666666,
              "#ed7953"
             ],
             [
              0.7777777777777778,
              "#fb9f3a"
             ],
             [
              0.8888888888888888,
              "#fdca26"
             ],
             [
              1,
              "#f0f921"
             ]
            ],
            "type": "surface"
           }
          ],
          "table": [
           {
            "cells": {
             "fill": {
              "color": "#EBF0F8"
             },
             "line": {
              "color": "white"
             }
            },
            "header": {
             "fill": {
              "color": "#C8D4E3"
             },
             "line": {
              "color": "white"
             }
            },
            "type": "table"
           }
          ]
         },
         "layout": {
          "annotationdefaults": {
           "arrowcolor": "#2a3f5f",
           "arrowhead": 0,
           "arrowwidth": 1
          },
          "autotypenumbers": "strict",
          "coloraxis": {
           "colorbar": {
            "outlinewidth": 0,
            "ticks": ""
           }
          },
          "colorscale": {
           "diverging": [
            [
             0,
             "#8e0152"
            ],
            [
             0.1,
             "#c51b7d"
            ],
            [
             0.2,
             "#de77ae"
            ],
            [
             0.3,
             "#f1b6da"
            ],
            [
             0.4,
             "#fde0ef"
            ],
            [
             0.5,
             "#f7f7f7"
            ],
            [
             0.6,
             "#e6f5d0"
            ],
            [
             0.7,
             "#b8e186"
            ],
            [
             0.8,
             "#7fbc41"
            ],
            [
             0.9,
             "#4d9221"
            ],
            [
             1,
             "#276419"
            ]
           ],
           "sequential": [
            [
             0,
             "#0d0887"
            ],
            [
             0.1111111111111111,
             "#46039f"
            ],
            [
             0.2222222222222222,
             "#7201a8"
            ],
            [
             0.3333333333333333,
             "#9c179e"
            ],
            [
             0.4444444444444444,
             "#bd3786"
            ],
            [
             0.5555555555555556,
             "#d8576b"
            ],
            [
             0.6666666666666666,
             "#ed7953"
            ],
            [
             0.7777777777777778,
             "#fb9f3a"
            ],
            [
             0.8888888888888888,
             "#fdca26"
            ],
            [
             1,
             "#f0f921"
            ]
           ],
           "sequentialminus": [
            [
             0,
             "#0d0887"
            ],
            [
             0.1111111111111111,
             "#46039f"
            ],
            [
             0.2222222222222222,
             "#7201a8"
            ],
            [
             0.3333333333333333,
             "#9c179e"
            ],
            [
             0.4444444444444444,
             "#bd3786"
            ],
            [
             0.5555555555555556,
             "#d8576b"
            ],
            [
             0.6666666666666666,
             "#ed7953"
            ],
            [
             0.7777777777777778,
             "#fb9f3a"
            ],
            [
             0.8888888888888888,
             "#fdca26"
            ],
            [
             1,
             "#f0f921"
            ]
           ]
          },
          "colorway": [
           "#636efa",
           "#EF553B",
           "#00cc96",
           "#ab63fa",
           "#FFA15A",
           "#19d3f3",
           "#FF6692",
           "#B6E880",
           "#FF97FF",
           "#FECB52"
          ],
          "font": {
           "color": "#2a3f5f"
          },
          "geo": {
           "bgcolor": "white",
           "lakecolor": "white",
           "landcolor": "#E5ECF6",
           "showlakes": true,
           "showland": true,
           "subunitcolor": "white"
          },
          "hoverlabel": {
           "align": "left"
          },
          "hovermode": "closest",
          "mapbox": {
           "style": "light"
          },
          "paper_bgcolor": "white",
          "plot_bgcolor": "#E5ECF6",
          "polar": {
           "angularaxis": {
            "gridcolor": "white",
            "linecolor": "white",
            "ticks": ""
           },
           "bgcolor": "#E5ECF6",
           "radialaxis": {
            "gridcolor": "white",
            "linecolor": "white",
            "ticks": ""
           }
          },
          "scene": {
           "xaxis": {
            "backgroundcolor": "#E5ECF6",
            "gridcolor": "white",
            "gridwidth": 2,
            "linecolor": "white",
            "showbackground": true,
            "ticks": "",
            "zerolinecolor": "white"
           },
           "yaxis": {
            "backgroundcolor": "#E5ECF6",
            "gridcolor": "white",
            "gridwidth": 2,
            "linecolor": "white",
            "showbackground": true,
            "ticks": "",
            "zerolinecolor": "white"
           },
           "zaxis": {
            "backgroundcolor": "#E5ECF6",
            "gridcolor": "white",
            "gridwidth": 2,
            "linecolor": "white",
            "showbackground": true,
            "ticks": "",
            "zerolinecolor": "white"
           }
          },
          "shapedefaults": {
           "line": {
            "color": "#2a3f5f"
           }
          },
          "ternary": {
           "aaxis": {
            "gridcolor": "white",
            "linecolor": "white",
            "ticks": ""
           },
           "baxis": {
            "gridcolor": "white",
            "linecolor": "white",
            "ticks": ""
           },
           "bgcolor": "#E5ECF6",
           "caxis": {
            "gridcolor": "white",
            "linecolor": "white",
            "ticks": ""
           }
          },
          "title": {
           "x": 0.05
          },
          "xaxis": {
           "automargin": true,
           "gridcolor": "white",
           "linecolor": "white",
           "ticks": "",
           "title": {
            "standoff": 15
           },
           "zerolinecolor": "white",
           "zerolinewidth": 2
          },
          "yaxis": {
           "automargin": true,
           "gridcolor": "white",
           "linecolor": "white",
           "ticks": "",
           "title": {
            "standoff": 15
           },
           "zerolinecolor": "white",
           "zerolinewidth": 2
          }
         }
        },
        "title": {
         "text": "Time point comparison of TCR 01"
        },
        "width": 2000,
        "xaxis": {
         "title": {
          "text": "Time Point"
         }
        },
        "yaxis": {
         "gridcolor": "lightgray",
         "range": [
          2,
          12
         ],
         "tickfont": {
          "size": 15
         },
         "title": {
          "font": {
           "size": 20
          },
          "text": "Shannon Diversity"
         }
        }
       }
      }
     },
     "metadata": {},
     "output_type": "display_data"
    },
    {
     "data": {
      "application/vnd.plotly.v1+json": {
       "config": {
        "plotlyServerURL": "https://plot.ly"
       },
       "data": [
        {
         "marker": {
          "color": "darkblue"
         },
         "name": "TRA 1 Severity 0",
         "type": "box",
         "x": [
          "TRA",
          "TRA",
          "TRA",
          "TRA",
          "TRA",
          "TRA",
          "TRA",
          "TRA",
          "TRA",
          "TRA",
          "TRA",
          "TRA",
          "TRA",
          "TRA",
          "TRA",
          "TRA",
          "TRA",
          "TRA",
          "TRA",
          "TRA",
          "TRA",
          "TRA"
         ],
         "y": [
          8.29391857976186,
          8.390783183568756,
          7.688579501638074,
          7.05912047432777,
          6.598667070885647,
          8.219958082645883,
          8.68365505268107,
          8.849706137757156,
          8.134083794728134,
          7.644324600250631,
          7.535527937291957,
          9.07291871313677,
          8.869875097995784,
          9.31968481665465,
          9.247293440841256,
          6.949158503962102,
          8.513078098806593,
          8.67766111734876,
          9.71150042058169,
          8.920927462647633,
          6.762853495473636,
          9.222876582876529
         ]
        },
        {
         "marker": {
          "color": "orange"
         },
         "name": "TRA 1 Severity 2",
         "type": "box",
         "x": [
          "TRA",
          "TRA"
         ],
         "y": [
          7.592192486364036,
          7.775662662300647
         ]
        },
        {
         "marker": {
          "color": "orange"
         },
         "name": "TRA 2 Severity 2",
         "type": "box",
         "x": [
          "TRA",
          "TRA",
          "TRA"
         ],
         "y": [
          8.310860699252485,
          7.698454710433554,
          8.21975858671744
         ]
        },
        {
         "marker": {
          "color": "orange"
         },
         "name": "TRA 3 Severity 2",
         "type": "box",
         "x": [
          "TRA"
         ],
         "y": [
          7.730653600580363
         ]
        },
        {
         "marker": {
          "color": "orange"
         },
         "name": "TRA 4 Severity 2",
         "type": "box",
         "x": [
          "TRA",
          "TRA"
         ],
         "y": [
          5.916282712949848,
          7.918370493927856
         ]
        },
        {
         "marker": {
          "color": "tomato"
         },
         "name": "TRA 1 Severity 3",
         "type": "box",
         "x": [
          "TRA",
          "TRA",
          "TRA",
          "TRA",
          "TRA",
          "TRA",
          "TRA",
          "TRA",
          "TRA"
         ],
         "y": [
          8.431428552812253,
          8.871338618639461,
          4.81324953267519,
          6.5130653782602455,
          8.68174189898679,
          7.477894669431552,
          7.269566484568529,
          9.44920391405772,
          8.697321218760566
         ]
        },
        {
         "marker": {
          "color": "tomato"
         },
         "name": "TRA 2 Severity 3",
         "type": "box",
         "x": [
          "TRA",
          "TRA",
          "TRA",
          "TRA",
          "TRA",
          "TRA",
          "TRA",
          "TRA",
          "TRA"
         ],
         "y": [
          8.366709870272539,
          7.222100139021714,
          8.483297792680114,
          8.392393978287796,
          9.858350552481507,
          8.062332801867687,
          8.221125798346522,
          9.355046239054529,
          8.641403997539168
         ]
        },
        {
         "marker": {
          "color": "tomato"
         },
         "name": "TRA 3 Severity 3",
         "type": "box",
         "x": [
          "TRA",
          "TRA",
          "TRA",
          "TRA",
          "TRA",
          "TRA",
          "TRA",
          "TRA"
         ],
         "y": [
          9.287935270370433,
          8.276528657891697,
          9.33685602284802,
          10.016606816033878,
          9.264301731304004,
          7.403874665471687,
          9.375327531108598,
          8.67932437113832
         ]
        },
        {
         "marker": {
          "color": "tomato"
         },
         "name": "TRA 4 Severity 3",
         "type": "box",
         "x": [
          "TRA",
          "TRA",
          "TRA",
          "TRA",
          "TRA",
          "TRA",
          "TRA"
         ],
         "y": [
          9.164697735973808,
          9.141442598606911,
          9.74569213011178,
          9.464232058686465,
          7.65502229309283,
          9.607589551758233,
          7.855760285902165
         ]
        },
        {
         "marker": {
          "color": "brown"
         },
         "name": "TRA 1 Severity 4",
         "type": "box",
         "x": [
          "TRA",
          "TRA",
          "TRA",
          "TRA",
          "TRA",
          "TRA",
          "TRA",
          "TRA",
          "TRA",
          "TRA"
         ],
         "y": [
          4.009027356069824,
          4.9552460607516124,
          5.7632090459671055,
          4.105816235875721,
          8.282198170764017,
          8.92580981799759,
          7.986986081704808,
          6.775626291060068,
          9.098252481923623,
          5.777147368445179
         ]
        },
        {
         "marker": {
          "color": "brown"
         },
         "name": "TRA 2 Severity 4",
         "type": "box",
         "x": [
          "TRA",
          "TRA",
          "TRA",
          "TRA",
          "TRA",
          "TRA",
          "TRA",
          "TRA",
          "TRA",
          "TRA",
          "TRA",
          "TRA",
          "TRA",
          "TRA",
          "TRA",
          "TRA"
         ],
         "y": [
          5.751116950063865,
          7.274524619970133,
          8.37294614556822,
          6.540706703255749,
          6.813046039677475,
          8.299550269611975,
          6.965371857301743,
          7.575035638925364,
          5.3382242463718175,
          8.106076586393945,
          8.90088749913586,
          9.367276708514831,
          8.608524171949778,
          6.374728276436043,
          9.298999588197807,
          4.990752235319741
         ]
        },
        {
         "marker": {
          "color": "brown"
         },
         "name": "TRA 3 Severity 4",
         "type": "box",
         "x": [
          "TRA",
          "TRA",
          "TRA",
          "TRA",
          "TRA",
          "TRA",
          "TRA",
          "TRA",
          "TRA",
          "TRA",
          "TRA",
          "TRA",
          "TRA"
         ],
         "y": [
          8.323525796009646,
          8.865349168158557,
          7.068036469666198,
          6.749763772802793,
          7.905611779574348,
          7.800308187592171,
          7.059696791387195,
          9.047906212654354,
          8.56464851372761,
          8.68304651965456,
          9.099507450958331,
          9.689424482555816,
          5.706910958161827
         ]
        },
        {
         "marker": {
          "color": "brown"
         },
         "name": "TRA 4 Severity 4",
         "type": "box",
         "x": [
          "TRA",
          "TRA",
          "TRA",
          "TRA",
          "TRA",
          "TRA",
          "TRA",
          "TRA"
         ],
         "y": [
          8.778570037854545,
          7.1836681210383055,
          7.698180140187389,
          9.826245013833036,
          9.147963548957188,
          7.155138231470148,
          9.262473986052363,
          9.351871641374975
         ]
        },
        {
         "marker": {
          "color": "darkblue"
         },
         "name": "TRB 1 Severity 0",
         "type": "box",
         "x": [
          "TRB",
          "TRB",
          "TRB",
          "TRB",
          "TRB",
          "TRB",
          "TRB",
          "TRB",
          "TRB",
          "TRB",
          "TRB",
          "TRB",
          "TRB",
          "TRB",
          "TRB",
          "TRB",
          "TRB",
          "TRB",
          "TRB",
          "TRB",
          "TRB",
          "TRB"
         ],
         "y": [
          9.476591859043817,
          9.510972636534852,
          8.702598149587084,
          8.233639259875243,
          8.421466330219426,
          9.213481445146442,
          9.936104413912217,
          10.146535200770236,
          9.10975038944456,
          7.932902509676019,
          8.700313241626018,
          10.03892672848772,
          9.914467616239609,
          10.302184101306617,
          10.700170251483344,
          7.843408310293328,
          9.26904575687977,
          9.530288574568024,
          10.833875944023037,
          10.212845968008928,
          7.043004108636272,
          10.179223174270977
         ]
        },
        {
         "marker": {
          "color": "orange"
         },
         "name": "TRB 1 Severity 2",
         "type": "box",
         "x": [
          "TRB",
          "TRB"
         ],
         "y": [
          8.106644786410024,
          8.423179973906299
         ]
        },
        {
         "marker": {
          "color": "orange"
         },
         "name": "TRB 2 Severity 2",
         "type": "box",
         "x": [
          "TRB",
          "TRB",
          "TRB"
         ],
         "y": [
          8.786932638701801,
          7.949838925247906,
          9.115390633590962
         ]
        },
        {
         "marker": {
          "color": "orange"
         },
         "name": "TRB 3 Severity 2",
         "type": "box",
         "x": [
          "TRB"
         ],
         "y": [
          9.18492832684828
         ]
        },
        {
         "marker": {
          "color": "orange"
         },
         "name": "TRB 4 Severity 2",
         "type": "box",
         "x": [
          "TRB",
          "TRB"
         ],
         "y": [
          6.936064050604082,
          8.495310528604055
         ]
        },
        {
         "marker": {
          "color": "tomato"
         },
         "name": "TRB 1 Severity 3",
         "type": "box",
         "x": [
          "TRB",
          "TRB",
          "TRB",
          "TRB",
          "TRB",
          "TRB",
          "TRB",
          "TRB",
          "TRB"
         ],
         "y": [
          9.549393851994562,
          9.944069840371638,
          5.935877842941411,
          7.2963518696439165,
          9.841933475566355,
          7.622473246541094,
          8.190406350353127,
          10.556764594180656,
          9.62226528101804
         ]
        },
        {
         "marker": {
          "color": "tomato"
         },
         "name": "TRB 2 Severity 3",
         "type": "box",
         "x": [
          "TRB",
          "TRB",
          "TRB",
          "TRB",
          "TRB",
          "TRB",
          "TRB",
          "TRB",
          "TRB"
         ],
         "y": [
          9.54851723348429,
          7.880364825935165,
          9.555548550734567,
          9.364143290474969,
          11.504286263006607,
          8.138329471924083,
          9.197437836077295,
          10.548388230073472,
          9.773247280848755
         ]
        },
        {
         "marker": {
          "color": "tomato"
         },
         "name": "TRB 3 Severity 3",
         "type": "box",
         "x": [
          "TRB",
          "TRB",
          "TRB",
          "TRB",
          "TRB",
          "TRB",
          "TRB",
          "TRB"
         ],
         "y": [
          10.33562451819644,
          9.246691280026988,
          10.666576240578587,
          10.864017635672138,
          11.030864605854712,
          7.367097422872777,
          10.47226025170916,
          10.44200277540157
         ]
        },
        {
         "marker": {
          "color": "tomato"
         },
         "name": "TRB 4 Severity 3",
         "type": "box",
         "x": [
          "TRB",
          "TRB",
          "TRB",
          "TRB",
          "TRB",
          "TRB",
          "TRB"
         ],
         "y": [
          10.284323501886195,
          10.398099613024009,
          10.83007768126588,
          10.803801166096404,
          7.598218087313207,
          10.380122435417672,
          8.910294460662806
         ]
        },
        {
         "marker": {
          "color": "brown"
         },
         "name": "TRB 1 Severity 4",
         "type": "box",
         "x": [
          "TRB",
          "TRB",
          "TRB",
          "TRB",
          "TRB",
          "TRB",
          "TRB",
          "TRB",
          "TRB",
          "TRB"
         ],
         "y": [
          5.198822679522984,
          6.155235470909639,
          6.994110842893938,
          4.167859635754844,
          9.751816929188724,
          9.971797206862762,
          8.920393649391633,
          7.689873774372959,
          10.256227539072253,
          5.791791942401504
         ]
        },
        {
         "marker": {
          "color": "brown"
         },
         "name": "TRB 2 Severity 4",
         "type": "box",
         "x": [
          "TRB",
          "TRB",
          "TRB",
          "TRB",
          "TRB",
          "TRB",
          "TRB",
          "TRB",
          "TRB",
          "TRB",
          "TRB",
          "TRB",
          "TRB",
          "TRB",
          "TRB",
          "TRB"
         ],
         "y": [
          6.575651641091923,
          8.304743877336836,
          9.266819087131736,
          6.843484974691251,
          7.520862416871544,
          9.79055091769773,
          8.126629713402433,
          8.221428043062568,
          5.241531786785516,
          9.432219831202232,
          10.063616757648733,
          10.388613387109222,
          9.647423096093451,
          6.885230984324717,
          10.336191475698948,
          5.156036433833259
         ]
        },
        {
         "marker": {
          "color": "brown"
         },
         "name": "TRB 3 Severity 4",
         "type": "box",
         "x": [
          "TRB",
          "TRB",
          "TRB",
          "TRB",
          "TRB",
          "TRB",
          "TRB",
          "TRB",
          "TRB",
          "TRB",
          "TRB",
          "TRB",
          "TRB"
         ],
         "y": [
          9.435499154421892,
          9.978213385367832,
          6.842345306316734,
          7.47684913065357,
          8.948868492317935,
          9.376839325494291,
          8.055201084057027,
          10.145963965859364,
          9.74939667702921,
          10.344285768795023,
          10.724878762696887,
          10.5741815185993,
          5.469933459894512
         ]
        },
        {
         "marker": {
          "color": "brown"
         },
         "name": "TRB 4 Severity 4",
         "type": "box",
         "x": [
          "TRB",
          "TRB",
          "TRB",
          "TRB",
          "TRB",
          "TRB",
          "TRB",
          "TRB"
         ],
         "y": [
          10.449526107190277,
          8.5471434619123,
          9.257413116587124,
          10.779274483436105,
          9.75645920596468,
          8.125888831555203,
          10.588804678103685,
          10.325052970190102
         ]
        }
       ],
       "layout": {
        "boxmode": "group",
        "height": 500,
        "plot_bgcolor": "rgba(255, 255, 255, 1)",
        "template": {
         "data": {
          "bar": [
           {
            "error_x": {
             "color": "#2a3f5f"
            },
            "error_y": {
             "color": "#2a3f5f"
            },
            "marker": {
             "line": {
              "color": "#E5ECF6",
              "width": 0.5
             },
             "pattern": {
              "fillmode": "overlay",
              "size": 10,
              "solidity": 0.2
             }
            },
            "type": "bar"
           }
          ],
          "barpolar": [
           {
            "marker": {
             "line": {
              "color": "#E5ECF6",
              "width": 0.5
             },
             "pattern": {
              "fillmode": "overlay",
              "size": 10,
              "solidity": 0.2
             }
            },
            "type": "barpolar"
           }
          ],
          "carpet": [
           {
            "aaxis": {
             "endlinecolor": "#2a3f5f",
             "gridcolor": "white",
             "linecolor": "white",
             "minorgridcolor": "white",
             "startlinecolor": "#2a3f5f"
            },
            "baxis": {
             "endlinecolor": "#2a3f5f",
             "gridcolor": "white",
             "linecolor": "white",
             "minorgridcolor": "white",
             "startlinecolor": "#2a3f5f"
            },
            "type": "carpet"
           }
          ],
          "choropleth": [
           {
            "colorbar": {
             "outlinewidth": 0,
             "ticks": ""
            },
            "type": "choropleth"
           }
          ],
          "contour": [
           {
            "colorbar": {
             "outlinewidth": 0,
             "ticks": ""
            },
            "colorscale": [
             [
              0,
              "#0d0887"
             ],
             [
              0.1111111111111111,
              "#46039f"
             ],
             [
              0.2222222222222222,
              "#7201a8"
             ],
             [
              0.3333333333333333,
              "#9c179e"
             ],
             [
              0.4444444444444444,
              "#bd3786"
             ],
             [
              0.5555555555555556,
              "#d8576b"
             ],
             [
              0.6666666666666666,
              "#ed7953"
             ],
             [
              0.7777777777777778,
              "#fb9f3a"
             ],
             [
              0.8888888888888888,
              "#fdca26"
             ],
             [
              1,
              "#f0f921"
             ]
            ],
            "type": "contour"
           }
          ],
          "contourcarpet": [
           {
            "colorbar": {
             "outlinewidth": 0,
             "ticks": ""
            },
            "type": "contourcarpet"
           }
          ],
          "heatmap": [
           {
            "colorbar": {
             "outlinewidth": 0,
             "ticks": ""
            },
            "colorscale": [
             [
              0,
              "#0d0887"
             ],
             [
              0.1111111111111111,
              "#46039f"
             ],
             [
              0.2222222222222222,
              "#7201a8"
             ],
             [
              0.3333333333333333,
              "#9c179e"
             ],
             [
              0.4444444444444444,
              "#bd3786"
             ],
             [
              0.5555555555555556,
              "#d8576b"
             ],
             [
              0.6666666666666666,
              "#ed7953"
             ],
             [
              0.7777777777777778,
              "#fb9f3a"
             ],
             [
              0.8888888888888888,
              "#fdca26"
             ],
             [
              1,
              "#f0f921"
             ]
            ],
            "type": "heatmap"
           }
          ],
          "heatmapgl": [
           {
            "colorbar": {
             "outlinewidth": 0,
             "ticks": ""
            },
            "colorscale": [
             [
              0,
              "#0d0887"
             ],
             [
              0.1111111111111111,
              "#46039f"
             ],
             [
              0.2222222222222222,
              "#7201a8"
             ],
             [
              0.3333333333333333,
              "#9c179e"
             ],
             [
              0.4444444444444444,
              "#bd3786"
             ],
             [
              0.5555555555555556,
              "#d8576b"
             ],
             [
              0.6666666666666666,
              "#ed7953"
             ],
             [
              0.7777777777777778,
              "#fb9f3a"
             ],
             [
              0.8888888888888888,
              "#fdca26"
             ],
             [
              1,
              "#f0f921"
             ]
            ],
            "type": "heatmapgl"
           }
          ],
          "histogram": [
           {
            "marker": {
             "pattern": {
              "fillmode": "overlay",
              "size": 10,
              "solidity": 0.2
             }
            },
            "type": "histogram"
           }
          ],
          "histogram2d": [
           {
            "colorbar": {
             "outlinewidth": 0,
             "ticks": ""
            },
            "colorscale": [
             [
              0,
              "#0d0887"
             ],
             [
              0.1111111111111111,
              "#46039f"
             ],
             [
              0.2222222222222222,
              "#7201a8"
             ],
             [
              0.3333333333333333,
              "#9c179e"
             ],
             [
              0.4444444444444444,
              "#bd3786"
             ],
             [
              0.5555555555555556,
              "#d8576b"
             ],
             [
              0.6666666666666666,
              "#ed7953"
             ],
             [
              0.7777777777777778,
              "#fb9f3a"
             ],
             [
              0.8888888888888888,
              "#fdca26"
             ],
             [
              1,
              "#f0f921"
             ]
            ],
            "type": "histogram2d"
           }
          ],
          "histogram2dcontour": [
           {
            "colorbar": {
             "outlinewidth": 0,
             "ticks": ""
            },
            "colorscale": [
             [
              0,
              "#0d0887"
             ],
             [
              0.1111111111111111,
              "#46039f"
             ],
             [
              0.2222222222222222,
              "#7201a8"
             ],
             [
              0.3333333333333333,
              "#9c179e"
             ],
             [
              0.4444444444444444,
              "#bd3786"
             ],
             [
              0.5555555555555556,
              "#d8576b"
             ],
             [
              0.6666666666666666,
              "#ed7953"
             ],
             [
              0.7777777777777778,
              "#fb9f3a"
             ],
             [
              0.8888888888888888,
              "#fdca26"
             ],
             [
              1,
              "#f0f921"
             ]
            ],
            "type": "histogram2dcontour"
           }
          ],
          "mesh3d": [
           {
            "colorbar": {
             "outlinewidth": 0,
             "ticks": ""
            },
            "type": "mesh3d"
           }
          ],
          "parcoords": [
           {
            "line": {
             "colorbar": {
              "outlinewidth": 0,
              "ticks": ""
             }
            },
            "type": "parcoords"
           }
          ],
          "pie": [
           {
            "automargin": true,
            "type": "pie"
           }
          ],
          "scatter": [
           {
            "fillpattern": {
             "fillmode": "overlay",
             "size": 10,
             "solidity": 0.2
            },
            "type": "scatter"
           }
          ],
          "scatter3d": [
           {
            "line": {
             "colorbar": {
              "outlinewidth": 0,
              "ticks": ""
             }
            },
            "marker": {
             "colorbar": {
              "outlinewidth": 0,
              "ticks": ""
             }
            },
            "type": "scatter3d"
           }
          ],
          "scattercarpet": [
           {
            "marker": {
             "colorbar": {
              "outlinewidth": 0,
              "ticks": ""
             }
            },
            "type": "scattercarpet"
           }
          ],
          "scattergeo": [
           {
            "marker": {
             "colorbar": {
              "outlinewidth": 0,
              "ticks": ""
             }
            },
            "type": "scattergeo"
           }
          ],
          "scattergl": [
           {
            "marker": {
             "colorbar": {
              "outlinewidth": 0,
              "ticks": ""
             }
            },
            "type": "scattergl"
           }
          ],
          "scattermapbox": [
           {
            "marker": {
             "colorbar": {
              "outlinewidth": 0,
              "ticks": ""
             }
            },
            "type": "scattermapbox"
           }
          ],
          "scatterpolar": [
           {
            "marker": {
             "colorbar": {
              "outlinewidth": 0,
              "ticks": ""
             }
            },
            "type": "scatterpolar"
           }
          ],
          "scatterpolargl": [
           {
            "marker": {
             "colorbar": {
              "outlinewidth": 0,
              "ticks": ""
             }
            },
            "type": "scatterpolargl"
           }
          ],
          "scatterternary": [
           {
            "marker": {
             "colorbar": {
              "outlinewidth": 0,
              "ticks": ""
             }
            },
            "type": "scatterternary"
           }
          ],
          "surface": [
           {
            "colorbar": {
             "outlinewidth": 0,
             "ticks": ""
            },
            "colorscale": [
             [
              0,
              "#0d0887"
             ],
             [
              0.1111111111111111,
              "#46039f"
             ],
             [
              0.2222222222222222,
              "#7201a8"
             ],
             [
              0.3333333333333333,
              "#9c179e"
             ],
             [
              0.4444444444444444,
              "#bd3786"
             ],
             [
              0.5555555555555556,
              "#d8576b"
             ],
             [
              0.6666666666666666,
              "#ed7953"
             ],
             [
              0.7777777777777778,
              "#fb9f3a"
             ],
             [
              0.8888888888888888,
              "#fdca26"
             ],
             [
              1,
              "#f0f921"
             ]
            ],
            "type": "surface"
           }
          ],
          "table": [
           {
            "cells": {
             "fill": {
              "color": "#EBF0F8"
             },
             "line": {
              "color": "white"
             }
            },
            "header": {
             "fill": {
              "color": "#C8D4E3"
             },
             "line": {
              "color": "white"
             }
            },
            "type": "table"
           }
          ]
         },
         "layout": {
          "annotationdefaults": {
           "arrowcolor": "#2a3f5f",
           "arrowhead": 0,
           "arrowwidth": 1
          },
          "autotypenumbers": "strict",
          "coloraxis": {
           "colorbar": {
            "outlinewidth": 0,
            "ticks": ""
           }
          },
          "colorscale": {
           "diverging": [
            [
             0,
             "#8e0152"
            ],
            [
             0.1,
             "#c51b7d"
            ],
            [
             0.2,
             "#de77ae"
            ],
            [
             0.3,
             "#f1b6da"
            ],
            [
             0.4,
             "#fde0ef"
            ],
            [
             0.5,
             "#f7f7f7"
            ],
            [
             0.6,
             "#e6f5d0"
            ],
            [
             0.7,
             "#b8e186"
            ],
            [
             0.8,
             "#7fbc41"
            ],
            [
             0.9,
             "#4d9221"
            ],
            [
             1,
             "#276419"
            ]
           ],
           "sequential": [
            [
             0,
             "#0d0887"
            ],
            [
             0.1111111111111111,
             "#46039f"
            ],
            [
             0.2222222222222222,
             "#7201a8"
            ],
            [
             0.3333333333333333,
             "#9c179e"
            ],
            [
             0.4444444444444444,
             "#bd3786"
            ],
            [
             0.5555555555555556,
             "#d8576b"
            ],
            [
             0.6666666666666666,
             "#ed7953"
            ],
            [
             0.7777777777777778,
             "#fb9f3a"
            ],
            [
             0.8888888888888888,
             "#fdca26"
            ],
            [
             1,
             "#f0f921"
            ]
           ],
           "sequentialminus": [
            [
             0,
             "#0d0887"
            ],
            [
             0.1111111111111111,
             "#46039f"
            ],
            [
             0.2222222222222222,
             "#7201a8"
            ],
            [
             0.3333333333333333,
             "#9c179e"
            ],
            [
             0.4444444444444444,
             "#bd3786"
            ],
            [
             0.5555555555555556,
             "#d8576b"
            ],
            [
             0.6666666666666666,
             "#ed7953"
            ],
            [
             0.7777777777777778,
             "#fb9f3a"
            ],
            [
             0.8888888888888888,
             "#fdca26"
            ],
            [
             1,
             "#f0f921"
            ]
           ]
          },
          "colorway": [
           "#636efa",
           "#EF553B",
           "#00cc96",
           "#ab63fa",
           "#FFA15A",
           "#19d3f3",
           "#FF6692",
           "#B6E880",
           "#FF97FF",
           "#FECB52"
          ],
          "font": {
           "color": "#2a3f5f"
          },
          "geo": {
           "bgcolor": "white",
           "lakecolor": "white",
           "landcolor": "#E5ECF6",
           "showlakes": true,
           "showland": true,
           "subunitcolor": "white"
          },
          "hoverlabel": {
           "align": "left"
          },
          "hovermode": "closest",
          "mapbox": {
           "style": "light"
          },
          "paper_bgcolor": "white",
          "plot_bgcolor": "#E5ECF6",
          "polar": {
           "angularaxis": {
            "gridcolor": "white",
            "linecolor": "white",
            "ticks": ""
           },
           "bgcolor": "#E5ECF6",
           "radialaxis": {
            "gridcolor": "white",
            "linecolor": "white",
            "ticks": ""
           }
          },
          "scene": {
           "xaxis": {
            "backgroundcolor": "#E5ECF6",
            "gridcolor": "white",
            "gridwidth": 2,
            "linecolor": "white",
            "showbackground": true,
            "ticks": "",
            "zerolinecolor": "white"
           },
           "yaxis": {
            "backgroundcolor": "#E5ECF6",
            "gridcolor": "white",
            "gridwidth": 2,
            "linecolor": "white",
            "showbackground": true,
            "ticks": "",
            "zerolinecolor": "white"
           },
           "zaxis": {
            "backgroundcolor": "#E5ECF6",
            "gridcolor": "white",
            "gridwidth": 2,
            "linecolor": "white",
            "showbackground": true,
            "ticks": "",
            "zerolinecolor": "white"
           }
          },
          "shapedefaults": {
           "line": {
            "color": "#2a3f5f"
           }
          },
          "ternary": {
           "aaxis": {
            "gridcolor": "white",
            "linecolor": "white",
            "ticks": ""
           },
           "baxis": {
            "gridcolor": "white",
            "linecolor": "white",
            "ticks": ""
           },
           "bgcolor": "#E5ECF6",
           "caxis": {
            "gridcolor": "white",
            "linecolor": "white",
            "ticks": ""
           }
          },
          "title": {
           "x": 0.05
          },
          "xaxis": {
           "automargin": true,
           "gridcolor": "white",
           "linecolor": "white",
           "ticks": "",
           "title": {
            "standoff": 15
           },
           "zerolinecolor": "white",
           "zerolinewidth": 2
          },
          "yaxis": {
           "automargin": true,
           "gridcolor": "white",
           "linecolor": "white",
           "ticks": "",
           "title": {
            "standoff": 15
           },
           "zerolinecolor": "white",
           "zerolinewidth": 2
          }
         }
        },
        "title": {
         "text": "Time point comparison of TCR 02"
        },
        "width": 2000,
        "xaxis": {
         "title": {
          "text": "Time Point"
         }
        },
        "yaxis": {
         "gridcolor": "lightgray",
         "range": [
          2,
          12
         ],
         "tickfont": {
          "size": 15
         },
         "title": {
          "font": {
           "size": 20
          },
          "text": "Shannon Diversity"
         }
        }
       }
      }
     },
     "metadata": {},
     "output_type": "display_data"
    }
   ],
   "source": [
    "### 이번엔 BCRHC01['Sample']과 BCRHC02['Sample']에서 ID가 COV-CNC, COV-CNO 인 것을 제외하고 비교\n",
    "\n",
    "def shannon_boxplot2(df, title, detect):\n",
    "\n",
    "        severity_colors = {0: 'darkblue', 1: 'teal', 2: 'orange', 3: 'tomato', 4: 'brown', 5: 'black'}\n",
    "        \n",
    "        fig = go.Figure()\n",
    "        \n",
    "        if detect == 'HC':\n",
    "            Typelist = ['IGM', 'IGG']\n",
    "        elif detect == 'LC':\n",
    "            Typelist = ['IGK', 'IGL']\n",
    "        else:\n",
    "            Typelist = ['TRA', 'TRB']\n",
    "    \n",
    "        ### 이번엔 Severity로 나눈 후 다시 Time_point로 나누어서 boxplot을 그림\n",
    "\n",
    "        TimePointList = [0, 1, 2, 3, 4, 5]\n",
    "\n",
    "        # for t in Typelist:\n",
    "        #     temp = df[(df['Type'] == t)]\n",
    "        #     # temp = df[(df['Type'] == t) & (df['Sample'] != 'COV-CNC') & (df['Sample'] != 'COV-CNO')]\n",
    "        #     for i in range(1, 5):\n",
    "        #         for time_point in TimePointList:\n",
    "        #             temp_time_point = temp[temp['Time_point'] == time_point]\n",
    "        #             fig.add_trace(go.Box(y=temp_time_point[(temp_time_point['Severity'] == i)]['Shannon_diversity'], x=[f'{t}']*len(temp_time_point[(temp_time_point['Severity'] == i)]), name=f'{t} {time_point}', marker_color=colors[t]))\n",
    "    \n",
    "        for t in Typelist:\n",
    "                temp = df[(df['Type'] == t)]\n",
    "                for severity in severity_colors:\n",
    "                    for time_point in TimePointList:\n",
    "                        temp_time_point = temp[(temp['Severity'] == severity) & (temp['Time_point'] == time_point)]\n",
    "                        if not temp_time_point.empty:\n",
    "                            fig.add_trace(go.Box(y=temp_time_point['Shannon_diversity'], x=[f'{t}']*len(temp_time_point), \n",
    "                                                name=f'{t} {time_point} Severity {severity}', marker_color=severity_colors[severity]))\n",
    "\n",
    "        fig.update_layout(title=title, xaxis_title='Time Point', yaxis_title='Shannon Diversity', boxmode='group', yaxis_tickfont_size=15, yaxis_titlefont_size=20,\n",
    "                            plot_bgcolor='rgba(255, 255, 255, 1)', yaxis=dict(gridcolor='lightgray',range=[2,12]), width=2000, height=500)\n",
    "        \n",
    "        fig.show()\n",
    "        \n",
    "shannon_boxplot2(trim_BCRHC01, 'Time point comparison of BCR_HC 01', 'HC')\n",
    "shannon_boxplot2(trim_BCRHC02, 'Time point comparison of BCR_HC 02', 'HC')\n",
    "shannon_boxplot2(trim_BCRLC01, 'Time point comparison of BCR_LC 01', 'LC')\n",
    "shannon_boxplot2(trim_BCRLC02, 'Time point comparison of BCR_LC 02', 'LC')\n",
    "shannon_boxplot2(trim_TCR01, 'Time point comparison of TCR 01','')\n",
    "shannon_boxplot2(trim_TCR02, 'Time point comparison of TCR 02','')"
   ]
  },
  {
   "cell_type": "code",
   "execution_count": 20,
   "metadata": {},
   "outputs": [
    {
     "data": {
      "application/vnd.plotly.v1+json": {
       "config": {
        "plotlyServerURL": "https://plot.ly"
       },
       "data": [
        {
         "marker": {
          "color": "darkblue"
         },
         "name": "IGM Severity 0 BCRHC01",
         "type": "box",
         "x": [
          "IGM",
          "IGM",
          "IGM",
          "IGM",
          "IGM",
          "IGM",
          "IGM",
          "IGM",
          "IGM",
          "IGM",
          "IGM",
          "IGM",
          "IGM",
          "IGM",
          "IGM",
          "IGM",
          "IGM",
          "IGM",
          "IGM",
          "IGM",
          "IGM",
          "IGM",
          "IGM",
          "IGM",
          "IGM",
          "IGM",
          "IGM",
          "IGM",
          "IGM",
          "IGM",
          "IGM",
          "IGM",
          "IGM",
          "IGM",
          "IGM",
          "IGM",
          "IGM",
          "IGM",
          "IGM",
          "IGM",
          "IGM",
          "IGM",
          "IGM",
          "IGM",
          "IGM",
          "IGM",
          "IGM",
          "IGM",
          "IGM",
          "IGM",
          "IGM",
          "IGM",
          "IGM",
          "IGM",
          "IGM",
          "IGM",
          "IGM",
          "IGM",
          "IGM",
          "IGM",
          "IGM"
         ],
         "y": [
          8.44743787448177,
          7.79136234545581,
          8.092246939826305,
          7.681326830364616,
          8.601943935009002,
          8.714368710957434,
          8.203453040135262,
          8.020046001877757,
          8.810322102854947,
          8.661489157368939,
          8.272934750138724,
          8.165532421440563,
          8.498780099380728,
          7.206958141262746,
          8.630582697104602,
          8.543471583202782,
          8.375410872564117,
          8.406073775718589,
          9.071478646821983,
          8.184362909381653,
          8.655025338771361,
          6.526655010591043,
          6.701979911783807,
          5.829406403226916,
          6.7811837258091,
          7.169762651292191,
          6.053219598919544,
          4.810069789719566,
          5.773230613454017,
          5.570979438095758,
          7.104833313914404,
          6.04739321426122,
          4.807966354401561,
          5.759253485573908,
          7.737120618629158,
          7.350207877059497,
          7.62596115431494,
          4.806929409926156,
          6.938984834473953,
          6.070846474186935,
          8.965996318542873,
          6.437630277654907,
          5.46982322142832,
          7.376403373788232,
          8.980996647337221,
          8.735647771251935,
          7.464477666854934,
          6.2789485729594805,
          8.601364959086565,
          8.645415646731687,
          7.88106346690622,
          8.960284817468029,
          8.003170581318342,
          8.246969087890449,
          9.2244583651969,
          8.777297899740251,
          8.351142717065027,
          8.29370567224501,
          8.661875008267714,
          7.578310310290432,
          8.754316633078544
         ]
        },
        {
         "marker": {
          "color": "darkblue"
         },
         "name": "IGM Severity 0 BCRHC02",
         "type": "box",
         "x": [
          "IGM",
          "IGM",
          "IGM",
          "IGM",
          "IGM",
          "IGM",
          "IGM",
          "IGM",
          "IGM",
          "IGM",
          "IGM",
          "IGM",
          "IGM",
          "IGM",
          "IGM",
          "IGM",
          "IGM",
          "IGM",
          "IGM",
          "IGM",
          "IGM",
          "IGM"
         ],
         "y": [
          7.662139131927243,
          8.34731200091739,
          7.856620795869583,
          7.426429493377162,
          7.948345884412162,
          7.1143299116444325,
          7.930441958894582,
          8.174244507490307,
          7.966695626013383,
          8.65415437082343,
          8.243771610623819,
          8.254811003846616,
          8.375854268320884,
          8.604356894515426,
          7.843336651238603,
          9.71457246598966,
          8.570613265408232,
          7.866166604593435,
          9.080678707166218,
          9.35127463202001,
          9.083381673471196,
          8.351836148982693
         ]
        },
        {
         "marker": {
          "color": "teal"
         },
         "name": "IGM Severity 1 BCRHC01",
         "type": "box",
         "x": [
          "IGM",
          "IGM",
          "IGM",
          "IGM",
          "IGM",
          "IGM",
          "IGM",
          "IGM",
          "IGM",
          "IGM",
          "IGM",
          "IGM",
          "IGM",
          "IGM",
          "IGM",
          "IGM",
          "IGM",
          "IGM",
          "IGM",
          "IGM",
          "IGM",
          "IGM",
          "IGM",
          "IGM",
          "IGM",
          "IGM",
          "IGM",
          "IGM",
          "IGM",
          "IGM",
          "IGM",
          "IGM",
          "IGM",
          "IGM",
          "IGM",
          "IGM",
          "IGM",
          "IGM",
          "IGM",
          "IGM",
          "IGM",
          "IGM",
          "IGM",
          "IGM",
          "IGM",
          "IGM",
          "IGM",
          "IGM",
          "IGM",
          "IGM",
          "IGM",
          "IGM",
          "IGM",
          "IGM",
          "IGM",
          "IGM",
          "IGM",
          "IGM",
          "IGM",
          "IGM",
          "IGM",
          "IGM",
          "IGM",
          "IGM",
          "IGM",
          "IGM",
          "IGM",
          "IGM",
          "IGM",
          "IGM",
          "IGM",
          "IGM",
          "IGM",
          "IGM",
          "IGM",
          "IGM",
          "IGM",
          "IGM",
          "IGM",
          "IGM",
          "IGM",
          "IGM",
          "IGM",
          "IGM",
          "IGM",
          "IGM",
          "IGM",
          "IGM",
          "IGM",
          "IGM",
          "IGM",
          "IGM",
          "IGM",
          "IGM",
          "IGM",
          "IGM",
          "IGM",
          "IGM",
          "IGM",
          "IGM",
          "IGM",
          "IGM",
          "IGM",
          "IGM",
          "IGM",
          "IGM",
          "IGM",
          "IGM",
          "IGM",
          "IGM",
          "IGM",
          "IGM",
          "IGM",
          "IGM",
          "IGM",
          "IGM",
          "IGM",
          "IGM",
          "IGM",
          "IGM",
          "IGM",
          "IGM",
          "IGM",
          "IGM",
          "IGM",
          "IGM",
          "IGM",
          "IGM",
          "IGM",
          "IGM",
          "IGM",
          "IGM",
          "IGM",
          "IGM",
          "IGM",
          "IGM",
          "IGM",
          "IGM",
          "IGM",
          "IGM",
          "IGM",
          "IGM",
          "IGM",
          "IGM",
          "IGM",
          "IGM",
          "IGM",
          "IGM",
          "IGM",
          "IGM",
          "IGM",
          "IGM",
          "IGM",
          "IGM",
          "IGM",
          "IGM",
          "IGM",
          "IGM",
          "IGM",
          "IGM",
          "IGM",
          "IGM",
          "IGM",
          "IGM",
          "IGM",
          "IGM",
          "IGM",
          "IGM",
          "IGM",
          "IGM",
          "IGM",
          "IGM",
          "IGM",
          "IGM",
          "IGM",
          "IGM",
          "IGM",
          "IGM",
          "IGM",
          "IGM",
          "IGM",
          "IGM",
          "IGM",
          "IGM",
          "IGM",
          "IGM",
          "IGM",
          "IGM",
          "IGM",
          "IGM",
          "IGM",
          "IGM",
          "IGM",
          "IGM",
          "IGM"
         ],
         "y": [
          8.17985294404447,
          6.769221180648266,
          8.651372019351793,
          7.957169282610262,
          8.024965294528458,
          7.235091162097147,
          8.265711089868383,
          8.617035532276542,
          9.174787559670335,
          8.093039549964594,
          7.990666364705812,
          8.695308588099572,
          7.535905905148728,
          8.376834564800083,
          8.265806267672414,
          8.339416162485728,
          7.167768749365878,
          6.981976862711924,
          6.577080375517056,
          7.899967561918043,
          9.225082072164373,
          7.023765170473661,
          7.797742474994864,
          9.207544241386056,
          10.208777910906958,
          8.522756957792133,
          8.088297545642535,
          7.901928412760845,
          8.168079289451631,
          8.111389392294456,
          7.540834443794464,
          8.246051604723933,
          7.66402360958345,
          7.754928910311202,
          8.32925160219425,
          7.9877335661710225,
          7.509062005206054,
          7.980955265112121,
          7.11597764271325,
          7.277167291484207,
          8.702797129630543,
          7.611959008394999,
          7.562125714259381,
          7.298461253521608,
          5.952554733489295,
          6.387349425775136,
          6.280617439680586,
          7.2004827668397,
          7.32701447097758,
          5.755773163809996,
          7.376596759484199,
          7.976633198045278,
          6.94065705814368,
          6.283291270831102,
          7.612171899965616,
          7.968672907027995,
          8.183272638891596,
          8.587845642996363,
          9.372152632421916,
          8.769150912798201,
          7.866495303756613,
          8.299956023754236,
          7.390937490652419,
          7.624253803633136,
          8.414202088303094,
          8.258953525791968,
          6.179724066481518,
          8.047902979432886,
          8.381032462437785,
          8.205469316265962,
          8.19745222652054,
          7.407190222535005,
          7.297299781053412,
          6.479839101907973,
          7.220895778454262,
          7.201386906836994,
          7.279405790222509,
          5.561338603833617,
          5.970088084969319,
          7.476792967275591,
          6.730505076231023,
          5.647128269158276,
          6.855092949567419,
          7.482884253740857,
          7.351809524605171,
          6.55975543889849,
          7.45267924698822,
          7.357714332854204,
          7.723323364678473,
          6.512047015860552,
          8.700948392305762,
          5.862433106657755,
          9.559146121177182,
          6.565393611162189,
          7.723387275742921,
          6.515532691444931,
          8.027879987549479,
          7.72023990127336,
          7.587501641936149,
          7.945599502832631,
          7.9151169084631,
          6.438506052337055,
          6.795177375191152,
          8.004481142389686,
          5.509116800414775,
          6.880789438798616,
          5.03809381700568,
          7.725017168689392,
          6.985910288893871,
          6.338327092608489,
          7.611015813096628,
          7.0330473458423794,
          6.957652351913441,
          6.534259087408529,
          7.660317388130241,
          6.04984897842341,
          7.593294031468825,
          7.608482535482486,
          7.974772673443995,
          6.661844746270564,
          8.902613833337911,
          8.874722047983443,
          7.8858640057196,
          8.715214892205557,
          9.077375717534576,
          8.670720774639385,
          9.131663576637589,
          7.545744685665476,
          7.935704895581439,
          7.660981490032188,
          8.25052363144832,
          7.757646732239498,
          7.898991748622675,
          6.386862777779315,
          7.7727595141008194,
          6.396869601606462,
          8.667925392298518,
          8.645682083882196,
          8.574036245597847,
          6.682786317789002,
          6.608325185307701,
          7.205865933658416,
          7.488766615181437,
          7.753027783177583,
          7.826313946626116,
          8.13413289820037,
          8.920988997648138,
          7.485452511912521,
          8.48734951821257,
          8.205550388858098,
          8.977944617860908,
          7.911373705949007,
          8.556688660201855,
          7.721411858932955,
          8.405641844912118,
          7.806493255160048,
          7.367145773314498,
          8.42566570723833,
          8.429575928539057,
          7.62325559278985,
          8.62042653652843,
          7.825074865497075,
          9.26135784849405,
          8.982399685302962,
          7.16917204719999,
          8.991409249193854,
          7.327662114955961,
          8.381073914562531,
          7.318134439336404,
          9.1485012488866,
          6.613024852394396,
          9.71530707554782,
          9.226526416551907,
          7.485478823854554,
          6.844698944564204,
          7.529110843150852,
          6.179865046529965,
          8.190180283069358,
          8.2368522263214,
          6.436646997413599,
          8.634618089762975,
          7.176373645023878,
          4.83145252806462,
          8.759747941755858,
          9.185069340201869,
          8.810914391032766,
          7.6777865018054,
          8.592013774688775,
          7.963747079066509,
          7.258669809688473,
          7.744391817834973,
          9.154267071405616,
          9.005086433752043,
          8.871743497547348,
          8.296715472359462
         ]
        },
        {
         "marker": {
          "color": "orange"
         },
         "name": "IGM Severity 2 BCRHC01",
         "type": "box",
         "x": [
          "IGM",
          "IGM",
          "IGM",
          "IGM",
          "IGM",
          "IGM",
          "IGM",
          "IGM",
          "IGM",
          "IGM",
          "IGM",
          "IGM",
          "IGM",
          "IGM",
          "IGM",
          "IGM",
          "IGM",
          "IGM",
          "IGM",
          "IGM",
          "IGM",
          "IGM",
          "IGM",
          "IGM",
          "IGM",
          "IGM",
          "IGM",
          "IGM",
          "IGM",
          "IGM",
          "IGM",
          "IGM",
          "IGM",
          "IGM",
          "IGM",
          "IGM",
          "IGM",
          "IGM",
          "IGM",
          "IGM",
          "IGM",
          "IGM",
          "IGM",
          "IGM",
          "IGM",
          "IGM",
          "IGM",
          "IGM",
          "IGM",
          "IGM",
          "IGM",
          "IGM",
          "IGM",
          "IGM",
          "IGM",
          "IGM",
          "IGM",
          "IGM",
          "IGM",
          "IGM",
          "IGM",
          "IGM",
          "IGM",
          "IGM",
          "IGM",
          "IGM",
          "IGM",
          "IGM",
          "IGM",
          "IGM",
          "IGM",
          "IGM",
          "IGM",
          "IGM",
          "IGM",
          "IGM",
          "IGM",
          "IGM",
          "IGM",
          "IGM",
          "IGM",
          "IGM",
          "IGM",
          "IGM",
          "IGM",
          "IGM",
          "IGM",
          "IGM",
          "IGM",
          "IGM",
          "IGM",
          "IGM",
          "IGM",
          "IGM",
          "IGM",
          "IGM",
          "IGM",
          "IGM",
          "IGM",
          "IGM",
          "IGM",
          "IGM",
          "IGM",
          "IGM",
          "IGM",
          "IGM",
          "IGM",
          "IGM",
          "IGM",
          "IGM",
          "IGM",
          "IGM",
          "IGM",
          "IGM",
          "IGM",
          "IGM",
          "IGM",
          "IGM",
          "IGM",
          "IGM",
          "IGM",
          "IGM",
          "IGM",
          "IGM",
          "IGM",
          "IGM",
          "IGM",
          "IGM",
          "IGM",
          "IGM",
          "IGM",
          "IGM",
          "IGM",
          "IGM",
          "IGM",
          "IGM",
          "IGM",
          "IGM",
          "IGM",
          "IGM",
          "IGM",
          "IGM",
          "IGM",
          "IGM",
          "IGM",
          "IGM",
          "IGM",
          "IGM",
          "IGM",
          "IGM",
          "IGM",
          "IGM",
          "IGM",
          "IGM",
          "IGM",
          "IGM",
          "IGM",
          "IGM",
          "IGM",
          "IGM"
         ],
         "y": [
          9.01897911799264,
          9.940307389266724,
          8.715673047149759,
          6.442045677902714,
          7.709613449856294,
          9.458804413830835,
          8.210910076914802,
          7.426469354835164,
          8.068714873262604,
          5.405103223497525,
          7.8785996923114,
          7.048767131262397,
          7.719610185165725,
          7.739885495840796,
          5.988615121315375,
          7.240657532157361,
          7.888066039904335,
          7.857319605032917,
          7.880532834156855,
          7.170441154458168,
          7.447855873517428,
          8.535157057329748,
          5.974923902272833,
          7.065195523878297,
          6.992130326674654,
          6.133733017669998,
          8.383930883815736,
          8.256688478467144,
          7.877803233797941,
          6.9959230027361965,
          7.373874858232424,
          8.200588217914992,
          7.809790238117896,
          6.812415455603737,
          7.030069275300194,
          7.290371351576977,
          7.621141560718216,
          6.877959270568296,
          8.017002943899024,
          7.194747287232335,
          9.110235572006648,
          7.655256206824549,
          7.17078075088746,
          8.2102710872543,
          8.051935225787286,
          6.644767967305439,
          8.209815311463661,
          6.991939351799632,
          7.493838296840885,
          7.319918914810329,
          7.268500621158443,
          6.625912340008814,
          8.664226614474845,
          7.6472677581031165,
          7.75394308670606,
          6.696260912098239,
          7.394471595234994,
          8.073281145929313,
          7.548960324935087,
          7.948682192094939,
          8.283252798368613,
          8.727034635460402,
          7.900052300941114,
          8.78637211356677,
          8.368932583165414,
          6.3634404556525626,
          6.674801624731233,
          7.540403252888722,
          7.439726544121967,
          7.7121395472127166,
          7.105704461710755,
          7.523216020969562,
          7.779479327262522,
          8.518564794226611,
          6.40965496372437,
          7.069462639081619,
          7.219974760818082,
          7.355619815555247,
          7.4969214703409905,
          7.910432780582619,
          8.998766142127083,
          7.864022724536984,
          7.296157629886847,
          7.664970703567366,
          8.336272180631795,
          7.8319817730132515,
          5.997903410859421,
          8.151597473995952,
          7.179172638634139,
          7.362758603507586,
          7.506626866145891,
          7.358004057708874,
          7.425515171867274,
          8.775345231708775,
          7.39965932682602,
          8.889658012445146,
          7.054854302185496,
          6.8399222356754725,
          7.57489107788511,
          8.489179466920776,
          7.286277684416682,
          8.847000733870937,
          6.512001565357528,
          5.970633553563085,
          8.835980516356797,
          9.5461940101411,
          7.861985613201487,
          8.002851006147504,
          7.849665434092341,
          8.386645453336326,
          7.80577668405293,
          7.567431288590825,
          8.110592731755736,
          8.828721441573826,
          8.061606015640285,
          7.617026750062693,
          8.58610562676959,
          8.979359087106975,
          8.71133465240665,
          9.684873274172991,
          7.023198780603182,
          7.238614365702571,
          8.089629765069965,
          7.661546779635068,
          8.297667276084498,
          7.15303762828357,
          4.875971924459655,
          8.141767577848256,
          4.936236690217132,
          6.929866056470044,
          8.774168487529339,
          8.75266689597653,
          7.643277231410998,
          8.712171099782555,
          8.623676671376357,
          8.74331861192431,
          8.592024880801606,
          8.728344581972589,
          8.84622160894258,
          8.75643777081883,
          7.6596695058758115,
          7.351221811550904,
          5.998794100490072,
          6.183355758762292,
          8.295537818970171,
          9.364289115034111,
          8.38400229895428,
          8.628374922742847,
          8.729320729076795,
          9.018148558891744,
          8.170376579990528,
          8.01239281193577,
          8.485996429329019,
          8.82604598613321,
          9.32786960242668,
          9.410348622898402,
          6.359111882455024,
          6.458115399676527,
          8.579959042753881,
          8.118653269468451
         ]
        },
        {
         "marker": {
          "color": "orange"
         },
         "name": "IGM Severity 2 BCRHC02",
         "type": "box",
         "x": [
          "IGM",
          "IGM",
          "IGM",
          "IGM",
          "IGM",
          "IGM",
          "IGM",
          "IGM"
         ],
         "y": [
          8.4416467421941,
          9.034723248297592,
          6.847462714062154,
          8.67953982660505,
          8.08775194412302,
          8.80034303143257,
          9.47304574730611,
          9.76433864147946
         ]
        },
        {
         "marker": {
          "color": "tomato"
         },
         "name": "IGM Severity 3 BCRHC01",
         "type": "box",
         "x": [
          "IGM",
          "IGM"
         ],
         "y": [
          8.5901623370271,
          9.057993192332969
         ]
        },
        {
         "marker": {
          "color": "tomato"
         },
         "name": "IGM Severity 3 BCRHC02",
         "type": "box",
         "x": [
          "IGM",
          "IGM",
          "IGM",
          "IGM",
          "IGM",
          "IGM",
          "IGM",
          "IGM",
          "IGM",
          "IGM",
          "IGM",
          "IGM",
          "IGM",
          "IGM",
          "IGM",
          "IGM",
          "IGM",
          "IGM",
          "IGM",
          "IGM",
          "IGM",
          "IGM",
          "IGM",
          "IGM",
          "IGM",
          "IGM",
          "IGM",
          "IGM",
          "IGM",
          "IGM",
          "IGM",
          "IGM",
          "IGM"
         ],
         "y": [
          7.955533219555028,
          8.47419820090025,
          8.5477100492801,
          8.726774419382151,
          9.334783888527028,
          9.28253939720865,
          9.794299126459908,
          5.294845245398011,
          7.8478870913128,
          8.249884978353663,
          8.470250540181524,
          5.440007126760473,
          7.948192833786045,
          9.54326423694438,
          8.91165632983443,
          6.924139244639661,
          6.356219669443136,
          7.553813291948584,
          6.7047232704578885,
          7.851718071555406,
          9.592232214865389,
          8.701273308857596,
          8.802126998594487,
          7.423911012408287,
          8.856768294286065,
          9.163864452344368,
          8.626377393116616,
          8.747030423776843,
          8.695527099934365,
          7.817248297018299,
          6.435316010712731,
          7.933890523909177,
          8.076908306246668
         ]
        },
        {
         "marker": {
          "color": "brown"
         },
         "name": "IGM Severity 4 BCRHC01",
         "type": "box",
         "x": [
          "IGM",
          "IGM"
         ],
         "y": [
          7.757033258305614,
          7.493488824248068
         ]
        },
        {
         "marker": {
          "color": "brown"
         },
         "name": "IGM Severity 4 BCRHC02",
         "type": "box",
         "x": [
          "IGM",
          "IGM",
          "IGM",
          "IGM",
          "IGM",
          "IGM",
          "IGM",
          "IGM",
          "IGM",
          "IGM",
          "IGM",
          "IGM",
          "IGM",
          "IGM",
          "IGM",
          "IGM",
          "IGM",
          "IGM",
          "IGM",
          "IGM",
          "IGM",
          "IGM",
          "IGM",
          "IGM",
          "IGM",
          "IGM",
          "IGM",
          "IGM",
          "IGM",
          "IGM",
          "IGM",
          "IGM",
          "IGM",
          "IGM",
          "IGM",
          "IGM",
          "IGM",
          "IGM",
          "IGM",
          "IGM",
          "IGM",
          "IGM",
          "IGM",
          "IGM",
          "IGM",
          "IGM",
          "IGM"
         ],
         "y": [
          3.443338722457307,
          5.364016987093159,
          4.4919533900294,
          7.258370457453999,
          8.460904981145559,
          5.727563521774155,
          7.770553971852814,
          8.671946378200463,
          5.627306079438025,
          7.106293032046152,
          4.494736138977748,
          8.032269313018626,
          7.649841794741072,
          4.672729493924368,
          6.456359191368181,
          7.903917290112298,
          8.136164820230174,
          6.021338691294799,
          7.201422359561458,
          7.325496945625402,
          8.66605405986679,
          8.388226020982241,
          7.094320666290984,
          9.075275309950456,
          4.816317394825544,
          8.16834866044558,
          8.471301674028458,
          8.97225055072856,
          9.80291268550651,
          6.195971141292548,
          8.818604766506683,
          8.631627437793703,
          8.636924789339957,
          7.722717277418895,
          8.155342878551307,
          7.48476176538245,
          5.410745047980305,
          6.207360293775323,
          7.389491061461967,
          8.332041144339545,
          5.505349798816826,
          7.305917057651665,
          8.539814935038336,
          8.051802926254492,
          8.340287586360068,
          6.065691302306347,
          7.721806285563003
         ]
        },
        {
         "marker": {
          "color": "darkblue"
         },
         "name": "IGG Severity 0 BCRHC01",
         "type": "box",
         "x": [
          "IGG",
          "IGG",
          "IGG",
          "IGG",
          "IGG",
          "IGG",
          "IGG",
          "IGG",
          "IGG",
          "IGG",
          "IGG",
          "IGG",
          "IGG",
          "IGG",
          "IGG",
          "IGG",
          "IGG",
          "IGG",
          "IGG",
          "IGG",
          "IGG",
          "IGG",
          "IGG",
          "IGG",
          "IGG",
          "IGG",
          "IGG",
          "IGG",
          "IGG",
          "IGG",
          "IGG",
          "IGG",
          "IGG",
          "IGG",
          "IGG",
          "IGG",
          "IGG",
          "IGG",
          "IGG",
          "IGG",
          "IGG",
          "IGG",
          "IGG",
          "IGG",
          "IGG",
          "IGG",
          "IGG",
          "IGG",
          "IGG",
          "IGG",
          "IGG",
          "IGG",
          "IGG",
          "IGG",
          "IGG",
          "IGG",
          "IGG",
          "IGG",
          "IGG",
          "IGG",
          "IGG"
         ],
         "y": [
          6.193058032838419,
          5.978861901203812,
          6.717871853805641,
          6.4662229015826185,
          6.3159850302245255,
          5.816984073273274,
          5.876942913010653,
          5.773779047303736,
          5.917954969667636,
          6.469998325491324,
          6.0474038054149775,
          5.909858423327593,
          5.896454249685439,
          4.896780475197659,
          5.859456113231217,
          5.356666189743192,
          5.601784833313682,
          5.771994610986134,
          6.030933453194041,
          5.29038764110618,
          5.94586066212304,
          5.1680173872085895,
          5.011789532965061,
          3.7191227335283896,
          5.181113342664639,
          5.735744189480642,
          3.955422803684829,
          3.606472870668661,
          4.420394240927614,
          4.136078682106532,
          4.434753956078977,
          4.695920439055136,
          4.462673123084045,
          4.508108464099861,
          6.321030942695943,
          4.677194042128937,
          5.370357071430322,
          3.279145943536101,
          5.111867385760199,
          3.7602700792941,
          4.971737311631809,
          5.258805269227596,
          4.0420224185451215,
          5.218234040421695,
          5.990516540561273,
          5.926539711884733,
          4.555233840523728,
          3.9074265664677794,
          5.711618931410373,
          4.979069187162259,
          6.517494069394858,
          6.580625370229995,
          5.497817246639967,
          6.132553430652292,
          6.759576472157537,
          5.752550005885571,
          5.495442619529651,
          5.643201151363965,
          5.787673524141302,
          5.5153615913037335,
          5.022189066533281
         ]
        },
        {
         "marker": {
          "color": "darkblue"
         },
         "name": "IGG Severity 0 BCRHC02",
         "type": "box",
         "x": [
          "IGG",
          "IGG",
          "IGG",
          "IGG",
          "IGG",
          "IGG",
          "IGG",
          "IGG",
          "IGG",
          "IGG",
          "IGG",
          "IGG",
          "IGG",
          "IGG",
          "IGG",
          "IGG",
          "IGG",
          "IGG",
          "IGG",
          "IGG",
          "IGG",
          "IGG"
         ],
         "y": [
          6.070235635083509,
          5.871689922113368,
          4.961955102667262,
          5.492646653613487,
          4.978291626780091,
          4.901068038849346,
          4.212053308291229,
          5.530278696903556,
          5.149912292767826,
          5.139364749804442,
          4.70913904668343,
          4.66162077782111,
          4.948338029762062,
          6.023813736754764,
          6.070241583546396,
          6.984098720375586,
          6.271660483971434,
          5.303232472481758,
          5.972012623085214,
          6.51930497945972,
          5.839773872162244,
          6.241207706592717
         ]
        },
        {
         "marker": {
          "color": "teal"
         },
         "name": "IGG Severity 1 BCRHC01",
         "type": "box",
         "x": [
          "IGG",
          "IGG",
          "IGG",
          "IGG",
          "IGG",
          "IGG",
          "IGG",
          "IGG",
          "IGG",
          "IGG",
          "IGG",
          "IGG",
          "IGG",
          "IGG",
          "IGG",
          "IGG",
          "IGG",
          "IGG",
          "IGG",
          "IGG",
          "IGG",
          "IGG",
          "IGG",
          "IGG",
          "IGG",
          "IGG",
          "IGG",
          "IGG",
          "IGG",
          "IGG",
          "IGG",
          "IGG",
          "IGG",
          "IGG",
          "IGG",
          "IGG",
          "IGG",
          "IGG",
          "IGG",
          "IGG",
          "IGG",
          "IGG",
          "IGG",
          "IGG",
          "IGG",
          "IGG",
          "IGG",
          "IGG",
          "IGG",
          "IGG",
          "IGG",
          "IGG",
          "IGG",
          "IGG",
          "IGG",
          "IGG",
          "IGG",
          "IGG",
          "IGG",
          "IGG",
          "IGG",
          "IGG",
          "IGG",
          "IGG",
          "IGG",
          "IGG",
          "IGG",
          "IGG",
          "IGG",
          "IGG",
          "IGG",
          "IGG",
          "IGG",
          "IGG",
          "IGG",
          "IGG",
          "IGG",
          "IGG",
          "IGG",
          "IGG",
          "IGG",
          "IGG",
          "IGG",
          "IGG",
          "IGG",
          "IGG",
          "IGG",
          "IGG",
          "IGG",
          "IGG",
          "IGG",
          "IGG",
          "IGG",
          "IGG",
          "IGG",
          "IGG",
          "IGG",
          "IGG",
          "IGG",
          "IGG",
          "IGG",
          "IGG",
          "IGG",
          "IGG",
          "IGG",
          "IGG",
          "IGG",
          "IGG",
          "IGG",
          "IGG",
          "IGG",
          "IGG",
          "IGG",
          "IGG",
          "IGG",
          "IGG",
          "IGG",
          "IGG",
          "IGG",
          "IGG",
          "IGG",
          "IGG",
          "IGG",
          "IGG",
          "IGG",
          "IGG",
          "IGG",
          "IGG",
          "IGG",
          "IGG",
          "IGG",
          "IGG",
          "IGG",
          "IGG",
          "IGG",
          "IGG",
          "IGG",
          "IGG",
          "IGG",
          "IGG",
          "IGG",
          "IGG",
          "IGG",
          "IGG",
          "IGG",
          "IGG",
          "IGG",
          "IGG",
          "IGG",
          "IGG",
          "IGG",
          "IGG",
          "IGG",
          "IGG",
          "IGG",
          "IGG",
          "IGG",
          "IGG",
          "IGG",
          "IGG",
          "IGG",
          "IGG",
          "IGG",
          "IGG",
          "IGG",
          "IGG",
          "IGG",
          "IGG",
          "IGG",
          "IGG",
          "IGG",
          "IGG",
          "IGG",
          "IGG",
          "IGG",
          "IGG",
          "IGG",
          "IGG",
          "IGG",
          "IGG",
          "IGG",
          "IGG",
          "IGG",
          "IGG",
          "IGG",
          "IGG",
          "IGG",
          "IGG",
          "IGG",
          "IGG",
          "IGG",
          "IGG",
          "IGG",
          "IGG",
          "IGG"
         ],
         "y": [
          6.727982986912968,
          5.104861513913926,
          6.672047968206821,
          6.640316064074672,
          6.086599692370437,
          6.427033291611796,
          2.733632036980419,
          5.693070938293685,
          5.550152879102799,
          6.167584845107037,
          5.302044814142816,
          6.228722184046077,
          5.868245276209427,
          6.141177219525724,
          6.811048013961943,
          5.854990659086701,
          5.731771131826099,
          4.279725964658922,
          4.777718975857604,
          5.4811420828390345,
          6.106447790536355,
          5.1911952069377,
          5.52233337029704,
          6.260965181223813,
          6.536409913771416,
          6.543802847608652,
          5.856873240131919,
          6.457949563196187,
          6.579080644175449,
          5.728418969608647,
          5.530357131341833,
          5.76686955534748,
          5.717586437286472,
          5.263940506494801,
          5.799995907976353,
          6.037633890710808,
          5.167687980694535,
          5.261596330188339,
          3.7201763809580575,
          5.0457265009953085,
          5.697316330405804,
          5.12115112840943,
          4.662929413302105,
          3.0078048452896984,
          2.8783063285016373,
          6.561189954879457,
          6.215915743378583,
          5.603911359369616,
          4.875461063018109,
          4.063172324005981,
          4.453675908895161,
          6.3159106221994685,
          5.309061468628451,
          5.6529861520162985,
          5.395830062777573,
          5.215343896607707,
          5.047836299359512,
          5.324758301501819,
          5.370050247275352,
          6.38400772555247,
          6.058900750418958,
          5.841703411872313,
          5.395426213213964,
          5.73658978648262,
          6.056581660464654,
          5.812987599533919,
          5.33631875915716,
          5.392008749628412,
          5.837902925465986,
          5.54998017397953,
          5.621363528341453,
          5.25779755134659,
          5.084545896300949,
          3.757734206248473,
          5.104623753942893,
          3.523387248819596,
          4.709890969335274,
          5.054028608219245,
          4.268140470428993,
          5.772570431663462,
          5.170672357296795,
          4.168426161356193,
          4.970526444340845,
          5.634019743722609,
          5.634232186684989,
          5.278987590228491,
          5.860027195320479,
          5.367552026776651,
          5.563025376333453,
          4.811252175680063,
          5.2386961181199405,
          4.712648772249081,
          6.231108120338144,
          5.801079813657558,
          5.9026761528600735,
          5.598003298592088,
          6.86822020195773,
          5.856396937525672,
          6.002022733406926,
          6.253642720607306,
          5.387243283927952,
          4.599841142114882,
          6.08587562481789,
          6.344786881597551,
          3.5895995211762206,
          5.032952708521775,
          3.571943828037168,
          6.338910621455035,
          5.862663037780865,
          5.607179540637677,
          5.734866601489034,
          6.358428921796876,
          5.776864996333423,
          4.717814124256099,
          5.34814352323235,
          4.804383026188717,
          5.356395098698564,
          6.286706746018544,
          5.344205047479649,
          4.973770737730449,
          5.804031715806191,
          6.377998943906537,
          6.628870188676876,
          5.265284716857212,
          5.352023970689686,
          5.698099379800873,
          5.887616888671027,
          5.6747019794293765,
          5.758717571666383,
          5.26132000197524,
          5.479842389609117,
          5.750371186154139,
          5.213191440725893,
          6.532692308077417,
          5.960716524136417,
          6.005035181528149,
          6.760177478360565,
          6.231757696859481,
          6.295088251857159,
          4.723741210392159,
          4.903421244055824,
          5.1436648396902,
          5.4358480485976575,
          5.43672768859867,
          5.363786208865164,
          6.18179561109304,
          6.035523311748572,
          5.33475680950469,
          5.820095785170088,
          5.691962546324128,
          5.706109099986731,
          6.027729815562157,
          5.718033839798226,
          6.161047713342283,
          6.402001178914202,
          6.071120858359145,
          6.410769472688029,
          6.869282410678337,
          6.947610695531244,
          5.363684320647369,
          5.817652976768506,
          5.026087697894397,
          6.077730946336114,
          5.606089906195885,
          4.570327530703742,
          5.529326571749021,
          5.321610342825636,
          6.497692202512706,
          5.715178582186738,
          4.255779647358131,
          4.59362845489578,
          6.2296151859793145,
          6.189282724769619,
          5.338281233293106,
          5.402602890856111,
          5.9604465666468895,
          4.5544552190157575,
          5.819652316740683,
          6.0295209973044,
          6.22495813290011,
          6.5714906860312166,
          5.409392704023436,
          3.67734768739706,
          6.32505199876878,
          6.155975894760277,
          6.21098602875263,
          6.051520969131559,
          6.0287197427177,
          5.913158202244016,
          5.667725436033165,
          6.213167086358732,
          7.339448619638055,
          6.107794375128026,
          6.4009160575853015,
          5.439732827712206
         ]
        },
        {
         "marker": {
          "color": "orange"
         },
         "name": "IGG Severity 2 BCRHC01",
         "type": "box",
         "x": [
          "IGG",
          "IGG",
          "IGG",
          "IGG",
          "IGG",
          "IGG",
          "IGG",
          "IGG",
          "IGG",
          "IGG",
          "IGG",
          "IGG",
          "IGG",
          "IGG",
          "IGG",
          "IGG",
          "IGG",
          "IGG",
          "IGG",
          "IGG",
          "IGG",
          "IGG",
          "IGG",
          "IGG",
          "IGG",
          "IGG",
          "IGG",
          "IGG",
          "IGG",
          "IGG",
          "IGG",
          "IGG",
          "IGG",
          "IGG",
          "IGG",
          "IGG",
          "IGG",
          "IGG",
          "IGG",
          "IGG",
          "IGG",
          "IGG",
          "IGG",
          "IGG",
          "IGG",
          "IGG",
          "IGG",
          "IGG",
          "IGG",
          "IGG",
          "IGG",
          "IGG",
          "IGG",
          "IGG",
          "IGG",
          "IGG",
          "IGG",
          "IGG",
          "IGG",
          "IGG",
          "IGG",
          "IGG",
          "IGG",
          "IGG",
          "IGG",
          "IGG",
          "IGG",
          "IGG",
          "IGG",
          "IGG",
          "IGG",
          "IGG",
          "IGG",
          "IGG",
          "IGG",
          "IGG",
          "IGG",
          "IGG",
          "IGG",
          "IGG",
          "IGG",
          "IGG",
          "IGG",
          "IGG",
          "IGG",
          "IGG",
          "IGG",
          "IGG",
          "IGG",
          "IGG",
          "IGG",
          "IGG",
          "IGG",
          "IGG",
          "IGG",
          "IGG",
          "IGG",
          "IGG",
          "IGG",
          "IGG",
          "IGG",
          "IGG",
          "IGG",
          "IGG",
          "IGG",
          "IGG",
          "IGG",
          "IGG",
          "IGG",
          "IGG",
          "IGG",
          "IGG",
          "IGG",
          "IGG",
          "IGG",
          "IGG",
          "IGG",
          "IGG",
          "IGG",
          "IGG",
          "IGG",
          "IGG",
          "IGG",
          "IGG",
          "IGG",
          "IGG",
          "IGG",
          "IGG",
          "IGG",
          "IGG",
          "IGG",
          "IGG",
          "IGG",
          "IGG",
          "IGG",
          "IGG",
          "IGG",
          "IGG",
          "IGG",
          "IGG",
          "IGG",
          "IGG",
          "IGG",
          "IGG",
          "IGG",
          "IGG",
          "IGG",
          "IGG",
          "IGG",
          "IGG",
          "IGG",
          "IGG",
          "IGG",
          "IGG",
          "IGG",
          "IGG",
          "IGG",
          "IGG",
          "IGG",
          "IGG"
         ],
         "y": [
          6.4405641677945376,
          6.157224453485413,
          6.348930194315248,
          5.311976709064633,
          6.080859954093636,
          5.543658322668781,
          5.1267866586125725,
          5.1578887165359255,
          6.322909283075668,
          6.059634859482522,
          5.105275157024948,
          5.072981192563328,
          5.571827149320511,
          5.454173233549474,
          4.411300956875948,
          6.479597347278513,
          5.979455714234413,
          6.075880244976054,
          5.71299626861204,
          5.030831255740688,
          4.6088077331525215,
          5.598068992322769,
          4.779778372870051,
          5.618055765293778,
          5.106736638572913,
          3.306314188968249,
          5.839147132705816,
          6.072579842804276,
          5.747710667208978,
          3.535038708930528,
          6.3630206710613,
          5.49606011291928,
          5.697252312374371,
          5.689472902171874,
          4.800472308660606,
          5.11063786450803,
          5.656995077293932,
          5.686948100135599,
          5.443093010363507,
          5.126154806472615,
          6.8027904314005445,
          6.049565809541564,
          5.469855872402437,
          6.830391075823404,
          6.185234152813735,
          5.352190030167969,
          6.06498288098859,
          4.628570469661475,
          5.351681003872605,
          5.482911625120986,
          5.38273361725294,
          5.194673426527154,
          6.402194551083351,
          5.1566036575063805,
          5.173010588431751,
          5.618513754528649,
          5.358015560953481,
          6.033805206173449,
          5.526046213867471,
          6.124039980713724,
          4.809826301619091,
          6.113710315716006,
          5.758100196560305,
          5.650607209770572,
          5.998561214911152,
          5.245169446763368,
          5.400460234128667,
          5.765785303572205,
          6.270700448186278,
          4.8877971000252405,
          6.377704416262873,
          5.799627805820834,
          5.845569961855357,
          6.095006611401496,
          3.665950982905053,
          4.829128761684493,
          5.395595819566167,
          5.426976573764004,
          5.104889727342304,
          5.154439033591509,
          5.513799692595717,
          5.894471103622322,
          5.207291022858223,
          5.060006904170009,
          5.843297428754803,
          3.399768498262556,
          4.374881990078445,
          6.438131656096644,
          7.002078063478528,
          5.247715903420676,
          5.503547803430068,
          5.779900280581214,
          5.77965445113622,
          6.291018306915519,
          5.56601419954499,
          5.836849614717104,
          6.381930360030882,
          5.827864553529363,
          6.697511891603812,
          6.767263430272078,
          5.17177186620154,
          6.391924646708812,
          5.728089254327024,
          6.42009276504838,
          6.589975551765512,
          6.30621685791414,
          6.0955560114645815,
          6.04912496270356,
          5.319342229875423,
          5.597334928776709,
          5.4699812981164975,
          4.784259728146987,
          5.537830622669922,
          6.437593320659735,
          6.813152575649472,
          6.840215637611528,
          6.566672015503201,
          5.544464226368696,
          6.159082329710751,
          6.490041484811109,
          4.839352454343479,
          5.537419335036359,
          4.9848819032912814,
          4.779340519099523,
          6.795512408065039,
          5.293738206821973,
          2.8657034203478973,
          5.744504899962408,
          5.400996330772332,
          6.413517898281098,
          5.914851117787067,
          5.650907423286223,
          6.396060397978828,
          6.499690717419213,
          6.780928162802857,
          4.776384030319242,
          6.161479441942952,
          6.473858558334798,
          5.676818975972726,
          4.869698705546249,
          6.770796667713167,
          6.63003097025748,
          5.197639545561442,
          5.289974180550589,
          6.487113552384814,
          6.527444769269685,
          6.464160036152741,
          6.780591666759827,
          6.647960569522809,
          6.7443344030611065,
          6.586275884250965,
          3.112448032405681,
          6.522333726526447,
          6.36183322372854,
          6.097026265855643,
          6.007788828085538,
          4.365334954934885,
          5.44617552768127,
          6.9067040556209545,
          6.761581370326199
         ]
        },
        {
         "marker": {
          "color": "orange"
         },
         "name": "IGG Severity 2 BCRHC02",
         "type": "box",
         "x": [
          "IGG",
          "IGG",
          "IGG",
          "IGG",
          "IGG",
          "IGG",
          "IGG",
          "IGG"
         ],
         "y": [
          5.547574069874434,
          5.977907863126693,
          4.985045046935227,
          5.847541714647775,
          6.691727052611333,
          6.34555251403549,
          6.412390389890652,
          6.537117495275265
         ]
        },
        {
         "marker": {
          "color": "tomato"
         },
         "name": "IGG Severity 3 BCRHC01",
         "type": "box",
         "x": [
          "IGG",
          "IGG"
         ],
         "y": [
          6.034889991299728,
          6.425014820068206
         ]
        },
        {
         "marker": {
          "color": "tomato"
         },
         "name": "IGG Severity 3 BCRHC02",
         "type": "box",
         "x": [
          "IGG",
          "IGG",
          "IGG",
          "IGG",
          "IGG",
          "IGG",
          "IGG",
          "IGG",
          "IGG",
          "IGG",
          "IGG",
          "IGG",
          "IGG",
          "IGG",
          "IGG",
          "IGG",
          "IGG",
          "IGG",
          "IGG",
          "IGG",
          "IGG",
          "IGG",
          "IGG",
          "IGG",
          "IGG",
          "IGG",
          "IGG",
          "IGG",
          "IGG",
          "IGG",
          "IGG",
          "IGG",
          "IGG"
         ],
         "y": [
          5.945678012206287,
          5.564989570104548,
          5.801787411600215,
          6.461071896646824,
          6.295795587582952,
          5.962071237965099,
          6.272579182980429,
          5.658680717645432,
          6.012224427975296,
          6.483452122657529,
          6.511193802472134,
          4.190424566944391,
          6.261872947166472,
          6.271010220658931,
          6.339771503235377,
          5.531594583381949,
          6.639059089724404,
          5.565591453450886,
          5.48920736051824,
          4.630778095003548,
          5.789974888906484,
          5.266246186333981,
          5.57600658694932,
          6.1598597370575385,
          6.039977135353887,
          5.2345979040378685,
          5.573052804930103,
          6.350667710679252,
          6.974852493774947,
          6.551355159900392,
          6.069629914236363,
          5.440598128214186,
          5.025685505811608
         ]
        },
        {
         "marker": {
          "color": "brown"
         },
         "name": "IGG Severity 4 BCRHC01",
         "type": "box",
         "x": [
          "IGG",
          "IGG"
         ],
         "y": [
          5.736667934282215,
          5.285125424001593
         ]
        },
        {
         "marker": {
          "color": "brown"
         },
         "name": "IGG Severity 4 BCRHC02",
         "type": "box",
         "x": [
          "IGG",
          "IGG",
          "IGG",
          "IGG",
          "IGG",
          "IGG",
          "IGG",
          "IGG",
          "IGG",
          "IGG",
          "IGG",
          "IGG",
          "IGG",
          "IGG",
          "IGG",
          "IGG",
          "IGG",
          "IGG",
          "IGG",
          "IGG",
          "IGG",
          "IGG",
          "IGG",
          "IGG",
          "IGG",
          "IGG",
          "IGG",
          "IGG",
          "IGG",
          "IGG",
          "IGG",
          "IGG",
          "IGG",
          "IGG",
          "IGG",
          "IGG",
          "IGG",
          "IGG",
          "IGG",
          "IGG",
          "IGG",
          "IGG",
          "IGG",
          "IGG",
          "IGG",
          "IGG",
          "IGG"
         ],
         "y": [
          3.1587547206623805,
          4.970513262613966,
          4.331173686768286,
          5.969130337985199,
          5.651761266366453,
          5.463285267047183,
          6.657042107436095,
          5.436667477875053,
          5.576636582758942,
          6.250263993874766,
          2.5927517482826654,
          3.908310841500129,
          5.462535062805353,
          4.807708664342483,
          6.743173141763109,
          5.708812048069252,
          5.750987419841088,
          6.2947742059719625,
          5.846829715756506,
          6.855706249045034,
          6.002249841551215,
          6.579750853440704,
          4.777265016217766,
          5.615850468384784,
          4.441541139169204,
          6.070998656229127,
          5.313149034077924,
          5.2676162269184434,
          6.476862834233657,
          5.57870193329069,
          6.142725650078055,
          5.730659026036115,
          5.936966107471006,
          5.50224579381369,
          5.536675995090033,
          4.721168426442798,
          4.129963405612889,
          4.987249285026134,
          6.83490456796959,
          6.780240200779903,
          5.618297548336597,
          6.09643476670321,
          5.909121405433486,
          5.9270469782686055,
          6.23550234551119,
          5.716830777548431,
          6.032856781596648
         ]
        }
       ],
       "layout": {
        "boxmode": "group",
        "height": 500,
        "plot_bgcolor": "rgba(255, 255, 255, 1)",
        "template": {
         "data": {
          "bar": [
           {
            "error_x": {
             "color": "#2a3f5f"
            },
            "error_y": {
             "color": "#2a3f5f"
            },
            "marker": {
             "line": {
              "color": "#E5ECF6",
              "width": 0.5
             },
             "pattern": {
              "fillmode": "overlay",
              "size": 10,
              "solidity": 0.2
             }
            },
            "type": "bar"
           }
          ],
          "barpolar": [
           {
            "marker": {
             "line": {
              "color": "#E5ECF6",
              "width": 0.5
             },
             "pattern": {
              "fillmode": "overlay",
              "size": 10,
              "solidity": 0.2
             }
            },
            "type": "barpolar"
           }
          ],
          "carpet": [
           {
            "aaxis": {
             "endlinecolor": "#2a3f5f",
             "gridcolor": "white",
             "linecolor": "white",
             "minorgridcolor": "white",
             "startlinecolor": "#2a3f5f"
            },
            "baxis": {
             "endlinecolor": "#2a3f5f",
             "gridcolor": "white",
             "linecolor": "white",
             "minorgridcolor": "white",
             "startlinecolor": "#2a3f5f"
            },
            "type": "carpet"
           }
          ],
          "choropleth": [
           {
            "colorbar": {
             "outlinewidth": 0,
             "ticks": ""
            },
            "type": "choropleth"
           }
          ],
          "contour": [
           {
            "colorbar": {
             "outlinewidth": 0,
             "ticks": ""
            },
            "colorscale": [
             [
              0,
              "#0d0887"
             ],
             [
              0.1111111111111111,
              "#46039f"
             ],
             [
              0.2222222222222222,
              "#7201a8"
             ],
             [
              0.3333333333333333,
              "#9c179e"
             ],
             [
              0.4444444444444444,
              "#bd3786"
             ],
             [
              0.5555555555555556,
              "#d8576b"
             ],
             [
              0.6666666666666666,
              "#ed7953"
             ],
             [
              0.7777777777777778,
              "#fb9f3a"
             ],
             [
              0.8888888888888888,
              "#fdca26"
             ],
             [
              1,
              "#f0f921"
             ]
            ],
            "type": "contour"
           }
          ],
          "contourcarpet": [
           {
            "colorbar": {
             "outlinewidth": 0,
             "ticks": ""
            },
            "type": "contourcarpet"
           }
          ],
          "heatmap": [
           {
            "colorbar": {
             "outlinewidth": 0,
             "ticks": ""
            },
            "colorscale": [
             [
              0,
              "#0d0887"
             ],
             [
              0.1111111111111111,
              "#46039f"
             ],
             [
              0.2222222222222222,
              "#7201a8"
             ],
             [
              0.3333333333333333,
              "#9c179e"
             ],
             [
              0.4444444444444444,
              "#bd3786"
             ],
             [
              0.5555555555555556,
              "#d8576b"
             ],
             [
              0.6666666666666666,
              "#ed7953"
             ],
             [
              0.7777777777777778,
              "#fb9f3a"
             ],
             [
              0.8888888888888888,
              "#fdca26"
             ],
             [
              1,
              "#f0f921"
             ]
            ],
            "type": "heatmap"
           }
          ],
          "heatmapgl": [
           {
            "colorbar": {
             "outlinewidth": 0,
             "ticks": ""
            },
            "colorscale": [
             [
              0,
              "#0d0887"
             ],
             [
              0.1111111111111111,
              "#46039f"
             ],
             [
              0.2222222222222222,
              "#7201a8"
             ],
             [
              0.3333333333333333,
              "#9c179e"
             ],
             [
              0.4444444444444444,
              "#bd3786"
             ],
             [
              0.5555555555555556,
              "#d8576b"
             ],
             [
              0.6666666666666666,
              "#ed7953"
             ],
             [
              0.7777777777777778,
              "#fb9f3a"
             ],
             [
              0.8888888888888888,
              "#fdca26"
             ],
             [
              1,
              "#f0f921"
             ]
            ],
            "type": "heatmapgl"
           }
          ],
          "histogram": [
           {
            "marker": {
             "pattern": {
              "fillmode": "overlay",
              "size": 10,
              "solidity": 0.2
             }
            },
            "type": "histogram"
           }
          ],
          "histogram2d": [
           {
            "colorbar": {
             "outlinewidth": 0,
             "ticks": ""
            },
            "colorscale": [
             [
              0,
              "#0d0887"
             ],
             [
              0.1111111111111111,
              "#46039f"
             ],
             [
              0.2222222222222222,
              "#7201a8"
             ],
             [
              0.3333333333333333,
              "#9c179e"
             ],
             [
              0.4444444444444444,
              "#bd3786"
             ],
             [
              0.5555555555555556,
              "#d8576b"
             ],
             [
              0.6666666666666666,
              "#ed7953"
             ],
             [
              0.7777777777777778,
              "#fb9f3a"
             ],
             [
              0.8888888888888888,
              "#fdca26"
             ],
             [
              1,
              "#f0f921"
             ]
            ],
            "type": "histogram2d"
           }
          ],
          "histogram2dcontour": [
           {
            "colorbar": {
             "outlinewidth": 0,
             "ticks": ""
            },
            "colorscale": [
             [
              0,
              "#0d0887"
             ],
             [
              0.1111111111111111,
              "#46039f"
             ],
             [
              0.2222222222222222,
              "#7201a8"
             ],
             [
              0.3333333333333333,
              "#9c179e"
             ],
             [
              0.4444444444444444,
              "#bd3786"
             ],
             [
              0.5555555555555556,
              "#d8576b"
             ],
             [
              0.6666666666666666,
              "#ed7953"
             ],
             [
              0.7777777777777778,
              "#fb9f3a"
             ],
             [
              0.8888888888888888,
              "#fdca26"
             ],
             [
              1,
              "#f0f921"
             ]
            ],
            "type": "histogram2dcontour"
           }
          ],
          "mesh3d": [
           {
            "colorbar": {
             "outlinewidth": 0,
             "ticks": ""
            },
            "type": "mesh3d"
           }
          ],
          "parcoords": [
           {
            "line": {
             "colorbar": {
              "outlinewidth": 0,
              "ticks": ""
             }
            },
            "type": "parcoords"
           }
          ],
          "pie": [
           {
            "automargin": true,
            "type": "pie"
           }
          ],
          "scatter": [
           {
            "fillpattern": {
             "fillmode": "overlay",
             "size": 10,
             "solidity": 0.2
            },
            "type": "scatter"
           }
          ],
          "scatter3d": [
           {
            "line": {
             "colorbar": {
              "outlinewidth": 0,
              "ticks": ""
             }
            },
            "marker": {
             "colorbar": {
              "outlinewidth": 0,
              "ticks": ""
             }
            },
            "type": "scatter3d"
           }
          ],
          "scattercarpet": [
           {
            "marker": {
             "colorbar": {
              "outlinewidth": 0,
              "ticks": ""
             }
            },
            "type": "scattercarpet"
           }
          ],
          "scattergeo": [
           {
            "marker": {
             "colorbar": {
              "outlinewidth": 0,
              "ticks": ""
             }
            },
            "type": "scattergeo"
           }
          ],
          "scattergl": [
           {
            "marker": {
             "colorbar": {
              "outlinewidth": 0,
              "ticks": ""
             }
            },
            "type": "scattergl"
           }
          ],
          "scattermapbox": [
           {
            "marker": {
             "colorbar": {
              "outlinewidth": 0,
              "ticks": ""
             }
            },
            "type": "scattermapbox"
           }
          ],
          "scatterpolar": [
           {
            "marker": {
             "colorbar": {
              "outlinewidth": 0,
              "ticks": ""
             }
            },
            "type": "scatterpolar"
           }
          ],
          "scatterpolargl": [
           {
            "marker": {
             "colorbar": {
              "outlinewidth": 0,
              "ticks": ""
             }
            },
            "type": "scatterpolargl"
           }
          ],
          "scatterternary": [
           {
            "marker": {
             "colorbar": {
              "outlinewidth": 0,
              "ticks": ""
             }
            },
            "type": "scatterternary"
           }
          ],
          "surface": [
           {
            "colorbar": {
             "outlinewidth": 0,
             "ticks": ""
            },
            "colorscale": [
             [
              0,
              "#0d0887"
             ],
             [
              0.1111111111111111,
              "#46039f"
             ],
             [
              0.2222222222222222,
              "#7201a8"
             ],
             [
              0.3333333333333333,
              "#9c179e"
             ],
             [
              0.4444444444444444,
              "#bd3786"
             ],
             [
              0.5555555555555556,
              "#d8576b"
             ],
             [
              0.6666666666666666,
              "#ed7953"
             ],
             [
              0.7777777777777778,
              "#fb9f3a"
             ],
             [
              0.8888888888888888,
              "#fdca26"
             ],
             [
              1,
              "#f0f921"
             ]
            ],
            "type": "surface"
           }
          ],
          "table": [
           {
            "cells": {
             "fill": {
              "color": "#EBF0F8"
             },
             "line": {
              "color": "white"
             }
            },
            "header": {
             "fill": {
              "color": "#C8D4E3"
             },
             "line": {
              "color": "white"
             }
            },
            "type": "table"
           }
          ]
         },
         "layout": {
          "annotationdefaults": {
           "arrowcolor": "#2a3f5f",
           "arrowhead": 0,
           "arrowwidth": 1
          },
          "autotypenumbers": "strict",
          "coloraxis": {
           "colorbar": {
            "outlinewidth": 0,
            "ticks": ""
           }
          },
          "colorscale": {
           "diverging": [
            [
             0,
             "#8e0152"
            ],
            [
             0.1,
             "#c51b7d"
            ],
            [
             0.2,
             "#de77ae"
            ],
            [
             0.3,
             "#f1b6da"
            ],
            [
             0.4,
             "#fde0ef"
            ],
            [
             0.5,
             "#f7f7f7"
            ],
            [
             0.6,
             "#e6f5d0"
            ],
            [
             0.7,
             "#b8e186"
            ],
            [
             0.8,
             "#7fbc41"
            ],
            [
             0.9,
             "#4d9221"
            ],
            [
             1,
             "#276419"
            ]
           ],
           "sequential": [
            [
             0,
             "#0d0887"
            ],
            [
             0.1111111111111111,
             "#46039f"
            ],
            [
             0.2222222222222222,
             "#7201a8"
            ],
            [
             0.3333333333333333,
             "#9c179e"
            ],
            [
             0.4444444444444444,
             "#bd3786"
            ],
            [
             0.5555555555555556,
             "#d8576b"
            ],
            [
             0.6666666666666666,
             "#ed7953"
            ],
            [
             0.7777777777777778,
             "#fb9f3a"
            ],
            [
             0.8888888888888888,
             "#fdca26"
            ],
            [
             1,
             "#f0f921"
            ]
           ],
           "sequentialminus": [
            [
             0,
             "#0d0887"
            ],
            [
             0.1111111111111111,
             "#46039f"
            ],
            [
             0.2222222222222222,
             "#7201a8"
            ],
            [
             0.3333333333333333,
             "#9c179e"
            ],
            [
             0.4444444444444444,
             "#bd3786"
            ],
            [
             0.5555555555555556,
             "#d8576b"
            ],
            [
             0.6666666666666666,
             "#ed7953"
            ],
            [
             0.7777777777777778,
             "#fb9f3a"
            ],
            [
             0.8888888888888888,
             "#fdca26"
            ],
            [
             1,
             "#f0f921"
            ]
           ]
          },
          "colorway": [
           "#636efa",
           "#EF553B",
           "#00cc96",
           "#ab63fa",
           "#FFA15A",
           "#19d3f3",
           "#FF6692",
           "#B6E880",
           "#FF97FF",
           "#FECB52"
          ],
          "font": {
           "color": "#2a3f5f"
          },
          "geo": {
           "bgcolor": "white",
           "lakecolor": "white",
           "landcolor": "#E5ECF6",
           "showlakes": true,
           "showland": true,
           "subunitcolor": "white"
          },
          "hoverlabel": {
           "align": "left"
          },
          "hovermode": "closest",
          "mapbox": {
           "style": "light"
          },
          "paper_bgcolor": "white",
          "plot_bgcolor": "#E5ECF6",
          "polar": {
           "angularaxis": {
            "gridcolor": "white",
            "linecolor": "white",
            "ticks": ""
           },
           "bgcolor": "#E5ECF6",
           "radialaxis": {
            "gridcolor": "white",
            "linecolor": "white",
            "ticks": ""
           }
          },
          "scene": {
           "xaxis": {
            "backgroundcolor": "#E5ECF6",
            "gridcolor": "white",
            "gridwidth": 2,
            "linecolor": "white",
            "showbackground": true,
            "ticks": "",
            "zerolinecolor": "white"
           },
           "yaxis": {
            "backgroundcolor": "#E5ECF6",
            "gridcolor": "white",
            "gridwidth": 2,
            "linecolor": "white",
            "showbackground": true,
            "ticks": "",
            "zerolinecolor": "white"
           },
           "zaxis": {
            "backgroundcolor": "#E5ECF6",
            "gridcolor": "white",
            "gridwidth": 2,
            "linecolor": "white",
            "showbackground": true,
            "ticks": "",
            "zerolinecolor": "white"
           }
          },
          "shapedefaults": {
           "line": {
            "color": "#2a3f5f"
           }
          },
          "ternary": {
           "aaxis": {
            "gridcolor": "white",
            "linecolor": "white",
            "ticks": ""
           },
           "baxis": {
            "gridcolor": "white",
            "linecolor": "white",
            "ticks": ""
           },
           "bgcolor": "#E5ECF6",
           "caxis": {
            "gridcolor": "white",
            "linecolor": "white",
            "ticks": ""
           }
          },
          "title": {
           "x": 0.05
          },
          "xaxis": {
           "automargin": true,
           "gridcolor": "white",
           "linecolor": "white",
           "ticks": "",
           "title": {
            "standoff": 15
           },
           "zerolinecolor": "white",
           "zerolinewidth": 2
          },
          "yaxis": {
           "automargin": true,
           "gridcolor": "white",
           "linecolor": "white",
           "ticks": "",
           "title": {
            "standoff": 15
           },
           "zerolinecolor": "white",
           "zerolinewidth": 2
          }
         }
        },
        "title": {
         "text": "Time point comparison of BCR_HC 01"
        },
        "width": 1500,
        "xaxis": {
         "title": {
          "text": "Time Point"
         }
        },
        "yaxis": {
         "gridcolor": "lightgray",
         "range": [
          2,
          12
         ],
         "tickfont": {
          "size": 15
         },
         "title": {
          "font": {
           "size": 20
          },
          "text": "Shannon Diversity"
         }
        }
       }
      }
     },
     "metadata": {},
     "output_type": "display_data"
    }
   ],
   "source": [
    "def shannon_boxplot2(df, df2, title, detect):\n",
    "\n",
    "        severity_colors = {0: 'darkblue', 1: 'teal', 2: 'orange', 3: 'tomato', 4: 'brown', 5: 'black'}\n",
    "        \n",
    "        fig = go.Figure()\n",
    "        \n",
    "        if detect == 'HC':\n",
    "            Typelist = ['IGM', 'IGG']\n",
    "        elif detect == 'LC':\n",
    "            Typelist = ['IGK', 'IGL']\n",
    "        else:\n",
    "            Typelist = ['TRA', 'TRB']\n",
    "        \n",
    "        # 이번엔 timepoint ㅇ\n",
    "        \n",
    "        for t in Typelist:\n",
    "            temp = df[(df['Type'] == t)]\n",
    "            temp2 = df2[(df2['Type'] == t)]\n",
    "            for severity in severity_colors:\n",
    "                temp_severity = temp[temp['Severity'] == severity]\n",
    "                temp2_severity = temp2[temp2['Severity'] == severity]\n",
    "                if not temp_severity.empty:\n",
    "                    fig.add_trace(go.Box(y=temp_severity['Shannon_diversity'], x=[f'{t}']*len(temp_severity), name=f'{t} Severity {severity} BCRHC01', marker_color=severity_colors[severity]))\n",
    "                if not temp2_severity.empty:\n",
    "                    fig.add_trace(go.Box(y=temp2_severity['Shannon_diversity'], x=[f'{t}']*len(temp2_severity), name=f'{t} Severity {severity} BCRHC02', marker_color=severity_colors[severity]))\n",
    "                        \n",
    "        fig.update_layout(title=title, xaxis_title='Time Point', yaxis_title='Shannon Diversity', boxmode='group', yaxis_tickfont_size=15, yaxis_titlefont_size=20,\n",
    "                            plot_bgcolor='rgba(255, 255, 255, 1)', yaxis=dict(gridcolor='lightgray',range=[2,12]), width=1500, height=500)\n",
    "        \n",
    "        fig.show()\n",
    "        \n",
    "shannon_boxplot2(trim_BCRHC01, trim_BCRHC02, 'Time point comparison of BCR_HC 01', 'HC')             "
   ]
  },
  {
   "cell_type": "code",
   "execution_count": 48,
   "metadata": {},
   "outputs": [
    {
     "data": {
      "text/html": [
       "<div>\n",
       "<style scoped>\n",
       "    .dataframe tbody tr th:only-of-type {\n",
       "        vertical-align: middle;\n",
       "    }\n",
       "\n",
       "    .dataframe tbody tr th {\n",
       "        vertical-align: top;\n",
       "    }\n",
       "\n",
       "    .dataframe thead th {\n",
       "        text-align: right;\n",
       "    }\n",
       "</style>\n",
       "<table border=\"1\" class=\"dataframe\">\n",
       "  <thead>\n",
       "    <tr style=\"text-align: right;\">\n",
       "      <th></th>\n",
       "      <th>Sample</th>\n",
       "      <th>Row_number</th>\n",
       "      <th>Total_readcount</th>\n",
       "      <th>Shannon_diversity</th>\n",
       "      <th>PlnP2</th>\n",
       "      <th>Squared_Shannon</th>\n",
       "      <th>Time_point</th>\n",
       "      <th>Type</th>\n",
       "      <th>Severity</th>\n",
       "    </tr>\n",
       "  </thead>\n",
       "  <tbody>\n",
       "    <tr>\n",
       "      <th>0</th>\n",
       "      <td>COV-CCO-041</td>\n",
       "      <td>2498</td>\n",
       "      <td>19342</td>\n",
       "      <td>6.727983</td>\n",
       "      <td>47.012921</td>\n",
       "      <td>45.265755</td>\n",
       "      <td>1</td>\n",
       "      <td>IGG</td>\n",
       "      <td>1.0</td>\n",
       "    </tr>\n",
       "    <tr>\n",
       "      <th>1</th>\n",
       "      <td>COV-CCO-041</td>\n",
       "      <td>7006</td>\n",
       "      <td>11251</td>\n",
       "      <td>8.179853</td>\n",
       "      <td>69.480620</td>\n",
       "      <td>66.909994</td>\n",
       "      <td>1</td>\n",
       "      <td>IGM</td>\n",
       "      <td>1.0</td>\n",
       "    </tr>\n",
       "    <tr>\n",
       "      <th>2</th>\n",
       "      <td>COV-CCO-041</td>\n",
       "      <td>348</td>\n",
       "      <td>1523</td>\n",
       "      <td>5.104862</td>\n",
       "      <td>27.682505</td>\n",
       "      <td>26.059611</td>\n",
       "      <td>2</td>\n",
       "      <td>IGG</td>\n",
       "      <td>1.0</td>\n",
       "    </tr>\n",
       "    <tr>\n",
       "      <th>3</th>\n",
       "      <td>COV-CCO-041</td>\n",
       "      <td>1183</td>\n",
       "      <td>1850</td>\n",
       "      <td>6.769221</td>\n",
       "      <td>46.744685</td>\n",
       "      <td>45.822355</td>\n",
       "      <td>2</td>\n",
       "      <td>IGM</td>\n",
       "      <td>1.0</td>\n",
       "    </tr>\n",
       "    <tr>\n",
       "      <th>4</th>\n",
       "      <td>COV-CCO-041</td>\n",
       "      <td>2743</td>\n",
       "      <td>12102</td>\n",
       "      <td>6.672048</td>\n",
       "      <td>47.145421</td>\n",
       "      <td>44.516224</td>\n",
       "      <td>3</td>\n",
       "      <td>IGG</td>\n",
       "      <td>1.0</td>\n",
       "    </tr>\n",
       "  </tbody>\n",
       "</table>\n",
       "</div>"
      ],
      "text/plain": [
       "        Sample  Row_number  Total_readcount  Shannon_diversity      PlnP2  \\\n",
       "0  COV-CCO-041        2498            19342           6.727983  47.012921   \n",
       "1  COV-CCO-041        7006            11251           8.179853  69.480620   \n",
       "2  COV-CCO-041         348             1523           5.104862  27.682505   \n",
       "3  COV-CCO-041        1183             1850           6.769221  46.744685   \n",
       "4  COV-CCO-041        2743            12102           6.672048  47.145421   \n",
       "\n",
       "   Squared_Shannon  Time_point Type  Severity  \n",
       "0        45.265755           1  IGG       1.0  \n",
       "1        66.909994           1  IGM       1.0  \n",
       "2        26.059611           2  IGG       1.0  \n",
       "3        45.822355           2  IGM       1.0  \n",
       "4        44.516224           3  IGG       1.0  "
      ]
     },
     "execution_count": 48,
     "metadata": {},
     "output_type": "execute_result"
    }
   ],
   "source": [
    "trim_BCRHC01.head()"
   ]
  },
  {
   "cell_type": "code",
   "execution_count": 31,
   "metadata": {},
   "outputs": [
    {
     "data": {
      "application/vnd.plotly.v1+json": {
       "config": {
        "plotlyServerURL": "https://plot.ly"
       },
       "data": [
        {
         "marker": {
          "color": "darkblue"
         },
         "name": "IGM 1 Severity 0",
         "type": "box",
         "x": [
          "IGM",
          "IGM",
          "IGM",
          "IGM",
          "IGM",
          "IGM",
          "IGM",
          "IGM",
          "IGM",
          "IGM",
          "IGM",
          "IGM",
          "IGM",
          "IGM",
          "IGM",
          "IGM",
          "IGM",
          "IGM",
          "IGM",
          "IGM",
          "IGM",
          "IGM",
          "IGM",
          "IGM",
          "IGM",
          "IGM",
          "IGM",
          "IGM",
          "IGM",
          "IGM",
          "IGM",
          "IGM",
          "IGM",
          "IGM",
          "IGM",
          "IGM",
          "IGM",
          "IGM",
          "IGM",
          "IGM",
          "IGM",
          "IGM",
          "IGM",
          "IGM",
          "IGM",
          "IGM",
          "IGM",
          "IGM",
          "IGM",
          "IGM",
          "IGM",
          "IGM",
          "IGM",
          "IGM",
          "IGM",
          "IGM",
          "IGM",
          "IGM",
          "IGM",
          "IGM",
          "IGM",
          "IGM",
          "IGM",
          "IGM",
          "IGM",
          "IGM",
          "IGM",
          "IGM",
          "IGM",
          "IGM",
          "IGM",
          "IGM",
          "IGM",
          "IGM",
          "IGM",
          "IGM",
          "IGM",
          "IGM",
          "IGM",
          "IGM",
          "IGM",
          "IGM",
          "IGM"
         ],
         "y": [
          8.44743787448177,
          7.79136234545581,
          8.092246939826305,
          7.681326830364616,
          8.601943935009002,
          8.714368710957434,
          8.203453040135262,
          8.020046001877757,
          8.810322102854947,
          8.661489157368939,
          8.272934750138724,
          8.165532421440563,
          8.498780099380728,
          7.206958141262746,
          8.630582697104602,
          8.543471583202782,
          8.375410872564117,
          8.406073775718589,
          9.071478646821983,
          8.184362909381653,
          8.655025338771361,
          6.526655010591043,
          6.701979911783807,
          5.829406403226916,
          6.7811837258091,
          7.169762651292191,
          6.053219598919544,
          4.810069789719566,
          5.773230613454017,
          5.570979438095758,
          7.104833313914404,
          6.04739321426122,
          4.807966354401561,
          5.759253485573908,
          7.737120618629158,
          7.350207877059497,
          7.62596115431494,
          4.806929409926156,
          6.938984834473953,
          6.070846474186935,
          8.965996318542873,
          6.437630277654907,
          5.46982322142832,
          7.376403373788232,
          8.980996647337221,
          8.735647771251935,
          7.464477666854934,
          6.2789485729594805,
          8.601364959086565,
          8.645415646731687,
          7.88106346690622,
          8.960284817468029,
          8.003170581318342,
          8.246969087890449,
          9.2244583651969,
          8.777297899740251,
          8.351142717065027,
          8.29370567224501,
          8.661875008267714,
          7.578310310290432,
          8.754316633078544,
          7.662139131927243,
          8.34731200091739,
          7.856620795869583,
          7.426429493377162,
          7.948345884412162,
          7.1143299116444325,
          7.930441958894582,
          8.174244507490307,
          7.966695626013383,
          8.65415437082343,
          8.243771610623819,
          8.254811003846616,
          8.375854268320884,
          8.604356894515426,
          7.843336651238603,
          9.71457246598966,
          8.570613265408232,
          7.866166604593435,
          9.080678707166218,
          9.35127463202001,
          9.083381673471196,
          8.351836148982693
         ]
        },
        {
         "marker": {
          "color": "teal"
         },
         "name": "IGM 1 Severity 1",
         "type": "box",
         "x": [
          "IGM",
          "IGM",
          "IGM",
          "IGM",
          "IGM",
          "IGM",
          "IGM",
          "IGM",
          "IGM",
          "IGM",
          "IGM",
          "IGM",
          "IGM",
          "IGM",
          "IGM",
          "IGM",
          "IGM",
          "IGM",
          "IGM",
          "IGM",
          "IGM",
          "IGM",
          "IGM",
          "IGM",
          "IGM",
          "IGM",
          "IGM",
          "IGM",
          "IGM",
          "IGM",
          "IGM",
          "IGM",
          "IGM",
          "IGM",
          "IGM",
          "IGM",
          "IGM",
          "IGM",
          "IGM",
          "IGM",
          "IGM",
          "IGM",
          "IGM",
          "IGM",
          "IGM",
          "IGM",
          "IGM",
          "IGM",
          "IGM",
          "IGM",
          "IGM",
          "IGM",
          "IGM",
          "IGM",
          "IGM",
          "IGM",
          "IGM",
          "IGM",
          "IGM",
          "IGM",
          "IGM",
          "IGM",
          "IGM",
          "IGM",
          "IGM",
          "IGM",
          "IGM",
          "IGM",
          "IGM",
          "IGM",
          "IGM",
          "IGM",
          "IGM",
          "IGM",
          "IGM",
          "IGM",
          "IGM",
          "IGM",
          "IGM",
          "IGM",
          "IGM",
          "IGM",
          "IGM",
          "IGM",
          "IGM"
         ],
         "y": [
          8.17985294404447,
          7.957169282610262,
          8.265711089868383,
          8.093039549964594,
          8.695308588099572,
          8.265806267672414,
          6.981976862711924,
          9.225082072164373,
          9.207544241386056,
          8.088297545642535,
          8.111389392294456,
          7.66402360958345,
          7.9877335661710225,
          7.11597764271325,
          7.611959008394999,
          7.562125714259381,
          6.387349425775136,
          7.32701447097758,
          7.976633198045278,
          6.283291270831102,
          8.183272638891596,
          8.769150912798201,
          7.390937490652419,
          8.258953525791968,
          8.381032462437785,
          7.407190222535005,
          7.220895778454262,
          5.561338603833617,
          6.730505076231023,
          7.482884253740857,
          6.55975543889849,
          7.357714332854204,
          6.512047015860552,
          5.862433106657755,
          6.565393611162189,
          6.515532691444931,
          7.72023990127336,
          7.945599502832631,
          6.438506052337055,
          8.004481142389686,
          6.880789438798616,
          7.725017168689392,
          6.338327092608489,
          7.0330473458423794,
          6.534259087408529,
          6.04984897842341,
          7.608482535482486,
          6.661844746270564,
          8.874722047983443,
          8.715214892205557,
          8.670720774639385,
          7.545744685665476,
          7.660981490032188,
          7.757646732239498,
          6.386862777779315,
          6.396869601606462,
          8.645682083882196,
          6.682786317789002,
          7.205865933658416,
          7.753027783177583,
          8.13413289820037,
          7.485452511912521,
          8.205550388858098,
          7.911373705949007,
          7.721411858932955,
          7.806493255160048,
          8.42566570723833,
          7.62325559278985,
          7.825074865497075,
          8.982399685302962,
          8.991409249193854,
          8.381073914562531,
          9.1485012488866,
          9.71530707554782,
          7.485478823854554,
          7.529110843150852,
          8.190180283069358,
          6.436646997413599,
          7.176373645023878,
          8.759747941755858,
          8.810914391032766,
          8.592013774688775,
          7.258669809688473,
          9.154267071405616,
          8.871743497547348
         ]
        },
        {
         "marker": {
          "color": "teal"
         },
         "name": "IGM 2 Severity 1",
         "type": "box",
         "x": [
          "IGM",
          "IGM",
          "IGM",
          "IGM",
          "IGM",
          "IGM",
          "IGM",
          "IGM",
          "IGM",
          "IGM",
          "IGM",
          "IGM",
          "IGM",
          "IGM",
          "IGM",
          "IGM",
          "IGM",
          "IGM",
          "IGM",
          "IGM",
          "IGM",
          "IGM",
          "IGM",
          "IGM",
          "IGM",
          "IGM",
          "IGM",
          "IGM",
          "IGM",
          "IGM",
          "IGM",
          "IGM",
          "IGM",
          "IGM",
          "IGM",
          "IGM",
          "IGM",
          "IGM",
          "IGM",
          "IGM",
          "IGM",
          "IGM",
          "IGM"
         ],
         "y": [
          6.769221180648266,
          8.024965294528458,
          8.617035532276542,
          7.990666364705812,
          7.535905905148728,
          8.339416162485728,
          6.577080375517056,
          7.023765170473661,
          10.208777910906958,
          7.901928412760845,
          7.540834443794464,
          7.754928910311202,
          7.509062005206054,
          7.277167291484207,
          7.298461253521608,
          6.280617439680586,
          5.755773163809996,
          7.612171899965616,
          8.587845642996363,
          7.866495303756613,
          7.624253803633136,
          6.179724066481518,
          8.205469316265962,
          7.297299781053412,
          7.201386906836994,
          5.970088084969319,
          5.647128269158276,
          8.405641844912118,
          7.367145773314498,
          8.429575928539057,
          8.62042653652843,
          9.26135784849405,
          7.327662114955961,
          7.318134439336404,
          6.613024852394396,
          9.226526416551907,
          6.844698944564204,
          8.2368522263214,
          8.634618089762975,
          4.83145252806462,
          7.6777865018054,
          7.963747079066509,
          9.005086433752043
         ]
        },
        {
         "marker": {
          "color": "teal"
         },
         "name": "IGM 3 Severity 1",
         "type": "box",
         "x": [
          "IGM",
          "IGM",
          "IGM",
          "IGM",
          "IGM",
          "IGM",
          "IGM",
          "IGM",
          "IGM",
          "IGM",
          "IGM",
          "IGM",
          "IGM",
          "IGM",
          "IGM",
          "IGM",
          "IGM",
          "IGM",
          "IGM",
          "IGM",
          "IGM",
          "IGM",
          "IGM",
          "IGM",
          "IGM",
          "IGM",
          "IGM",
          "IGM",
          "IGM",
          "IGM",
          "IGM",
          "IGM",
          "IGM",
          "IGM",
          "IGM",
          "IGM",
          "IGM",
          "IGM",
          "IGM",
          "IGM",
          "IGM",
          "IGM",
          "IGM",
          "IGM",
          "IGM",
          "IGM",
          "IGM",
          "IGM",
          "IGM",
          "IGM",
          "IGM",
          "IGM",
          "IGM",
          "IGM",
          "IGM",
          "IGM",
          "IGM",
          "IGM",
          "IGM",
          "IGM",
          "IGM",
          "IGM",
          "IGM",
          "IGM",
          "IGM",
          "IGM",
          "IGM"
         ],
         "y": [
          8.651372019351793,
          7.235091162097147,
          9.174787559670335,
          8.376834564800083,
          7.167768749365878,
          7.899967561918043,
          7.797742474994864,
          8.522756957792133,
          8.168079289451631,
          8.246051604723933,
          8.32925160219425,
          7.980955265112121,
          8.702797129630543,
          5.952554733489295,
          7.2004827668397,
          7.376596759484199,
          6.94065705814368,
          7.968672907027995,
          9.372152632421916,
          8.299956023754236,
          8.414202088303094,
          8.047902979432886,
          8.19745222652054,
          6.479839101907973,
          7.279405790222509,
          7.476792967275591,
          6.855092949567419,
          7.351809524605171,
          7.45267924698822,
          7.723323364678473,
          8.700948392305762,
          9.559146121177182,
          7.723387275742921,
          8.027879987549479,
          7.587501641936149,
          7.9151169084631,
          6.795177375191152,
          5.509116800414775,
          5.03809381700568,
          6.985910288893871,
          7.611015813096628,
          6.957652351913441,
          7.660317388130241,
          7.593294031468825,
          7.974772673443995,
          8.902613833337911,
          7.8858640057196,
          9.077375717534576,
          9.131663576637589,
          7.935704895581439,
          8.25052363144832,
          7.898991748622675,
          7.7727595141008194,
          8.667925392298518,
          8.574036245597847,
          6.608325185307701,
          7.488766615181437,
          7.826313946626116,
          8.920988997648138,
          8.48734951821257,
          8.977944617860908,
          8.556688660201855,
          7.16917204719999,
          6.179865046529965,
          9.185069340201869,
          7.744391817834973,
          8.296715472359462
         ]
        },
        {
         "marker": {
          "color": "orange"
         },
         "name": "IGM 1 Severity 2",
         "type": "box",
         "x": [
          "IGM",
          "IGM",
          "IGM",
          "IGM",
          "IGM",
          "IGM",
          "IGM",
          "IGM",
          "IGM",
          "IGM",
          "IGM",
          "IGM",
          "IGM",
          "IGM",
          "IGM",
          "IGM",
          "IGM",
          "IGM",
          "IGM",
          "IGM",
          "IGM",
          "IGM",
          "IGM",
          "IGM",
          "IGM",
          "IGM",
          "IGM",
          "IGM",
          "IGM",
          "IGM",
          "IGM",
          "IGM",
          "IGM",
          "IGM",
          "IGM",
          "IGM",
          "IGM",
          "IGM",
          "IGM",
          "IGM",
          "IGM",
          "IGM",
          "IGM",
          "IGM",
          "IGM",
          "IGM",
          "IGM",
          "IGM",
          "IGM",
          "IGM",
          "IGM",
          "IGM",
          "IGM",
          "IGM",
          "IGM",
          "IGM",
          "IGM",
          "IGM",
          "IGM",
          "IGM",
          "IGM",
          "IGM",
          "IGM",
          "IGM",
          "IGM",
          "IGM",
          "IGM",
          "IGM",
          "IGM",
          "IGM",
          "IGM"
         ],
         "y": [
          9.01897911799264,
          8.715673047149759,
          9.458804413830835,
          8.210910076914802,
          8.068714873262604,
          7.8785996923114,
          7.739885495840796,
          7.888066039904335,
          7.170441154458168,
          5.974923902272833,
          6.133733017669998,
          7.877803233797941,
          8.200588217914992,
          7.030069275300194,
          6.877959270568296,
          9.110235572006648,
          8.2102710872543,
          8.209815311463661,
          7.319918914810329,
          8.664226614474845,
          6.696260912098239,
          7.548960324935087,
          8.727034635460402,
          8.368932583165414,
          6.3634404556525626,
          7.439726544121967,
          7.7121395472127166,
          7.779479327262522,
          7.069462639081619,
          7.4969214703409905,
          7.864022724536984,
          8.336272180631795,
          8.151597473995952,
          7.506626866145891,
          7.425515171867274,
          7.39965932682602,
          7.054854302185496,
          7.57489107788511,
          7.286277684416682,
          6.512001565357528,
          8.835980516356797,
          7.861985613201487,
          7.849665434092341,
          7.80577668405293,
          8.110592731755736,
          8.061606015640285,
          8.58610562676959,
          8.71133465240665,
          7.023198780603182,
          8.089629765069965,
          8.297667276084498,
          7.15303762828357,
          8.141767577848256,
          4.936236690217132,
          8.774168487529339,
          7.643277231410998,
          8.623676671376357,
          8.592024880801606,
          8.84622160894258,
          7.6596695058758115,
          5.998794100490072,
          8.295537818970171,
          8.38400229895428,
          8.729320729076795,
          8.170376579990528,
          8.485996429329019,
          9.32786960242668,
          6.359111882455024,
          8.579959042753881,
          8.4416467421941,
          8.67953982660505
         ]
        },
        {
         "marker": {
          "color": "orange"
         },
         "name": "IGM 2 Severity 2",
         "type": "box",
         "x": [
          "IGM",
          "IGM",
          "IGM",
          "IGM",
          "IGM",
          "IGM",
          "IGM",
          "IGM",
          "IGM",
          "IGM",
          "IGM",
          "IGM",
          "IGM",
          "IGM",
          "IGM",
          "IGM",
          "IGM",
          "IGM",
          "IGM",
          "IGM",
          "IGM",
          "IGM",
          "IGM",
          "IGM",
          "IGM",
          "IGM",
          "IGM",
          "IGM",
          "IGM",
          "IGM",
          "IGM",
          "IGM",
          "IGM",
          "IGM",
          "IGM",
          "IGM",
          "IGM",
          "IGM",
          "IGM",
          "IGM",
          "IGM",
          "IGM",
          "IGM",
          "IGM",
          "IGM",
          "IGM",
          "IGM",
          "IGM",
          "IGM",
          "IGM"
         ],
         "y": [
          9.940307389266724,
          6.442045677902714,
          7.426469354835164,
          5.405103223497525,
          7.048767131262397,
          5.988615121315375,
          7.857319605032917,
          7.447855873517428,
          7.065195523878297,
          8.383930883815736,
          6.9959230027361965,
          7.809790238117896,
          7.290371351576977,
          8.017002943899024,
          7.655256206824549,
          8.051935225787286,
          6.991939351799632,
          7.268500621158443,
          7.6472677581031165,
          7.394471595234994,
          7.948682192094939,
          7.900052300941114,
          6.674801624731233,
          7.105704461710755,
          8.518564794226611,
          7.219974760818082,
          7.910432780582619,
          7.296157629886847,
          7.8319817730132515,
          7.179172638634139,
          7.358004057708874,
          7.567431288590825,
          7.617026750062693,
          8.979359087106975,
          9.684873274172991,
          6.929866056470044,
          8.75266689597653,
          8.712171099782555,
          8.74331861192431,
          8.728344581972589,
          8.75643777081883,
          7.351221811550904,
          8.628374922742847,
          8.01239281193577,
          9.410348622898402,
          6.458115399676527,
          8.118653269468451,
          9.034723248297592,
          8.08775194412302,
          9.47304574730611
         ]
        },
        {
         "marker": {
          "color": "orange"
         },
         "name": "IGM 3 Severity 2",
         "type": "box",
         "x": [
          "IGM",
          "IGM",
          "IGM",
          "IGM",
          "IGM",
          "IGM",
          "IGM",
          "IGM",
          "IGM",
          "IGM",
          "IGM",
          "IGM",
          "IGM",
          "IGM",
          "IGM",
          "IGM",
          "IGM",
          "IGM",
          "IGM",
          "IGM",
          "IGM",
          "IGM",
          "IGM",
          "IGM",
          "IGM",
          "IGM",
          "IGM",
          "IGM",
          "IGM",
          "IGM",
          "IGM",
          "IGM",
          "IGM",
          "IGM",
          "IGM",
          "IGM",
          "IGM",
          "IGM",
          "IGM",
          "IGM",
          "IGM",
          "IGM",
          "IGM",
          "IGM",
          "IGM"
         ],
         "y": [
          7.709613449856294,
          7.719610185165725,
          7.240657532157361,
          7.880532834156855,
          8.535157057329748,
          6.992130326674654,
          8.256688478467144,
          7.373874858232424,
          6.812415455603737,
          7.621141560718216,
          7.194747287232335,
          7.17078075088746,
          6.644767967305439,
          7.493838296840885,
          6.625912340008814,
          7.75394308670606,
          8.073281145929313,
          8.283252798368613,
          8.78637211356677,
          7.540403252888722,
          7.523216020969562,
          6.40965496372437,
          7.355619815555247,
          8.998766142127083,
          7.664970703567366,
          5.997903410859421,
          7.362758603507586,
          8.775345231708775,
          8.889658012445146,
          6.8399222356754725,
          8.489179466920776,
          8.847000733870937,
          5.970633553563085,
          9.5461940101411,
          8.002851006147504,
          8.386645453336326,
          8.828721441573826,
          7.238614365702571,
          7.661546779635068,
          4.875971924459655,
          6.183355758762292,
          9.364289115034111,
          9.018148558891744,
          8.82604598613321,
          9.76433864147946
         ]
        },
        {
         "marker": {
          "color": "orange"
         },
         "name": "IGM 4 Severity 2",
         "type": "box",
         "x": [
          "IGM",
          "IGM"
         ],
         "y": [
          6.847462714062154,
          8.80034303143257
         ]
        },
        {
         "marker": {
          "color": "tomato"
         },
         "name": "IGM 1 Severity 3",
         "type": "box",
         "x": [
          "IGM",
          "IGM",
          "IGM",
          "IGM",
          "IGM",
          "IGM",
          "IGM",
          "IGM",
          "IGM",
          "IGM"
         ],
         "y": [
          8.5901623370271,
          7.955533219555028,
          8.726774419382151,
          5.294845245398011,
          5.440007126760473,
          6.924139244639661,
          7.851718071555406,
          7.423911012408287,
          9.163864452344368,
          7.817248297018299
         ]
        },
        {
         "marker": {
          "color": "tomato"
         },
         "name": "IGM 2 Severity 3",
         "type": "box",
         "x": [
          "IGM",
          "IGM",
          "IGM",
          "IGM",
          "IGM",
          "IGM",
          "IGM",
          "IGM",
          "IGM",
          "IGM"
         ],
         "y": [
          9.057993192332969,
          8.47419820090025,
          9.334783888527028,
          7.8478870913128,
          7.948192833786045,
          6.356219669443136,
          9.592232214865389,
          8.856768294286065,
          8.626377393116616,
          6.435316010712731
         ]
        },
        {
         "marker": {
          "color": "tomato"
         },
         "name": "IGM 3 Severity 3",
         "type": "box",
         "x": [
          "IGM",
          "IGM",
          "IGM",
          "IGM",
          "IGM",
          "IGM",
          "IGM",
          "IGM"
         ],
         "y": [
          8.5477100492801,
          9.28253939720865,
          8.249884978353663,
          9.54326423694438,
          7.553813291948584,
          8.701273308857596,
          8.747030423776843,
          7.933890523909177
         ]
        },
        {
         "marker": {
          "color": "tomato"
         },
         "name": "IGM 4 Severity 3",
         "type": "box",
         "x": [
          "IGM",
          "IGM",
          "IGM",
          "IGM",
          "IGM",
          "IGM",
          "IGM"
         ],
         "y": [
          9.794299126459908,
          8.470250540181524,
          8.91165632983443,
          6.7047232704578885,
          8.802126998594487,
          8.695527099934365,
          8.076908306246668
         ]
        },
        {
         "marker": {
          "color": "brown"
         },
         "name": "IGM 1 Severity 4",
         "type": "box",
         "x": [
          "IGM",
          "IGM",
          "IGM",
          "IGM",
          "IGM",
          "IGM",
          "IGM",
          "IGM",
          "IGM",
          "IGM",
          "IGM"
         ],
         "y": [
          7.757033258305614,
          3.443338722457307,
          4.4919533900294,
          5.727563521774155,
          4.494736138977748,
          6.456359191368181,
          8.66605405986679,
          8.16834866044558,
          6.195971141292548,
          7.722717277418895,
          8.340287586360068
         ]
        },
        {
         "marker": {
          "color": "brown"
         },
         "name": "IGM 2 Severity 4",
         "type": "box",
         "x": [
          "IGM",
          "IGM",
          "IGM",
          "IGM",
          "IGM",
          "IGM",
          "IGM",
          "IGM",
          "IGM",
          "IGM",
          "IGM",
          "IGM",
          "IGM",
          "IGM",
          "IGM",
          "IGM"
         ],
         "y": [
          5.364016987093159,
          7.258370457453999,
          7.770553971852814,
          5.627306079438025,
          8.032269313018626,
          7.903917290112298,
          6.021338691294799,
          8.388226020982241,
          4.816317394825544,
          8.471301674028458,
          8.818604766506683,
          8.155342878551307,
          6.207360293775323,
          5.505349798816826,
          7.305917057651665,
          6.065691302306347
         ]
        },
        {
         "marker": {
          "color": "brown"
         },
         "name": "IGM 3 Severity 4",
         "type": "box",
         "x": [
          "IGM",
          "IGM",
          "IGM",
          "IGM",
          "IGM",
          "IGM",
          "IGM",
          "IGM",
          "IGM",
          "IGM",
          "IGM",
          "IGM",
          "IGM",
          "IGM"
         ],
         "y": [
          7.493488824248068,
          8.460904981145559,
          8.671946378200463,
          7.106293032046152,
          7.649841794741072,
          8.136164820230174,
          7.201422359561458,
          7.094320666290984,
          8.97225055072856,
          8.631627437793703,
          7.48476176538245,
          7.389491061461967,
          8.539814935038336,
          7.721806285563003
         ]
        },
        {
         "marker": {
          "color": "brown"
         },
         "name": "IGM 4 Severity 4",
         "type": "box",
         "x": [
          "IGM",
          "IGM",
          "IGM",
          "IGM",
          "IGM",
          "IGM",
          "IGM",
          "IGM"
         ],
         "y": [
          4.672729493924368,
          7.325496945625402,
          9.075275309950456,
          9.80291268550651,
          8.636924789339957,
          5.410745047980305,
          8.332041144339545,
          8.051802926254492
         ]
        },
        {
         "marker": {
          "color": "darkblue"
         },
         "name": "IGG 1 Severity 0",
         "type": "box",
         "x": [
          "IGG",
          "IGG",
          "IGG",
          "IGG",
          "IGG",
          "IGG",
          "IGG",
          "IGG",
          "IGG",
          "IGG",
          "IGG",
          "IGG",
          "IGG",
          "IGG",
          "IGG",
          "IGG",
          "IGG",
          "IGG",
          "IGG",
          "IGG",
          "IGG",
          "IGG",
          "IGG",
          "IGG",
          "IGG",
          "IGG",
          "IGG",
          "IGG",
          "IGG",
          "IGG",
          "IGG",
          "IGG",
          "IGG",
          "IGG",
          "IGG",
          "IGG",
          "IGG",
          "IGG",
          "IGG",
          "IGG",
          "IGG",
          "IGG",
          "IGG",
          "IGG",
          "IGG",
          "IGG",
          "IGG",
          "IGG",
          "IGG",
          "IGG",
          "IGG",
          "IGG",
          "IGG",
          "IGG",
          "IGG",
          "IGG",
          "IGG",
          "IGG",
          "IGG",
          "IGG",
          "IGG",
          "IGG",
          "IGG",
          "IGG",
          "IGG",
          "IGG",
          "IGG",
          "IGG",
          "IGG",
          "IGG",
          "IGG",
          "IGG",
          "IGG",
          "IGG",
          "IGG",
          "IGG",
          "IGG",
          "IGG",
          "IGG",
          "IGG",
          "IGG",
          "IGG",
          "IGG"
         ],
         "y": [
          6.193058032838419,
          5.978861901203812,
          6.717871853805641,
          6.4662229015826185,
          6.3159850302245255,
          5.816984073273274,
          5.876942913010653,
          5.773779047303736,
          5.917954969667636,
          6.469998325491324,
          6.0474038054149775,
          5.909858423327593,
          5.896454249685439,
          4.896780475197659,
          5.859456113231217,
          5.356666189743192,
          5.601784833313682,
          5.771994610986134,
          6.030933453194041,
          5.29038764110618,
          5.94586066212304,
          5.1680173872085895,
          5.011789532965061,
          3.7191227335283896,
          5.181113342664639,
          5.735744189480642,
          3.955422803684829,
          3.606472870668661,
          4.420394240927614,
          4.136078682106532,
          4.434753956078977,
          4.695920439055136,
          4.462673123084045,
          4.508108464099861,
          6.321030942695943,
          4.677194042128937,
          5.370357071430322,
          3.279145943536101,
          5.111867385760199,
          3.7602700792941,
          4.971737311631809,
          5.258805269227596,
          4.0420224185451215,
          5.218234040421695,
          5.990516540561273,
          5.926539711884733,
          4.555233840523728,
          3.9074265664677794,
          5.711618931410373,
          4.979069187162259,
          6.517494069394858,
          6.580625370229995,
          5.497817246639967,
          6.132553430652292,
          6.759576472157537,
          5.752550005885571,
          5.495442619529651,
          5.643201151363965,
          5.787673524141302,
          5.5153615913037335,
          5.022189066533281,
          6.070235635083509,
          5.871689922113368,
          4.961955102667262,
          5.492646653613487,
          4.978291626780091,
          4.901068038849346,
          4.212053308291229,
          5.530278696903556,
          5.149912292767826,
          5.139364749804442,
          4.70913904668343,
          4.66162077782111,
          4.948338029762062,
          6.023813736754764,
          6.070241583546396,
          6.984098720375586,
          6.271660483971434,
          5.303232472481758,
          5.972012623085214,
          6.51930497945972,
          5.839773872162244,
          6.241207706592717
         ]
        },
        {
         "marker": {
          "color": "teal"
         },
         "name": "IGG 1 Severity 1",
         "type": "box",
         "x": [
          "IGG",
          "IGG",
          "IGG",
          "IGG",
          "IGG",
          "IGG",
          "IGG",
          "IGG",
          "IGG",
          "IGG",
          "IGG",
          "IGG",
          "IGG",
          "IGG",
          "IGG",
          "IGG",
          "IGG",
          "IGG",
          "IGG",
          "IGG",
          "IGG",
          "IGG",
          "IGG",
          "IGG",
          "IGG",
          "IGG",
          "IGG",
          "IGG",
          "IGG",
          "IGG",
          "IGG",
          "IGG",
          "IGG",
          "IGG",
          "IGG",
          "IGG",
          "IGG",
          "IGG",
          "IGG",
          "IGG",
          "IGG",
          "IGG",
          "IGG",
          "IGG",
          "IGG",
          "IGG",
          "IGG",
          "IGG",
          "IGG",
          "IGG",
          "IGG",
          "IGG",
          "IGG",
          "IGG",
          "IGG",
          "IGG",
          "IGG",
          "IGG",
          "IGG",
          "IGG",
          "IGG",
          "IGG",
          "IGG",
          "IGG",
          "IGG",
          "IGG",
          "IGG",
          "IGG",
          "IGG",
          "IGG",
          "IGG",
          "IGG",
          "IGG",
          "IGG",
          "IGG",
          "IGG",
          "IGG",
          "IGG",
          "IGG",
          "IGG",
          "IGG",
          "IGG",
          "IGG",
          "IGG",
          "IGG"
         ],
         "y": [
          6.727982986912968,
          6.640316064074672,
          2.733632036980419,
          6.167584845107037,
          6.228722184046077,
          6.811048013961943,
          4.279725964658922,
          6.106447790536355,
          6.260965181223813,
          5.856873240131919,
          5.728418969608647,
          5.717586437286472,
          6.037633890710808,
          3.7201763809580575,
          5.12115112840943,
          4.662929413302105,
          6.561189954879457,
          4.875461063018109,
          6.3159106221994685,
          5.6529861520162985,
          5.047836299359512,
          6.38400772555247,
          5.395426213213964,
          5.812987599533919,
          5.837902925465986,
          5.25779755134659,
          5.104623753942893,
          5.054028608219245,
          5.170672357296795,
          5.634019743722609,
          5.278987590228491,
          5.367552026776651,
          4.811252175680063,
          4.712648772249081,
          5.801079813657558,
          5.598003298592088,
          5.856396937525672,
          6.253642720607306,
          4.599841142114882,
          6.344786881597551,
          5.032952708521775,
          6.338910621455035,
          5.607179540637677,
          6.358428921796876,
          4.717814124256099,
          4.804383026188717,
          6.286706746018544,
          4.973770737730449,
          6.377998943906537,
          5.265284716857212,
          5.698099379800873,
          5.6747019794293765,
          5.26132000197524,
          5.750371186154139,
          6.532692308077417,
          6.005035181528149,
          6.231757696859481,
          4.723741210392159,
          5.1436648396902,
          5.43672768859867,
          6.18179561109304,
          5.33475680950469,
          5.691962546324128,
          6.027729815562157,
          6.161047713342283,
          6.071120858359145,
          6.869282410678337,
          5.363684320647369,
          5.026087697894397,
          5.606089906195885,
          5.529326571749021,
          6.497692202512706,
          4.255779647358131,
          6.2296151859793145,
          5.338281233293106,
          5.9604465666468895,
          5.819652316740683,
          6.22495813290011,
          5.409392704023436,
          6.32505199876878,
          6.21098602875263,
          6.0287197427177,
          5.667725436033165,
          7.339448619638055,
          6.4009160575853015
         ]
        },
        {
         "marker": {
          "color": "teal"
         },
         "name": "IGG 2 Severity 1",
         "type": "box",
         "x": [
          "IGG",
          "IGG",
          "IGG",
          "IGG",
          "IGG",
          "IGG",
          "IGG",
          "IGG",
          "IGG",
          "IGG",
          "IGG",
          "IGG",
          "IGG",
          "IGG",
          "IGG",
          "IGG",
          "IGG",
          "IGG",
          "IGG",
          "IGG",
          "IGG",
          "IGG",
          "IGG",
          "IGG",
          "IGG",
          "IGG",
          "IGG",
          "IGG",
          "IGG",
          "IGG",
          "IGG",
          "IGG",
          "IGG",
          "IGG",
          "IGG",
          "IGG",
          "IGG",
          "IGG",
          "IGG",
          "IGG",
          "IGG",
          "IGG",
          "IGG"
         ],
         "y": [
          5.104861513913926,
          6.086599692370437,
          5.693070938293685,
          5.302044814142816,
          5.868245276209427,
          5.854990659086701,
          4.777718975857604,
          5.1911952069377,
          6.536409913771416,
          6.457949563196187,
          5.530357131341833,
          5.263940506494801,
          5.167687980694535,
          5.0457265009953085,
          3.0078048452896984,
          6.215915743378583,
          4.063172324005981,
          5.395830062777573,
          5.324758301501819,
          6.058900750418958,
          5.73658978648262,
          5.33631875915716,
          5.54998017397953,
          5.084545896300949,
          3.523387248819596,
          4.268140470428993,
          4.168426161356193,
          6.402001178914202,
          6.410769472688029,
          6.947610695531244,
          5.817652976768506,
          6.077730946336114,
          5.321610342825636,
          5.715178582186738,
          4.59362845489578,
          6.189282724769619,
          5.402602890856111,
          6.0295209973044,
          6.5714906860312166,
          3.67734768739706,
          6.051520969131559,
          5.913158202244016,
          6.107794375128026
         ]
        },
        {
         "marker": {
          "color": "teal"
         },
         "name": "IGG 3 Severity 1",
         "type": "box",
         "x": [
          "IGG",
          "IGG",
          "IGG",
          "IGG",
          "IGG",
          "IGG",
          "IGG",
          "IGG",
          "IGG",
          "IGG",
          "IGG",
          "IGG",
          "IGG",
          "IGG",
          "IGG",
          "IGG",
          "IGG",
          "IGG",
          "IGG",
          "IGG",
          "IGG",
          "IGG",
          "IGG",
          "IGG",
          "IGG",
          "IGG",
          "IGG",
          "IGG",
          "IGG",
          "IGG",
          "IGG",
          "IGG",
          "IGG",
          "IGG",
          "IGG",
          "IGG",
          "IGG",
          "IGG",
          "IGG",
          "IGG",
          "IGG",
          "IGG",
          "IGG",
          "IGG",
          "IGG",
          "IGG",
          "IGG",
          "IGG",
          "IGG",
          "IGG",
          "IGG",
          "IGG",
          "IGG",
          "IGG",
          "IGG",
          "IGG",
          "IGG",
          "IGG",
          "IGG",
          "IGG",
          "IGG",
          "IGG",
          "IGG",
          "IGG",
          "IGG",
          "IGG",
          "IGG"
         ],
         "y": [
          6.672047968206821,
          6.427033291611796,
          5.550152879102799,
          6.141177219525724,
          5.731771131826099,
          5.4811420828390345,
          5.52233337029704,
          6.543802847608652,
          6.579080644175449,
          5.76686955534748,
          5.799995907976353,
          5.261596330188339,
          5.697316330405804,
          2.8783063285016373,
          5.603911359369616,
          4.453675908895161,
          5.309061468628451,
          5.215343896607707,
          5.370050247275352,
          5.841703411872313,
          6.056581660464654,
          5.392008749628412,
          5.621363528341453,
          3.757734206248473,
          4.709890969335274,
          5.772570431663462,
          4.970526444340845,
          5.634232186684989,
          5.860027195320479,
          5.563025376333453,
          5.2386961181199405,
          6.231108120338144,
          5.9026761528600735,
          6.86822020195773,
          6.002022733406926,
          5.387243283927952,
          6.08587562481789,
          3.5895995211762206,
          3.571943828037168,
          5.862663037780865,
          5.734866601489034,
          5.776864996333423,
          5.34814352323235,
          5.356395098698564,
          5.344205047479649,
          5.804031715806191,
          6.628870188676876,
          5.352023970689686,
          5.887616888671027,
          5.758717571666383,
          5.479842389609117,
          5.213191440725893,
          5.960716524136417,
          6.760177478360565,
          6.295088251857159,
          4.903421244055824,
          5.4358480485976575,
          5.363786208865164,
          6.035523311748572,
          5.820095785170088,
          5.706109099986731,
          5.718033839798226,
          4.570327530703742,
          4.5544552190157575,
          6.155975894760277,
          6.213167086358732,
          5.439732827712206
         ]
        },
        {
         "marker": {
          "color": "orange"
         },
         "name": "IGG 1 Severity 2",
         "type": "box",
         "x": [
          "IGG",
          "IGG",
          "IGG",
          "IGG",
          "IGG",
          "IGG",
          "IGG",
          "IGG",
          "IGG",
          "IGG",
          "IGG",
          "IGG",
          "IGG",
          "IGG",
          "IGG",
          "IGG",
          "IGG",
          "IGG",
          "IGG",
          "IGG",
          "IGG",
          "IGG",
          "IGG",
          "IGG",
          "IGG",
          "IGG",
          "IGG",
          "IGG",
          "IGG",
          "IGG",
          "IGG",
          "IGG",
          "IGG",
          "IGG",
          "IGG",
          "IGG",
          "IGG",
          "IGG",
          "IGG",
          "IGG",
          "IGG",
          "IGG",
          "IGG",
          "IGG",
          "IGG",
          "IGG",
          "IGG",
          "IGG",
          "IGG",
          "IGG",
          "IGG",
          "IGG",
          "IGG",
          "IGG",
          "IGG",
          "IGG",
          "IGG",
          "IGG",
          "IGG",
          "IGG",
          "IGG",
          "IGG",
          "IGG",
          "IGG",
          "IGG",
          "IGG",
          "IGG",
          "IGG",
          "IGG",
          "IGG",
          "IGG"
         ],
         "y": [
          6.4405641677945376,
          6.348930194315248,
          5.543658322668781,
          5.1267866586125725,
          6.322909283075668,
          5.105275157024948,
          5.454173233549474,
          5.979455714234413,
          5.030831255740688,
          4.779778372870051,
          3.306314188968249,
          5.747710667208978,
          5.49606011291928,
          4.800472308660606,
          5.686948100135599,
          6.8027904314005445,
          6.830391075823404,
          6.06498288098859,
          5.482911625120986,
          6.402194551083351,
          5.618513754528649,
          5.526046213867471,
          6.113710315716006,
          5.998561214911152,
          5.245169446763368,
          6.270700448186278,
          4.8877971000252405,
          5.845569961855357,
          4.829128761684493,
          5.104889727342304,
          5.894471103622322,
          5.843297428754803,
          6.438131656096644,
          5.503547803430068,
          5.77965445113622,
          5.56601419954499,
          6.381930360030882,
          6.697511891603812,
          5.17177186620154,
          5.728089254327024,
          6.589975551765512,
          6.0955560114645815,
          5.319342229875423,
          5.4699812981164975,
          5.537830622669922,
          6.813152575649472,
          6.566672015503201,
          6.159082329710751,
          4.839352454343479,
          4.9848819032912814,
          6.795512408065039,
          5.293738206821973,
          5.744504899962408,
          5.400996330772332,
          5.914851117787067,
          6.396060397978828,
          6.780928162802857,
          6.161479441942952,
          5.676818975972726,
          6.770796667713167,
          5.197639545561442,
          6.487113552384814,
          6.464160036152741,
          6.647960569522809,
          6.586275884250965,
          6.522333726526447,
          6.097026265855643,
          4.365334954934885,
          6.9067040556209545,
          5.547574069874434,
          5.847541714647775
         ]
        },
        {
         "marker": {
          "color": "orange"
         },
         "name": "IGG 2 Severity 2",
         "type": "box",
         "x": [
          "IGG",
          "IGG",
          "IGG",
          "IGG",
          "IGG",
          "IGG",
          "IGG",
          "IGG",
          "IGG",
          "IGG",
          "IGG",
          "IGG",
          "IGG",
          "IGG",
          "IGG",
          "IGG",
          "IGG",
          "IGG",
          "IGG",
          "IGG",
          "IGG",
          "IGG",
          "IGG",
          "IGG",
          "IGG",
          "IGG",
          "IGG",
          "IGG",
          "IGG",
          "IGG",
          "IGG",
          "IGG",
          "IGG",
          "IGG",
          "IGG",
          "IGG",
          "IGG",
          "IGG",
          "IGG",
          "IGG",
          "IGG",
          "IGG",
          "IGG",
          "IGG",
          "IGG",
          "IGG",
          "IGG",
          "IGG",
          "IGG",
          "IGG"
         ],
         "y": [
          6.157224453485413,
          5.311976709064633,
          5.1578887165359255,
          6.059634859482522,
          5.072981192563328,
          4.411300956875948,
          6.075880244976054,
          4.6088077331525215,
          5.618055765293778,
          5.839147132705816,
          3.535038708930528,
          5.697252312374371,
          5.11063786450803,
          5.443093010363507,
          6.049565809541564,
          6.185234152813735,
          4.628570469661475,
          5.38273361725294,
          5.1566036575063805,
          5.358015560953481,
          6.124039980713724,
          5.758100196560305,
          5.400460234128667,
          6.377704416262873,
          6.095006611401496,
          5.395595819566167,
          5.154439033591509,
          5.207291022858223,
          3.399768498262556,
          7.002078063478528,
          5.779900280581214,
          4.784259728146987,
          6.840215637611528,
          5.544464226368696,
          6.490041484811109,
          6.413517898281098,
          5.650907423286223,
          6.499690717419213,
          4.776384030319242,
          6.473858558334798,
          4.869698705546249,
          6.63003097025748,
          6.780591666759827,
          3.112448032405681,
          6.007788828085538,
          5.44617552768127,
          6.761581370326199,
          5.977907863126693,
          6.691727052611333,
          6.412390389890652
         ]
        },
        {
         "marker": {
          "color": "orange"
         },
         "name": "IGG 3 Severity 2",
         "type": "box",
         "x": [
          "IGG",
          "IGG",
          "IGG",
          "IGG",
          "IGG",
          "IGG",
          "IGG",
          "IGG",
          "IGG",
          "IGG",
          "IGG",
          "IGG",
          "IGG",
          "IGG",
          "IGG",
          "IGG",
          "IGG",
          "IGG",
          "IGG",
          "IGG",
          "IGG",
          "IGG",
          "IGG",
          "IGG",
          "IGG",
          "IGG",
          "IGG",
          "IGG",
          "IGG",
          "IGG",
          "IGG",
          "IGG",
          "IGG",
          "IGG",
          "IGG",
          "IGG",
          "IGG",
          "IGG",
          "IGG",
          "IGG",
          "IGG",
          "IGG",
          "IGG",
          "IGG",
          "IGG"
         ],
         "y": [
          6.080859954093636,
          5.571827149320511,
          6.479597347278513,
          5.71299626861204,
          5.598068992322769,
          5.106736638572913,
          6.072579842804276,
          6.3630206710613,
          5.689472902171874,
          5.656995077293932,
          5.126154806472615,
          5.469855872402437,
          5.352190030167969,
          5.351681003872605,
          5.194673426527154,
          5.173010588431751,
          6.033805206173449,
          4.809826301619091,
          5.650607209770572,
          5.765785303572205,
          5.799627805820834,
          3.665950982905053,
          5.426976573764004,
          5.513799692595717,
          5.060006904170009,
          4.374881990078445,
          5.247715903420676,
          6.291018306915519,
          5.836849614717104,
          5.827864553529363,
          6.767263430272078,
          6.391924646708812,
          6.42009276504838,
          6.30621685791414,
          6.04912496270356,
          5.597334928776709,
          6.437593320659735,
          5.537419335036359,
          4.779340519099523,
          2.8657034203478973,
          5.289974180550589,
          6.527444769269685,
          6.7443344030611065,
          6.36183322372854,
          6.537117495275265
         ]
        },
        {
         "marker": {
          "color": "orange"
         },
         "name": "IGG 4 Severity 2",
         "type": "box",
         "x": [
          "IGG",
          "IGG"
         ],
         "y": [
          4.985045046935227,
          6.34555251403549
         ]
        },
        {
         "marker": {
          "color": "tomato"
         },
         "name": "IGG 1 Severity 3",
         "type": "box",
         "x": [
          "IGG",
          "IGG",
          "IGG",
          "IGG",
          "IGG",
          "IGG",
          "IGG",
          "IGG",
          "IGG",
          "IGG"
         ],
         "y": [
          6.034889991299728,
          5.945678012206287,
          6.461071896646824,
          5.658680717645432,
          4.190424566944391,
          5.531594583381949,
          4.630778095003548,
          6.1598597370575385,
          5.2345979040378685,
          6.551355159900392
         ]
        },
        {
         "marker": {
          "color": "tomato"
         },
         "name": "IGG 2 Severity 3",
         "type": "box",
         "x": [
          "IGG",
          "IGG",
          "IGG",
          "IGG",
          "IGG",
          "IGG",
          "IGG",
          "IGG",
          "IGG",
          "IGG"
         ],
         "y": [
          6.425014820068206,
          5.564989570104548,
          6.295795587582952,
          6.012224427975296,
          6.261872947166472,
          6.639059089724404,
          5.789974888906484,
          6.039977135353887,
          5.573052804930103,
          6.069629914236363
         ]
        },
        {
         "marker": {
          "color": "tomato"
         },
         "name": "IGG 3 Severity 3",
         "type": "box",
         "x": [
          "IGG",
          "IGG",
          "IGG",
          "IGG",
          "IGG",
          "IGG",
          "IGG",
          "IGG"
         ],
         "y": [
          5.801787411600215,
          5.962071237965099,
          6.483452122657529,
          6.271010220658931,
          5.565591453450886,
          5.266246186333981,
          6.350667710679252,
          5.440598128214186
         ]
        },
        {
         "marker": {
          "color": "tomato"
         },
         "name": "IGG 4 Severity 3",
         "type": "box",
         "x": [
          "IGG",
          "IGG",
          "IGG",
          "IGG",
          "IGG",
          "IGG",
          "IGG"
         ],
         "y": [
          6.272579182980429,
          6.511193802472134,
          6.339771503235377,
          5.48920736051824,
          5.57600658694932,
          6.974852493774947,
          5.025685505811608
         ]
        },
        {
         "marker": {
          "color": "brown"
         },
         "name": "IGG 1 Severity 4",
         "type": "box",
         "x": [
          "IGG",
          "IGG",
          "IGG",
          "IGG",
          "IGG",
          "IGG",
          "IGG",
          "IGG",
          "IGG",
          "IGG",
          "IGG"
         ],
         "y": [
          5.736667934282215,
          3.1587547206623805,
          4.331173686768286,
          5.463285267047183,
          2.5927517482826654,
          6.743173141763109,
          6.002249841551215,
          6.070998656229127,
          5.57870193329069,
          5.50224579381369,
          6.23550234551119
         ]
        },
        {
         "marker": {
          "color": "brown"
         },
         "name": "IGG 2 Severity 4",
         "type": "box",
         "x": [
          "IGG",
          "IGG",
          "IGG",
          "IGG",
          "IGG",
          "IGG",
          "IGG",
          "IGG",
          "IGG",
          "IGG",
          "IGG",
          "IGG",
          "IGG",
          "IGG",
          "IGG",
          "IGG"
         ],
         "y": [
          4.970513262613966,
          5.969130337985199,
          6.657042107436095,
          5.576636582758942,
          3.908310841500129,
          5.708812048069252,
          6.2947742059719625,
          6.579750853440704,
          4.441541139169204,
          5.313149034077924,
          6.142725650078055,
          5.536675995090033,
          4.987249285026134,
          5.618297548336597,
          6.09643476670321,
          5.716830777548431
         ]
        },
        {
         "marker": {
          "color": "brown"
         },
         "name": "IGG 3 Severity 4",
         "type": "box",
         "x": [
          "IGG",
          "IGG",
          "IGG",
          "IGG",
          "IGG",
          "IGG",
          "IGG",
          "IGG",
          "IGG",
          "IGG",
          "IGG",
          "IGG",
          "IGG",
          "IGG"
         ],
         "y": [
          5.285125424001593,
          5.651761266366453,
          5.436667477875053,
          6.250263993874766,
          5.462535062805353,
          5.750987419841088,
          5.846829715756506,
          4.777265016217766,
          5.2676162269184434,
          5.730659026036115,
          4.721168426442798,
          6.83490456796959,
          5.909121405433486,
          6.032856781596648
         ]
        },
        {
         "marker": {
          "color": "brown"
         },
         "name": "IGG 4 Severity 4",
         "type": "box",
         "x": [
          "IGG",
          "IGG",
          "IGG",
          "IGG",
          "IGG",
          "IGG",
          "IGG",
          "IGG"
         ],
         "y": [
          4.807708664342483,
          6.855706249045034,
          5.615850468384784,
          6.476862834233657,
          5.936966107471006,
          4.129963405612889,
          6.780240200779903,
          5.9270469782686055
         ]
        }
       ],
       "layout": {
        "boxmode": "group",
        "height": 500,
        "plot_bgcolor": "rgba(255, 255, 255, 1)",
        "template": {
         "data": {
          "bar": [
           {
            "error_x": {
             "color": "#2a3f5f"
            },
            "error_y": {
             "color": "#2a3f5f"
            },
            "marker": {
             "line": {
              "color": "#E5ECF6",
              "width": 0.5
             },
             "pattern": {
              "fillmode": "overlay",
              "size": 10,
              "solidity": 0.2
             }
            },
            "type": "bar"
           }
          ],
          "barpolar": [
           {
            "marker": {
             "line": {
              "color": "#E5ECF6",
              "width": 0.5
             },
             "pattern": {
              "fillmode": "overlay",
              "size": 10,
              "solidity": 0.2
             }
            },
            "type": "barpolar"
           }
          ],
          "carpet": [
           {
            "aaxis": {
             "endlinecolor": "#2a3f5f",
             "gridcolor": "white",
             "linecolor": "white",
             "minorgridcolor": "white",
             "startlinecolor": "#2a3f5f"
            },
            "baxis": {
             "endlinecolor": "#2a3f5f",
             "gridcolor": "white",
             "linecolor": "white",
             "minorgridcolor": "white",
             "startlinecolor": "#2a3f5f"
            },
            "type": "carpet"
           }
          ],
          "choropleth": [
           {
            "colorbar": {
             "outlinewidth": 0,
             "ticks": ""
            },
            "type": "choropleth"
           }
          ],
          "contour": [
           {
            "colorbar": {
             "outlinewidth": 0,
             "ticks": ""
            },
            "colorscale": [
             [
              0,
              "#0d0887"
             ],
             [
              0.1111111111111111,
              "#46039f"
             ],
             [
              0.2222222222222222,
              "#7201a8"
             ],
             [
              0.3333333333333333,
              "#9c179e"
             ],
             [
              0.4444444444444444,
              "#bd3786"
             ],
             [
              0.5555555555555556,
              "#d8576b"
             ],
             [
              0.6666666666666666,
              "#ed7953"
             ],
             [
              0.7777777777777778,
              "#fb9f3a"
             ],
             [
              0.8888888888888888,
              "#fdca26"
             ],
             [
              1,
              "#f0f921"
             ]
            ],
            "type": "contour"
           }
          ],
          "contourcarpet": [
           {
            "colorbar": {
             "outlinewidth": 0,
             "ticks": ""
            },
            "type": "contourcarpet"
           }
          ],
          "heatmap": [
           {
            "colorbar": {
             "outlinewidth": 0,
             "ticks": ""
            },
            "colorscale": [
             [
              0,
              "#0d0887"
             ],
             [
              0.1111111111111111,
              "#46039f"
             ],
             [
              0.2222222222222222,
              "#7201a8"
             ],
             [
              0.3333333333333333,
              "#9c179e"
             ],
             [
              0.4444444444444444,
              "#bd3786"
             ],
             [
              0.5555555555555556,
              "#d8576b"
             ],
             [
              0.6666666666666666,
              "#ed7953"
             ],
             [
              0.7777777777777778,
              "#fb9f3a"
             ],
             [
              0.8888888888888888,
              "#fdca26"
             ],
             [
              1,
              "#f0f921"
             ]
            ],
            "type": "heatmap"
           }
          ],
          "heatmapgl": [
           {
            "colorbar": {
             "outlinewidth": 0,
             "ticks": ""
            },
            "colorscale": [
             [
              0,
              "#0d0887"
             ],
             [
              0.1111111111111111,
              "#46039f"
             ],
             [
              0.2222222222222222,
              "#7201a8"
             ],
             [
              0.3333333333333333,
              "#9c179e"
             ],
             [
              0.4444444444444444,
              "#bd3786"
             ],
             [
              0.5555555555555556,
              "#d8576b"
             ],
             [
              0.6666666666666666,
              "#ed7953"
             ],
             [
              0.7777777777777778,
              "#fb9f3a"
             ],
             [
              0.8888888888888888,
              "#fdca26"
             ],
             [
              1,
              "#f0f921"
             ]
            ],
            "type": "heatmapgl"
           }
          ],
          "histogram": [
           {
            "marker": {
             "pattern": {
              "fillmode": "overlay",
              "size": 10,
              "solidity": 0.2
             }
            },
            "type": "histogram"
           }
          ],
          "histogram2d": [
           {
            "colorbar": {
             "outlinewidth": 0,
             "ticks": ""
            },
            "colorscale": [
             [
              0,
              "#0d0887"
             ],
             [
              0.1111111111111111,
              "#46039f"
             ],
             [
              0.2222222222222222,
              "#7201a8"
             ],
             [
              0.3333333333333333,
              "#9c179e"
             ],
             [
              0.4444444444444444,
              "#bd3786"
             ],
             [
              0.5555555555555556,
              "#d8576b"
             ],
             [
              0.6666666666666666,
              "#ed7953"
             ],
             [
              0.7777777777777778,
              "#fb9f3a"
             ],
             [
              0.8888888888888888,
              "#fdca26"
             ],
             [
              1,
              "#f0f921"
             ]
            ],
            "type": "histogram2d"
           }
          ],
          "histogram2dcontour": [
           {
            "colorbar": {
             "outlinewidth": 0,
             "ticks": ""
            },
            "colorscale": [
             [
              0,
              "#0d0887"
             ],
             [
              0.1111111111111111,
              "#46039f"
             ],
             [
              0.2222222222222222,
              "#7201a8"
             ],
             [
              0.3333333333333333,
              "#9c179e"
             ],
             [
              0.4444444444444444,
              "#bd3786"
             ],
             [
              0.5555555555555556,
              "#d8576b"
             ],
             [
              0.6666666666666666,
              "#ed7953"
             ],
             [
              0.7777777777777778,
              "#fb9f3a"
             ],
             [
              0.8888888888888888,
              "#fdca26"
             ],
             [
              1,
              "#f0f921"
             ]
            ],
            "type": "histogram2dcontour"
           }
          ],
          "mesh3d": [
           {
            "colorbar": {
             "outlinewidth": 0,
             "ticks": ""
            },
            "type": "mesh3d"
           }
          ],
          "parcoords": [
           {
            "line": {
             "colorbar": {
              "outlinewidth": 0,
              "ticks": ""
             }
            },
            "type": "parcoords"
           }
          ],
          "pie": [
           {
            "automargin": true,
            "type": "pie"
           }
          ],
          "scatter": [
           {
            "fillpattern": {
             "fillmode": "overlay",
             "size": 10,
             "solidity": 0.2
            },
            "type": "scatter"
           }
          ],
          "scatter3d": [
           {
            "line": {
             "colorbar": {
              "outlinewidth": 0,
              "ticks": ""
             }
            },
            "marker": {
             "colorbar": {
              "outlinewidth": 0,
              "ticks": ""
             }
            },
            "type": "scatter3d"
           }
          ],
          "scattercarpet": [
           {
            "marker": {
             "colorbar": {
              "outlinewidth": 0,
              "ticks": ""
             }
            },
            "type": "scattercarpet"
           }
          ],
          "scattergeo": [
           {
            "marker": {
             "colorbar": {
              "outlinewidth": 0,
              "ticks": ""
             }
            },
            "type": "scattergeo"
           }
          ],
          "scattergl": [
           {
            "marker": {
             "colorbar": {
              "outlinewidth": 0,
              "ticks": ""
             }
            },
            "type": "scattergl"
           }
          ],
          "scattermapbox": [
           {
            "marker": {
             "colorbar": {
              "outlinewidth": 0,
              "ticks": ""
             }
            },
            "type": "scattermapbox"
           }
          ],
          "scatterpolar": [
           {
            "marker": {
             "colorbar": {
              "outlinewidth": 0,
              "ticks": ""
             }
            },
            "type": "scatterpolar"
           }
          ],
          "scatterpolargl": [
           {
            "marker": {
             "colorbar": {
              "outlinewidth": 0,
              "ticks": ""
             }
            },
            "type": "scatterpolargl"
           }
          ],
          "scatterternary": [
           {
            "marker": {
             "colorbar": {
              "outlinewidth": 0,
              "ticks": ""
             }
            },
            "type": "scatterternary"
           }
          ],
          "surface": [
           {
            "colorbar": {
             "outlinewidth": 0,
             "ticks": ""
            },
            "colorscale": [
             [
              0,
              "#0d0887"
             ],
             [
              0.1111111111111111,
              "#46039f"
             ],
             [
              0.2222222222222222,
              "#7201a8"
             ],
             [
              0.3333333333333333,
              "#9c179e"
             ],
             [
              0.4444444444444444,
              "#bd3786"
             ],
             [
              0.5555555555555556,
              "#d8576b"
             ],
             [
              0.6666666666666666,
              "#ed7953"
             ],
             [
              0.7777777777777778,
              "#fb9f3a"
             ],
             [
              0.8888888888888888,
              "#fdca26"
             ],
             [
              1,
              "#f0f921"
             ]
            ],
            "type": "surface"
           }
          ],
          "table": [
           {
            "cells": {
             "fill": {
              "color": "#EBF0F8"
             },
             "line": {
              "color": "white"
             }
            },
            "header": {
             "fill": {
              "color": "#C8D4E3"
             },
             "line": {
              "color": "white"
             }
            },
            "type": "table"
           }
          ]
         },
         "layout": {
          "annotationdefaults": {
           "arrowcolor": "#2a3f5f",
           "arrowhead": 0,
           "arrowwidth": 1
          },
          "autotypenumbers": "strict",
          "coloraxis": {
           "colorbar": {
            "outlinewidth": 0,
            "ticks": ""
           }
          },
          "colorscale": {
           "diverging": [
            [
             0,
             "#8e0152"
            ],
            [
             0.1,
             "#c51b7d"
            ],
            [
             0.2,
             "#de77ae"
            ],
            [
             0.3,
             "#f1b6da"
            ],
            [
             0.4,
             "#fde0ef"
            ],
            [
             0.5,
             "#f7f7f7"
            ],
            [
             0.6,
             "#e6f5d0"
            ],
            [
             0.7,
             "#b8e186"
            ],
            [
             0.8,
             "#7fbc41"
            ],
            [
             0.9,
             "#4d9221"
            ],
            [
             1,
             "#276419"
            ]
           ],
           "sequential": [
            [
             0,
             "#0d0887"
            ],
            [
             0.1111111111111111,
             "#46039f"
            ],
            [
             0.2222222222222222,
             "#7201a8"
            ],
            [
             0.3333333333333333,
             "#9c179e"
            ],
            [
             0.4444444444444444,
             "#bd3786"
            ],
            [
             0.5555555555555556,
             "#d8576b"
            ],
            [
             0.6666666666666666,
             "#ed7953"
            ],
            [
             0.7777777777777778,
             "#fb9f3a"
            ],
            [
             0.8888888888888888,
             "#fdca26"
            ],
            [
             1,
             "#f0f921"
            ]
           ],
           "sequentialminus": [
            [
             0,
             "#0d0887"
            ],
            [
             0.1111111111111111,
             "#46039f"
            ],
            [
             0.2222222222222222,
             "#7201a8"
            ],
            [
             0.3333333333333333,
             "#9c179e"
            ],
            [
             0.4444444444444444,
             "#bd3786"
            ],
            [
             0.5555555555555556,
             "#d8576b"
            ],
            [
             0.6666666666666666,
             "#ed7953"
            ],
            [
             0.7777777777777778,
             "#fb9f3a"
            ],
            [
             0.8888888888888888,
             "#fdca26"
            ],
            [
             1,
             "#f0f921"
            ]
           ]
          },
          "colorway": [
           "#636efa",
           "#EF553B",
           "#00cc96",
           "#ab63fa",
           "#FFA15A",
           "#19d3f3",
           "#FF6692",
           "#B6E880",
           "#FF97FF",
           "#FECB52"
          ],
          "font": {
           "color": "#2a3f5f"
          },
          "geo": {
           "bgcolor": "white",
           "lakecolor": "white",
           "landcolor": "#E5ECF6",
           "showlakes": true,
           "showland": true,
           "subunitcolor": "white"
          },
          "hoverlabel": {
           "align": "left"
          },
          "hovermode": "closest",
          "mapbox": {
           "style": "light"
          },
          "paper_bgcolor": "white",
          "plot_bgcolor": "#E5ECF6",
          "polar": {
           "angularaxis": {
            "gridcolor": "white",
            "linecolor": "white",
            "ticks": ""
           },
           "bgcolor": "#E5ECF6",
           "radialaxis": {
            "gridcolor": "white",
            "linecolor": "white",
            "ticks": ""
           }
          },
          "scene": {
           "xaxis": {
            "backgroundcolor": "#E5ECF6",
            "gridcolor": "white",
            "gridwidth": 2,
            "linecolor": "white",
            "showbackground": true,
            "ticks": "",
            "zerolinecolor": "white"
           },
           "yaxis": {
            "backgroundcolor": "#E5ECF6",
            "gridcolor": "white",
            "gridwidth": 2,
            "linecolor": "white",
            "showbackground": true,
            "ticks": "",
            "zerolinecolor": "white"
           },
           "zaxis": {
            "backgroundcolor": "#E5ECF6",
            "gridcolor": "white",
            "gridwidth": 2,
            "linecolor": "white",
            "showbackground": true,
            "ticks": "",
            "zerolinecolor": "white"
           }
          },
          "shapedefaults": {
           "line": {
            "color": "#2a3f5f"
           }
          },
          "ternary": {
           "aaxis": {
            "gridcolor": "white",
            "linecolor": "white",
            "ticks": ""
           },
           "baxis": {
            "gridcolor": "white",
            "linecolor": "white",
            "ticks": ""
           },
           "bgcolor": "#E5ECF6",
           "caxis": {
            "gridcolor": "white",
            "linecolor": "white",
            "ticks": ""
           }
          },
          "title": {
           "x": 0.05
          },
          "xaxis": {
           "automargin": true,
           "gridcolor": "white",
           "linecolor": "white",
           "ticks": "",
           "title": {
            "standoff": 15
           },
           "zerolinecolor": "white",
           "zerolinewidth": 2
          },
          "yaxis": {
           "automargin": true,
           "gridcolor": "white",
           "linecolor": "white",
           "ticks": "",
           "title": {
            "standoff": 15
           },
           "zerolinecolor": "white",
           "zerolinewidth": 2
          }
         }
        },
        "title": {
         "text": "Time point comparison of BCR_HC"
        },
        "width": 2000,
        "xaxis": {
         "title": {
          "text": "Time Point"
         }
        },
        "yaxis": {
         "gridcolor": "lightgray",
         "range": [
          2,
          12
         ],
         "tickfont": {
          "size": 15
         },
         "title": {
          "font": {
           "size": 20
          },
          "text": "Shannon Diversity"
         }
        }
       }
      }
     },
     "metadata": {},
     "output_type": "display_data"
    },
    {
     "data": {
      "application/vnd.plotly.v1+json": {
       "config": {
        "plotlyServerURL": "https://plot.ly"
       },
       "data": [
        {
         "marker": {
          "color": "darkblue"
         },
         "name": "IGK 1 Severity 0",
         "type": "box",
         "x": [
          "IGK",
          "IGK",
          "IGK",
          "IGK",
          "IGK",
          "IGK",
          "IGK",
          "IGK",
          "IGK",
          "IGK",
          "IGK",
          "IGK",
          "IGK",
          "IGK",
          "IGK",
          "IGK",
          "IGK",
          "IGK",
          "IGK",
          "IGK",
          "IGK",
          "IGK",
          "IGK",
          "IGK",
          "IGK",
          "IGK",
          "IGK",
          "IGK",
          "IGK",
          "IGK",
          "IGK",
          "IGK",
          "IGK",
          "IGK",
          "IGK",
          "IGK",
          "IGK",
          "IGK",
          "IGK",
          "IGK",
          "IGK",
          "IGK",
          "IGK",
          "IGK",
          "IGK",
          "IGK",
          "IGK",
          "IGK",
          "IGK",
          "IGK",
          "IGK",
          "IGK",
          "IGK",
          "IGK",
          "IGK",
          "IGK",
          "IGK",
          "IGK",
          "IGK",
          "IGK",
          "IGK",
          "IGK",
          "IGK",
          "IGK",
          "IGK",
          "IGK",
          "IGK",
          "IGK",
          "IGK",
          "IGK",
          "IGK",
          "IGK",
          "IGK",
          "IGK",
          "IGK",
          "IGK",
          "IGK",
          "IGK",
          "IGK",
          "IGK",
          "IGK",
          "IGK",
          "IGK"
         ],
         "y": [
          8.012084088395852,
          7.74620956517903,
          7.899935386868606,
          7.620636894203019,
          8.013467549586743,
          7.947139161302891,
          7.553258855147979,
          7.747147286883274,
          7.857983423331222,
          8.29265999920396,
          7.431680194943631,
          7.856512033832581,
          7.774091904341136,
          6.950870098440387,
          7.656685793403872,
          7.737696880182108,
          7.605716084076428,
          7.65437883187487,
          7.913494820916683,
          7.583212521817537,
          7.96654931486484,
          6.958396987225669,
          7.252085330929131,
          6.138704569086919,
          7.004651926322378,
          7.297563281485576,
          6.548607464529967,
          5.738429807060927,
          6.080080130838855,
          6.242690543566088,
          6.543521675895429,
          6.4327316312968295,
          6.203039059841029,
          6.400258213177697,
          7.704586969218063,
          7.221709433685799,
          7.203567015039607,
          5.644869572118358,
          7.154956067366726,
          6.650932348173031,
          7.397568684096492,
          6.85101070845613,
          6.003799385982179,
          6.986940292603884,
          7.597151196110218,
          7.517993604131022,
          6.643575389507057,
          6.506502144665191,
          7.473905078602705,
          7.627401482525516,
          7.486551726463256,
          8.022967454198826,
          7.148665352052396,
          7.624483775069035,
          8.294456428155238,
          7.459804260110131,
          7.573612324455606,
          7.972614965659161,
          7.862791575862798,
          7.380581543260234,
          7.91035063853028,
          7.611895201707821,
          7.996123406429861,
          6.662807545583897,
          7.612707131766674,
          7.279785777015485,
          6.98294961878134,
          7.0812922727573415,
          7.874712189716217,
          6.998957811796137,
          7.42693617748347,
          7.039125562602528,
          7.385576947836705,
          7.0674567813522975,
          7.667893408351852,
          7.448098810278396,
          8.362572649000485,
          7.743819677000624,
          6.914833082518004,
          8.025000767427887,
          8.436637560871171,
          7.979954403129533,
          7.857551385297761
         ]
        },
        {
         "marker": {
          "color": "teal"
         },
         "name": "IGK 1 Severity 1",
         "type": "box",
         "x": [
          "IGK",
          "IGK",
          "IGK",
          "IGK",
          "IGK",
          "IGK",
          "IGK",
          "IGK",
          "IGK",
          "IGK",
          "IGK",
          "IGK",
          "IGK",
          "IGK",
          "IGK",
          "IGK",
          "IGK",
          "IGK",
          "IGK",
          "IGK",
          "IGK",
          "IGK",
          "IGK",
          "IGK",
          "IGK",
          "IGK",
          "IGK",
          "IGK",
          "IGK",
          "IGK",
          "IGK",
          "IGK",
          "IGK",
          "IGK",
          "IGK",
          "IGK",
          "IGK",
          "IGK",
          "IGK",
          "IGK",
          "IGK",
          "IGK",
          "IGK",
          "IGK",
          "IGK",
          "IGK",
          "IGK",
          "IGK",
          "IGK",
          "IGK",
          "IGK",
          "IGK",
          "IGK",
          "IGK",
          "IGK",
          "IGK",
          "IGK",
          "IGK",
          "IGK",
          "IGK",
          "IGK",
          "IGK",
          "IGK",
          "IGK",
          "IGK",
          "IGK",
          "IGK",
          "IGK",
          "IGK",
          "IGK",
          "IGK",
          "IGK",
          "IGK",
          "IGK",
          "IGK",
          "IGK",
          "IGK",
          "IGK",
          "IGK",
          "IGK",
          "IGK",
          "IGK",
          "IGK",
          "IGK",
          "IGK"
         ],
         "y": [
          7.937936129300804,
          7.548379583208869,
          6.951202055173365,
          7.475414248666819,
          7.189089722609346,
          7.934112072599927,
          6.581145093985164,
          7.328096843295902,
          7.79827707540696,
          7.443324517581064,
          7.084173389383702,
          7.352568793740292,
          7.391030534341456,
          6.956061541486431,
          7.128929872928592,
          6.893191743137127,
          7.037024888813709,
          6.8873299896597375,
          7.773294559064144,
          6.858865736056966,
          7.510942086222861,
          8.09317650248253,
          6.824210547318395,
          7.525405031542557,
          7.929617367227075,
          5.912169380867854,
          6.71658495034318,
          6.193638769579692,
          7.160164541468087,
          6.737983277142749,
          6.604226911150136,
          6.543570918344472,
          6.486184453260554,
          6.569287828604152,
          6.433836410064669,
          7.5047636787698035,
          7.142774756001224,
          7.627554111783425,
          6.595499227513951,
          7.771983629805656,
          6.805729747144344,
          7.827942995382451,
          7.036673889048219,
          7.597757883721539,
          6.711154884957072,
          6.255954243162723,
          6.750013412894723,
          7.077478262378594,
          7.974651251960051,
          7.735706798254058,
          7.708073676623125,
          7.089869330232808,
          7.347333975971555,
          7.422714041895779,
          7.464715733750372,
          7.349456638734781,
          7.545252487756384,
          6.416476911761077,
          6.570047396201466,
          7.212398100012335,
          7.614346024597874,
          6.607450558412398,
          7.356440904071695,
          7.418211790417114,
          7.04243745671351,
          7.295947187299252,
          7.849035764420851,
          1.155707751328829,
          7.413718815860593,
          7.697500991712877,
          7.416578022381367,
          7.939883656971313,
          7.215036396506916,
          7.868919382177369,
          6.394064065809565,
          7.7237580054683,
          7.647391675741318,
          7.248647725467983,
          7.209334355620968,
          7.503288106092445,
          7.614288127976358,
          7.751838951500197,
          7.0643647833541605,
          8.083434664323548,
          6.989883410998201
         ]
        },
        {
         "marker": {
          "color": "teal"
         },
         "name": "IGK 2 Severity 1",
         "type": "box",
         "x": [
          "IGK",
          "IGK",
          "IGK",
          "IGK",
          "IGK",
          "IGK",
          "IGK",
          "IGK",
          "IGK",
          "IGK",
          "IGK",
          "IGK",
          "IGK",
          "IGK",
          "IGK",
          "IGK",
          "IGK",
          "IGK",
          "IGK",
          "IGK",
          "IGK",
          "IGK",
          "IGK",
          "IGK",
          "IGK",
          "IGK",
          "IGK",
          "IGK",
          "IGK",
          "IGK",
          "IGK",
          "IGK",
          "IGK",
          "IGK",
          "IGK",
          "IGK",
          "IGK",
          "IGK",
          "IGK",
          "IGK",
          "IGK",
          "IGK",
          "IGK"
         ],
         "y": [
          7.051237869008613,
          6.685350548161014,
          6.182834931983397,
          7.211239571987467,
          6.962745930072082,
          6.355594467679052,
          6.771030632821237,
          6.798211382652982,
          7.869644384381831,
          7.663098702231024,
          6.810572232537557,
          7.286025982048184,
          6.795205542885369,
          6.994402507863841,
          6.679492108386297,
          6.5274487333286055,
          5.584820621487543,
          6.738358075409552,
          6.978116181753025,
          7.378527389106529,
          7.120498932726854,
          6.46276554851146,
          7.319138304872855,
          6.554569848750262,
          7.0643789212640895,
          6.000341325448991,
          6.1410880419995255,
          7.564811721683706,
          6.920562160230832,
          7.65782478805338,
          0.9320738874454944,
          7.95947616868301,
          7.138668616925793,
          7.424370448651808,
          6.657947815399621,
          7.772514974359989,
          6.777522273429703,
          6.428690641475581,
          7.596948073783254,
          5.534784731806843,
          7.320582255955284,
          7.244698683814092,
          7.646930725379535
         ]
        },
        {
         "marker": {
          "color": "teal"
         },
         "name": "IGK 3 Severity 1",
         "type": "box",
         "x": [
          "IGK",
          "IGK",
          "IGK",
          "IGK",
          "IGK",
          "IGK",
          "IGK",
          "IGK",
          "IGK",
          "IGK",
          "IGK",
          "IGK",
          "IGK",
          "IGK",
          "IGK",
          "IGK",
          "IGK",
          "IGK",
          "IGK",
          "IGK",
          "IGK",
          "IGK",
          "IGK",
          "IGK",
          "IGK",
          "IGK",
          "IGK",
          "IGK",
          "IGK",
          "IGK",
          "IGK",
          "IGK",
          "IGK",
          "IGK",
          "IGK",
          "IGK",
          "IGK",
          "IGK",
          "IGK",
          "IGK",
          "IGK",
          "IGK",
          "IGK",
          "IGK",
          "IGK",
          "IGK",
          "IGK",
          "IGK",
          "IGK",
          "IGK",
          "IGK",
          "IGK",
          "IGK",
          "IGK",
          "IGK",
          "IGK",
          "IGK",
          "IGK",
          "IGK",
          "IGK",
          "IGK",
          "IGK",
          "IGK",
          "IGK",
          "IGK",
          "IGK",
          "IGK"
         ],
         "y": [
          8.319249141517812,
          6.706479859593872,
          7.965883095108074,
          7.860167462424633,
          5.810104391176695,
          7.325740219217209,
          7.152188214973873,
          7.329850346892382,
          7.596480204168029,
          7.149730555333709,
          7.595513495867837,
          7.257421393048533,
          7.945031321253112,
          6.041041524323131,
          6.822062207898711,
          7.037045842260618,
          6.957030293381151,
          7.050597198637898,
          7.944500750993604,
          7.28079135256144,
          7.538766228992573,
          7.148605574640602,
          7.992620200914098,
          6.53861909507619,
          7.083850658157727,
          7.358850254345047,
          7.102554644757507,
          7.157380545892536,
          6.8166883220594,
          7.407770346099153,
          7.221833624796512,
          8.099015884136653,
          6.925295904946446,
          8.084374409144008,
          6.23853407861641,
          7.472729906276951,
          6.555936457358874,
          6.185971223887045,
          5.857385721519733,
          7.1836978381404215,
          6.960886465933251,
          7.1750524997605405,
          7.498176347974397,
          6.867542981500874,
          7.070860233097201,
          7.869724749685801,
          6.863735589628746,
          7.843199639580668,
          7.963108825820647,
          7.067456133068458,
          7.279140064150362,
          7.632379611022687,
          7.240320073262524,
          7.72506961057547,
          7.767135339100988,
          6.776710300405121,
          6.577260508391642,
          7.254737286987427,
          7.96559930053262,
          7.68547401171177,
          7.566610401528332,
          7.647639487031983,
          7.188949338908708,
          6.545449570634193,
          7.366355918582262,
          7.052192219153874,
          7.112861148755572
         ]
        },
        {
         "marker": {
          "color": "orange"
         },
         "name": "IGK 1 Severity 2",
         "type": "box",
         "x": [
          "IGK",
          "IGK",
          "IGK",
          "IGK",
          "IGK",
          "IGK",
          "IGK",
          "IGK",
          "IGK",
          "IGK",
          "IGK",
          "IGK",
          "IGK",
          "IGK",
          "IGK",
          "IGK",
          "IGK",
          "IGK",
          "IGK",
          "IGK",
          "IGK",
          "IGK",
          "IGK",
          "IGK",
          "IGK",
          "IGK",
          "IGK",
          "IGK",
          "IGK",
          "IGK",
          "IGK",
          "IGK",
          "IGK",
          "IGK",
          "IGK",
          "IGK",
          "IGK",
          "IGK",
          "IGK",
          "IGK",
          "IGK",
          "IGK",
          "IGK",
          "IGK",
          "IGK",
          "IGK",
          "IGK",
          "IGK",
          "IGK",
          "IGK",
          "IGK",
          "IGK",
          "IGK",
          "IGK",
          "IGK",
          "IGK",
          "IGK",
          "IGK",
          "IGK",
          "IGK",
          "IGK",
          "IGK",
          "IGK",
          "IGK",
          "IGK",
          "IGK",
          "IGK",
          "IGK",
          "IGK",
          "IGK",
          "IGK"
         ],
         "y": [
          7.895742151406682,
          7.578609320835533,
          7.083974542119326,
          6.910228580716213,
          7.61993792550977,
          7.139894666275141,
          6.897404278290475,
          7.540446958449843,
          6.975513387508217,
          6.313877645572099,
          6.46902546737197,
          7.1189166202495535,
          7.127586633200076,
          5.245476277400396,
          7.394628672901573,
          8.080323425273981,
          8.257764953565594,
          7.789154128853389,
          6.428340542645838,
          7.637036258168714,
          6.823798547272284,
          7.102299899956391,
          7.47973506115751,
          6.627409494615273,
          6.722610794033979,
          7.105314274234413,
          6.941840108180374,
          6.186577964703906,
          6.533986776260977,
          7.030032808402141,
          7.121543078935558,
          7.187258626851048,
          7.79095350728508,
          6.9651805597249705,
          7.273558330252145,
          7.230351526289061,
          6.989209479047718,
          7.737105504175353,
          6.940239507061518,
          6.718876593301411,
          7.741375357457065,
          7.562915464802997,
          7.676272936746363,
          6.996447992110275,
          7.220575466485122,
          7.871704035037208,
          7.82615845829171,
          7.413194817690283,
          6.930849903201095,
          6.901366329703533,
          7.744154154684251,
          7.513465931724681,
          7.230266727273524,
          6.67357597030692,
          7.683350800598381,
          6.83298258432296,
          7.844376022601429,
          7.747638480395791,
          7.419151569401939,
          7.491008191198539,
          6.152271991728789,
          7.029109536533157,
          7.290408238535934,
          7.330682921724797,
          7.561064797420687,
          7.184079325072328,
          7.636951448195836,
          5.976924334814289,
          7.489206589278175,
          7.128108461505829,
          7.294465720019691
         ]
        },
        {
         "marker": {
          "color": "orange"
         },
         "name": "IGK 2 Severity 2",
         "type": "box",
         "x": [
          "IGK",
          "IGK",
          "IGK",
          "IGK",
          "IGK",
          "IGK",
          "IGK",
          "IGK",
          "IGK",
          "IGK",
          "IGK",
          "IGK",
          "IGK",
          "IGK",
          "IGK",
          "IGK",
          "IGK",
          "IGK",
          "IGK",
          "IGK",
          "IGK",
          "IGK",
          "IGK",
          "IGK",
          "IGK",
          "IGK",
          "IGK",
          "IGK",
          "IGK",
          "IGK",
          "IGK",
          "IGK",
          "IGK",
          "IGK",
          "IGK",
          "IGK",
          "IGK",
          "IGK",
          "IGK",
          "IGK",
          "IGK",
          "IGK",
          "IGK",
          "IGK",
          "IGK",
          "IGK",
          "IGK",
          "IGK",
          "IGK",
          "IGK"
         ],
         "y": [
          7.407155650724884,
          6.599680915659624,
          6.87582833792703,
          6.78650072008039,
          6.602752220715429,
          5.741253874253688,
          6.71771884786432,
          6.945426347063244,
          6.83805843611614,
          7.250801074816908,
          6.593534735525506,
          7.303560197399123,
          6.637195616128176,
          7.119778418551143,
          7.003560786931791,
          7.508986721520718,
          6.714725132189122,
          6.827024548105452,
          7.04289541875056,
          6.92158930947967,
          7.400030879584156,
          6.880519757372609,
          5.86419916148168,
          6.699606506793243,
          7.127698085887694,
          6.236661052006005,
          6.255618818842278,
          6.746913485342003,
          6.07798883118293,
          7.267348894353514,
          7.215810075775334,
          6.193912147952574,
          7.353044051424508,
          7.729094156164437,
          7.773299953547789,
          7.102418929313006,
          7.836924681667406,
          7.412132418608074,
          7.514736160510719,
          7.606221763852135,
          6.474499483629272,
          7.157984307643078,
          6.578432142576593,
          6.702084177129647,
          7.710164066397382,
          5.412913786523323,
          7.183753497753036,
          7.263016303514997,
          7.465814994026173,
          7.309018353258215
         ]
        },
        {
         "marker": {
          "color": "orange"
         },
         "name": "IGK 3 Severity 2",
         "type": "box",
         "x": [
          "IGK",
          "IGK",
          "IGK",
          "IGK",
          "IGK",
          "IGK",
          "IGK",
          "IGK",
          "IGK",
          "IGK",
          "IGK",
          "IGK",
          "IGK",
          "IGK",
          "IGK",
          "IGK",
          "IGK",
          "IGK",
          "IGK",
          "IGK",
          "IGK",
          "IGK",
          "IGK",
          "IGK",
          "IGK",
          "IGK",
          "IGK",
          "IGK",
          "IGK",
          "IGK",
          "IGK",
          "IGK",
          "IGK",
          "IGK",
          "IGK",
          "IGK",
          "IGK",
          "IGK",
          "IGK",
          "IGK",
          "IGK",
          "IGK",
          "IGK",
          "IGK",
          "IGK"
         ],
         "y": [
          7.011464403941503,
          6.971786821617496,
          6.89718204353543,
          7.373759761966812,
          7.501787220089911,
          6.661534335247252,
          7.435665505930864,
          7.150773453214947,
          5.911354780812335,
          7.033305104867102,
          7.261456367517351,
          7.029767442947663,
          6.589652684134274,
          7.305465964338849,
          6.67859927129009,
          6.681904539132491,
          7.758986346565327,
          7.366816749776673,
          7.421977868238943,
          7.153576237331836,
          7.1364053945088575,
          6.956988025745996,
          6.707924392793726,
          7.57507161364152,
          7.541248938170982,
          6.369353692150528,
          7.405487494686276,
          7.38904660524152,
          7.592460258118187,
          6.511900325062624,
          7.6858332973322705,
          8.004523347083868,
          6.5637550592362,
          7.931383344468877,
          7.1556433362491125,
          6.714002184482602,
          8.136341368845887,
          6.109155448078698,
          7.001747059237085,
          5.533414631474635,
          6.42518184919711,
          7.21576930807939,
          7.695270860192924,
          7.430636175068266,
          7.901520162038924
         ]
        },
        {
         "marker": {
          "color": "orange"
         },
         "name": "IGK 4 Severity 2",
         "type": "box",
         "x": [
          "IGK",
          "IGK"
         ],
         "y": [
          6.228455758026552,
          7.242984827646191
         ]
        },
        {
         "marker": {
          "color": "tomato"
         },
         "name": "IGK 1 Severity 3",
         "type": "box",
         "x": [
          "IGK",
          "IGK",
          "IGK",
          "IGK",
          "IGK",
          "IGK",
          "IGK",
          "IGK",
          "IGK",
          "IGK"
         ],
         "y": [
          6.865182940013459,
          6.703545002669698,
          7.235606494178483,
          6.348441365683411,
          5.754812157187583,
          4.838341345206403,
          6.754494381338654,
          6.124237774731774,
          5.623121066683562,
          6.270997762086627
         ]
        },
        {
         "marker": {
          "color": "tomato"
         },
         "name": "IGK 2 Severity 3",
         "type": "box",
         "x": [
          "IGK",
          "IGK",
          "IGK",
          "IGK",
          "IGK",
          "IGK",
          "IGK",
          "IGK",
          "IGK",
          "IGK"
         ],
         "y": [
          7.480801660576895,
          7.471738513853955,
          8.050661298663938,
          7.478408847428811,
          7.152921299298961,
          6.079542624561859,
          7.155979442062615,
          6.514345504725104,
          6.942706221397539,
          5.998697466196316
         ]
        },
        {
         "marker": {
          "color": "tomato"
         },
         "name": "IGK 3 Severity 3",
         "type": "box",
         "x": [
          "IGK",
          "IGK",
          "IGK",
          "IGK",
          "IGK",
          "IGK",
          "IGK",
          "IGK"
         ],
         "y": [
          7.769884842366859,
          7.98694353742823,
          7.631450385093975,
          8.045146231267353,
          6.523790954485399,
          6.889616499838588,
          6.048953026194715,
          6.78175629388358
         ]
        },
        {
         "marker": {
          "color": "tomato"
         },
         "name": "IGK 4 Severity 3",
         "type": "box",
         "x": [
          "IGK",
          "IGK",
          "IGK",
          "IGK",
          "IGK",
          "IGK",
          "IGK"
         ],
         "y": [
          8.26845895751112,
          7.734383137552527,
          7.722461777308774,
          6.098243539853894,
          7.01193285998351,
          7.647629168815664,
          6.550143311825318
         ]
        },
        {
         "marker": {
          "color": "brown"
         },
         "name": "IGK 1 Severity 4",
         "type": "box",
         "x": [
          "IGK",
          "IGK",
          "IGK",
          "IGK",
          "IGK",
          "IGK",
          "IGK",
          "IGK",
          "IGK",
          "IGK",
          "IGK"
         ],
         "y": [
          7.223866148569198,
          4.2954235046955445,
          5.396280840600373,
          6.471491231319267,
          4.832132402964526,
          7.151623483955373,
          7.329094882080939,
          6.6860090289599015,
          6.4682928427359165,
          6.57675187414237,
          6.999531254527812
         ]
        },
        {
         "marker": {
          "color": "brown"
         },
         "name": "IGK 2 Severity 4",
         "type": "box",
         "x": [
          "IGK",
          "IGK",
          "IGK",
          "IGK",
          "IGK",
          "IGK",
          "IGK",
          "IGK",
          "IGK",
          "IGK",
          "IGK",
          "IGK",
          "IGK",
          "IGK",
          "IGK",
          "IGK"
         ],
         "y": [
          5.720479859924367,
          6.595548948446978,
          7.049871587232385,
          5.529356016068856,
          4.555871790703546,
          7.3243652241315536,
          6.853666931069736,
          7.074722149226014,
          5.63622450661998,
          7.101487050786182,
          7.853330529309129,
          7.948179761086998,
          4.940279515647029,
          6.808473166792419,
          6.807457648701008,
          5.663063629871588
         ]
        },
        {
         "marker": {
          "color": "brown"
         },
         "name": "IGK 3 Severity 4",
         "type": "box",
         "x": [
          "IGK",
          "IGK",
          "IGK",
          "IGK",
          "IGK",
          "IGK",
          "IGK",
          "IGK",
          "IGK",
          "IGK",
          "IGK",
          "IGK",
          "IGK",
          "IGK"
         ],
         "y": [
          7.13314927265148,
          7.63357934276219,
          7.294584294797308,
          6.701224930316202,
          6.536033818911859,
          7.193745879786323,
          6.894646871297415,
          6.522186135623791,
          7.720472981445493,
          7.821332897928992,
          6.5372865317385935,
          7.100415441971367,
          7.359097584027377,
          6.200830485361756
         ]
        },
        {
         "marker": {
          "color": "brown"
         },
         "name": "IGK 4 Severity 4",
         "type": "box",
         "x": [
          "IGK",
          "IGK",
          "IGK",
          "IGK",
          "IGK",
          "IGK",
          "IGK",
          "IGK"
         ],
         "y": [
          5.104043058797775,
          7.30825918947147,
          7.7077146197066515,
          7.598293366408754,
          7.463761576567196,
          5.703715519121736,
          7.390273787286156,
          7.23647087024328
         ]
        },
        {
         "marker": {
          "color": "darkblue"
         },
         "name": "IGL 1 Severity 0",
         "type": "box",
         "x": [
          "IGL",
          "IGL",
          "IGL",
          "IGL",
          "IGL",
          "IGL",
          "IGL",
          "IGL",
          "IGL",
          "IGL",
          "IGL",
          "IGL",
          "IGL",
          "IGL",
          "IGL",
          "IGL",
          "IGL",
          "IGL",
          "IGL",
          "IGL",
          "IGL",
          "IGL",
          "IGL",
          "IGL",
          "IGL",
          "IGL",
          "IGL",
          "IGL",
          "IGL",
          "IGL",
          "IGL",
          "IGL",
          "IGL",
          "IGL",
          "IGL",
          "IGL",
          "IGL",
          "IGL",
          "IGL",
          "IGL",
          "IGL",
          "IGL",
          "IGL",
          "IGL",
          "IGL",
          "IGL",
          "IGL",
          "IGL",
          "IGL",
          "IGL",
          "IGL",
          "IGL",
          "IGL",
          "IGL",
          "IGL",
          "IGL",
          "IGL",
          "IGL",
          "IGL",
          "IGL",
          "IGL",
          "IGL",
          "IGL",
          "IGL",
          "IGL",
          "IGL",
          "IGL",
          "IGL",
          "IGL",
          "IGL",
          "IGL",
          "IGL",
          "IGL",
          "IGL",
          "IGL",
          "IGL",
          "IGL",
          "IGL",
          "IGL",
          "IGL",
          "IGL",
          "IGL",
          "IGL"
         ],
         "y": [
          7.829920188214596,
          7.625428082906873,
          7.453976455818919,
          7.147715738851203,
          7.850579220489578,
          7.55801858558468,
          7.415717056859624,
          7.500249114468132,
          7.695254841225615,
          7.90437663883976,
          7.246667735036188,
          7.593502971020892,
          7.550991750848285,
          6.459418363162567,
          7.084865555083728,
          7.255564288657379,
          7.364907872474614,
          7.401070602433129,
          7.597416414846759,
          7.2454747889270275,
          7.609817012938829,
          6.597572120547011,
          6.820248778714657,
          5.972560705383808,
          6.571871854780227,
          6.870475817244916,
          6.09811778967766,
          5.433275045261114,
          5.919139957909117,
          5.460203054930329,
          6.383150874832576,
          6.124879665739581,
          6.021756878423012,
          5.977295531979633,
          7.310809630112936,
          7.0501258638948014,
          6.877213923622066,
          5.436368347132325,
          7.17347124108205,
          6.074137371980141,
          7.1412031119972585,
          6.299295851382704,
          5.797584427937732,
          6.564290104386503,
          7.2266605209195,
          7.075538203275532,
          6.385192351743013,
          5.86119417871221,
          7.434039750198324,
          7.394940101346107,
          7.331145380127081,
          7.77984499856028,
          7.027153720125869,
          7.449513045357786,
          8.003939035496709,
          6.9822145626951615,
          7.270219876342341,
          7.590413125598967,
          7.695491266313639,
          6.760708898096,
          7.371191724599259,
          7.356174363174907,
          7.727304581289644,
          6.599833813239566,
          7.517441205899911,
          7.156740340355576,
          6.666134039940023,
          6.818578169623484,
          7.432080597144972,
          6.713331708106449,
          7.119768766009705,
          6.767231765006259,
          7.085503722826895,
          6.825191097875796,
          7.324035421765625,
          7.354055756360137,
          7.920412765180923,
          7.274127916308097,
          6.88339104678604,
          7.634203372110398,
          8.179187831846654,
          7.614420780055999,
          7.531962769994318
         ]
        },
        {
         "marker": {
          "color": "teal"
         },
         "name": "IGL 1 Severity 1",
         "type": "box",
         "x": [
          "IGL",
          "IGL",
          "IGL",
          "IGL",
          "IGL",
          "IGL",
          "IGL",
          "IGL",
          "IGL",
          "IGL",
          "IGL",
          "IGL",
          "IGL",
          "IGL",
          "IGL",
          "IGL",
          "IGL",
          "IGL",
          "IGL",
          "IGL",
          "IGL",
          "IGL",
          "IGL",
          "IGL",
          "IGL",
          "IGL",
          "IGL",
          "IGL",
          "IGL",
          "IGL",
          "IGL",
          "IGL",
          "IGL",
          "IGL",
          "IGL",
          "IGL",
          "IGL",
          "IGL",
          "IGL",
          "IGL",
          "IGL",
          "IGL",
          "IGL",
          "IGL",
          "IGL",
          "IGL",
          "IGL",
          "IGL",
          "IGL",
          "IGL",
          "IGL",
          "IGL",
          "IGL",
          "IGL",
          "IGL",
          "IGL",
          "IGL",
          "IGL",
          "IGL",
          "IGL",
          "IGL",
          "IGL",
          "IGL",
          "IGL",
          "IGL",
          "IGL",
          "IGL",
          "IGL",
          "IGL",
          "IGL",
          "IGL",
          "IGL",
          "IGL",
          "IGL",
          "IGL",
          "IGL",
          "IGL",
          "IGL",
          "IGL",
          "IGL",
          "IGL",
          "IGL",
          "IGL",
          "IGL",
          "IGL"
         ],
         "y": [
          7.749634441750855,
          7.284584703955487,
          7.292826009042725,
          7.181341683498869,
          7.240834973710766,
          7.667385765174515,
          5.250365460237476,
          7.0140375073737165,
          7.226710029388866,
          7.2204368332618225,
          6.585966596006842,
          7.2255278950777,
          7.252380375692058,
          6.252175869065784,
          6.837383444688143,
          6.456778500413074,
          6.733714043501702,
          6.512625416365262,
          7.561401444009361,
          6.4518922885808,
          7.052428400740294,
          7.779613516016284,
          6.5569383830675525,
          7.180775427047728,
          7.483433712414992,
          6.789901080849341,
          6.503582119971747,
          6.362584411339925,
          6.744453574493164,
          6.690825478220391,
          6.331866561770604,
          6.43118225448498,
          6.389654238228056,
          6.259497655351875,
          6.635260775200999,
          6.966899776933464,
          6.643782183936418,
          7.120175826206088,
          6.29156971226765,
          7.57199668082228,
          6.389019856500414,
          7.5288816934945375,
          6.13837533987684,
          7.687692158059084,
          6.291755233690511,
          6.246511381224887,
          6.780045872777086,
          6.892758608077354,
          7.533099546108705,
          7.29623920166561,
          7.400638693409083,
          6.91289417909975,
          6.8313308857068495,
          7.029842859451628,
          6.981049207179527,
          7.051550413427209,
          7.390450510917825,
          6.243777129878877,
          6.565405278807694,
          6.869913724974986,
          7.174065416304416,
          6.951849854083424,
          6.8171113547373405,
          7.031441590739357,
          6.942450249385152,
          7.099141494231177,
          7.548318833184867,
          4.310944657755888,
          6.933653783732718,
          7.37076994834599,
          7.032703353928736,
          7.447621289971554,
          5.387672035025484,
          7.267799449122376,
          6.245556950528483,
          7.677632483909919,
          7.271302138717029,
          6.872307732042742,
          6.980240481158973,
          7.139584522830056,
          7.279073232193779,
          7.28714593734886,
          6.841729610904222,
          7.848447735709117,
          6.687314255904591
         ]
        },
        {
         "marker": {
          "color": "teal"
         },
         "name": "IGL 2 Severity 1",
         "type": "box",
         "x": [
          "IGL",
          "IGL",
          "IGL",
          "IGL",
          "IGL",
          "IGL",
          "IGL",
          "IGL",
          "IGL",
          "IGL",
          "IGL",
          "IGL",
          "IGL",
          "IGL",
          "IGL",
          "IGL",
          "IGL",
          "IGL",
          "IGL",
          "IGL",
          "IGL",
          "IGL",
          "IGL",
          "IGL",
          "IGL",
          "IGL",
          "IGL",
          "IGL",
          "IGL",
          "IGL",
          "IGL",
          "IGL",
          "IGL",
          "IGL",
          "IGL",
          "IGL",
          "IGL",
          "IGL",
          "IGL",
          "IGL",
          "IGL",
          "IGL",
          "IGL"
         ],
         "y": [
          6.6697165164479015,
          6.608215363208098,
          6.845945783949287,
          6.827851908997081,
          6.853928859819717,
          6.869535739396519,
          7.055722938993946,
          6.449364294815801,
          7.361978320628346,
          7.449912186421196,
          6.14426614266357,
          7.150203534921804,
          6.675942633890366,
          7.105927729434331,
          6.099651143957802,
          6.573153792969876,
          5.326330144083309,
          5.88996939450232,
          6.1347235921107055,
          7.007602693121041,
          6.775972542544754,
          5.588374787224614,
          7.140846290436307,
          6.560330204705062,
          4.055430901475075,
          5.923129983827018,
          5.699520356258272,
          7.319959741415685,
          6.92232181054654,
          7.555832440774713,
          3.6967213081996144,
          7.509025483517789,
          6.633030527215335,
          6.6766699281822826,
          5.962605768746144,
          7.418954310629364,
          5.683907898699147,
          6.592959646021794,
          7.329387867267888,
          5.516829933658322,
          6.618952228644461,
          6.807069680205577,
          7.085389355521668
         ]
        },
        {
         "marker": {
          "color": "teal"
         },
         "name": "IGL 3 Severity 1",
         "type": "box",
         "x": [
          "IGL",
          "IGL",
          "IGL",
          "IGL",
          "IGL",
          "IGL",
          "IGL",
          "IGL",
          "IGL",
          "IGL",
          "IGL",
          "IGL",
          "IGL",
          "IGL",
          "IGL",
          "IGL",
          "IGL",
          "IGL",
          "IGL",
          "IGL",
          "IGL",
          "IGL",
          "IGL",
          "IGL",
          "IGL",
          "IGL",
          "IGL",
          "IGL",
          "IGL",
          "IGL",
          "IGL",
          "IGL",
          "IGL",
          "IGL",
          "IGL",
          "IGL",
          "IGL",
          "IGL",
          "IGL",
          "IGL",
          "IGL",
          "IGL",
          "IGL",
          "IGL",
          "IGL",
          "IGL",
          "IGL",
          "IGL",
          "IGL",
          "IGL",
          "IGL",
          "IGL",
          "IGL",
          "IGL",
          "IGL",
          "IGL",
          "IGL",
          "IGL",
          "IGL",
          "IGL",
          "IGL",
          "IGL",
          "IGL",
          "IGL",
          "IGL",
          "IGL",
          "IGL"
         ],
         "y": [
          7.974964227644924,
          6.688912062436637,
          7.604441949388467,
          7.380421319934323,
          6.369287528852127,
          6.907188915507434,
          6.955963427718395,
          6.940005376503293,
          7.370618726346843,
          6.951692393504607,
          7.4865442565366145,
          7.057935345066955,
          7.813830607057038,
          6.031203071073542,
          6.553871195467766,
          6.607673334138193,
          6.744705129635647,
          7.1163245937952455,
          7.212850983170646,
          7.255169435884778,
          7.269684341588366,
          6.650766725135192,
          7.477375293094153,
          6.469469390033579,
          6.643706853360191,
          7.392685942869669,
          6.061659014646202,
          6.672545853885509,
          7.00082232817496,
          7.1160250301450265,
          6.766969669235563,
          7.495385491260164,
          6.816219635306092,
          7.661975957084979,
          6.332709809844272,
          7.158110132816172,
          6.24703573529593,
          5.8992224684938,
          5.573570389218145,
          7.30896303584461,
          6.184769122784815,
          7.220556246142613,
          7.185673293976943,
          6.463074406242083,
          6.895741486262635,
          7.634010651446289,
          6.390422878131356,
          7.537238162963369,
          7.804840467501804,
          6.791398053027107,
          6.740077451590076,
          7.191001123211318,
          6.796389330177695,
          7.259394971157356,
          7.399697402916573,
          6.350471696323089,
          6.525625935845193,
          5.899512933448357,
          7.52710275111767,
          7.409100442641002,
          6.739753479104194,
          6.649400645687615,
          6.814060099048651,
          6.376566570623616,
          7.141709015240034,
          6.030161542622502,
          6.559207996641553
         ]
        },
        {
         "marker": {
          "color": "orange"
         },
         "name": "IGL 1 Severity 2",
         "type": "box",
         "x": [
          "IGL",
          "IGL",
          "IGL",
          "IGL",
          "IGL",
          "IGL",
          "IGL",
          "IGL",
          "IGL",
          "IGL",
          "IGL",
          "IGL",
          "IGL",
          "IGL",
          "IGL",
          "IGL",
          "IGL",
          "IGL",
          "IGL",
          "IGL",
          "IGL",
          "IGL",
          "IGL",
          "IGL",
          "IGL",
          "IGL",
          "IGL",
          "IGL",
          "IGL",
          "IGL",
          "IGL",
          "IGL",
          "IGL",
          "IGL",
          "IGL",
          "IGL",
          "IGL",
          "IGL",
          "IGL",
          "IGL",
          "IGL",
          "IGL",
          "IGL",
          "IGL",
          "IGL",
          "IGL",
          "IGL",
          "IGL",
          "IGL",
          "IGL",
          "IGL",
          "IGL",
          "IGL",
          "IGL",
          "IGL",
          "IGL",
          "IGL",
          "IGL",
          "IGL",
          "IGL",
          "IGL",
          "IGL",
          "IGL",
          "IGL",
          "IGL",
          "IGL",
          "IGL",
          "IGL",
          "IGL",
          "IGL",
          "IGL"
         ],
         "y": [
          7.523968282440493,
          7.253834204999831,
          6.398251131321992,
          6.886108362492951,
          7.35448033588152,
          6.908942964615682,
          5.681591313866541,
          6.994003629747348,
          6.27391134805335,
          6.021576978115394,
          7.953541210441176,
          6.96735457959108,
          6.835103363652248,
          5.702172519072528,
          7.113636155349459,
          7.696197892273264,
          8.069629073121748,
          7.2938117854529825,
          6.933541105938552,
          7.467282930885769,
          6.642317166613604,
          6.937535757883616,
          7.138119311577497,
          7.504496338499123,
          6.246138074197946,
          7.014183241359213,
          5.806990754512659,
          6.595866236605145,
          6.449963198674294,
          6.531789824343001,
          6.748598637827563,
          7.156738341329849,
          7.190943777978193,
          6.670892993759819,
          6.931321827796574,
          6.909791296185784,
          6.446438402546732,
          7.328981433763345,
          6.737105910367606,
          6.499217324955358,
          7.436978740296701,
          6.987301703184728,
          7.267120160241985,
          6.722526746002122,
          6.647064706932475,
          7.434694917641419,
          7.305711046099586,
          6.604157289995562,
          6.697881906747017,
          6.417760631204567,
          7.569518124072435,
          7.192633962244206,
          6.692137038882178,
          6.913433001938437,
          7.321783599534557,
          6.653175163741862,
          7.547902798089553,
          7.212506979101337,
          7.304670541563058,
          6.505439398082348,
          5.928177396553763,
          6.2924772342146245,
          6.38882508228395,
          6.705043623198851,
          7.882687702999544,
          6.420938854302029,
          7.295879270350949,
          5.144718305985983,
          7.314276613668598,
          6.778804673806197,
          6.775805152077536
         ]
        },
        {
         "marker": {
          "color": "orange"
         },
         "name": "IGL 2 Severity 2",
         "type": "box",
         "x": [
          "IGL",
          "IGL",
          "IGL",
          "IGL",
          "IGL",
          "IGL",
          "IGL",
          "IGL",
          "IGL",
          "IGL",
          "IGL",
          "IGL",
          "IGL",
          "IGL",
          "IGL",
          "IGL",
          "IGL",
          "IGL",
          "IGL",
          "IGL",
          "IGL",
          "IGL",
          "IGL",
          "IGL",
          "IGL",
          "IGL",
          "IGL",
          "IGL",
          "IGL",
          "IGL",
          "IGL",
          "IGL",
          "IGL",
          "IGL",
          "IGL",
          "IGL",
          "IGL",
          "IGL",
          "IGL",
          "IGL",
          "IGL",
          "IGL",
          "IGL",
          "IGL",
          "IGL",
          "IGL",
          "IGL",
          "IGL",
          "IGL",
          "IGL"
         ],
         "y": [
          6.805813297069828,
          6.1922899787570245,
          6.851470222648279,
          6.807936999815995,
          6.53510239177146,
          4.754059289648872,
          7.035951450063951,
          6.318585304030636,
          6.429307755875485,
          7.20728140620876,
          4.880811420365188,
          7.131245441540855,
          6.537379820329203,
          6.583433695319195,
          6.613642644734709,
          7.072346103157435,
          6.192862983453152,
          6.896196894144714,
          6.7340739403678205,
          6.435691322147597,
          7.095657249116054,
          6.593032545461599,
          6.350134575130746,
          6.528077632441623,
          6.797422530103999,
          5.914732467094043,
          6.203766685094021,
          6.618100652663824,
          6.525870647736263,
          7.132758109722346,
          7.0758065783503445,
          5.916834012873905,
          7.11783130913827,
          6.330916431077117,
          7.48876976722806,
          6.553169664336396,
          7.329145658299355,
          6.58944946631027,
          5.113878810705982,
          7.309438949328714,
          7.052007796250946,
          6.413218435522542,
          6.28070848454993,
          5.831564435733602,
          7.261535928408206,
          5.103825712585881,
          7.213301147632237,
          6.993336859734833,
          7.168293051830676,
          7.283091192234578
         ]
        },
        {
         "marker": {
          "color": "orange"
         },
         "name": "IGL 3 Severity 2",
         "type": "box",
         "x": [
          "IGL",
          "IGL",
          "IGL",
          "IGL",
          "IGL",
          "IGL",
          "IGL",
          "IGL",
          "IGL",
          "IGL",
          "IGL",
          "IGL",
          "IGL",
          "IGL",
          "IGL",
          "IGL",
          "IGL",
          "IGL",
          "IGL",
          "IGL",
          "IGL",
          "IGL",
          "IGL",
          "IGL",
          "IGL",
          "IGL",
          "IGL",
          "IGL",
          "IGL",
          "IGL",
          "IGL",
          "IGL",
          "IGL",
          "IGL",
          "IGL",
          "IGL",
          "IGL",
          "IGL",
          "IGL",
          "IGL",
          "IGL",
          "IGL",
          "IGL",
          "IGL",
          "IGL"
         ],
         "y": [
          6.772868077897596,
          6.683012869108403,
          6.244302495680579,
          7.180053677171697,
          6.650710031386288,
          6.477967625811789,
          6.825813167521431,
          6.986020718356782,
          6.349195982720308,
          6.756046386219717,
          6.8179256065529605,
          6.607533599891396,
          6.362428760704615,
          6.875627292979001,
          6.516880943423631,
          6.922782008019346,
          7.494281835977425,
          6.833829358527266,
          6.919957287541608,
          7.011642167322557,
          6.886167639237897,
          6.276271869349927,
          6.514682241755186,
          7.05115412302549,
          7.110758779717001,
          6.157967623888693,
          6.711210733755448,
          6.854015411985233,
          7.125175872731603,
          6.570976522386898,
          6.820240228319526,
          7.567711531771951,
          6.714452698120753,
          7.5687948370195475,
          5.85089129226171,
          7.060331948180687,
          7.89971099601394,
          5.839810368942893,
          6.570684363024272,
          5.464854187770308,
          5.980636887896657,
          6.518873188467181,
          7.001896796394489,
          6.788716326116418,
          7.381642211761691
         ]
        },
        {
         "marker": {
          "color": "orange"
         },
         "name": "IGL 4 Severity 2",
         "type": "box",
         "x": [
          "IGL",
          "IGL"
         ],
         "y": [
          5.648289428490795,
          6.594882834874573
         ]
        },
        {
         "marker": {
          "color": "tomato"
         },
         "name": "IGL 1 Severity 3",
         "type": "box",
         "x": [
          "IGL",
          "IGL",
          "IGL",
          "IGL",
          "IGL",
          "IGL",
          "IGL",
          "IGL",
          "IGL",
          "IGL"
         ],
         "y": [
          6.848802073813424,
          6.605372230014413,
          6.943738227085386,
          6.029593899485364,
          5.439855886822879,
          6.008693313394334,
          6.306331268129323,
          6.389777690954973,
          7.1690038633295465,
          6.922266809101468
         ]
        },
        {
         "marker": {
          "color": "tomato"
         },
         "name": "IGL 2 Severity 3",
         "type": "box",
         "x": [
          "IGL",
          "IGL",
          "IGL",
          "IGL",
          "IGL",
          "IGL",
          "IGL",
          "IGL",
          "IGL",
          "IGL"
         ],
         "y": [
          6.883835936581559,
          7.161654523296758,
          7.831138731450955,
          7.048258771774049,
          6.898126098978197,
          5.980754369763578,
          6.998743411135019,
          6.886051085696545,
          6.674963874926726,
          6.094819313839325
         ]
        },
        {
         "marker": {
          "color": "tomato"
         },
         "name": "IGL 3 Severity 3",
         "type": "box",
         "x": [
          "IGL",
          "IGL",
          "IGL",
          "IGL",
          "IGL",
          "IGL",
          "IGL",
          "IGL"
         ],
         "y": [
          7.041584125574843,
          7.775536111892377,
          7.2023645925115165,
          7.59764348844805,
          6.16249385464737,
          6.454104356331485,
          7.097578527274265,
          6.515316421842112
         ]
        },
        {
         "marker": {
          "color": "tomato"
         },
         "name": "IGL 4 Severity 3",
         "type": "box",
         "x": [
          "IGL",
          "IGL",
          "IGL",
          "IGL",
          "IGL",
          "IGL",
          "IGL"
         ],
         "y": [
          8.12134558737986,
          7.343904776147558,
          7.335077259382584,
          5.914166055403824,
          6.536396067766664,
          7.4091678938589025,
          6.08741712572068
         ]
        },
        {
         "marker": {
          "color": "brown"
         },
         "name": "IGL 1 Severity 4",
         "type": "box",
         "x": [
          "IGL",
          "IGL",
          "IGL",
          "IGL",
          "IGL",
          "IGL",
          "IGL",
          "IGL",
          "IGL",
          "IGL",
          "IGL"
         ],
         "y": [
          6.910732827012819,
          4.108509559231233,
          5.258512309126484,
          5.969411395005331,
          4.653728122580496,
          4.443451011195485,
          7.315703641849407,
          6.183346324079239,
          6.3912512421389245,
          6.392654159009573,
          7.089591383390311
         ]
        },
        {
         "marker": {
          "color": "brown"
         },
         "name": "IGL 2 Severity 4",
         "type": "box",
         "x": [
          "IGL",
          "IGL",
          "IGL",
          "IGL",
          "IGL",
          "IGL",
          "IGL",
          "IGL",
          "IGL",
          "IGL",
          "IGL",
          "IGL",
          "IGL",
          "IGL",
          "IGL",
          "IGL"
         ],
         "y": [
          5.739497175590882,
          6.880509470335305,
          6.889315061134378,
          5.908158899009287,
          6.591850100462615,
          6.269838271318761,
          6.6487996650624375,
          7.116110839133618,
          5.115979910883307,
          6.919554506328384,
          7.358813716842947,
          7.4271582191943235,
          5.322703976416583,
          5.768797823855586,
          5.756222916284563,
          6.2892724023946736
         ]
        },
        {
         "marker": {
          "color": "brown"
         },
         "name": "IGL 3 Severity 4",
         "type": "box",
         "x": [
          "IGL",
          "IGL",
          "IGL",
          "IGL",
          "IGL",
          "IGL",
          "IGL",
          "IGL",
          "IGL",
          "IGL",
          "IGL",
          "IGL",
          "IGL",
          "IGL"
         ],
         "y": [
          6.821491956554917,
          7.360038800693368,
          6.376438767649653,
          6.332758606410367,
          5.789238868367289,
          6.847945090242069,
          7.03472764983088,
          6.264383353132627,
          7.424732145713426,
          7.276625820366888,
          5.849912205465334,
          6.997332694946629,
          7.0068816115500026,
          6.457788924741167
         ]
        },
        {
         "marker": {
          "color": "brown"
         },
         "name": "IGL 4 Severity 4",
         "type": "box",
         "x": [
          "IGL",
          "IGL",
          "IGL",
          "IGL",
          "IGL",
          "IGL",
          "IGL",
          "IGL"
         ],
         "y": [
          4.775135960522388,
          6.898710550183742,
          7.751856404369957,
          7.367293969645508,
          7.264959080487981,
          5.319793813246417,
          7.370136121367796,
          6.812049783010593
         ]
        }
       ],
       "layout": {
        "boxmode": "group",
        "height": 500,
        "plot_bgcolor": "rgba(255, 255, 255, 1)",
        "template": {
         "data": {
          "bar": [
           {
            "error_x": {
             "color": "#2a3f5f"
            },
            "error_y": {
             "color": "#2a3f5f"
            },
            "marker": {
             "line": {
              "color": "#E5ECF6",
              "width": 0.5
             },
             "pattern": {
              "fillmode": "overlay",
              "size": 10,
              "solidity": 0.2
             }
            },
            "type": "bar"
           }
          ],
          "barpolar": [
           {
            "marker": {
             "line": {
              "color": "#E5ECF6",
              "width": 0.5
             },
             "pattern": {
              "fillmode": "overlay",
              "size": 10,
              "solidity": 0.2
             }
            },
            "type": "barpolar"
           }
          ],
          "carpet": [
           {
            "aaxis": {
             "endlinecolor": "#2a3f5f",
             "gridcolor": "white",
             "linecolor": "white",
             "minorgridcolor": "white",
             "startlinecolor": "#2a3f5f"
            },
            "baxis": {
             "endlinecolor": "#2a3f5f",
             "gridcolor": "white",
             "linecolor": "white",
             "minorgridcolor": "white",
             "startlinecolor": "#2a3f5f"
            },
            "type": "carpet"
           }
          ],
          "choropleth": [
           {
            "colorbar": {
             "outlinewidth": 0,
             "ticks": ""
            },
            "type": "choropleth"
           }
          ],
          "contour": [
           {
            "colorbar": {
             "outlinewidth": 0,
             "ticks": ""
            },
            "colorscale": [
             [
              0,
              "#0d0887"
             ],
             [
              0.1111111111111111,
              "#46039f"
             ],
             [
              0.2222222222222222,
              "#7201a8"
             ],
             [
              0.3333333333333333,
              "#9c179e"
             ],
             [
              0.4444444444444444,
              "#bd3786"
             ],
             [
              0.5555555555555556,
              "#d8576b"
             ],
             [
              0.6666666666666666,
              "#ed7953"
             ],
             [
              0.7777777777777778,
              "#fb9f3a"
             ],
             [
              0.8888888888888888,
              "#fdca26"
             ],
             [
              1,
              "#f0f921"
             ]
            ],
            "type": "contour"
           }
          ],
          "contourcarpet": [
           {
            "colorbar": {
             "outlinewidth": 0,
             "ticks": ""
            },
            "type": "contourcarpet"
           }
          ],
          "heatmap": [
           {
            "colorbar": {
             "outlinewidth": 0,
             "ticks": ""
            },
            "colorscale": [
             [
              0,
              "#0d0887"
             ],
             [
              0.1111111111111111,
              "#46039f"
             ],
             [
              0.2222222222222222,
              "#7201a8"
             ],
             [
              0.3333333333333333,
              "#9c179e"
             ],
             [
              0.4444444444444444,
              "#bd3786"
             ],
             [
              0.5555555555555556,
              "#d8576b"
             ],
             [
              0.6666666666666666,
              "#ed7953"
             ],
             [
              0.7777777777777778,
              "#fb9f3a"
             ],
             [
              0.8888888888888888,
              "#fdca26"
             ],
             [
              1,
              "#f0f921"
             ]
            ],
            "type": "heatmap"
           }
          ],
          "heatmapgl": [
           {
            "colorbar": {
             "outlinewidth": 0,
             "ticks": ""
            },
            "colorscale": [
             [
              0,
              "#0d0887"
             ],
             [
              0.1111111111111111,
              "#46039f"
             ],
             [
              0.2222222222222222,
              "#7201a8"
             ],
             [
              0.3333333333333333,
              "#9c179e"
             ],
             [
              0.4444444444444444,
              "#bd3786"
             ],
             [
              0.5555555555555556,
              "#d8576b"
             ],
             [
              0.6666666666666666,
              "#ed7953"
             ],
             [
              0.7777777777777778,
              "#fb9f3a"
             ],
             [
              0.8888888888888888,
              "#fdca26"
             ],
             [
              1,
              "#f0f921"
             ]
            ],
            "type": "heatmapgl"
           }
          ],
          "histogram": [
           {
            "marker": {
             "pattern": {
              "fillmode": "overlay",
              "size": 10,
              "solidity": 0.2
             }
            },
            "type": "histogram"
           }
          ],
          "histogram2d": [
           {
            "colorbar": {
             "outlinewidth": 0,
             "ticks": ""
            },
            "colorscale": [
             [
              0,
              "#0d0887"
             ],
             [
              0.1111111111111111,
              "#46039f"
             ],
             [
              0.2222222222222222,
              "#7201a8"
             ],
             [
              0.3333333333333333,
              "#9c179e"
             ],
             [
              0.4444444444444444,
              "#bd3786"
             ],
             [
              0.5555555555555556,
              "#d8576b"
             ],
             [
              0.6666666666666666,
              "#ed7953"
             ],
             [
              0.7777777777777778,
              "#fb9f3a"
             ],
             [
              0.8888888888888888,
              "#fdca26"
             ],
             [
              1,
              "#f0f921"
             ]
            ],
            "type": "histogram2d"
           }
          ],
          "histogram2dcontour": [
           {
            "colorbar": {
             "outlinewidth": 0,
             "ticks": ""
            },
            "colorscale": [
             [
              0,
              "#0d0887"
             ],
             [
              0.1111111111111111,
              "#46039f"
             ],
             [
              0.2222222222222222,
              "#7201a8"
             ],
             [
              0.3333333333333333,
              "#9c179e"
             ],
             [
              0.4444444444444444,
              "#bd3786"
             ],
             [
              0.5555555555555556,
              "#d8576b"
             ],
             [
              0.6666666666666666,
              "#ed7953"
             ],
             [
              0.7777777777777778,
              "#fb9f3a"
             ],
             [
              0.8888888888888888,
              "#fdca26"
             ],
             [
              1,
              "#f0f921"
             ]
            ],
            "type": "histogram2dcontour"
           }
          ],
          "mesh3d": [
           {
            "colorbar": {
             "outlinewidth": 0,
             "ticks": ""
            },
            "type": "mesh3d"
           }
          ],
          "parcoords": [
           {
            "line": {
             "colorbar": {
              "outlinewidth": 0,
              "ticks": ""
             }
            },
            "type": "parcoords"
           }
          ],
          "pie": [
           {
            "automargin": true,
            "type": "pie"
           }
          ],
          "scatter": [
           {
            "fillpattern": {
             "fillmode": "overlay",
             "size": 10,
             "solidity": 0.2
            },
            "type": "scatter"
           }
          ],
          "scatter3d": [
           {
            "line": {
             "colorbar": {
              "outlinewidth": 0,
              "ticks": ""
             }
            },
            "marker": {
             "colorbar": {
              "outlinewidth": 0,
              "ticks": ""
             }
            },
            "type": "scatter3d"
           }
          ],
          "scattercarpet": [
           {
            "marker": {
             "colorbar": {
              "outlinewidth": 0,
              "ticks": ""
             }
            },
            "type": "scattercarpet"
           }
          ],
          "scattergeo": [
           {
            "marker": {
             "colorbar": {
              "outlinewidth": 0,
              "ticks": ""
             }
            },
            "type": "scattergeo"
           }
          ],
          "scattergl": [
           {
            "marker": {
             "colorbar": {
              "outlinewidth": 0,
              "ticks": ""
             }
            },
            "type": "scattergl"
           }
          ],
          "scattermapbox": [
           {
            "marker": {
             "colorbar": {
              "outlinewidth": 0,
              "ticks": ""
             }
            },
            "type": "scattermapbox"
           }
          ],
          "scatterpolar": [
           {
            "marker": {
             "colorbar": {
              "outlinewidth": 0,
              "ticks": ""
             }
            },
            "type": "scatterpolar"
           }
          ],
          "scatterpolargl": [
           {
            "marker": {
             "colorbar": {
              "outlinewidth": 0,
              "ticks": ""
             }
            },
            "type": "scatterpolargl"
           }
          ],
          "scatterternary": [
           {
            "marker": {
             "colorbar": {
              "outlinewidth": 0,
              "ticks": ""
             }
            },
            "type": "scatterternary"
           }
          ],
          "surface": [
           {
            "colorbar": {
             "outlinewidth": 0,
             "ticks": ""
            },
            "colorscale": [
             [
              0,
              "#0d0887"
             ],
             [
              0.1111111111111111,
              "#46039f"
             ],
             [
              0.2222222222222222,
              "#7201a8"
             ],
             [
              0.3333333333333333,
              "#9c179e"
             ],
             [
              0.4444444444444444,
              "#bd3786"
             ],
             [
              0.5555555555555556,
              "#d8576b"
             ],
             [
              0.6666666666666666,
              "#ed7953"
             ],
             [
              0.7777777777777778,
              "#fb9f3a"
             ],
             [
              0.8888888888888888,
              "#fdca26"
             ],
             [
              1,
              "#f0f921"
             ]
            ],
            "type": "surface"
           }
          ],
          "table": [
           {
            "cells": {
             "fill": {
              "color": "#EBF0F8"
             },
             "line": {
              "color": "white"
             }
            },
            "header": {
             "fill": {
              "color": "#C8D4E3"
             },
             "line": {
              "color": "white"
             }
            },
            "type": "table"
           }
          ]
         },
         "layout": {
          "annotationdefaults": {
           "arrowcolor": "#2a3f5f",
           "arrowhead": 0,
           "arrowwidth": 1
          },
          "autotypenumbers": "strict",
          "coloraxis": {
           "colorbar": {
            "outlinewidth": 0,
            "ticks": ""
           }
          },
          "colorscale": {
           "diverging": [
            [
             0,
             "#8e0152"
            ],
            [
             0.1,
             "#c51b7d"
            ],
            [
             0.2,
             "#de77ae"
            ],
            [
             0.3,
             "#f1b6da"
            ],
            [
             0.4,
             "#fde0ef"
            ],
            [
             0.5,
             "#f7f7f7"
            ],
            [
             0.6,
             "#e6f5d0"
            ],
            [
             0.7,
             "#b8e186"
            ],
            [
             0.8,
             "#7fbc41"
            ],
            [
             0.9,
             "#4d9221"
            ],
            [
             1,
             "#276419"
            ]
           ],
           "sequential": [
            [
             0,
             "#0d0887"
            ],
            [
             0.1111111111111111,
             "#46039f"
            ],
            [
             0.2222222222222222,
             "#7201a8"
            ],
            [
             0.3333333333333333,
             "#9c179e"
            ],
            [
             0.4444444444444444,
             "#bd3786"
            ],
            [
             0.5555555555555556,
             "#d8576b"
            ],
            [
             0.6666666666666666,
             "#ed7953"
            ],
            [
             0.7777777777777778,
             "#fb9f3a"
            ],
            [
             0.8888888888888888,
             "#fdca26"
            ],
            [
             1,
             "#f0f921"
            ]
           ],
           "sequentialminus": [
            [
             0,
             "#0d0887"
            ],
            [
             0.1111111111111111,
             "#46039f"
            ],
            [
             0.2222222222222222,
             "#7201a8"
            ],
            [
             0.3333333333333333,
             "#9c179e"
            ],
            [
             0.4444444444444444,
             "#bd3786"
            ],
            [
             0.5555555555555556,
             "#d8576b"
            ],
            [
             0.6666666666666666,
             "#ed7953"
            ],
            [
             0.7777777777777778,
             "#fb9f3a"
            ],
            [
             0.8888888888888888,
             "#fdca26"
            ],
            [
             1,
             "#f0f921"
            ]
           ]
          },
          "colorway": [
           "#636efa",
           "#EF553B",
           "#00cc96",
           "#ab63fa",
           "#FFA15A",
           "#19d3f3",
           "#FF6692",
           "#B6E880",
           "#FF97FF",
           "#FECB52"
          ],
          "font": {
           "color": "#2a3f5f"
          },
          "geo": {
           "bgcolor": "white",
           "lakecolor": "white",
           "landcolor": "#E5ECF6",
           "showlakes": true,
           "showland": true,
           "subunitcolor": "white"
          },
          "hoverlabel": {
           "align": "left"
          },
          "hovermode": "closest",
          "mapbox": {
           "style": "light"
          },
          "paper_bgcolor": "white",
          "plot_bgcolor": "#E5ECF6",
          "polar": {
           "angularaxis": {
            "gridcolor": "white",
            "linecolor": "white",
            "ticks": ""
           },
           "bgcolor": "#E5ECF6",
           "radialaxis": {
            "gridcolor": "white",
            "linecolor": "white",
            "ticks": ""
           }
          },
          "scene": {
           "xaxis": {
            "backgroundcolor": "#E5ECF6",
            "gridcolor": "white",
            "gridwidth": 2,
            "linecolor": "white",
            "showbackground": true,
            "ticks": "",
            "zerolinecolor": "white"
           },
           "yaxis": {
            "backgroundcolor": "#E5ECF6",
            "gridcolor": "white",
            "gridwidth": 2,
            "linecolor": "white",
            "showbackground": true,
            "ticks": "",
            "zerolinecolor": "white"
           },
           "zaxis": {
            "backgroundcolor": "#E5ECF6",
            "gridcolor": "white",
            "gridwidth": 2,
            "linecolor": "white",
            "showbackground": true,
            "ticks": "",
            "zerolinecolor": "white"
           }
          },
          "shapedefaults": {
           "line": {
            "color": "#2a3f5f"
           }
          },
          "ternary": {
           "aaxis": {
            "gridcolor": "white",
            "linecolor": "white",
            "ticks": ""
           },
           "baxis": {
            "gridcolor": "white",
            "linecolor": "white",
            "ticks": ""
           },
           "bgcolor": "#E5ECF6",
           "caxis": {
            "gridcolor": "white",
            "linecolor": "white",
            "ticks": ""
           }
          },
          "title": {
           "x": 0.05
          },
          "xaxis": {
           "automargin": true,
           "gridcolor": "white",
           "linecolor": "white",
           "ticks": "",
           "title": {
            "standoff": 15
           },
           "zerolinecolor": "white",
           "zerolinewidth": 2
          },
          "yaxis": {
           "automargin": true,
           "gridcolor": "white",
           "linecolor": "white",
           "ticks": "",
           "title": {
            "standoff": 15
           },
           "zerolinecolor": "white",
           "zerolinewidth": 2
          }
         }
        },
        "title": {
         "text": "Time point comparison of BCR_LC"
        },
        "width": 2000,
        "xaxis": {
         "title": {
          "text": "Time Point"
         }
        },
        "yaxis": {
         "gridcolor": "lightgray",
         "range": [
          2,
          12
         ],
         "tickfont": {
          "size": 15
         },
         "title": {
          "font": {
           "size": 20
          },
          "text": "Shannon Diversity"
         }
        }
       }
      }
     },
     "metadata": {},
     "output_type": "display_data"
    },
    {
     "data": {
      "application/vnd.plotly.v1+json": {
       "config": {
        "plotlyServerURL": "https://plot.ly"
       },
       "data": [
        {
         "marker": {
          "color": "darkblue"
         },
         "name": "TRA 1 Severity 0",
         "type": "box",
         "x": [
          "TRA",
          "TRA",
          "TRA",
          "TRA",
          "TRA",
          "TRA",
          "TRA",
          "TRA",
          "TRA",
          "TRA",
          "TRA",
          "TRA",
          "TRA",
          "TRA",
          "TRA",
          "TRA",
          "TRA",
          "TRA",
          "TRA",
          "TRA",
          "TRA",
          "TRA",
          "TRA",
          "TRA",
          "TRA",
          "TRA",
          "TRA",
          "TRA",
          "TRA",
          "TRA",
          "TRA",
          "TRA",
          "TRA",
          "TRA",
          "TRA",
          "TRA",
          "TRA",
          "TRA",
          "TRA",
          "TRA",
          "TRA",
          "TRA",
          "TRA",
          "TRA",
          "TRA",
          "TRA",
          "TRA",
          "TRA",
          "TRA",
          "TRA",
          "TRA",
          "TRA",
          "TRA",
          "TRA",
          "TRA",
          "TRA",
          "TRA",
          "TRA",
          "TRA",
          "TRA",
          "TRA",
          "TRA",
          "TRA",
          "TRA",
          "TRA",
          "TRA",
          "TRA",
          "TRA",
          "TRA",
          "TRA",
          "TRA",
          "TRA",
          "TRA",
          "TRA",
          "TRA",
          "TRA",
          "TRA",
          "TRA",
          "TRA",
          "TRA",
          "TRA",
          "TRA",
          "TRA"
         ],
         "y": [
          9.67615898959536,
          8.750615595603106,
          9.736003935493054,
          8.976620971159742,
          8.452150705980689,
          9.03929575953259,
          9.054872755322824,
          9.1169647634798,
          7.796511596895114,
          8.905504161201577,
          6.917174714847697,
          8.781580130415358,
          8.824433859229064,
          8.585023483105049,
          8.599784880706782,
          7.225967000666593,
          9.619513433744888,
          9.391544683363955,
          8.711900544457297,
          9.633861586011625,
          8.368768407043389,
          8.193484266569623,
          7.730334427347307,
          7.062486477470832,
          7.7893177666947535,
          7.380687783415267,
          7.243930236541036,
          6.952795973181127,
          7.024609502120477,
          6.976019981392522,
          8.174127732837778,
          7.1722951763544645,
          6.8842742578473,
          7.362652043922314,
          9.200480046722973,
          8.059301718143914,
          7.862646811728926,
          6.265221379441327,
          7.189902455075654,
          7.434134910075207,
          8.898906307574242,
          7.091543040828711,
          6.443078587978074,
          9.4263907651955,
          8.647336417605095,
          9.406988459139509,
          9.412225402370169,
          9.0652165267514,
          9.307016955829331,
          7.914250082420161,
          8.440688195749553,
          8.904528346057068,
          8.44713389621563,
          9.315702494433715,
          9.471387865664749,
          9.167775254068466,
          8.880619203839522,
          9.103150319568154,
          9.50814999109514,
          7.796290339751326,
          9.081824283257223,
          8.29391857976186,
          8.390783183568756,
          7.688579501638074,
          7.05912047432777,
          6.598667070885647,
          8.219958082645883,
          8.68365505268107,
          8.849706137757156,
          8.134083794728134,
          7.644324600250631,
          7.535527937291957,
          9.07291871313677,
          8.869875097995784,
          9.31968481665465,
          9.247293440841256,
          6.949158503962102,
          8.513078098806593,
          8.67766111734876,
          9.71150042058169,
          8.920927462647633,
          6.762853495473636,
          9.222876582876529
         ]
        },
        {
         "marker": {
          "color": "teal"
         },
         "name": "TRA 1 Severity 1",
         "type": "box",
         "x": [
          "TRA",
          "TRA",
          "TRA",
          "TRA",
          "TRA",
          "TRA",
          "TRA",
          "TRA",
          "TRA",
          "TRA",
          "TRA",
          "TRA",
          "TRA",
          "TRA",
          "TRA",
          "TRA",
          "TRA",
          "TRA",
          "TRA",
          "TRA",
          "TRA",
          "TRA",
          "TRA",
          "TRA",
          "TRA",
          "TRA",
          "TRA",
          "TRA",
          "TRA",
          "TRA",
          "TRA",
          "TRA",
          "TRA",
          "TRA",
          "TRA",
          "TRA",
          "TRA",
          "TRA",
          "TRA",
          "TRA",
          "TRA",
          "TRA",
          "TRA",
          "TRA",
          "TRA",
          "TRA",
          "TRA",
          "TRA",
          "TRA",
          "TRA",
          "TRA",
          "TRA",
          "TRA",
          "TRA",
          "TRA",
          "TRA",
          "TRA",
          "TRA",
          "TRA",
          "TRA",
          "TRA",
          "TRA",
          "TRA",
          "TRA",
          "TRA",
          "TRA",
          "TRA",
          "TRA",
          "TRA",
          "TRA",
          "TRA",
          "TRA",
          "TRA",
          "TRA",
          "TRA",
          "TRA",
          "TRA",
          "TRA",
          "TRA",
          "TRA",
          "TRA",
          "TRA",
          "TRA",
          "TRA",
          "TRA"
         ],
         "y": [
          9.878078311916411,
          9.50003789528355,
          7.473029375770938,
          8.936793935081498,
          8.218305156482865,
          9.320839301274344,
          8.0697832632495,
          10.002732897118252,
          7.868786040045343,
          8.382187662858414,
          9.263313430302505,
          8.268034115042857,
          9.81618041968097,
          7.394015652976009,
          8.201360879572034,
          9.871996059026069,
          8.105349358913273,
          8.674424457036798,
          9.198304545786115,
          7.032013920283415,
          8.390644561519519,
          9.24198831253654,
          9.780950276460526,
          7.845785369249842,
          9.183970385527996,
          9.791882211739152,
          7.839353638839119,
          8.02577241210089,
          7.404400649558688,
          8.382488192754732,
          7.823004786113994,
          7.773262423265738,
          6.445010170865897,
          7.363961294901733,
          8.081334891576983,
          8.073298296624511,
          8.200257203384393,
          7.696157808816542,
          6.637090912215339,
          8.285587331547012,
          6.159924880537329,
          7.373316273349735,
          7.824661394436448,
          8.03613982150025,
          8.849085597927406,
          5.976672754419243,
          8.756096763869307,
          7.546090449680759,
          9.133044631357151,
          9.635131048460138,
          9.07135277048656,
          8.85765318976693,
          8.415879855926782,
          8.876994065186688,
          8.043018303548111,
          4.982594187208542,
          8.730528623273019,
          8.784201933288355,
          8.389309484949314,
          9.711030720318448,
          9.13183279421957,
          9.31229058826542,
          8.672922076098965,
          9.199585391946668,
          9.20031128714407,
          9.580181601217843,
          8.59934031677314,
          8.380570589009997,
          8.305049414504325,
          8.757224607610642,
          9.167189651222364,
          9.456192802039576,
          7.51864201499157,
          9.376187659735937,
          6.473128745591636,
          9.351223947415216,
          8.498381817070308,
          8.520882183476958,
          7.960613459106765,
          9.323240717978535,
          10.18612529616468,
          9.935196737547416,
          7.206933400392303,
          10.090126761139189,
          9.382842094521935
         ]
        },
        {
         "marker": {
          "color": "teal"
         },
         "name": "TRA 2 Severity 1",
         "type": "box",
         "x": [
          "TRA",
          "TRA",
          "TRA",
          "TRA",
          "TRA",
          "TRA",
          "TRA",
          "TRA",
          "TRA",
          "TRA",
          "TRA",
          "TRA",
          "TRA",
          "TRA",
          "TRA",
          "TRA",
          "TRA",
          "TRA",
          "TRA",
          "TRA",
          "TRA",
          "TRA",
          "TRA",
          "TRA",
          "TRA",
          "TRA",
          "TRA",
          "TRA",
          "TRA",
          "TRA",
          "TRA",
          "TRA",
          "TRA",
          "TRA",
          "TRA",
          "TRA",
          "TRA",
          "TRA",
          "TRA",
          "TRA",
          "TRA",
          "TRA",
          "TRA"
         ],
         "y": [
          8.138826636878928,
          8.142507813466223,
          9.721070182476703,
          8.825561368223276,
          8.618216422192836,
          8.598263738972237,
          7.721588669331949,
          8.70377828034286,
          7.963837946824256,
          10.12845682391649,
          9.921977046179103,
          8.378297696069499,
          8.190738621409269,
          8.071505955172801,
          7.994923680019421,
          8.422024891647483,
          6.963591679512258,
          8.024731344932672,
          9.179394707844168,
          8.207077287049474,
          8.498726836613853,
          8.588366774342521,
          8.96402323795304,
          9.191010795987388,
          8.09521872878298,
          8.424502782721943,
          7.02016687954791,
          9.7483155889151,
          9.84803858928077,
          8.88355303041347,
          8.494531845449867,
          7.881382228135412,
          7.672886996759972,
          8.117048043108394,
          6.501792582762273,
          9.198220843617774,
          6.888011694513505,
          8.435663271950329,
          9.481910343020033,
          5.266727712736174,
          9.550123240891793,
          9.730337468825049,
          10.291615725543142
         ]
        },
        {
         "marker": {
          "color": "teal"
         },
         "name": "TRA 3 Severity 1",
         "type": "box",
         "x": [
          "TRA",
          "TRA",
          "TRA",
          "TRA",
          "TRA",
          "TRA",
          "TRA",
          "TRA",
          "TRA",
          "TRA",
          "TRA",
          "TRA",
          "TRA",
          "TRA",
          "TRA",
          "TRA",
          "TRA",
          "TRA",
          "TRA",
          "TRA",
          "TRA",
          "TRA",
          "TRA",
          "TRA",
          "TRA",
          "TRA",
          "TRA",
          "TRA",
          "TRA",
          "TRA",
          "TRA",
          "TRA",
          "TRA",
          "TRA",
          "TRA",
          "TRA",
          "TRA",
          "TRA",
          "TRA",
          "TRA",
          "TRA",
          "TRA",
          "TRA",
          "TRA",
          "TRA",
          "TRA",
          "TRA",
          "TRA",
          "TRA",
          "TRA",
          "TRA",
          "TRA",
          "TRA",
          "TRA",
          "TRA",
          "TRA",
          "TRA",
          "TRA",
          "TRA",
          "TRA",
          "TRA",
          "TRA",
          "TRA",
          "TRA",
          "TRA",
          "TRA",
          "TRA"
         ],
         "y": [
          10.18177534475806,
          8.622739200089317,
          9.286505084493085,
          8.298651634529433,
          8.235079020818606,
          6.331571881741006,
          7.679634030918433,
          7.879327102742656,
          9.065052763137858,
          8.662541143809571,
          8.002232738414227,
          8.608345363971827,
          8.525576465437778,
          6.701330830222326,
          8.410170339894945,
          7.662208578144093,
          8.15636034123003,
          7.5720620483423104,
          9.035643038626043,
          8.79091077030078,
          8.638322654242598,
          7.510735699367157,
          9.129624699244316,
          8.262145068365845,
          7.653777114383333,
          9.17958543808412,
          7.566894672611455,
          8.03661705990651,
          9.075336282981649,
          7.884715691326678,
          7.348656604781474,
          9.473788535177317,
          8.127945954886751,
          8.720752277823845,
          8.646444136708405,
          7.257270008353815,
          7.093429430777243,
          6.512636032868699,
          5.0965980576660215,
          8.109879996846203,
          8.25802922102408,
          7.748935152657948,
          9.09524337525205,
          8.919899293739464,
          7.74400503369669,
          8.467864681330392,
          8.862968211897158,
          9.685494260358514,
          9.315972238549588,
          9.146580815138933,
          9.435483943591274,
          8.769978985898137,
          8.35945419168347,
          7.921481646226552,
          9.132459145615249,
          8.940443109332953,
          8.760342895405845,
          9.8008596979812,
          10.154505487691347,
          9.733102235918103,
          8.879866220649744,
          10.054625607714565,
          6.75021098515467,
          6.592370739629918,
          9.815313323697351,
          8.93698447884144,
          9.109235731023544
         ]
        },
        {
         "marker": {
          "color": "orange"
         },
         "name": "TRA 1 Severity 2",
         "type": "box",
         "x": [
          "TRA",
          "TRA",
          "TRA",
          "TRA",
          "TRA",
          "TRA",
          "TRA",
          "TRA",
          "TRA",
          "TRA",
          "TRA",
          "TRA",
          "TRA",
          "TRA",
          "TRA",
          "TRA",
          "TRA",
          "TRA",
          "TRA",
          "TRA",
          "TRA",
          "TRA",
          "TRA",
          "TRA",
          "TRA",
          "TRA",
          "TRA",
          "TRA",
          "TRA",
          "TRA",
          "TRA",
          "TRA",
          "TRA",
          "TRA",
          "TRA",
          "TRA",
          "TRA",
          "TRA",
          "TRA",
          "TRA",
          "TRA",
          "TRA",
          "TRA",
          "TRA",
          "TRA",
          "TRA",
          "TRA",
          "TRA",
          "TRA",
          "TRA",
          "TRA",
          "TRA",
          "TRA",
          "TRA",
          "TRA",
          "TRA",
          "TRA",
          "TRA",
          "TRA",
          "TRA",
          "TRA",
          "TRA",
          "TRA",
          "TRA",
          "TRA",
          "TRA",
          "TRA",
          "TRA",
          "TRA",
          "TRA",
          "TRA"
         ],
         "y": [
          9.731772950745626,
          9.432253266765931,
          9.903566040660987,
          9.363117569332053,
          7.769093742384452,
          7.31993178521564,
          8.49092881920446,
          8.223313027280689,
          7.705106184392762,
          6.864039622042846,
          6.404208764906741,
          9.862388886421884,
          8.865922296691245,
          7.385633079716207,
          8.16470845695447,
          9.103881767539116,
          8.35372445976442,
          10.450339760573486,
          9.100425106090167,
          8.940212936120448,
          8.160969869762438,
          9.474284836398525,
          8.868556507516795,
          8.890702959905365,
          8.360502242259594,
          9.091541947608189,
          8.373338039725569,
          8.564529453976236,
          7.777463872250264,
          7.939666370853172,
          7.964552147627534,
          8.573690867306313,
          8.463492761347208,
          9.400602849404024,
          8.27250642228903,
          7.8176884147701715,
          6.517385511088131,
          9.23571559110634,
          8.794229643389649,
          9.455729368311214,
          9.579280713451634,
          9.166273634383913,
          8.7003044971963,
          8.407277298290655,
          8.827784808365964,
          8.027223874243745,
          6.307667963495694,
          9.144098389975944,
          6.378670322701351,
          8.096627866426271,
          8.435745778310118,
          7.403525883312167,
          8.340551385104575,
          6.476976458792174,
          8.04272626100089,
          9.260178171387931,
          8.662532366462353,
          7.737664390064461,
          9.800960348901128,
          8.735044643871337,
          7.826847920648714,
          6.015986260294218,
          9.882980840769482,
          9.036167088547892,
          8.117330185201883,
          9.365333928097746,
          10.038615868469693,
          8.834136183813472,
          9.81364255552492,
          7.592192486364036,
          7.775662662300647
         ]
        },
        {
         "marker": {
          "color": "orange"
         },
         "name": "TRA 2 Severity 2",
         "type": "box",
         "x": [
          "TRA",
          "TRA",
          "TRA",
          "TRA",
          "TRA",
          "TRA",
          "TRA",
          "TRA",
          "TRA",
          "TRA",
          "TRA",
          "TRA",
          "TRA",
          "TRA",
          "TRA",
          "TRA",
          "TRA",
          "TRA",
          "TRA",
          "TRA",
          "TRA",
          "TRA",
          "TRA",
          "TRA",
          "TRA",
          "TRA",
          "TRA",
          "TRA",
          "TRA",
          "TRA",
          "TRA",
          "TRA",
          "TRA",
          "TRA",
          "TRA",
          "TRA",
          "TRA",
          "TRA",
          "TRA",
          "TRA",
          "TRA",
          "TRA",
          "TRA",
          "TRA",
          "TRA",
          "TRA",
          "TRA",
          "TRA",
          "TRA",
          "TRA"
         ],
         "y": [
          9.742642176986612,
          7.530660641118712,
          8.664375062272475,
          8.134688814554686,
          8.308254081249023,
          7.069678561152959,
          9.68753920155092,
          7.354029197885292,
          8.433358976347611,
          7.266620544487722,
          10.149898742684424,
          8.241135985441211,
          7.819065164693898,
          8.170898214282536,
          8.289375848093524,
          8.550229106077731,
          8.043837735897219,
          7.793561309430166,
          7.969311344600249,
          7.759344734532046,
          9.79361533955844,
          8.539194043281418,
          9.159285911761058,
          8.274136130483575,
          8.030871981424985,
          7.762024808433045,
          7.698611920376237,
          8.028546474983244,
          8.204843943414748,
          8.6295782891644,
          8.382747144770157,
          8.907741360533294,
          8.703807793129181,
          7.521310842011341,
          8.821382398722314,
          8.050765189591523,
          8.19548309455734,
          9.282842510699524,
          9.117854050097652,
          8.976026042907215,
          10.085012462842576,
          9.345651834840536,
          9.624094622305746,
          7.319637655071595,
          9.434290382439093,
          8.521591139339993,
          9.74722381433139,
          8.310860699252485,
          7.698454710433554,
          8.21975858671744
         ]
        },
        {
         "marker": {
          "color": "orange"
         },
         "name": "TRA 3 Severity 2",
         "type": "box",
         "x": [
          "TRA",
          "TRA",
          "TRA",
          "TRA",
          "TRA",
          "TRA",
          "TRA",
          "TRA",
          "TRA",
          "TRA",
          "TRA",
          "TRA",
          "TRA",
          "TRA",
          "TRA",
          "TRA",
          "TRA",
          "TRA",
          "TRA",
          "TRA",
          "TRA",
          "TRA",
          "TRA",
          "TRA",
          "TRA",
          "TRA",
          "TRA",
          "TRA",
          "TRA",
          "TRA",
          "TRA",
          "TRA",
          "TRA",
          "TRA",
          "TRA",
          "TRA",
          "TRA",
          "TRA",
          "TRA",
          "TRA",
          "TRA",
          "TRA",
          "TRA",
          "TRA",
          "TRA"
         ],
         "y": [
          8.758563158117184,
          8.591173200910747,
          7.582334163467824,
          8.326222994766084,
          8.51859458431928,
          7.232570414678146,
          8.028999290015202,
          8.066878970941183,
          8.07756306868258,
          7.501814195437088,
          9.18387216923739,
          6.903818134259711,
          7.013229182827,
          8.625918625096899,
          7.02429135240829,
          7.76809753964541,
          8.462040781162331,
          9.21615231246587,
          8.461859302656615,
          8.829297550148684,
          8.010731385029015,
          6.572995603218944,
          7.971477767534869,
          8.450392799414455,
          7.852622071809953,
          6.9943019720564354,
          8.228509420628257,
          8.164163952778619,
          8.367868848238643,
          6.9798560564313465,
          9.018111950451123,
          9.214210896291888,
          8.894502817757957,
          10.052266206229891,
          9.240097827867688,
          9.451296036165598,
          8.726472665755555,
          7.7165679332640496,
          8.22075684615788,
          4.59812814235544,
          7.814271962269811,
          7.867851014533015,
          9.46092913081623,
          9.728685547334496,
          7.730653600580363
         ]
        },
        {
         "marker": {
          "color": "orange"
         },
         "name": "TRA 4 Severity 2",
         "type": "box",
         "x": [
          "TRA",
          "TRA"
         ],
         "y": [
          5.916282712949848,
          7.918370493927856
         ]
        },
        {
         "marker": {
          "color": "tomato"
         },
         "name": "TRA 1 Severity 3",
         "type": "box",
         "x": [
          "TRA",
          "TRA",
          "TRA",
          "TRA",
          "TRA",
          "TRA",
          "TRA",
          "TRA",
          "TRA",
          "TRA"
         ],
         "y": [
          8.516415863853625,
          8.431428552812253,
          8.871338618639461,
          4.81324953267519,
          6.5130653782602455,
          8.68174189898679,
          7.477894669431552,
          7.269566484568529,
          9.44920391405772,
          8.697321218760566
         ]
        },
        {
         "marker": {
          "color": "tomato"
         },
         "name": "TRA 2 Severity 3",
         "type": "box",
         "x": [
          "TRA",
          "TRA",
          "TRA",
          "TRA",
          "TRA",
          "TRA",
          "TRA",
          "TRA",
          "TRA",
          "TRA"
         ],
         "y": [
          8.852028635362986,
          8.366709870272539,
          7.222100139021714,
          8.483297792680114,
          8.392393978287796,
          9.858350552481507,
          8.062332801867687,
          8.221125798346522,
          9.355046239054529,
          8.641403997539168
         ]
        },
        {
         "marker": {
          "color": "tomato"
         },
         "name": "TRA 3 Severity 3",
         "type": "box",
         "x": [
          "TRA",
          "TRA",
          "TRA",
          "TRA",
          "TRA",
          "TRA",
          "TRA",
          "TRA"
         ],
         "y": [
          9.287935270370433,
          8.276528657891697,
          9.33685602284802,
          10.016606816033878,
          9.264301731304004,
          7.403874665471687,
          9.375327531108598,
          8.67932437113832
         ]
        },
        {
         "marker": {
          "color": "tomato"
         },
         "name": "TRA 4 Severity 3",
         "type": "box",
         "x": [
          "TRA",
          "TRA",
          "TRA",
          "TRA",
          "TRA",
          "TRA",
          "TRA"
         ],
         "y": [
          9.164697735973808,
          9.141442598606911,
          9.74569213011178,
          9.464232058686465,
          7.65502229309283,
          9.607589551758233,
          7.855760285902165
         ]
        },
        {
         "marker": {
          "color": "brown"
         },
         "name": "TRA 1 Severity 4",
         "type": "box",
         "x": [
          "TRA",
          "TRA",
          "TRA",
          "TRA",
          "TRA",
          "TRA",
          "TRA",
          "TRA",
          "TRA",
          "TRA",
          "TRA"
         ],
         "y": [
          8.910111446704446,
          4.009027356069824,
          4.9552460607516124,
          5.7632090459671055,
          4.105816235875721,
          8.282198170764017,
          8.92580981799759,
          7.986986081704808,
          6.775626291060068,
          9.098252481923623,
          5.777147368445179
         ]
        },
        {
         "marker": {
          "color": "brown"
         },
         "name": "TRA 2 Severity 4",
         "type": "box",
         "x": [
          "TRA",
          "TRA",
          "TRA",
          "TRA",
          "TRA",
          "TRA",
          "TRA",
          "TRA",
          "TRA",
          "TRA",
          "TRA",
          "TRA",
          "TRA",
          "TRA",
          "TRA",
          "TRA"
         ],
         "y": [
          5.751116950063865,
          7.274524619970133,
          8.37294614556822,
          6.540706703255749,
          6.813046039677475,
          8.299550269611975,
          6.965371857301743,
          7.575035638925364,
          5.3382242463718175,
          8.106076586393945,
          8.90088749913586,
          9.367276708514831,
          8.608524171949778,
          6.374728276436043,
          9.298999588197807,
          4.990752235319741
         ]
        },
        {
         "marker": {
          "color": "brown"
         },
         "name": "TRA 3 Severity 4",
         "type": "box",
         "x": [
          "TRA",
          "TRA",
          "TRA",
          "TRA",
          "TRA",
          "TRA",
          "TRA",
          "TRA",
          "TRA",
          "TRA",
          "TRA",
          "TRA",
          "TRA",
          "TRA"
         ],
         "y": [
          8.349779441898797,
          8.323525796009646,
          8.865349168158557,
          7.068036469666198,
          6.749763772802793,
          7.905611779574348,
          7.800308187592171,
          7.059696791387195,
          9.047906212654354,
          8.56464851372761,
          8.68304651965456,
          9.099507450958331,
          9.689424482555816,
          5.706910958161827
         ]
        },
        {
         "marker": {
          "color": "brown"
         },
         "name": "TRA 4 Severity 4",
         "type": "box",
         "x": [
          "TRA",
          "TRA",
          "TRA",
          "TRA",
          "TRA",
          "TRA",
          "TRA",
          "TRA"
         ],
         "y": [
          8.778570037854545,
          7.1836681210383055,
          7.698180140187389,
          9.826245013833036,
          9.147963548957188,
          7.155138231470148,
          9.262473986052363,
          9.351871641374975
         ]
        },
        {
         "marker": {
          "color": "darkblue"
         },
         "name": "TRB 1 Severity 0",
         "type": "box",
         "x": [
          "TRB",
          "TRB",
          "TRB",
          "TRB",
          "TRB",
          "TRB",
          "TRB",
          "TRB",
          "TRB",
          "TRB",
          "TRB",
          "TRB",
          "TRB",
          "TRB",
          "TRB",
          "TRB",
          "TRB",
          "TRB",
          "TRB",
          "TRB",
          "TRB",
          "TRB",
          "TRB",
          "TRB",
          "TRB",
          "TRB",
          "TRB",
          "TRB",
          "TRB",
          "TRB",
          "TRB",
          "TRB",
          "TRB",
          "TRB",
          "TRB",
          "TRB",
          "TRB",
          "TRB",
          "TRB",
          "TRB",
          "TRB",
          "TRB",
          "TRB",
          "TRB",
          "TRB",
          "TRB",
          "TRB",
          "TRB",
          "TRB",
          "TRB",
          "TRB",
          "TRB",
          "TRB",
          "TRB",
          "TRB",
          "TRB",
          "TRB",
          "TRB",
          "TRB",
          "TRB",
          "TRB",
          "TRB",
          "TRB",
          "TRB",
          "TRB",
          "TRB",
          "TRB",
          "TRB",
          "TRB",
          "TRB",
          "TRB",
          "TRB",
          "TRB",
          "TRB",
          "TRB",
          "TRB",
          "TRB",
          "TRB",
          "TRB",
          "TRB",
          "TRB",
          "TRB",
          "TRB"
         ],
         "y": [
          10.83918036375149,
          10.084174499906563,
          11.263307754457609,
          10.510702282260388,
          9.339375557752106,
          10.172139301751905,
          10.221501926385224,
          10.106957104152398,
          9.223945012784892,
          10.286702692271811,
          7.625753009640858,
          10.015886411664646,
          10.163956708637585,
          10.174239232355337,
          9.658156627491136,
          7.968294645986816,
          11.022533853349842,
          10.663950041955385,
          9.257846856843171,
          10.875342180646998,
          9.394540992212145,
          9.581943972868007,
          8.753920548614094,
          8.510577853568206,
          8.917320208482854,
          8.34508649229822,
          8.625812749899174,
          8.355481360161026,
          6.885641249664769,
          7.882260485794906,
          9.365497323263112,
          7.982412666581668,
          7.964112346503495,
          8.65512461691806,
          9.888342302099526,
          9.44437223575228,
          8.845897058959023,
          7.328060974094407,
          8.275079703126169,
          8.38995890488753,
          10.173440960728382,
          7.55801398503448,
          6.985579031325126,
          10.621878385895204,
          9.631691211262227,
          10.392150479578351,
          10.45657634218573,
          9.722405715617796,
          10.658044645958633,
          8.849860628513271,
          9.417165847272813,
          10.076556979322715,
          9.595977664855472,
          10.59000680639071,
          10.583191454218696,
          10.34541134733457,
          9.957066070353855,
          9.750783414505522,
          10.634519511290229,
          9.06270301123698,
          10.313020834857786,
          9.476591859043817,
          9.510972636534852,
          8.702598149587084,
          8.233639259875243,
          8.421466330219426,
          9.213481445146442,
          9.936104413912217,
          10.146535200770236,
          9.10975038944456,
          7.932902509676019,
          8.700313241626018,
          10.03892672848772,
          9.914467616239609,
          10.302184101306617,
          10.700170251483344,
          7.843408310293328,
          9.26904575687977,
          9.530288574568024,
          10.833875944023037,
          10.212845968008928,
          7.043004108636272,
          10.179223174270977
         ]
        },
        {
         "marker": {
          "color": "teal"
         },
         "name": "TRB 1 Severity 1",
         "type": "box",
         "x": [
          "TRB",
          "TRB",
          "TRB",
          "TRB",
          "TRB",
          "TRB",
          "TRB",
          "TRB",
          "TRB",
          "TRB",
          "TRB",
          "TRB",
          "TRB",
          "TRB",
          "TRB",
          "TRB",
          "TRB",
          "TRB",
          "TRB",
          "TRB",
          "TRB",
          "TRB",
          "TRB",
          "TRB",
          "TRB",
          "TRB",
          "TRB",
          "TRB",
          "TRB",
          "TRB",
          "TRB",
          "TRB",
          "TRB",
          "TRB",
          "TRB",
          "TRB",
          "TRB",
          "TRB",
          "TRB",
          "TRB",
          "TRB",
          "TRB",
          "TRB",
          "TRB",
          "TRB",
          "TRB",
          "TRB",
          "TRB",
          "TRB",
          "TRB",
          "TRB",
          "TRB",
          "TRB",
          "TRB",
          "TRB",
          "TRB",
          "TRB",
          "TRB",
          "TRB",
          "TRB",
          "TRB",
          "TRB",
          "TRB",
          "TRB",
          "TRB",
          "TRB",
          "TRB",
          "TRB",
          "TRB",
          "TRB",
          "TRB",
          "TRB",
          "TRB",
          "TRB",
          "TRB",
          "TRB",
          "TRB",
          "TRB",
          "TRB",
          "TRB",
          "TRB",
          "TRB",
          "TRB",
          "TRB",
          "TRB"
         ],
         "y": [
          10.937828051461096,
          10.13417456817905,
          8.614337856090657,
          9.741691445887431,
          8.107762944266021,
          9.616916460735084,
          8.97014620549338,
          11.183952445537772,
          9.201966261520838,
          9.858212580257876,
          10.32532201422871,
          9.21347785211466,
          11.031239052685232,
          8.361296868447694,
          9.384801341134605,
          11.006075648038884,
          8.834316250277261,
          9.59715228015816,
          10.53251903927631,
          5.925232989307961,
          9.422145866066536,
          10.240167244761816,
          10.995936644255051,
          8.662857142698616,
          10.087827046114215,
          10.882852123488798,
          7.211579660441098,
          9.341889692677348,
          8.477293196152047,
          9.178380883220337,
          8.150212558597719,
          8.536869203228825,
          7.172942964538555,
          7.723824388377611,
          8.73986487413575,
          8.477450902184692,
          9.010966236792475,
          9.000165946902035,
          7.549471601399137,
          9.59098935728256,
          6.879649875904713,
          8.958044966832576,
          8.470034433100453,
          8.701838014622771,
          10.27304320454848,
          7.220865065794061,
          9.52853251143222,
          8.53906117727413,
          10.278991638366968,
          10.397750820330666,
          9.957497846051329,
          9.87837521232081,
          9.730608176969945,
          10.047312064638078,
          8.595248041880124,
          6.535995953669611,
          9.62692226492615,
          9.242678136399531,
          9.03808755955455,
          10.650241319166788,
          10.03858768033931,
          10.090682421044097,
          8.863079812438134,
          9.7177783061431,
          9.244203061759444,
          10.536374880089642,
          8.821570380613583,
          9.584568156388302,
          9.49099717399744,
          9.253407305230663,
          9.847425821420469,
          10.43534707504075,
          7.911824279037392,
          9.865013853615954,
          7.03966383211192,
          10.143595540842504,
          9.550092802018655,
          9.40667296390452,
          8.853937823963882,
          10.48460405353302,
          11.202774334613032,
          10.652899416206546,
          8.367194595500791,
          11.134424591171992,
          10.44412414236972
         ]
        },
        {
         "marker": {
          "color": "teal"
         },
         "name": "TRB 2 Severity 1",
         "type": "box",
         "x": [
          "TRB",
          "TRB",
          "TRB",
          "TRB",
          "TRB",
          "TRB",
          "TRB",
          "TRB",
          "TRB",
          "TRB",
          "TRB",
          "TRB",
          "TRB",
          "TRB",
          "TRB",
          "TRB",
          "TRB",
          "TRB",
          "TRB",
          "TRB",
          "TRB",
          "TRB",
          "TRB",
          "TRB",
          "TRB",
          "TRB",
          "TRB",
          "TRB",
          "TRB",
          "TRB",
          "TRB",
          "TRB",
          "TRB",
          "TRB",
          "TRB",
          "TRB",
          "TRB",
          "TRB",
          "TRB",
          "TRB",
          "TRB",
          "TRB",
          "TRB"
         ],
         "y": [
          9.519017183470282,
          9.423486891496452,
          10.427133208785646,
          9.9626157851008,
          8.86262253059156,
          8.877637151095136,
          8.346305383535814,
          9.909162162401934,
          9.30362769775609,
          11.135553670229116,
          10.690529887297885,
          9.441965207210783,
          9.4758848336726,
          9.163527102159746,
          9.381706256956925,
          9.39490316654968,
          7.984413297253079,
          6.409743458585593,
          10.267749248787672,
          9.18847129216096,
          9.468429108757013,
          9.492555603674326,
          10.1351567794288,
          10.402139169026714,
          7.702406030464529,
          9.894069028183509,
          8.151366272679983,
          10.344827593204684,
          11.001862321921168,
          9.36808375770896,
          9.589115757492417,
          9.770151706283263,
          8.684750704132448,
          9.295566514704158,
          7.539054135722167,
          9.700117795924784,
          7.633953858468643,
          9.334062437286436,
          10.536958123850312,
          6.650546261356799,
          10.637359355020806,
          9.333762867815231,
          11.222035447007904
         ]
        },
        {
         "marker": {
          "color": "teal"
         },
         "name": "TRB 3 Severity 1",
         "type": "box",
         "x": [
          "TRB",
          "TRB",
          "TRB",
          "TRB",
          "TRB",
          "TRB",
          "TRB",
          "TRB",
          "TRB",
          "TRB",
          "TRB",
          "TRB",
          "TRB",
          "TRB",
          "TRB",
          "TRB",
          "TRB",
          "TRB",
          "TRB",
          "TRB",
          "TRB",
          "TRB",
          "TRB",
          "TRB",
          "TRB",
          "TRB",
          "TRB",
          "TRB",
          "TRB",
          "TRB",
          "TRB",
          "TRB",
          "TRB",
          "TRB",
          "TRB",
          "TRB",
          "TRB",
          "TRB",
          "TRB",
          "TRB",
          "TRB",
          "TRB",
          "TRB",
          "TRB",
          "TRB",
          "TRB",
          "TRB",
          "TRB",
          "TRB",
          "TRB",
          "TRB",
          "TRB",
          "TRB",
          "TRB",
          "TRB",
          "TRB",
          "TRB",
          "TRB",
          "TRB",
          "TRB",
          "TRB",
          "TRB",
          "TRB",
          "TRB",
          "TRB",
          "TRB",
          "TRB"
         ],
         "y": [
          11.120138380183782,
          9.53849190225358,
          10.293583961443051,
          8.573461814130594,
          8.525759733742603,
          7.269018149733013,
          8.022368096519969,
          9.270375361067574,
          10.215970956683156,
          9.595412241742732,
          8.975604934942348,
          9.76283576461386,
          9.37107133810502,
          7.639137889338966,
          9.595193043877837,
          7.953581976141642,
          9.535706211428703,
          6.0481425100324975,
          9.982889555333156,
          10.069233864537242,
          9.515293771216504,
          7.804805754456002,
          10.301146872327756,
          9.46044286279906,
          7.215159405340214,
          10.58994461559395,
          8.35173373627072,
          9.121552962830048,
          9.16339078846728,
          8.966628155018874,
          7.2234653501719635,
          9.887694127179964,
          8.971117187236935,
          9.640725710930624,
          9.440392515175082,
          8.481456474281522,
          7.915252729885388,
          7.771469787428555,
          6.494813927697096,
          9.271693308016108,
          8.885517888256214,
          8.6325140500962,
          10.32267118233155,
          9.831317314541618,
          8.79862877074147,
          9.216565020611212,
          9.91407639100672,
          10.41663337264974,
          10.056722622523903,
          10.107049320898698,
          10.375746012179253,
          10.03556754858251,
          8.445438963157859,
          8.82737440256368,
          10.135466184341327,
          10.054769455477222,
          9.318019644596642,
          11.137968043707332,
          11.11711761766801,
          10.63729590251031,
          9.123068391373428,
          10.974889941979317,
          7.708476529964932,
          7.501237117270189,
          10.870403416359526,
          9.95108398285749,
          10.151362493837194
         ]
        },
        {
         "marker": {
          "color": "orange"
         },
         "name": "TRB 1 Severity 2",
         "type": "box",
         "x": [
          "TRB",
          "TRB",
          "TRB",
          "TRB",
          "TRB",
          "TRB",
          "TRB",
          "TRB",
          "TRB",
          "TRB",
          "TRB",
          "TRB",
          "TRB",
          "TRB",
          "TRB",
          "TRB",
          "TRB",
          "TRB",
          "TRB",
          "TRB",
          "TRB",
          "TRB",
          "TRB",
          "TRB",
          "TRB",
          "TRB",
          "TRB",
          "TRB",
          "TRB",
          "TRB",
          "TRB",
          "TRB",
          "TRB",
          "TRB",
          "TRB",
          "TRB",
          "TRB",
          "TRB",
          "TRB",
          "TRB",
          "TRB",
          "TRB",
          "TRB",
          "TRB",
          "TRB",
          "TRB",
          "TRB",
          "TRB",
          "TRB",
          "TRB",
          "TRB",
          "TRB",
          "TRB",
          "TRB",
          "TRB",
          "TRB",
          "TRB",
          "TRB",
          "TRB",
          "TRB",
          "TRB",
          "TRB",
          "TRB",
          "TRB",
          "TRB",
          "TRB",
          "TRB",
          "TRB",
          "TRB",
          "TRB",
          "TRB"
         ],
         "y": [
          10.390183837586662,
          10.467071593276554,
          10.905863004484656,
          10.61870088731536,
          8.446847599296593,
          7.91520363063992,
          8.818058447132255,
          9.599005695407326,
          9.071716507252324,
          7.351877590400809,
          6.952799450501658,
          10.389989843974767,
          9.762963717941542,
          8.724861073411594,
          9.655692282433964,
          9.965688545132462,
          8.927373592602777,
          11.417448347261129,
          9.749017439609393,
          10.115576571620698,
          8.985929383421023,
          10.692096302893974,
          9.938683596613268,
          10.30702775038479,
          9.075854873354505,
          10.046033599782618,
          9.576137825573534,
          9.327588698376193,
          8.250072780889347,
          9.2351546286606,
          8.609561682517032,
          8.298472610418225,
          9.847114543932758,
          10.31077290690646,
          9.117872599021943,
          7.294215474740872,
          6.634246238060619,
          10.227963582060468,
          9.91687233424744,
          10.58361833932389,
          10.420453475068864,
          10.392348311700076,
          9.601441138242556,
          9.56130096317116,
          8.908144638988798,
          9.514283722581556,
          7.366696092785558,
          9.78843716161607,
          6.720940501596341,
          8.39359469196902,
          8.364363187283784,
          8.059428175322767,
          9.31163721615699,
          6.975868885251924,
          8.403743373591373,
          9.874213722849603,
          9.98285669317081,
          8.928830772346604,
          10.799270431304247,
          9.638621390127902,
          8.503084152745698,
          8.475347796657445,
          10.411771655206936,
          9.931280190080964,
          9.700530886969554,
          10.356101718259488,
          11.16031102928784,
          9.939934555918343,
          10.4733977980712,
          8.106644786410024,
          8.423179973906299
         ]
        },
        {
         "marker": {
          "color": "orange"
         },
         "name": "TRB 2 Severity 2",
         "type": "box",
         "x": [
          "TRB",
          "TRB",
          "TRB",
          "TRB",
          "TRB",
          "TRB",
          "TRB",
          "TRB",
          "TRB",
          "TRB",
          "TRB",
          "TRB",
          "TRB",
          "TRB",
          "TRB",
          "TRB",
          "TRB",
          "TRB",
          "TRB",
          "TRB",
          "TRB",
          "TRB",
          "TRB",
          "TRB",
          "TRB",
          "TRB",
          "TRB",
          "TRB",
          "TRB",
          "TRB",
          "TRB",
          "TRB",
          "TRB",
          "TRB",
          "TRB",
          "TRB",
          "TRB",
          "TRB",
          "TRB",
          "TRB",
          "TRB",
          "TRB",
          "TRB",
          "TRB",
          "TRB",
          "TRB",
          "TRB",
          "TRB",
          "TRB",
          "TRB"
         ],
         "y": [
          10.80603531723938,
          8.755247737505782,
          9.975138734876362,
          8.57907886256033,
          8.58323340342315,
          7.27753643417173,
          10.342490106149947,
          8.581396492258541,
          7.896316968234458,
          7.581173119024164,
          10.224970456820117,
          8.942607792020517,
          9.042723440407713,
          9.705083502769224,
          8.914580085906138,
          9.60315769397639,
          9.417737599146976,
          8.561807456650568,
          9.16292921360226,
          8.650063569992673,
          10.9967913694952,
          9.797249708594649,
          10.31752253660608,
          9.16274845481251,
          8.748590706062846,
          8.654059839581063,
          8.953467152445228,
          9.176975341006068,
          9.35531527038338,
          9.909904012258764,
          9.23487547835764,
          9.503323752720242,
          9.657841415167372,
          8.689429566243254,
          9.622591486535937,
          8.720362254392146,
          8.636715341615707,
          9.977897380332978,
          10.118938454213128,
          9.596871877706668,
          11.10916886327869,
          10.08934505594361,
          10.235256382619776,
          9.300657868870813,
          10.789739690926403,
          9.632578082013032,
          10.550993711323676,
          8.786932638701801,
          7.949838925247906,
          9.115390633590962
         ]
        },
        {
         "marker": {
          "color": "orange"
         },
         "name": "TRB 3 Severity 2",
         "type": "box",
         "x": [
          "TRB",
          "TRB",
          "TRB",
          "TRB",
          "TRB",
          "TRB",
          "TRB",
          "TRB",
          "TRB",
          "TRB",
          "TRB",
          "TRB",
          "TRB",
          "TRB",
          "TRB",
          "TRB",
          "TRB",
          "TRB",
          "TRB",
          "TRB",
          "TRB",
          "TRB",
          "TRB",
          "TRB",
          "TRB",
          "TRB",
          "TRB",
          "TRB",
          "TRB",
          "TRB",
          "TRB",
          "TRB",
          "TRB",
          "TRB",
          "TRB",
          "TRB",
          "TRB",
          "TRB",
          "TRB",
          "TRB",
          "TRB",
          "TRB",
          "TRB",
          "TRB",
          "TRB"
         ],
         "y": [
          9.852442920557351,
          8.805295039209087,
          7.497704093580988,
          9.377635542022748,
          9.353546609738494,
          6.828479377694466,
          8.409826921961722,
          8.104506165160766,
          8.792869640184795,
          8.909223503755902,
          10.165769679924,
          7.073169936028447,
          8.08385637067103,
          9.907879476848883,
          7.70770603884359,
          9.028486458951718,
          9.38707057523976,
          10.49157606275263,
          9.472251262448774,
          9.942253406131838,
          9.201385573234646,
          7.81670164850354,
          8.86804553815826,
          9.434415672990797,
          8.880771341414437,
          8.35386673836511,
          9.698569123247747,
          8.938136316499872,
          8.594149485967021,
          6.740596144942095,
          9.59087762830877,
          10.079084066105116,
          9.75179479454129,
          10.79653732463878,
          10.217919320773936,
          10.279786173346375,
          9.039113976797667,
          8.13069285061547,
          8.505257229821737,
          5.8750400271675325,
          8.614842067188503,
          9.867736951401222,
          10.168015469954426,
          10.553671686686377,
          9.18492832684828
         ]
        },
        {
         "marker": {
          "color": "orange"
         },
         "name": "TRB 4 Severity 2",
         "type": "box",
         "x": [
          "TRB",
          "TRB"
         ],
         "y": [
          6.936064050604082,
          8.495310528604055
         ]
        },
        {
         "marker": {
          "color": "tomato"
         },
         "name": "TRB 1 Severity 3",
         "type": "box",
         "x": [
          "TRB",
          "TRB",
          "TRB",
          "TRB",
          "TRB",
          "TRB",
          "TRB",
          "TRB",
          "TRB",
          "TRB"
         ],
         "y": [
          10.124189085481106,
          9.549393851994562,
          9.944069840371638,
          5.935877842941411,
          7.2963518696439165,
          9.841933475566355,
          7.622473246541094,
          8.190406350353127,
          10.556764594180656,
          9.62226528101804
         ]
        },
        {
         "marker": {
          "color": "tomato"
         },
         "name": "TRB 2 Severity 3",
         "type": "box",
         "x": [
          "TRB",
          "TRB",
          "TRB",
          "TRB",
          "TRB",
          "TRB",
          "TRB",
          "TRB",
          "TRB",
          "TRB"
         ],
         "y": [
          10.333188917044389,
          9.54851723348429,
          7.880364825935165,
          9.555548550734567,
          9.364143290474969,
          11.504286263006607,
          8.138329471924083,
          9.197437836077295,
          10.548388230073472,
          9.773247280848755
         ]
        },
        {
         "marker": {
          "color": "tomato"
         },
         "name": "TRB 3 Severity 3",
         "type": "box",
         "x": [
          "TRB",
          "TRB",
          "TRB",
          "TRB",
          "TRB",
          "TRB",
          "TRB",
          "TRB"
         ],
         "y": [
          10.33562451819644,
          9.246691280026988,
          10.666576240578587,
          10.864017635672138,
          11.030864605854712,
          7.367097422872777,
          10.47226025170916,
          10.44200277540157
         ]
        },
        {
         "marker": {
          "color": "tomato"
         },
         "name": "TRB 4 Severity 3",
         "type": "box",
         "x": [
          "TRB",
          "TRB",
          "TRB",
          "TRB",
          "TRB",
          "TRB",
          "TRB"
         ],
         "y": [
          10.284323501886195,
          10.398099613024009,
          10.83007768126588,
          10.803801166096404,
          7.598218087313207,
          10.380122435417672,
          8.910294460662806
         ]
        },
        {
         "marker": {
          "color": "brown"
         },
         "name": "TRB 1 Severity 4",
         "type": "box",
         "x": [
          "TRB",
          "TRB",
          "TRB",
          "TRB",
          "TRB",
          "TRB",
          "TRB",
          "TRB",
          "TRB",
          "TRB",
          "TRB"
         ],
         "y": [
          9.727157798042043,
          5.198822679522984,
          6.155235470909639,
          6.994110842893938,
          4.167859635754844,
          9.751816929188724,
          9.971797206862762,
          8.920393649391633,
          7.689873774372959,
          10.256227539072253,
          5.791791942401504
         ]
        },
        {
         "marker": {
          "color": "brown"
         },
         "name": "TRB 2 Severity 4",
         "type": "box",
         "x": [
          "TRB",
          "TRB",
          "TRB",
          "TRB",
          "TRB",
          "TRB",
          "TRB",
          "TRB",
          "TRB",
          "TRB",
          "TRB",
          "TRB",
          "TRB",
          "TRB",
          "TRB",
          "TRB"
         ],
         "y": [
          6.575651641091923,
          8.304743877336836,
          9.266819087131736,
          6.843484974691251,
          7.520862416871544,
          9.79055091769773,
          8.126629713402433,
          8.221428043062568,
          5.241531786785516,
          9.432219831202232,
          10.063616757648733,
          10.388613387109222,
          9.647423096093451,
          6.885230984324717,
          10.336191475698948,
          5.156036433833259
         ]
        },
        {
         "marker": {
          "color": "brown"
         },
         "name": "TRB 3 Severity 4",
         "type": "box",
         "x": [
          "TRB",
          "TRB",
          "TRB",
          "TRB",
          "TRB",
          "TRB",
          "TRB",
          "TRB",
          "TRB",
          "TRB",
          "TRB",
          "TRB",
          "TRB",
          "TRB"
         ],
         "y": [
          10.097721124943703,
          9.435499154421892,
          9.978213385367832,
          6.842345306316734,
          7.47684913065357,
          8.948868492317935,
          9.376839325494291,
          8.055201084057027,
          10.145963965859364,
          9.74939667702921,
          10.344285768795023,
          10.724878762696887,
          10.5741815185993,
          5.469933459894512
         ]
        },
        {
         "marker": {
          "color": "brown"
         },
         "name": "TRB 4 Severity 4",
         "type": "box",
         "x": [
          "TRB",
          "TRB",
          "TRB",
          "TRB",
          "TRB",
          "TRB",
          "TRB",
          "TRB"
         ],
         "y": [
          10.449526107190277,
          8.5471434619123,
          9.257413116587124,
          10.779274483436105,
          9.75645920596468,
          8.125888831555203,
          10.588804678103685,
          10.325052970190102
         ]
        }
       ],
       "layout": {
        "boxmode": "group",
        "height": 500,
        "plot_bgcolor": "rgba(255, 255, 255, 1)",
        "template": {
         "data": {
          "bar": [
           {
            "error_x": {
             "color": "#2a3f5f"
            },
            "error_y": {
             "color": "#2a3f5f"
            },
            "marker": {
             "line": {
              "color": "#E5ECF6",
              "width": 0.5
             },
             "pattern": {
              "fillmode": "overlay",
              "size": 10,
              "solidity": 0.2
             }
            },
            "type": "bar"
           }
          ],
          "barpolar": [
           {
            "marker": {
             "line": {
              "color": "#E5ECF6",
              "width": 0.5
             },
             "pattern": {
              "fillmode": "overlay",
              "size": 10,
              "solidity": 0.2
             }
            },
            "type": "barpolar"
           }
          ],
          "carpet": [
           {
            "aaxis": {
             "endlinecolor": "#2a3f5f",
             "gridcolor": "white",
             "linecolor": "white",
             "minorgridcolor": "white",
             "startlinecolor": "#2a3f5f"
            },
            "baxis": {
             "endlinecolor": "#2a3f5f",
             "gridcolor": "white",
             "linecolor": "white",
             "minorgridcolor": "white",
             "startlinecolor": "#2a3f5f"
            },
            "type": "carpet"
           }
          ],
          "choropleth": [
           {
            "colorbar": {
             "outlinewidth": 0,
             "ticks": ""
            },
            "type": "choropleth"
           }
          ],
          "contour": [
           {
            "colorbar": {
             "outlinewidth": 0,
             "ticks": ""
            },
            "colorscale": [
             [
              0,
              "#0d0887"
             ],
             [
              0.1111111111111111,
              "#46039f"
             ],
             [
              0.2222222222222222,
              "#7201a8"
             ],
             [
              0.3333333333333333,
              "#9c179e"
             ],
             [
              0.4444444444444444,
              "#bd3786"
             ],
             [
              0.5555555555555556,
              "#d8576b"
             ],
             [
              0.6666666666666666,
              "#ed7953"
             ],
             [
              0.7777777777777778,
              "#fb9f3a"
             ],
             [
              0.8888888888888888,
              "#fdca26"
             ],
             [
              1,
              "#f0f921"
             ]
            ],
            "type": "contour"
           }
          ],
          "contourcarpet": [
           {
            "colorbar": {
             "outlinewidth": 0,
             "ticks": ""
            },
            "type": "contourcarpet"
           }
          ],
          "heatmap": [
           {
            "colorbar": {
             "outlinewidth": 0,
             "ticks": ""
            },
            "colorscale": [
             [
              0,
              "#0d0887"
             ],
             [
              0.1111111111111111,
              "#46039f"
             ],
             [
              0.2222222222222222,
              "#7201a8"
             ],
             [
              0.3333333333333333,
              "#9c179e"
             ],
             [
              0.4444444444444444,
              "#bd3786"
             ],
             [
              0.5555555555555556,
              "#d8576b"
             ],
             [
              0.6666666666666666,
              "#ed7953"
             ],
             [
              0.7777777777777778,
              "#fb9f3a"
             ],
             [
              0.8888888888888888,
              "#fdca26"
             ],
             [
              1,
              "#f0f921"
             ]
            ],
            "type": "heatmap"
           }
          ],
          "heatmapgl": [
           {
            "colorbar": {
             "outlinewidth": 0,
             "ticks": ""
            },
            "colorscale": [
             [
              0,
              "#0d0887"
             ],
             [
              0.1111111111111111,
              "#46039f"
             ],
             [
              0.2222222222222222,
              "#7201a8"
             ],
             [
              0.3333333333333333,
              "#9c179e"
             ],
             [
              0.4444444444444444,
              "#bd3786"
             ],
             [
              0.5555555555555556,
              "#d8576b"
             ],
             [
              0.6666666666666666,
              "#ed7953"
             ],
             [
              0.7777777777777778,
              "#fb9f3a"
             ],
             [
              0.8888888888888888,
              "#fdca26"
             ],
             [
              1,
              "#f0f921"
             ]
            ],
            "type": "heatmapgl"
           }
          ],
          "histogram": [
           {
            "marker": {
             "pattern": {
              "fillmode": "overlay",
              "size": 10,
              "solidity": 0.2
             }
            },
            "type": "histogram"
           }
          ],
          "histogram2d": [
           {
            "colorbar": {
             "outlinewidth": 0,
             "ticks": ""
            },
            "colorscale": [
             [
              0,
              "#0d0887"
             ],
             [
              0.1111111111111111,
              "#46039f"
             ],
             [
              0.2222222222222222,
              "#7201a8"
             ],
             [
              0.3333333333333333,
              "#9c179e"
             ],
             [
              0.4444444444444444,
              "#bd3786"
             ],
             [
              0.5555555555555556,
              "#d8576b"
             ],
             [
              0.6666666666666666,
              "#ed7953"
             ],
             [
              0.7777777777777778,
              "#fb9f3a"
             ],
             [
              0.8888888888888888,
              "#fdca26"
             ],
             [
              1,
              "#f0f921"
             ]
            ],
            "type": "histogram2d"
           }
          ],
          "histogram2dcontour": [
           {
            "colorbar": {
             "outlinewidth": 0,
             "ticks": ""
            },
            "colorscale": [
             [
              0,
              "#0d0887"
             ],
             [
              0.1111111111111111,
              "#46039f"
             ],
             [
              0.2222222222222222,
              "#7201a8"
             ],
             [
              0.3333333333333333,
              "#9c179e"
             ],
             [
              0.4444444444444444,
              "#bd3786"
             ],
             [
              0.5555555555555556,
              "#d8576b"
             ],
             [
              0.6666666666666666,
              "#ed7953"
             ],
             [
              0.7777777777777778,
              "#fb9f3a"
             ],
             [
              0.8888888888888888,
              "#fdca26"
             ],
             [
              1,
              "#f0f921"
             ]
            ],
            "type": "histogram2dcontour"
           }
          ],
          "mesh3d": [
           {
            "colorbar": {
             "outlinewidth": 0,
             "ticks": ""
            },
            "type": "mesh3d"
           }
          ],
          "parcoords": [
           {
            "line": {
             "colorbar": {
              "outlinewidth": 0,
              "ticks": ""
             }
            },
            "type": "parcoords"
           }
          ],
          "pie": [
           {
            "automargin": true,
            "type": "pie"
           }
          ],
          "scatter": [
           {
            "fillpattern": {
             "fillmode": "overlay",
             "size": 10,
             "solidity": 0.2
            },
            "type": "scatter"
           }
          ],
          "scatter3d": [
           {
            "line": {
             "colorbar": {
              "outlinewidth": 0,
              "ticks": ""
             }
            },
            "marker": {
             "colorbar": {
              "outlinewidth": 0,
              "ticks": ""
             }
            },
            "type": "scatter3d"
           }
          ],
          "scattercarpet": [
           {
            "marker": {
             "colorbar": {
              "outlinewidth": 0,
              "ticks": ""
             }
            },
            "type": "scattercarpet"
           }
          ],
          "scattergeo": [
           {
            "marker": {
             "colorbar": {
              "outlinewidth": 0,
              "ticks": ""
             }
            },
            "type": "scattergeo"
           }
          ],
          "scattergl": [
           {
            "marker": {
             "colorbar": {
              "outlinewidth": 0,
              "ticks": ""
             }
            },
            "type": "scattergl"
           }
          ],
          "scattermapbox": [
           {
            "marker": {
             "colorbar": {
              "outlinewidth": 0,
              "ticks": ""
             }
            },
            "type": "scattermapbox"
           }
          ],
          "scatterpolar": [
           {
            "marker": {
             "colorbar": {
              "outlinewidth": 0,
              "ticks": ""
             }
            },
            "type": "scatterpolar"
           }
          ],
          "scatterpolargl": [
           {
            "marker": {
             "colorbar": {
              "outlinewidth": 0,
              "ticks": ""
             }
            },
            "type": "scatterpolargl"
           }
          ],
          "scatterternary": [
           {
            "marker": {
             "colorbar": {
              "outlinewidth": 0,
              "ticks": ""
             }
            },
            "type": "scatterternary"
           }
          ],
          "surface": [
           {
            "colorbar": {
             "outlinewidth": 0,
             "ticks": ""
            },
            "colorscale": [
             [
              0,
              "#0d0887"
             ],
             [
              0.1111111111111111,
              "#46039f"
             ],
             [
              0.2222222222222222,
              "#7201a8"
             ],
             [
              0.3333333333333333,
              "#9c179e"
             ],
             [
              0.4444444444444444,
              "#bd3786"
             ],
             [
              0.5555555555555556,
              "#d8576b"
             ],
             [
              0.6666666666666666,
              "#ed7953"
             ],
             [
              0.7777777777777778,
              "#fb9f3a"
             ],
             [
              0.8888888888888888,
              "#fdca26"
             ],
             [
              1,
              "#f0f921"
             ]
            ],
            "type": "surface"
           }
          ],
          "table": [
           {
            "cells": {
             "fill": {
              "color": "#EBF0F8"
             },
             "line": {
              "color": "white"
             }
            },
            "header": {
             "fill": {
              "color": "#C8D4E3"
             },
             "line": {
              "color": "white"
             }
            },
            "type": "table"
           }
          ]
         },
         "layout": {
          "annotationdefaults": {
           "arrowcolor": "#2a3f5f",
           "arrowhead": 0,
           "arrowwidth": 1
          },
          "autotypenumbers": "strict",
          "coloraxis": {
           "colorbar": {
            "outlinewidth": 0,
            "ticks": ""
           }
          },
          "colorscale": {
           "diverging": [
            [
             0,
             "#8e0152"
            ],
            [
             0.1,
             "#c51b7d"
            ],
            [
             0.2,
             "#de77ae"
            ],
            [
             0.3,
             "#f1b6da"
            ],
            [
             0.4,
             "#fde0ef"
            ],
            [
             0.5,
             "#f7f7f7"
            ],
            [
             0.6,
             "#e6f5d0"
            ],
            [
             0.7,
             "#b8e186"
            ],
            [
             0.8,
             "#7fbc41"
            ],
            [
             0.9,
             "#4d9221"
            ],
            [
             1,
             "#276419"
            ]
           ],
           "sequential": [
            [
             0,
             "#0d0887"
            ],
            [
             0.1111111111111111,
             "#46039f"
            ],
            [
             0.2222222222222222,
             "#7201a8"
            ],
            [
             0.3333333333333333,
             "#9c179e"
            ],
            [
             0.4444444444444444,
             "#bd3786"
            ],
            [
             0.5555555555555556,
             "#d8576b"
            ],
            [
             0.6666666666666666,
             "#ed7953"
            ],
            [
             0.7777777777777778,
             "#fb9f3a"
            ],
            [
             0.8888888888888888,
             "#fdca26"
            ],
            [
             1,
             "#f0f921"
            ]
           ],
           "sequentialminus": [
            [
             0,
             "#0d0887"
            ],
            [
             0.1111111111111111,
             "#46039f"
            ],
            [
             0.2222222222222222,
             "#7201a8"
            ],
            [
             0.3333333333333333,
             "#9c179e"
            ],
            [
             0.4444444444444444,
             "#bd3786"
            ],
            [
             0.5555555555555556,
             "#d8576b"
            ],
            [
             0.6666666666666666,
             "#ed7953"
            ],
            [
             0.7777777777777778,
             "#fb9f3a"
            ],
            [
             0.8888888888888888,
             "#fdca26"
            ],
            [
             1,
             "#f0f921"
            ]
           ]
          },
          "colorway": [
           "#636efa",
           "#EF553B",
           "#00cc96",
           "#ab63fa",
           "#FFA15A",
           "#19d3f3",
           "#FF6692",
           "#B6E880",
           "#FF97FF",
           "#FECB52"
          ],
          "font": {
           "color": "#2a3f5f"
          },
          "geo": {
           "bgcolor": "white",
           "lakecolor": "white",
           "landcolor": "#E5ECF6",
           "showlakes": true,
           "showland": true,
           "subunitcolor": "white"
          },
          "hoverlabel": {
           "align": "left"
          },
          "hovermode": "closest",
          "mapbox": {
           "style": "light"
          },
          "paper_bgcolor": "white",
          "plot_bgcolor": "#E5ECF6",
          "polar": {
           "angularaxis": {
            "gridcolor": "white",
            "linecolor": "white",
            "ticks": ""
           },
           "bgcolor": "#E5ECF6",
           "radialaxis": {
            "gridcolor": "white",
            "linecolor": "white",
            "ticks": ""
           }
          },
          "scene": {
           "xaxis": {
            "backgroundcolor": "#E5ECF6",
            "gridcolor": "white",
            "gridwidth": 2,
            "linecolor": "white",
            "showbackground": true,
            "ticks": "",
            "zerolinecolor": "white"
           },
           "yaxis": {
            "backgroundcolor": "#E5ECF6",
            "gridcolor": "white",
            "gridwidth": 2,
            "linecolor": "white",
            "showbackground": true,
            "ticks": "",
            "zerolinecolor": "white"
           },
           "zaxis": {
            "backgroundcolor": "#E5ECF6",
            "gridcolor": "white",
            "gridwidth": 2,
            "linecolor": "white",
            "showbackground": true,
            "ticks": "",
            "zerolinecolor": "white"
           }
          },
          "shapedefaults": {
           "line": {
            "color": "#2a3f5f"
           }
          },
          "ternary": {
           "aaxis": {
            "gridcolor": "white",
            "linecolor": "white",
            "ticks": ""
           },
           "baxis": {
            "gridcolor": "white",
            "linecolor": "white",
            "ticks": ""
           },
           "bgcolor": "#E5ECF6",
           "caxis": {
            "gridcolor": "white",
            "linecolor": "white",
            "ticks": ""
           }
          },
          "title": {
           "x": 0.05
          },
          "xaxis": {
           "automargin": true,
           "gridcolor": "white",
           "linecolor": "white",
           "ticks": "",
           "title": {
            "standoff": 15
           },
           "zerolinecolor": "white",
           "zerolinewidth": 2
          },
          "yaxis": {
           "automargin": true,
           "gridcolor": "white",
           "linecolor": "white",
           "ticks": "",
           "title": {
            "standoff": 15
           },
           "zerolinecolor": "white",
           "zerolinewidth": 2
          }
         }
        },
        "title": {
         "text": "Time point comparison of TCR"
        },
        "width": 2000,
        "xaxis": {
         "title": {
          "text": "Time Point"
         }
        },
        "yaxis": {
         "gridcolor": "lightgray",
         "range": [
          2,
          12
         ],
         "tickfont": {
          "size": 15
         },
         "title": {
          "font": {
           "size": 20
          },
          "text": "Shannon Diversity"
         }
        }
       }
      }
     },
     "metadata": {},
     "output_type": "display_data"
    }
   ],
   "source": [
    "def shannon_boxplot2(df, df2, title, detect):\n",
    "\n",
    "        severity_colors = {0: 'darkblue', 1: 'teal', 2: 'orange', 3: 'tomato', 4: 'brown', 5: 'black'}\n",
    "        \n",
    "        fig = go.Figure()\n",
    "        \n",
    "        if detect == 'HC':\n",
    "            Typelist = ['IGM', 'IGG']\n",
    "        elif detect == 'LC':\n",
    "            Typelist = ['IGK', 'IGL']\n",
    "        else:\n",
    "            Typelist = ['TRA', 'TRB']\n",
    "        \n",
    "        TimePointList = [0, 1, 2, 3, 4, 5]\n",
    "        \n",
    "        ### df2에서 severity가 0인것은 timepoint 1으로 바꿔줌\n",
    "        df.loc[df['Severity'] == 0, 'Time_point'] = 1\n",
    "        df2.loc[df2['Severity'] == 0, 'Time_point'] = 1\n",
    "        \n",
    "        for t in Typelist:\n",
    "                temp = df[(df['Type'] == t)]\n",
    "                temp2 = df2[(df2['Type'] == t)]\n",
    "                ### 두개를 하나로 합침\n",
    "                temp = pd.concat([temp, temp2])\n",
    "    \n",
    "                for severity in severity_colors:\n",
    "                    for time_point in TimePointList:\n",
    "                        temp_time_point = temp[(temp['Severity'] == severity) & (temp['Time_point'] == time_point)]\n",
    "                        if not temp_time_point.empty:\n",
    "                            fig.add_trace(go.Box(y=temp_time_point['Shannon_diversity'], x=[f'{t}']*len(temp_time_point), \n",
    "                                                name=f'{t} {time_point} Severity {severity}', marker_color=severity_colors[severity]))\n",
    "                        \n",
    "        fig.update_layout(title=title, xaxis_title='Time Point', yaxis_title='Shannon Diversity', boxmode='group', yaxis_tickfont_size=15, yaxis_titlefont_size=20,\n",
    "                            plot_bgcolor='rgba(255, 255, 255, 1)', yaxis=dict(gridcolor='lightgray',range=[2,12]), width=2000, height=500)\n",
    "        \n",
    "        fig.show()\n",
    "        \n",
    "shannon_boxplot2(trim_BCRHC01, trim_BCRHC02, 'Time point comparison of BCR_HC', 'HC')\n",
    "shannon_boxplot2(trim_BCRLC01, trim_BCRLC02, 'Time point comparison of BCR_LC', 'LC')\n",
    "shannon_boxplot2(trim_TCR01, trim_TCR02, 'Time point comparison of TCR','')"
   ]
  },
  {
   "cell_type": "code",
   "execution_count": 32,
   "metadata": {},
   "outputs": [],
   "source": [
    "import plotly.express as px\n",
    "\n",
    "def plot_shannon_diversity(df, df2, sev):\n",
    "    # Severity에 따른 색상 설정\n",
    "    severity_colors = {0: 'darkblue', 1: 'teal', 2: 'orange', 3: 'tomato', 4: 'brown'}\n",
    "\n",
    "    # 각 샘플에 대한 그래프 생성\n",
    "    fig = px.line()\n",
    "\n",
    "    ### df와 df2를 합침\n",
    "    df = pd.concat([df, df2])\n",
    "    df = df[df['Severity'] == sev]\n",
    "    \n",
    "    for sample in df['Sample'].unique():\n",
    "        df_sample = df[df['Sample'] == sample]\n",
    "        if not df_sample.empty:\n",
    "            for type_ in df_sample['Type'].unique():\n",
    "                df_sample_type = df_sample[df_sample['Type'] == type_]\n",
    "                if not df_sample_type.empty:\n",
    "                    for severity, color in severity_colors.items():\n",
    "                        df_severity = df_sample_type[df_sample_type['Severity'] == severity]\n",
    "                        if not df_severity.empty:\n",
    "                            fig.add_scatter(x=df_severity['Time_point'], y=df_severity['Shannon_diversity'],mode='lines',name=f'Severity {severity}',\n",
    "                                            line=dict(color=color),legendgroup=f'Severity {severity}', opacity=0.5)\n",
    "\n",
    "    fig.update_xaxes(range=[1, 4])\n",
    "    fig.update_yaxes(range=[2, 12])\n",
    "\n",
    "    # 그래프 레이아웃 설정\n",
    "    fig.update_layout(title='Shannon Diversity Over Time for All Samples',plot_bgcolor='rgba(255, 255, 255, 1)',\n",
    "                      xaxis_title='Time Point', yaxis_title='Shannon Diversity',  width=500, height=500)\n",
    "\n",
    "    # 그래프 출력\n",
    "    fig.show()\n",
    "\n",
    "# 함수 호출\n",
    "plot_shannon_diversity(trim_TCR01, trim_TCR02, 1)\n",
    "plot_shannon_diversity(trim_TCR01, trim_TCR02, 2)\n",
    "plot_shannon_diversity(trim_TCR01, trim_TCR02, 3)\n",
    "plot_shannon_diversity(trim_TCR01, trim_TCR02, 4)"
   ]
  },
  {
   "cell_type": "code",
   "execution_count": 47,
   "metadata": {},
   "outputs": [
    {
     "data": {
      "application/vnd.plotly.v1+json": {
       "config": {
        "plotlyServerURL": "https://plot.ly"
       },
       "data": [
        {
         "marker": {
          "color": "darkblue"
         },
         "mode": "lines+markers",
         "name": "IGM Severity 0",
         "type": "scatter",
         "x": [
          1
         ],
         "y": [
          8.44743787448177,
          8.092246939826305,
          8.601943935009002,
          8.714368710957434,
          8.203453040135262,
          8.020046001877757,
          8.810322102854947,
          8.661489157368939,
          8.272934750138724,
          8.165532421440563,
          8.498780099380728,
          7.206958141262746,
          8.630582697104602,
          8.543471583202782,
          8.375410872564117,
          8.406073775718589,
          9.071478646821983,
          8.184362909381653,
          8.655025338771361,
          6.526655010591043,
          6.701979911783807,
          5.829406403226916,
          6.7811837258091,
          7.169762651292191,
          6.053219598919544,
          4.810069789719566,
          5.773230613454017,
          5.570979438095758,
          7.104833313914404,
          6.04739321426122,
          4.807966354401561,
          5.759253485573908,
          7.737120618629158,
          7.350207877059497,
          7.62596115431494,
          4.806929409926156,
          6.938984834473953,
          6.070846474186935,
          8.965996318542873,
          6.437630277654907,
          5.46982322142832,
          7.376403373788232,
          8.980996647337221,
          8.735647771251935,
          7.464477666854934,
          6.2789485729594805,
          8.601364959086565,
          8.645415646731687,
          7.88106346690622,
          8.960284817468029,
          8.003170581318342,
          8.246969087890449,
          9.2244583651969,
          8.777297899740251,
          8.351142717065027,
          8.29370567224501,
          8.661875008267714,
          7.578310310290432,
          8.754316633078544
         ]
        },
        {
         "marker": {
          "color": "darkblue"
         },
         "mode": "lines+markers",
         "name": "IGM Severity 0",
         "type": "scatter",
         "x": [
          2
         ],
         "y": [
          7.79136234545581,
          7.681326830364616
         ]
        },
        {
         "marker": {
          "color": "teal"
         },
         "mode": "lines+markers",
         "name": "IGM Severity 1",
         "type": "scatter",
         "x": [
          1
         ],
         "y": [
          8.17985294404447,
          7.957169282610262,
          8.265711089868383,
          8.093039549964594,
          8.695308588099572,
          8.265806267672414,
          6.981976862711924,
          9.225082072164373,
          9.207544241386056,
          8.088297545642535,
          8.111389392294456,
          7.66402360958345,
          7.9877335661710225,
          7.11597764271325,
          7.611959008394999,
          7.562125714259381,
          6.387349425775136,
          7.32701447097758,
          7.976633198045278,
          6.283291270831102,
          8.183272638891596,
          8.769150912798201,
          7.390937490652419,
          8.258953525791968,
          8.381032462437785,
          7.407190222535005,
          7.220895778454262,
          5.561338603833617,
          6.730505076231023,
          7.482884253740857,
          6.55975543889849,
          7.357714332854204,
          6.512047015860552,
          5.862433106657755,
          6.565393611162189,
          6.515532691444931,
          7.72023990127336,
          7.945599502832631,
          6.438506052337055,
          8.004481142389686,
          6.880789438798616,
          7.725017168689392,
          6.338327092608489,
          7.0330473458423794,
          6.534259087408529,
          6.04984897842341,
          7.608482535482486,
          6.661844746270564,
          8.874722047983443,
          8.715214892205557,
          8.670720774639385,
          7.545744685665476,
          7.660981490032188,
          7.757646732239498,
          6.386862777779315,
          6.396869601606462,
          8.645682083882196,
          6.682786317789002,
          7.205865933658416,
          7.753027783177583,
          8.13413289820037,
          7.485452511912521,
          8.205550388858098,
          7.911373705949007,
          7.721411858932955,
          7.806493255160048,
          8.42566570723833,
          7.62325559278985,
          7.825074865497075,
          8.982399685302962,
          8.991409249193854,
          8.381073914562531,
          9.1485012488866,
          9.71530707554782,
          7.485478823854554,
          7.529110843150852,
          8.190180283069358,
          6.436646997413599,
          7.176373645023878,
          8.759747941755858,
          8.810914391032766,
          8.592013774688775,
          7.258669809688473,
          9.154267071405616,
          8.871743497547348
         ]
        },
        {
         "marker": {
          "color": "teal"
         },
         "mode": "lines+markers",
         "name": "IGM Severity 1",
         "type": "scatter",
         "x": [
          2
         ],
         "y": [
          6.769221180648266,
          8.024965294528458,
          8.617035532276542,
          7.990666364705812,
          7.535905905148728,
          8.339416162485728,
          6.577080375517056,
          7.023765170473661,
          10.208777910906958,
          7.901928412760845,
          7.540834443794464,
          7.754928910311202,
          7.509062005206054,
          7.277167291484207,
          7.298461253521608,
          6.280617439680586,
          5.755773163809996,
          7.612171899965616,
          8.587845642996363,
          7.866495303756613,
          7.624253803633136,
          6.179724066481518,
          8.205469316265962,
          7.297299781053412,
          7.201386906836994,
          5.970088084969319,
          5.647128269158276,
          8.405641844912118,
          7.367145773314498,
          8.429575928539057,
          8.62042653652843,
          9.26135784849405,
          7.327662114955961,
          7.318134439336404,
          6.613024852394396,
          9.226526416551907,
          6.844698944564204,
          8.2368522263214,
          8.634618089762975,
          4.83145252806462,
          7.6777865018054,
          7.963747079066509,
          9.005086433752043
         ]
        },
        {
         "marker": {
          "color": "teal"
         },
         "mode": "lines+markers",
         "name": "IGM Severity 1",
         "type": "scatter",
         "x": [
          3
         ],
         "y": [
          8.651372019351793,
          7.235091162097147,
          9.174787559670335,
          8.376834564800083,
          7.167768749365878,
          7.899967561918043,
          7.797742474994864,
          8.522756957792133,
          8.168079289451631,
          8.246051604723933,
          8.32925160219425,
          7.980955265112121,
          8.702797129630543,
          5.952554733489295,
          7.2004827668397,
          7.376596759484199,
          6.94065705814368,
          7.968672907027995,
          9.372152632421916,
          8.299956023754236,
          8.414202088303094,
          8.047902979432886,
          8.19745222652054,
          6.479839101907973,
          7.279405790222509,
          7.476792967275591,
          6.855092949567419,
          7.351809524605171,
          7.45267924698822,
          7.723323364678473,
          8.700948392305762,
          9.559146121177182,
          7.723387275742921,
          8.027879987549479,
          7.587501641936149,
          7.9151169084631,
          6.795177375191152,
          5.509116800414775,
          5.03809381700568,
          6.985910288893871,
          7.611015813096628,
          6.957652351913441,
          7.660317388130241,
          7.593294031468825,
          7.974772673443995,
          8.902613833337911,
          7.8858640057196,
          9.077375717534576,
          9.131663576637589,
          7.935704895581439,
          8.25052363144832,
          7.898991748622675,
          7.7727595141008194,
          8.667925392298518,
          8.574036245597847,
          6.608325185307701,
          7.488766615181437,
          7.826313946626116,
          8.920988997648138,
          8.48734951821257,
          8.977944617860908,
          8.556688660201855,
          7.16917204719999,
          6.179865046529965,
          9.185069340201869,
          7.744391817834973,
          8.296715472359462
         ]
        },
        {
         "marker": {
          "color": "orange"
         },
         "mode": "lines+markers",
         "name": "IGM Severity 2",
         "type": "scatter",
         "x": [
          1
         ],
         "y": [
          9.01897911799264,
          8.715673047149759,
          9.458804413830835,
          8.210910076914802,
          8.068714873262604,
          7.8785996923114,
          7.739885495840796,
          7.888066039904335,
          7.170441154458168,
          5.974923902272833,
          6.133733017669998,
          7.877803233797941,
          8.200588217914992,
          7.030069275300194,
          6.877959270568296,
          9.110235572006648,
          8.2102710872543,
          8.209815311463661,
          7.319918914810329,
          8.664226614474845,
          6.696260912098239,
          7.548960324935087,
          8.727034635460402,
          8.368932583165414,
          6.3634404556525626,
          7.439726544121967,
          7.7121395472127166,
          7.779479327262522,
          7.069462639081619,
          7.4969214703409905,
          7.864022724536984,
          8.336272180631795,
          8.151597473995952,
          7.506626866145891,
          7.425515171867274,
          7.39965932682602,
          7.054854302185496,
          7.57489107788511,
          7.286277684416682,
          6.512001565357528,
          8.835980516356797,
          7.861985613201487,
          7.849665434092341,
          7.80577668405293,
          8.110592731755736,
          8.061606015640285,
          8.58610562676959,
          8.71133465240665,
          7.023198780603182,
          8.089629765069965,
          8.297667276084498,
          7.15303762828357,
          8.141767577848256,
          4.936236690217132,
          8.774168487529339,
          7.643277231410998,
          8.623676671376357,
          8.592024880801606,
          8.84622160894258,
          7.6596695058758115,
          5.998794100490072,
          8.295537818970171,
          8.38400229895428,
          8.729320729076795,
          8.170376579990528,
          8.485996429329019,
          9.32786960242668,
          6.359111882455024,
          8.579959042753881
         ]
        },
        {
         "marker": {
          "color": "orange"
         },
         "mode": "lines+markers",
         "name": "IGM Severity 2",
         "type": "scatter",
         "x": [
          2
         ],
         "y": [
          9.940307389266724,
          6.442045677902714,
          7.426469354835164,
          5.405103223497525,
          7.048767131262397,
          5.988615121315375,
          7.857319605032917,
          7.447855873517428,
          7.065195523878297,
          8.383930883815736,
          6.9959230027361965,
          7.809790238117896,
          7.290371351576977,
          8.017002943899024,
          7.655256206824549,
          8.051935225787286,
          6.991939351799632,
          7.268500621158443,
          7.6472677581031165,
          7.394471595234994,
          7.948682192094939,
          7.900052300941114,
          6.674801624731233,
          7.105704461710755,
          8.518564794226611,
          7.219974760818082,
          7.910432780582619,
          7.296157629886847,
          7.8319817730132515,
          7.179172638634139,
          7.358004057708874,
          7.567431288590825,
          7.617026750062693,
          8.979359087106975,
          9.684873274172991,
          6.929866056470044,
          8.75266689597653,
          8.712171099782555,
          8.74331861192431,
          8.728344581972589,
          8.75643777081883,
          7.351221811550904,
          8.628374922742847,
          8.01239281193577,
          9.410348622898402,
          6.458115399676527,
          8.118653269468451
         ]
        },
        {
         "marker": {
          "color": "orange"
         },
         "mode": "lines+markers",
         "name": "IGM Severity 2",
         "type": "scatter",
         "x": [
          3
         ],
         "y": [
          7.709613449856294,
          7.719610185165725,
          7.240657532157361,
          7.880532834156855,
          8.535157057329748,
          6.992130326674654,
          8.256688478467144,
          7.373874858232424,
          6.812415455603737,
          7.621141560718216,
          7.194747287232335,
          7.17078075088746,
          6.644767967305439,
          7.493838296840885,
          6.625912340008814,
          7.75394308670606,
          8.073281145929313,
          8.283252798368613,
          8.78637211356677,
          7.540403252888722,
          7.523216020969562,
          6.40965496372437,
          7.355619815555247,
          8.998766142127083,
          7.664970703567366,
          5.997903410859421,
          7.362758603507586,
          8.775345231708775,
          8.889658012445146,
          6.8399222356754725,
          8.489179466920776,
          8.847000733870937,
          5.970633553563085,
          9.5461940101411,
          8.002851006147504,
          8.386645453336326,
          8.828721441573826,
          7.238614365702571,
          7.661546779635068,
          4.875971924459655,
          6.183355758762292,
          9.364289115034111,
          9.018148558891744,
          8.82604598613321
         ]
        },
        {
         "marker": {
          "color": "tomato"
         },
         "mode": "lines+markers",
         "name": "IGM Severity 3",
         "type": "scatter",
         "x": [
          1
         ],
         "y": [
          8.5901623370271
         ]
        },
        {
         "marker": {
          "color": "tomato"
         },
         "mode": "lines+markers",
         "name": "IGM Severity 3",
         "type": "scatter",
         "x": [
          2
         ],
         "y": [
          9.057993192332969
         ]
        },
        {
         "marker": {
          "color": "brown"
         },
         "mode": "lines+markers",
         "name": "IGM Severity 4",
         "type": "scatter",
         "x": [
          1
         ],
         "y": [
          7.757033258305614
         ]
        },
        {
         "marker": {
          "color": "brown"
         },
         "mode": "lines+markers",
         "name": "IGM Severity 4",
         "type": "scatter",
         "x": [
          3
         ],
         "y": [
          7.493488824248068
         ]
        },
        {
         "marker": {
          "color": "darkblue"
         },
         "mode": "lines+markers",
         "name": "IGM Severity 0",
         "type": "scatter",
         "x": [
          1
         ],
         "y": [
          7.662139131927243,
          8.34731200091739,
          7.856620795869583,
          7.426429493377162,
          7.948345884412162,
          7.1143299116444325,
          7.930441958894582,
          8.174244507490307,
          7.966695626013383,
          8.65415437082343,
          8.243771610623819,
          8.254811003846616,
          8.375854268320884,
          8.604356894515426,
          7.843336651238603,
          9.71457246598966,
          8.570613265408232,
          7.866166604593435,
          9.080678707166218,
          9.35127463202001,
          9.083381673471196,
          8.351836148982693
         ]
        },
        {
         "marker": {
          "color": "orange"
         },
         "mode": "lines+markers",
         "name": "IGM Severity 2",
         "type": "scatter",
         "x": [
          1
         ],
         "y": [
          8.4416467421941,
          8.67953982660505
         ]
        },
        {
         "marker": {
          "color": "orange"
         },
         "mode": "lines+markers",
         "name": "IGM Severity 2",
         "type": "scatter",
         "x": [
          2
         ],
         "y": [
          9.034723248297592,
          8.08775194412302,
          9.47304574730611
         ]
        },
        {
         "marker": {
          "color": "orange"
         },
         "mode": "lines+markers",
         "name": "IGM Severity 2",
         "type": "scatter",
         "x": [
          3
         ],
         "y": [
          9.76433864147946
         ]
        },
        {
         "marker": {
          "color": "orange"
         },
         "mode": "lines+markers",
         "name": "IGM Severity 2",
         "type": "scatter",
         "x": [
          4
         ],
         "y": [
          6.847462714062154,
          8.80034303143257
         ]
        },
        {
         "marker": {
          "color": "tomato"
         },
         "mode": "lines+markers",
         "name": "IGM Severity 3",
         "type": "scatter",
         "x": [
          1
         ],
         "y": [
          7.955533219555028,
          8.726774419382151,
          5.294845245398011,
          5.440007126760473,
          6.924139244639661,
          7.851718071555406,
          7.423911012408287,
          9.163864452344368,
          7.817248297018299
         ]
        },
        {
         "marker": {
          "color": "tomato"
         },
         "mode": "lines+markers",
         "name": "IGM Severity 3",
         "type": "scatter",
         "x": [
          2
         ],
         "y": [
          8.47419820090025,
          9.334783888527028,
          7.8478870913128,
          7.948192833786045,
          6.356219669443136,
          9.592232214865389,
          8.856768294286065,
          8.626377393116616,
          6.435316010712731
         ]
        },
        {
         "marker": {
          "color": "tomato"
         },
         "mode": "lines+markers",
         "name": "IGM Severity 3",
         "type": "scatter",
         "x": [
          3
         ],
         "y": [
          8.5477100492801,
          9.28253939720865,
          8.249884978353663,
          9.54326423694438,
          7.553813291948584,
          8.701273308857596,
          8.747030423776843,
          7.933890523909177
         ]
        },
        {
         "marker": {
          "color": "tomato"
         },
         "mode": "lines+markers",
         "name": "IGM Severity 3",
         "type": "scatter",
         "x": [
          4
         ],
         "y": [
          9.794299126459908,
          8.470250540181524,
          8.91165632983443,
          6.7047232704578885,
          8.802126998594487,
          8.695527099934365,
          8.076908306246668
         ]
        },
        {
         "marker": {
          "color": "brown"
         },
         "mode": "lines+markers",
         "name": "IGM Severity 4",
         "type": "scatter",
         "x": [
          1
         ],
         "y": [
          3.443338722457307,
          4.4919533900294,
          5.727563521774155,
          4.494736138977748,
          6.456359191368181,
          8.66605405986679,
          8.16834866044558,
          6.195971141292548,
          7.722717277418895,
          8.340287586360068
         ]
        },
        {
         "marker": {
          "color": "brown"
         },
         "mode": "lines+markers",
         "name": "IGM Severity 4",
         "type": "scatter",
         "x": [
          2
         ],
         "y": [
          5.364016987093159,
          7.258370457453999,
          7.770553971852814,
          5.627306079438025,
          8.032269313018626,
          7.903917290112298,
          6.021338691294799,
          8.388226020982241,
          4.816317394825544,
          8.471301674028458,
          8.818604766506683,
          8.155342878551307,
          6.207360293775323,
          5.505349798816826,
          7.305917057651665,
          6.065691302306347
         ]
        },
        {
         "marker": {
          "color": "brown"
         },
         "mode": "lines+markers",
         "name": "IGM Severity 4",
         "type": "scatter",
         "x": [
          3
         ],
         "y": [
          8.460904981145559,
          8.671946378200463,
          7.106293032046152,
          7.649841794741072,
          8.136164820230174,
          7.201422359561458,
          7.094320666290984,
          8.97225055072856,
          8.631627437793703,
          7.48476176538245,
          7.389491061461967,
          8.539814935038336,
          7.721806285563003
         ]
        },
        {
         "marker": {
          "color": "brown"
         },
         "mode": "lines+markers",
         "name": "IGM Severity 4",
         "type": "scatter",
         "x": [
          4
         ],
         "y": [
          4.672729493924368,
          7.325496945625402,
          9.075275309950456,
          9.80291268550651,
          8.636924789339957,
          5.410745047980305,
          8.332041144339545,
          8.051802926254492
         ]
        },
        {
         "marker": {
          "color": "darkblue"
         },
         "mode": "lines+markers",
         "name": "IGG Severity 0",
         "type": "scatter",
         "x": [
          1
         ],
         "y": [
          6.193058032838419,
          6.717871853805641,
          6.3159850302245255,
          5.816984073273274,
          5.876942913010653,
          5.773779047303736,
          5.917954969667636,
          6.469998325491324,
          6.0474038054149775,
          5.909858423327593,
          5.896454249685439,
          4.896780475197659,
          5.859456113231217,
          5.356666189743192,
          5.601784833313682,
          5.771994610986134,
          6.030933453194041,
          5.29038764110618,
          5.94586066212304,
          5.1680173872085895,
          5.011789532965061,
          3.7191227335283896,
          5.181113342664639,
          5.735744189480642,
          3.955422803684829,
          3.606472870668661,
          4.420394240927614,
          4.136078682106532,
          4.434753956078977,
          4.695920439055136,
          4.462673123084045,
          4.508108464099861,
          6.321030942695943,
          4.677194042128937,
          5.370357071430322,
          3.279145943536101,
          5.111867385760199,
          3.7602700792941,
          4.971737311631809,
          5.258805269227596,
          4.0420224185451215,
          5.218234040421695,
          5.990516540561273,
          5.926539711884733,
          4.555233840523728,
          3.9074265664677794,
          5.711618931410373,
          4.979069187162259,
          6.517494069394858,
          6.580625370229995,
          5.497817246639967,
          6.132553430652292,
          6.759576472157537,
          5.752550005885571,
          5.495442619529651,
          5.643201151363965,
          5.787673524141302,
          5.5153615913037335,
          5.022189066533281
         ]
        },
        {
         "marker": {
          "color": "darkblue"
         },
         "mode": "lines+markers",
         "name": "IGG Severity 0",
         "type": "scatter",
         "x": [
          2
         ],
         "y": [
          5.978861901203812,
          6.4662229015826185
         ]
        },
        {
         "marker": {
          "color": "teal"
         },
         "mode": "lines+markers",
         "name": "IGG Severity 1",
         "type": "scatter",
         "x": [
          1
         ],
         "y": [
          6.727982986912968,
          6.640316064074672,
          2.733632036980419,
          6.167584845107037,
          6.228722184046077,
          6.811048013961943,
          4.279725964658922,
          6.106447790536355,
          6.260965181223813,
          5.856873240131919,
          5.728418969608647,
          5.717586437286472,
          6.037633890710808,
          3.7201763809580575,
          5.12115112840943,
          4.662929413302105,
          6.561189954879457,
          4.875461063018109,
          6.3159106221994685,
          5.6529861520162985,
          5.047836299359512,
          6.38400772555247,
          5.395426213213964,
          5.812987599533919,
          5.837902925465986,
          5.25779755134659,
          5.104623753942893,
          5.054028608219245,
          5.170672357296795,
          5.634019743722609,
          5.278987590228491,
          5.367552026776651,
          4.811252175680063,
          4.712648772249081,
          5.801079813657558,
          5.598003298592088,
          5.856396937525672,
          6.253642720607306,
          4.599841142114882,
          6.344786881597551,
          5.032952708521775,
          6.338910621455035,
          5.607179540637677,
          6.358428921796876,
          4.717814124256099,
          4.804383026188717,
          6.286706746018544,
          4.973770737730449,
          6.377998943906537,
          5.265284716857212,
          5.698099379800873,
          5.6747019794293765,
          5.26132000197524,
          5.750371186154139,
          6.532692308077417,
          6.005035181528149,
          6.231757696859481,
          4.723741210392159,
          5.1436648396902,
          5.43672768859867,
          6.18179561109304,
          5.33475680950469,
          5.691962546324128,
          6.027729815562157,
          6.161047713342283,
          6.071120858359145,
          6.869282410678337,
          5.363684320647369,
          5.026087697894397,
          5.606089906195885,
          5.529326571749021,
          6.497692202512706,
          4.255779647358131,
          6.2296151859793145,
          5.338281233293106,
          5.9604465666468895,
          5.819652316740683,
          6.22495813290011,
          5.409392704023436,
          6.32505199876878,
          6.21098602875263,
          6.0287197427177,
          5.667725436033165,
          7.339448619638055,
          6.4009160575853015
         ]
        },
        {
         "marker": {
          "color": "teal"
         },
         "mode": "lines+markers",
         "name": "IGG Severity 1",
         "type": "scatter",
         "x": [
          2
         ],
         "y": [
          5.104861513913926,
          6.086599692370437,
          5.693070938293685,
          5.302044814142816,
          5.868245276209427,
          5.854990659086701,
          4.777718975857604,
          5.1911952069377,
          6.536409913771416,
          6.457949563196187,
          5.530357131341833,
          5.263940506494801,
          5.167687980694535,
          5.0457265009953085,
          3.0078048452896984,
          6.215915743378583,
          4.063172324005981,
          5.395830062777573,
          5.324758301501819,
          6.058900750418958,
          5.73658978648262,
          5.33631875915716,
          5.54998017397953,
          5.084545896300949,
          3.523387248819596,
          4.268140470428993,
          4.168426161356193,
          6.402001178914202,
          6.410769472688029,
          6.947610695531244,
          5.817652976768506,
          6.077730946336114,
          5.321610342825636,
          5.715178582186738,
          4.59362845489578,
          6.189282724769619,
          5.402602890856111,
          6.0295209973044,
          6.5714906860312166,
          3.67734768739706,
          6.051520969131559,
          5.913158202244016,
          6.107794375128026
         ]
        },
        {
         "marker": {
          "color": "teal"
         },
         "mode": "lines+markers",
         "name": "IGG Severity 1",
         "type": "scatter",
         "x": [
          3
         ],
         "y": [
          6.672047968206821,
          6.427033291611796,
          5.550152879102799,
          6.141177219525724,
          5.731771131826099,
          5.4811420828390345,
          5.52233337029704,
          6.543802847608652,
          6.579080644175449,
          5.76686955534748,
          5.799995907976353,
          5.261596330188339,
          5.697316330405804,
          2.8783063285016373,
          5.603911359369616,
          4.453675908895161,
          5.309061468628451,
          5.215343896607707,
          5.370050247275352,
          5.841703411872313,
          6.056581660464654,
          5.392008749628412,
          5.621363528341453,
          3.757734206248473,
          4.709890969335274,
          5.772570431663462,
          4.970526444340845,
          5.634232186684989,
          5.860027195320479,
          5.563025376333453,
          5.2386961181199405,
          6.231108120338144,
          5.9026761528600735,
          6.86822020195773,
          6.002022733406926,
          5.387243283927952,
          6.08587562481789,
          3.5895995211762206,
          3.571943828037168,
          5.862663037780865,
          5.734866601489034,
          5.776864996333423,
          5.34814352323235,
          5.356395098698564,
          5.344205047479649,
          5.804031715806191,
          6.628870188676876,
          5.352023970689686,
          5.887616888671027,
          5.758717571666383,
          5.479842389609117,
          5.213191440725893,
          5.960716524136417,
          6.760177478360565,
          6.295088251857159,
          4.903421244055824,
          5.4358480485976575,
          5.363786208865164,
          6.035523311748572,
          5.820095785170088,
          5.706109099986731,
          5.718033839798226,
          4.570327530703742,
          4.5544552190157575,
          6.155975894760277,
          6.213167086358732,
          5.439732827712206
         ]
        },
        {
         "marker": {
          "color": "orange"
         },
         "mode": "lines+markers",
         "name": "IGG Severity 2",
         "type": "scatter",
         "x": [
          1
         ],
         "y": [
          6.4405641677945376,
          6.348930194315248,
          5.543658322668781,
          5.1267866586125725,
          6.322909283075668,
          5.105275157024948,
          5.454173233549474,
          5.979455714234413,
          5.030831255740688,
          4.779778372870051,
          3.306314188968249,
          5.747710667208978,
          5.49606011291928,
          4.800472308660606,
          5.686948100135599,
          6.8027904314005445,
          6.830391075823404,
          6.06498288098859,
          5.482911625120986,
          6.402194551083351,
          5.618513754528649,
          5.526046213867471,
          6.113710315716006,
          5.998561214911152,
          5.245169446763368,
          6.270700448186278,
          4.8877971000252405,
          5.845569961855357,
          4.829128761684493,
          5.104889727342304,
          5.894471103622322,
          5.843297428754803,
          6.438131656096644,
          5.503547803430068,
          5.77965445113622,
          5.56601419954499,
          6.381930360030882,
          6.697511891603812,
          5.17177186620154,
          5.728089254327024,
          6.589975551765512,
          6.0955560114645815,
          5.319342229875423,
          5.4699812981164975,
          5.537830622669922,
          6.813152575649472,
          6.566672015503201,
          6.159082329710751,
          4.839352454343479,
          4.9848819032912814,
          6.795512408065039,
          5.293738206821973,
          5.744504899962408,
          5.400996330772332,
          5.914851117787067,
          6.396060397978828,
          6.780928162802857,
          6.161479441942952,
          5.676818975972726,
          6.770796667713167,
          5.197639545561442,
          6.487113552384814,
          6.464160036152741,
          6.647960569522809,
          6.586275884250965,
          6.522333726526447,
          6.097026265855643,
          4.365334954934885,
          6.9067040556209545
         ]
        },
        {
         "marker": {
          "color": "orange"
         },
         "mode": "lines+markers",
         "name": "IGG Severity 2",
         "type": "scatter",
         "x": [
          2
         ],
         "y": [
          6.157224453485413,
          5.311976709064633,
          5.1578887165359255,
          6.059634859482522,
          5.072981192563328,
          4.411300956875948,
          6.075880244976054,
          4.6088077331525215,
          5.618055765293778,
          5.839147132705816,
          3.535038708930528,
          5.697252312374371,
          5.11063786450803,
          5.443093010363507,
          6.049565809541564,
          6.185234152813735,
          4.628570469661475,
          5.38273361725294,
          5.1566036575063805,
          5.358015560953481,
          6.124039980713724,
          5.758100196560305,
          5.400460234128667,
          6.377704416262873,
          6.095006611401496,
          5.395595819566167,
          5.154439033591509,
          5.207291022858223,
          3.399768498262556,
          7.002078063478528,
          5.779900280581214,
          4.784259728146987,
          6.840215637611528,
          5.544464226368696,
          6.490041484811109,
          6.413517898281098,
          5.650907423286223,
          6.499690717419213,
          4.776384030319242,
          6.473858558334798,
          4.869698705546249,
          6.63003097025748,
          6.780591666759827,
          3.112448032405681,
          6.007788828085538,
          5.44617552768127,
          6.761581370326199
         ]
        },
        {
         "marker": {
          "color": "orange"
         },
         "mode": "lines+markers",
         "name": "IGG Severity 2",
         "type": "scatter",
         "x": [
          3
         ],
         "y": [
          6.080859954093636,
          5.571827149320511,
          6.479597347278513,
          5.71299626861204,
          5.598068992322769,
          5.106736638572913,
          6.072579842804276,
          6.3630206710613,
          5.689472902171874,
          5.656995077293932,
          5.126154806472615,
          5.469855872402437,
          5.352190030167969,
          5.351681003872605,
          5.194673426527154,
          5.173010588431751,
          6.033805206173449,
          4.809826301619091,
          5.650607209770572,
          5.765785303572205,
          5.799627805820834,
          3.665950982905053,
          5.426976573764004,
          5.513799692595717,
          5.060006904170009,
          4.374881990078445,
          5.247715903420676,
          6.291018306915519,
          5.836849614717104,
          5.827864553529363,
          6.767263430272078,
          6.391924646708812,
          6.42009276504838,
          6.30621685791414,
          6.04912496270356,
          5.597334928776709,
          6.437593320659735,
          5.537419335036359,
          4.779340519099523,
          2.8657034203478973,
          5.289974180550589,
          6.527444769269685,
          6.7443344030611065,
          6.36183322372854
         ]
        },
        {
         "marker": {
          "color": "tomato"
         },
         "mode": "lines+markers",
         "name": "IGG Severity 3",
         "type": "scatter",
         "x": [
          1
         ],
         "y": [
          6.034889991299728
         ]
        },
        {
         "marker": {
          "color": "tomato"
         },
         "mode": "lines+markers",
         "name": "IGG Severity 3",
         "type": "scatter",
         "x": [
          2
         ],
         "y": [
          6.425014820068206
         ]
        },
        {
         "marker": {
          "color": "brown"
         },
         "mode": "lines+markers",
         "name": "IGG Severity 4",
         "type": "scatter",
         "x": [
          1
         ],
         "y": [
          5.736667934282215
         ]
        },
        {
         "marker": {
          "color": "brown"
         },
         "mode": "lines+markers",
         "name": "IGG Severity 4",
         "type": "scatter",
         "x": [
          3
         ],
         "y": [
          5.285125424001593
         ]
        },
        {
         "marker": {
          "color": "darkblue"
         },
         "mode": "lines+markers",
         "name": "IGG Severity 0",
         "type": "scatter",
         "x": [
          1
         ],
         "y": [
          6.070235635083509,
          5.871689922113368,
          4.961955102667262,
          5.492646653613487,
          4.978291626780091,
          4.901068038849346,
          4.212053308291229,
          5.530278696903556,
          5.149912292767826,
          5.139364749804442,
          4.70913904668343,
          4.66162077782111,
          4.948338029762062,
          6.023813736754764,
          6.070241583546396,
          6.984098720375586,
          6.271660483971434,
          5.303232472481758,
          5.972012623085214,
          6.51930497945972,
          5.839773872162244,
          6.241207706592717
         ]
        },
        {
         "marker": {
          "color": "orange"
         },
         "mode": "lines+markers",
         "name": "IGG Severity 2",
         "type": "scatter",
         "x": [
          1
         ],
         "y": [
          5.547574069874434,
          5.847541714647775
         ]
        },
        {
         "marker": {
          "color": "orange"
         },
         "mode": "lines+markers",
         "name": "IGG Severity 2",
         "type": "scatter",
         "x": [
          2
         ],
         "y": [
          5.977907863126693,
          6.691727052611333,
          6.412390389890652
         ]
        },
        {
         "marker": {
          "color": "orange"
         },
         "mode": "lines+markers",
         "name": "IGG Severity 2",
         "type": "scatter",
         "x": [
          3
         ],
         "y": [
          6.537117495275265
         ]
        },
        {
         "marker": {
          "color": "orange"
         },
         "mode": "lines+markers",
         "name": "IGG Severity 2",
         "type": "scatter",
         "x": [
          4
         ],
         "y": [
          4.985045046935227,
          6.34555251403549
         ]
        },
        {
         "marker": {
          "color": "tomato"
         },
         "mode": "lines+markers",
         "name": "IGG Severity 3",
         "type": "scatter",
         "x": [
          1
         ],
         "y": [
          5.945678012206287,
          6.461071896646824,
          5.658680717645432,
          4.190424566944391,
          5.531594583381949,
          4.630778095003548,
          6.1598597370575385,
          5.2345979040378685,
          6.551355159900392
         ]
        },
        {
         "marker": {
          "color": "tomato"
         },
         "mode": "lines+markers",
         "name": "IGG Severity 3",
         "type": "scatter",
         "x": [
          2
         ],
         "y": [
          5.564989570104548,
          6.295795587582952,
          6.012224427975296,
          6.261872947166472,
          6.639059089724404,
          5.789974888906484,
          6.039977135353887,
          5.573052804930103,
          6.069629914236363
         ]
        },
        {
         "marker": {
          "color": "tomato"
         },
         "mode": "lines+markers",
         "name": "IGG Severity 3",
         "type": "scatter",
         "x": [
          3
         ],
         "y": [
          5.801787411600215,
          5.962071237965099,
          6.483452122657529,
          6.271010220658931,
          5.565591453450886,
          5.266246186333981,
          6.350667710679252,
          5.440598128214186
         ]
        },
        {
         "marker": {
          "color": "tomato"
         },
         "mode": "lines+markers",
         "name": "IGG Severity 3",
         "type": "scatter",
         "x": [
          4
         ],
         "y": [
          6.272579182980429,
          6.511193802472134,
          6.339771503235377,
          5.48920736051824,
          5.57600658694932,
          6.974852493774947,
          5.025685505811608
         ]
        },
        {
         "marker": {
          "color": "brown"
         },
         "mode": "lines+markers",
         "name": "IGG Severity 4",
         "type": "scatter",
         "x": [
          1
         ],
         "y": [
          3.1587547206623805,
          4.331173686768286,
          5.463285267047183,
          2.5927517482826654,
          6.743173141763109,
          6.002249841551215,
          6.070998656229127,
          5.57870193329069,
          5.50224579381369,
          6.23550234551119
         ]
        },
        {
         "marker": {
          "color": "brown"
         },
         "mode": "lines+markers",
         "name": "IGG Severity 4",
         "type": "scatter",
         "x": [
          2
         ],
         "y": [
          4.970513262613966,
          5.969130337985199,
          6.657042107436095,
          5.576636582758942,
          3.908310841500129,
          5.708812048069252,
          6.2947742059719625,
          6.579750853440704,
          4.441541139169204,
          5.313149034077924,
          6.142725650078055,
          5.536675995090033,
          4.987249285026134,
          5.618297548336597,
          6.09643476670321,
          5.716830777548431
         ]
        },
        {
         "marker": {
          "color": "brown"
         },
         "mode": "lines+markers",
         "name": "IGG Severity 4",
         "type": "scatter",
         "x": [
          3
         ],
         "y": [
          5.651761266366453,
          5.436667477875053,
          6.250263993874766,
          5.462535062805353,
          5.750987419841088,
          5.846829715756506,
          4.777265016217766,
          5.2676162269184434,
          5.730659026036115,
          4.721168426442798,
          6.83490456796959,
          5.909121405433486,
          6.032856781596648
         ]
        },
        {
         "marker": {
          "color": "brown"
         },
         "mode": "lines+markers",
         "name": "IGG Severity 4",
         "type": "scatter",
         "x": [
          4
         ],
         "y": [
          4.807708664342483,
          6.855706249045034,
          5.615850468384784,
          6.476862834233657,
          5.936966107471006,
          4.129963405612889,
          6.780240200779903,
          5.9270469782686055
         ]
        }
       ],
       "layout": {
        "height": 500,
        "plot_bgcolor": "rgba(255, 255, 255, 1)",
        "template": {
         "data": {
          "bar": [
           {
            "error_x": {
             "color": "#2a3f5f"
            },
            "error_y": {
             "color": "#2a3f5f"
            },
            "marker": {
             "line": {
              "color": "#E5ECF6",
              "width": 0.5
             },
             "pattern": {
              "fillmode": "overlay",
              "size": 10,
              "solidity": 0.2
             }
            },
            "type": "bar"
           }
          ],
          "barpolar": [
           {
            "marker": {
             "line": {
              "color": "#E5ECF6",
              "width": 0.5
             },
             "pattern": {
              "fillmode": "overlay",
              "size": 10,
              "solidity": 0.2
             }
            },
            "type": "barpolar"
           }
          ],
          "carpet": [
           {
            "aaxis": {
             "endlinecolor": "#2a3f5f",
             "gridcolor": "white",
             "linecolor": "white",
             "minorgridcolor": "white",
             "startlinecolor": "#2a3f5f"
            },
            "baxis": {
             "endlinecolor": "#2a3f5f",
             "gridcolor": "white",
             "linecolor": "white",
             "minorgridcolor": "white",
             "startlinecolor": "#2a3f5f"
            },
            "type": "carpet"
           }
          ],
          "choropleth": [
           {
            "colorbar": {
             "outlinewidth": 0,
             "ticks": ""
            },
            "type": "choropleth"
           }
          ],
          "contour": [
           {
            "colorbar": {
             "outlinewidth": 0,
             "ticks": ""
            },
            "colorscale": [
             [
              0,
              "#0d0887"
             ],
             [
              0.1111111111111111,
              "#46039f"
             ],
             [
              0.2222222222222222,
              "#7201a8"
             ],
             [
              0.3333333333333333,
              "#9c179e"
             ],
             [
              0.4444444444444444,
              "#bd3786"
             ],
             [
              0.5555555555555556,
              "#d8576b"
             ],
             [
              0.6666666666666666,
              "#ed7953"
             ],
             [
              0.7777777777777778,
              "#fb9f3a"
             ],
             [
              0.8888888888888888,
              "#fdca26"
             ],
             [
              1,
              "#f0f921"
             ]
            ],
            "type": "contour"
           }
          ],
          "contourcarpet": [
           {
            "colorbar": {
             "outlinewidth": 0,
             "ticks": ""
            },
            "type": "contourcarpet"
           }
          ],
          "heatmap": [
           {
            "colorbar": {
             "outlinewidth": 0,
             "ticks": ""
            },
            "colorscale": [
             [
              0,
              "#0d0887"
             ],
             [
              0.1111111111111111,
              "#46039f"
             ],
             [
              0.2222222222222222,
              "#7201a8"
             ],
             [
              0.3333333333333333,
              "#9c179e"
             ],
             [
              0.4444444444444444,
              "#bd3786"
             ],
             [
              0.5555555555555556,
              "#d8576b"
             ],
             [
              0.6666666666666666,
              "#ed7953"
             ],
             [
              0.7777777777777778,
              "#fb9f3a"
             ],
             [
              0.8888888888888888,
              "#fdca26"
             ],
             [
              1,
              "#f0f921"
             ]
            ],
            "type": "heatmap"
           }
          ],
          "heatmapgl": [
           {
            "colorbar": {
             "outlinewidth": 0,
             "ticks": ""
            },
            "colorscale": [
             [
              0,
              "#0d0887"
             ],
             [
              0.1111111111111111,
              "#46039f"
             ],
             [
              0.2222222222222222,
              "#7201a8"
             ],
             [
              0.3333333333333333,
              "#9c179e"
             ],
             [
              0.4444444444444444,
              "#bd3786"
             ],
             [
              0.5555555555555556,
              "#d8576b"
             ],
             [
              0.6666666666666666,
              "#ed7953"
             ],
             [
              0.7777777777777778,
              "#fb9f3a"
             ],
             [
              0.8888888888888888,
              "#fdca26"
             ],
             [
              1,
              "#f0f921"
             ]
            ],
            "type": "heatmapgl"
           }
          ],
          "histogram": [
           {
            "marker": {
             "pattern": {
              "fillmode": "overlay",
              "size": 10,
              "solidity": 0.2
             }
            },
            "type": "histogram"
           }
          ],
          "histogram2d": [
           {
            "colorbar": {
             "outlinewidth": 0,
             "ticks": ""
            },
            "colorscale": [
             [
              0,
              "#0d0887"
             ],
             [
              0.1111111111111111,
              "#46039f"
             ],
             [
              0.2222222222222222,
              "#7201a8"
             ],
             [
              0.3333333333333333,
              "#9c179e"
             ],
             [
              0.4444444444444444,
              "#bd3786"
             ],
             [
              0.5555555555555556,
              "#d8576b"
             ],
             [
              0.6666666666666666,
              "#ed7953"
             ],
             [
              0.7777777777777778,
              "#fb9f3a"
             ],
             [
              0.8888888888888888,
              "#fdca26"
             ],
             [
              1,
              "#f0f921"
             ]
            ],
            "type": "histogram2d"
           }
          ],
          "histogram2dcontour": [
           {
            "colorbar": {
             "outlinewidth": 0,
             "ticks": ""
            },
            "colorscale": [
             [
              0,
              "#0d0887"
             ],
             [
              0.1111111111111111,
              "#46039f"
             ],
             [
              0.2222222222222222,
              "#7201a8"
             ],
             [
              0.3333333333333333,
              "#9c179e"
             ],
             [
              0.4444444444444444,
              "#bd3786"
             ],
             [
              0.5555555555555556,
              "#d8576b"
             ],
             [
              0.6666666666666666,
              "#ed7953"
             ],
             [
              0.7777777777777778,
              "#fb9f3a"
             ],
             [
              0.8888888888888888,
              "#fdca26"
             ],
             [
              1,
              "#f0f921"
             ]
            ],
            "type": "histogram2dcontour"
           }
          ],
          "mesh3d": [
           {
            "colorbar": {
             "outlinewidth": 0,
             "ticks": ""
            },
            "type": "mesh3d"
           }
          ],
          "parcoords": [
           {
            "line": {
             "colorbar": {
              "outlinewidth": 0,
              "ticks": ""
             }
            },
            "type": "parcoords"
           }
          ],
          "pie": [
           {
            "automargin": true,
            "type": "pie"
           }
          ],
          "scatter": [
           {
            "fillpattern": {
             "fillmode": "overlay",
             "size": 10,
             "solidity": 0.2
            },
            "type": "scatter"
           }
          ],
          "scatter3d": [
           {
            "line": {
             "colorbar": {
              "outlinewidth": 0,
              "ticks": ""
             }
            },
            "marker": {
             "colorbar": {
              "outlinewidth": 0,
              "ticks": ""
             }
            },
            "type": "scatter3d"
           }
          ],
          "scattercarpet": [
           {
            "marker": {
             "colorbar": {
              "outlinewidth": 0,
              "ticks": ""
             }
            },
            "type": "scattercarpet"
           }
          ],
          "scattergeo": [
           {
            "marker": {
             "colorbar": {
              "outlinewidth": 0,
              "ticks": ""
             }
            },
            "type": "scattergeo"
           }
          ],
          "scattergl": [
           {
            "marker": {
             "colorbar": {
              "outlinewidth": 0,
              "ticks": ""
             }
            },
            "type": "scattergl"
           }
          ],
          "scattermapbox": [
           {
            "marker": {
             "colorbar": {
              "outlinewidth": 0,
              "ticks": ""
             }
            },
            "type": "scattermapbox"
           }
          ],
          "scatterpolar": [
           {
            "marker": {
             "colorbar": {
              "outlinewidth": 0,
              "ticks": ""
             }
            },
            "type": "scatterpolar"
           }
          ],
          "scatterpolargl": [
           {
            "marker": {
             "colorbar": {
              "outlinewidth": 0,
              "ticks": ""
             }
            },
            "type": "scatterpolargl"
           }
          ],
          "scatterternary": [
           {
            "marker": {
             "colorbar": {
              "outlinewidth": 0,
              "ticks": ""
             }
            },
            "type": "scatterternary"
           }
          ],
          "surface": [
           {
            "colorbar": {
             "outlinewidth": 0,
             "ticks": ""
            },
            "colorscale": [
             [
              0,
              "#0d0887"
             ],
             [
              0.1111111111111111,
              "#46039f"
             ],
             [
              0.2222222222222222,
              "#7201a8"
             ],
             [
              0.3333333333333333,
              "#9c179e"
             ],
             [
              0.4444444444444444,
              "#bd3786"
             ],
             [
              0.5555555555555556,
              "#d8576b"
             ],
             [
              0.6666666666666666,
              "#ed7953"
             ],
             [
              0.7777777777777778,
              "#fb9f3a"
             ],
             [
              0.8888888888888888,
              "#fdca26"
             ],
             [
              1,
              "#f0f921"
             ]
            ],
            "type": "surface"
           }
          ],
          "table": [
           {
            "cells": {
             "fill": {
              "color": "#EBF0F8"
             },
             "line": {
              "color": "white"
             }
            },
            "header": {
             "fill": {
              "color": "#C8D4E3"
             },
             "line": {
              "color": "white"
             }
            },
            "type": "table"
           }
          ]
         },
         "layout": {
          "annotationdefaults": {
           "arrowcolor": "#2a3f5f",
           "arrowhead": 0,
           "arrowwidth": 1
          },
          "autotypenumbers": "strict",
          "coloraxis": {
           "colorbar": {
            "outlinewidth": 0,
            "ticks": ""
           }
          },
          "colorscale": {
           "diverging": [
            [
             0,
             "#8e0152"
            ],
            [
             0.1,
             "#c51b7d"
            ],
            [
             0.2,
             "#de77ae"
            ],
            [
             0.3,
             "#f1b6da"
            ],
            [
             0.4,
             "#fde0ef"
            ],
            [
             0.5,
             "#f7f7f7"
            ],
            [
             0.6,
             "#e6f5d0"
            ],
            [
             0.7,
             "#b8e186"
            ],
            [
             0.8,
             "#7fbc41"
            ],
            [
             0.9,
             "#4d9221"
            ],
            [
             1,
             "#276419"
            ]
           ],
           "sequential": [
            [
             0,
             "#0d0887"
            ],
            [
             0.1111111111111111,
             "#46039f"
            ],
            [
             0.2222222222222222,
             "#7201a8"
            ],
            [
             0.3333333333333333,
             "#9c179e"
            ],
            [
             0.4444444444444444,
             "#bd3786"
            ],
            [
             0.5555555555555556,
             "#d8576b"
            ],
            [
             0.6666666666666666,
             "#ed7953"
            ],
            [
             0.7777777777777778,
             "#fb9f3a"
            ],
            [
             0.8888888888888888,
             "#fdca26"
            ],
            [
             1,
             "#f0f921"
            ]
           ],
           "sequentialminus": [
            [
             0,
             "#0d0887"
            ],
            [
             0.1111111111111111,
             "#46039f"
            ],
            [
             0.2222222222222222,
             "#7201a8"
            ],
            [
             0.3333333333333333,
             "#9c179e"
            ],
            [
             0.4444444444444444,
             "#bd3786"
            ],
            [
             0.5555555555555556,
             "#d8576b"
            ],
            [
             0.6666666666666666,
             "#ed7953"
            ],
            [
             0.7777777777777778,
             "#fb9f3a"
            ],
            [
             0.8888888888888888,
             "#fdca26"
            ],
            [
             1,
             "#f0f921"
            ]
           ]
          },
          "colorway": [
           "#636efa",
           "#EF553B",
           "#00cc96",
           "#ab63fa",
           "#FFA15A",
           "#19d3f3",
           "#FF6692",
           "#B6E880",
           "#FF97FF",
           "#FECB52"
          ],
          "font": {
           "color": "#2a3f5f"
          },
          "geo": {
           "bgcolor": "white",
           "lakecolor": "white",
           "landcolor": "#E5ECF6",
           "showlakes": true,
           "showland": true,
           "subunitcolor": "white"
          },
          "hoverlabel": {
           "align": "left"
          },
          "hovermode": "closest",
          "mapbox": {
           "style": "light"
          },
          "paper_bgcolor": "white",
          "plot_bgcolor": "#E5ECF6",
          "polar": {
           "angularaxis": {
            "gridcolor": "white",
            "linecolor": "white",
            "ticks": ""
           },
           "bgcolor": "#E5ECF6",
           "radialaxis": {
            "gridcolor": "white",
            "linecolor": "white",
            "ticks": ""
           }
          },
          "scene": {
           "xaxis": {
            "backgroundcolor": "#E5ECF6",
            "gridcolor": "white",
            "gridwidth": 2,
            "linecolor": "white",
            "showbackground": true,
            "ticks": "",
            "zerolinecolor": "white"
           },
           "yaxis": {
            "backgroundcolor": "#E5ECF6",
            "gridcolor": "white",
            "gridwidth": 2,
            "linecolor": "white",
            "showbackground": true,
            "ticks": "",
            "zerolinecolor": "white"
           },
           "zaxis": {
            "backgroundcolor": "#E5ECF6",
            "gridcolor": "white",
            "gridwidth": 2,
            "linecolor": "white",
            "showbackground": true,
            "ticks": "",
            "zerolinecolor": "white"
           }
          },
          "shapedefaults": {
           "line": {
            "color": "#2a3f5f"
           }
          },
          "ternary": {
           "aaxis": {
            "gridcolor": "white",
            "linecolor": "white",
            "ticks": ""
           },
           "baxis": {
            "gridcolor": "white",
            "linecolor": "white",
            "ticks": ""
           },
           "bgcolor": "#E5ECF6",
           "caxis": {
            "gridcolor": "white",
            "linecolor": "white",
            "ticks": ""
           }
          },
          "title": {
           "x": 0.05
          },
          "xaxis": {
           "automargin": true,
           "gridcolor": "white",
           "linecolor": "white",
           "ticks": "",
           "title": {
            "standoff": 15
           },
           "zerolinecolor": "white",
           "zerolinewidth": 2
          },
          "yaxis": {
           "automargin": true,
           "gridcolor": "white",
           "linecolor": "white",
           "ticks": "",
           "title": {
            "standoff": 15
           },
           "zerolinecolor": "white",
           "zerolinewidth": 2
          }
         }
        },
        "title": {
         "text": "Time point comparison of BCR_HC 01"
        },
        "width": 1500,
        "xaxis": {
         "title": {
          "text": "Time Point"
         }
        },
        "yaxis": {
         "gridcolor": "lightgray",
         "range": [
          2,
          12
         ],
         "tickfont": {
          "size": 15
         },
         "title": {
          "font": {
           "size": 20
          },
          "text": "Shannon Diversity"
         }
        }
       }
      }
     },
     "metadata": {},
     "output_type": "display_data"
    }
   ],
   "source": [
    "### Type별로 나누어서 Severity로 나눈 후 다시 Time_point로 나누어서 boxplot을 그림\n",
    "### x축은 time point로 나누어서 lineplot을 그림\n",
    "### y축은 shannon diversity\n",
    "### 색은 Severity로 나눔\n",
    "### data는 df, df2 함께 사용(BCRHC01, BCRHC02 합쳐서 사용)\n",
    "\n",
    "\n",
    "def shannon_lineplot(df, df2, title, detect):\n",
    "    # Severity에 따른 색상 설정\n",
    "    severity_colors = {0: 'darkblue', 1: 'teal', 2: 'orange', 3: 'tomato', 4: 'brown', 5: 'black'}\n",
    "            \n",
    "    fig = go.Figure()\n",
    "            \n",
    "    if detect == 'HC':\n",
    "        Typelist = ['IGM', 'IGG']\n",
    "    elif detect == 'LC':\n",
    "        Typelist = ['IGK', 'IGL']\n",
    "    else:\n",
    "        Typelist = ['TRA', 'TRB']\n",
    "            \n",
    "    TimePointList = [0, 1, 2, 3, 4, 5]\n",
    "            \n",
    "    for t in Typelist:\n",
    "        for df_sample in [df, df2]:\n",
    "            for severity in severity_colors:\n",
    "                for time_point in TimePointList:\n",
    "                    temp_severity = df_sample[(df_sample['Type'] == t) & (df_sample['Severity'] == severity) & (df_sample['Time_point'] == time_point)]\n",
    "                    if not temp_severity.empty:\n",
    "                        fig.add_trace(go.Scatter(x=[time_point], y=temp_severity['Shannon_diversity'], name=f'{t} Severity {severity}', mode='lines+markers', marker=dict(color=severity_colors[severity])))\n",
    "                            \n",
    "    fig.update_layout(title=title, xaxis_title='Time Point', yaxis_title='Shannon Diversity', yaxis_tickfont_size=15, yaxis_titlefont_size=20,\n",
    "                                plot_bgcolor='rgba(255, 255, 255, 1)', yaxis=dict(gridcolor='lightgray',range=[2,12]), width=1500, height=500)\n",
    "\n",
    "    fig.show()\n",
    "            \n",
    "shannon_lineplot(trim_BCRHC01, trim_BCRHC02, 'Time point comparison of BCR_HC 01', 'HC')"
   ]
  },
  {
   "cell_type": "code",
   "execution_count": 196,
   "metadata": {},
   "outputs": [
    {
     "data": {
      "application/vnd.plotly.v1+json": {
       "config": {
        "plotlyServerURL": "https://plot.ly"
       },
       "data": [
        {
         "marker": {
          "color": "darkblue"
         },
         "name": "Normal: 0",
         "type": "box",
         "y": [
          1,
          2,
          3,
          4,
          5
         ]
        },
        {
         "marker": {
          "color": "teal"
         },
         "name": "Mild: 1",
         "type": "box",
         "y": [
          1,
          2,
          3,
          4,
          5
         ]
        },
        {
         "marker": {
          "color": "orange"
         },
         "name": "Moderate: 2",
         "type": "box",
         "y": [
          1,
          2,
          3,
          4,
          5
         ]
        },
        {
         "marker": {
          "color": "tomato"
         },
         "name": "Severe: 3",
         "type": "box",
         "y": [
          1,
          2,
          3,
          4,
          5
         ]
        },
        {
         "marker": {
          "color": "brown"
         },
         "name": "Critical: 4",
         "type": "box",
         "y": [
          1,
          2,
          3,
          4,
          5
         ]
        },
        {
         "marker": {
          "color": "black"
         },
         "name": "Death: 5",
         "type": "box",
         "y": [
          1,
          2,
          3,
          4,
          5
         ]
        }
       ],
       "layout": {
        "legend": {
         "font": {
          "size": 15
         },
         "x": 0.98,
         "xanchor": "right",
         "y": 0.02,
         "yanchor": "bottom"
        },
        "template": {
         "data": {
          "bar": [
           {
            "error_x": {
             "color": "#2a3f5f"
            },
            "error_y": {
             "color": "#2a3f5f"
            },
            "marker": {
             "line": {
              "color": "#E5ECF6",
              "width": 0.5
             },
             "pattern": {
              "fillmode": "overlay",
              "size": 10,
              "solidity": 0.2
             }
            },
            "type": "bar"
           }
          ],
          "barpolar": [
           {
            "marker": {
             "line": {
              "color": "#E5ECF6",
              "width": 0.5
             },
             "pattern": {
              "fillmode": "overlay",
              "size": 10,
              "solidity": 0.2
             }
            },
            "type": "barpolar"
           }
          ],
          "carpet": [
           {
            "aaxis": {
             "endlinecolor": "#2a3f5f",
             "gridcolor": "white",
             "linecolor": "white",
             "minorgridcolor": "white",
             "startlinecolor": "#2a3f5f"
            },
            "baxis": {
             "endlinecolor": "#2a3f5f",
             "gridcolor": "white",
             "linecolor": "white",
             "minorgridcolor": "white",
             "startlinecolor": "#2a3f5f"
            },
            "type": "carpet"
           }
          ],
          "choropleth": [
           {
            "colorbar": {
             "outlinewidth": 0,
             "ticks": ""
            },
            "type": "choropleth"
           }
          ],
          "contour": [
           {
            "colorbar": {
             "outlinewidth": 0,
             "ticks": ""
            },
            "colorscale": [
             [
              0,
              "#0d0887"
             ],
             [
              0.1111111111111111,
              "#46039f"
             ],
             [
              0.2222222222222222,
              "#7201a8"
             ],
             [
              0.3333333333333333,
              "#9c179e"
             ],
             [
              0.4444444444444444,
              "#bd3786"
             ],
             [
              0.5555555555555556,
              "#d8576b"
             ],
             [
              0.6666666666666666,
              "#ed7953"
             ],
             [
              0.7777777777777778,
              "#fb9f3a"
             ],
             [
              0.8888888888888888,
              "#fdca26"
             ],
             [
              1,
              "#f0f921"
             ]
            ],
            "type": "contour"
           }
          ],
          "contourcarpet": [
           {
            "colorbar": {
             "outlinewidth": 0,
             "ticks": ""
            },
            "type": "contourcarpet"
           }
          ],
          "heatmap": [
           {
            "colorbar": {
             "outlinewidth": 0,
             "ticks": ""
            },
            "colorscale": [
             [
              0,
              "#0d0887"
             ],
             [
              0.1111111111111111,
              "#46039f"
             ],
             [
              0.2222222222222222,
              "#7201a8"
             ],
             [
              0.3333333333333333,
              "#9c179e"
             ],
             [
              0.4444444444444444,
              "#bd3786"
             ],
             [
              0.5555555555555556,
              "#d8576b"
             ],
             [
              0.6666666666666666,
              "#ed7953"
             ],
             [
              0.7777777777777778,
              "#fb9f3a"
             ],
             [
              0.8888888888888888,
              "#fdca26"
             ],
             [
              1,
              "#f0f921"
             ]
            ],
            "type": "heatmap"
           }
          ],
          "heatmapgl": [
           {
            "colorbar": {
             "outlinewidth": 0,
             "ticks": ""
            },
            "colorscale": [
             [
              0,
              "#0d0887"
             ],
             [
              0.1111111111111111,
              "#46039f"
             ],
             [
              0.2222222222222222,
              "#7201a8"
             ],
             [
              0.3333333333333333,
              "#9c179e"
             ],
             [
              0.4444444444444444,
              "#bd3786"
             ],
             [
              0.5555555555555556,
              "#d8576b"
             ],
             [
              0.6666666666666666,
              "#ed7953"
             ],
             [
              0.7777777777777778,
              "#fb9f3a"
             ],
             [
              0.8888888888888888,
              "#fdca26"
             ],
             [
              1,
              "#f0f921"
             ]
            ],
            "type": "heatmapgl"
           }
          ],
          "histogram": [
           {
            "marker": {
             "pattern": {
              "fillmode": "overlay",
              "size": 10,
              "solidity": 0.2
             }
            },
            "type": "histogram"
           }
          ],
          "histogram2d": [
           {
            "colorbar": {
             "outlinewidth": 0,
             "ticks": ""
            },
            "colorscale": [
             [
              0,
              "#0d0887"
             ],
             [
              0.1111111111111111,
              "#46039f"
             ],
             [
              0.2222222222222222,
              "#7201a8"
             ],
             [
              0.3333333333333333,
              "#9c179e"
             ],
             [
              0.4444444444444444,
              "#bd3786"
             ],
             [
              0.5555555555555556,
              "#d8576b"
             ],
             [
              0.6666666666666666,
              "#ed7953"
             ],
             [
              0.7777777777777778,
              "#fb9f3a"
             ],
             [
              0.8888888888888888,
              "#fdca26"
             ],
             [
              1,
              "#f0f921"
             ]
            ],
            "type": "histogram2d"
           }
          ],
          "histogram2dcontour": [
           {
            "colorbar": {
             "outlinewidth": 0,
             "ticks": ""
            },
            "colorscale": [
             [
              0,
              "#0d0887"
             ],
             [
              0.1111111111111111,
              "#46039f"
             ],
             [
              0.2222222222222222,
              "#7201a8"
             ],
             [
              0.3333333333333333,
              "#9c179e"
             ],
             [
              0.4444444444444444,
              "#bd3786"
             ],
             [
              0.5555555555555556,
              "#d8576b"
             ],
             [
              0.6666666666666666,
              "#ed7953"
             ],
             [
              0.7777777777777778,
              "#fb9f3a"
             ],
             [
              0.8888888888888888,
              "#fdca26"
             ],
             [
              1,
              "#f0f921"
             ]
            ],
            "type": "histogram2dcontour"
           }
          ],
          "mesh3d": [
           {
            "colorbar": {
             "outlinewidth": 0,
             "ticks": ""
            },
            "type": "mesh3d"
           }
          ],
          "parcoords": [
           {
            "line": {
             "colorbar": {
              "outlinewidth": 0,
              "ticks": ""
             }
            },
            "type": "parcoords"
           }
          ],
          "pie": [
           {
            "automargin": true,
            "type": "pie"
           }
          ],
          "scatter": [
           {
            "fillpattern": {
             "fillmode": "overlay",
             "size": 10,
             "solidity": 0.2
            },
            "type": "scatter"
           }
          ],
          "scatter3d": [
           {
            "line": {
             "colorbar": {
              "outlinewidth": 0,
              "ticks": ""
             }
            },
            "marker": {
             "colorbar": {
              "outlinewidth": 0,
              "ticks": ""
             }
            },
            "type": "scatter3d"
           }
          ],
          "scattercarpet": [
           {
            "marker": {
             "colorbar": {
              "outlinewidth": 0,
              "ticks": ""
             }
            },
            "type": "scattercarpet"
           }
          ],
          "scattergeo": [
           {
            "marker": {
             "colorbar": {
              "outlinewidth": 0,
              "ticks": ""
             }
            },
            "type": "scattergeo"
           }
          ],
          "scattergl": [
           {
            "marker": {
             "colorbar": {
              "outlinewidth": 0,
              "ticks": ""
             }
            },
            "type": "scattergl"
           }
          ],
          "scattermapbox": [
           {
            "marker": {
             "colorbar": {
              "outlinewidth": 0,
              "ticks": ""
             }
            },
            "type": "scattermapbox"
           }
          ],
          "scatterpolar": [
           {
            "marker": {
             "colorbar": {
              "outlinewidth": 0,
              "ticks": ""
             }
            },
            "type": "scatterpolar"
           }
          ],
          "scatterpolargl": [
           {
            "marker": {
             "colorbar": {
              "outlinewidth": 0,
              "ticks": ""
             }
            },
            "type": "scatterpolargl"
           }
          ],
          "scatterternary": [
           {
            "marker": {
             "colorbar": {
              "outlinewidth": 0,
              "ticks": ""
             }
            },
            "type": "scatterternary"
           }
          ],
          "surface": [
           {
            "colorbar": {
             "outlinewidth": 0,
             "ticks": ""
            },
            "colorscale": [
             [
              0,
              "#0d0887"
             ],
             [
              0.1111111111111111,
              "#46039f"
             ],
             [
              0.2222222222222222,
              "#7201a8"
             ],
             [
              0.3333333333333333,
              "#9c179e"
             ],
             [
              0.4444444444444444,
              "#bd3786"
             ],
             [
              0.5555555555555556,
              "#d8576b"
             ],
             [
              0.6666666666666666,
              "#ed7953"
             ],
             [
              0.7777777777777778,
              "#fb9f3a"
             ],
             [
              0.8888888888888888,
              "#fdca26"
             ],
             [
              1,
              "#f0f921"
             ]
            ],
            "type": "surface"
           }
          ],
          "table": [
           {
            "cells": {
             "fill": {
              "color": "#EBF0F8"
             },
             "line": {
              "color": "white"
             }
            },
            "header": {
             "fill": {
              "color": "#C8D4E3"
             },
             "line": {
              "color": "white"
             }
            },
            "type": "table"
           }
          ]
         },
         "layout": {
          "annotationdefaults": {
           "arrowcolor": "#2a3f5f",
           "arrowhead": 0,
           "arrowwidth": 1
          },
          "autotypenumbers": "strict",
          "coloraxis": {
           "colorbar": {
            "outlinewidth": 0,
            "ticks": ""
           }
          },
          "colorscale": {
           "diverging": [
            [
             0,
             "#8e0152"
            ],
            [
             0.1,
             "#c51b7d"
            ],
            [
             0.2,
             "#de77ae"
            ],
            [
             0.3,
             "#f1b6da"
            ],
            [
             0.4,
             "#fde0ef"
            ],
            [
             0.5,
             "#f7f7f7"
            ],
            [
             0.6,
             "#e6f5d0"
            ],
            [
             0.7,
             "#b8e186"
            ],
            [
             0.8,
             "#7fbc41"
            ],
            [
             0.9,
             "#4d9221"
            ],
            [
             1,
             "#276419"
            ]
           ],
           "sequential": [
            [
             0,
             "#0d0887"
            ],
            [
             0.1111111111111111,
             "#46039f"
            ],
            [
             0.2222222222222222,
             "#7201a8"
            ],
            [
             0.3333333333333333,
             "#9c179e"
            ],
            [
             0.4444444444444444,
             "#bd3786"
            ],
            [
             0.5555555555555556,
             "#d8576b"
            ],
            [
             0.6666666666666666,
             "#ed7953"
            ],
            [
             0.7777777777777778,
             "#fb9f3a"
            ],
            [
             0.8888888888888888,
             "#fdca26"
            ],
            [
             1,
             "#f0f921"
            ]
           ],
           "sequentialminus": [
            [
             0,
             "#0d0887"
            ],
            [
             0.1111111111111111,
             "#46039f"
            ],
            [
             0.2222222222222222,
             "#7201a8"
            ],
            [
             0.3333333333333333,
             "#9c179e"
            ],
            [
             0.4444444444444444,
             "#bd3786"
            ],
            [
             0.5555555555555556,
             "#d8576b"
            ],
            [
             0.6666666666666666,
             "#ed7953"
            ],
            [
             0.7777777777777778,
             "#fb9f3a"
            ],
            [
             0.8888888888888888,
             "#fdca26"
            ],
            [
             1,
             "#f0f921"
            ]
           ]
          },
          "colorway": [
           "#636efa",
           "#EF553B",
           "#00cc96",
           "#ab63fa",
           "#FFA15A",
           "#19d3f3",
           "#FF6692",
           "#B6E880",
           "#FF97FF",
           "#FECB52"
          ],
          "font": {
           "color": "#2a3f5f"
          },
          "geo": {
           "bgcolor": "white",
           "lakecolor": "white",
           "landcolor": "#E5ECF6",
           "showlakes": true,
           "showland": true,
           "subunitcolor": "white"
          },
          "hoverlabel": {
           "align": "left"
          },
          "hovermode": "closest",
          "mapbox": {
           "style": "light"
          },
          "paper_bgcolor": "white",
          "plot_bgcolor": "#E5ECF6",
          "polar": {
           "angularaxis": {
            "gridcolor": "white",
            "linecolor": "white",
            "ticks": ""
           },
           "bgcolor": "#E5ECF6",
           "radialaxis": {
            "gridcolor": "white",
            "linecolor": "white",
            "ticks": ""
           }
          },
          "scene": {
           "xaxis": {
            "backgroundcolor": "#E5ECF6",
            "gridcolor": "white",
            "gridwidth": 2,
            "linecolor": "white",
            "showbackground": true,
            "ticks": "",
            "zerolinecolor": "white"
           },
           "yaxis": {
            "backgroundcolor": "#E5ECF6",
            "gridcolor": "white",
            "gridwidth": 2,
            "linecolor": "white",
            "showbackground": true,
            "ticks": "",
            "zerolinecolor": "white"
           },
           "zaxis": {
            "backgroundcolor": "#E5ECF6",
            "gridcolor": "white",
            "gridwidth": 2,
            "linecolor": "white",
            "showbackground": true,
            "ticks": "",
            "zerolinecolor": "white"
           }
          },
          "shapedefaults": {
           "line": {
            "color": "#2a3f5f"
           }
          },
          "ternary": {
           "aaxis": {
            "gridcolor": "white",
            "linecolor": "white",
            "ticks": ""
           },
           "baxis": {
            "gridcolor": "white",
            "linecolor": "white",
            "ticks": ""
           },
           "bgcolor": "#E5ECF6",
           "caxis": {
            "gridcolor": "white",
            "linecolor": "white",
            "ticks": ""
           }
          },
          "title": {
           "x": 0.05
          },
          "xaxis": {
           "automargin": true,
           "gridcolor": "white",
           "linecolor": "white",
           "ticks": "",
           "title": {
            "standoff": 15
           },
           "zerolinecolor": "white",
           "zerolinewidth": 2
          },
          "yaxis": {
           "automargin": true,
           "gridcolor": "white",
           "linecolor": "white",
           "ticks": "",
           "title": {
            "standoff": 15
           },
           "zerolinecolor": "white",
           "zerolinewidth": 2
          }
         }
        }
       }
      }
     },
     "metadata": {},
     "output_type": "display_data"
    }
   ],
   "source": [
    "import plotly.graph_objects as go\n",
    "\n",
    "data = [1, 2, 3, 4, 5]\n",
    "\n",
    "severity_colors = {0: 'darkblue', 1: 'teal', 2: 'orange', 3: 'tomato', 4: 'brown', 5: 'black'}\n",
    "legend_labels = {0: 'Normal: 0', 1: 'Mild: 1', 2: 'Moderate: 2', 3: 'Severe: 3', 4: 'Critical: 4', 5: 'Death: 5'}\n",
    "\n",
    "box_data = [data] * len(severity_colors)\n",
    "\n",
    "traces = [go.Box(y=box_data[severity], name=legend_labels[severity], marker_color=color) \n",
    "          for severity, color in severity_colors.items()]\n",
    "\n",
    "fig = go.Figure(data=traces)\n",
    "\n",
    "fig.update_layout(\n",
    "    legend=dict(yanchor=\"bottom\", y=0.02, xanchor=\"right\", x=0.98, font=dict(size=15))\n",
    ")\n",
    "\n",
    "fig.show()"
   ]
  },
  {
   "cell_type": "code",
   "execution_count": null,
   "metadata": {},
   "outputs": [],
   "source": [
    "### 이번엔 richness를 확인 할 것\n",
    "def richness_count_row(df, title, detect):\n",
    "        \n",
    "        colors = {'IGM': 'tomato', 'IGG': 'brown', 'IGK': 'skyblue', 'IGL': 'darkblue', 'TRA': 'turquoise', 'TRB': 'teal'}\n",
    "        severity_colors = {0: 'darkblue', 1: 'teal', 2: 'orange', 3: 'tomato', 4: 'brown', 5: 'black'}\n",
    "        \n",
    "        temp_severity = df[df['Severity'] == 0]\n",
    "        \n",
    "        if detect == 'HC':\n",
    "                Typelist = ['IGM', 'IGG']\n",
    "        elif detect == 'LC':\n",
    "                Typelist = ['IGK', 'IGL']\n",
    "        else:\n",
    "                Typelist = ['TRA', 'TRB']\n",
    "        \n",
    "        for t in Typelist:\n",
    "                temp = df[(df['Type'] == t)]\n",
    "                fig = go.Figure()  # 새로운 Figure 객체 생성\n",
    "                for severity in severity_colors:\n",
    "                        temp_severity = temp[temp['Severity'] == severity].copy()\n",
    "                        if not temp_severity.empty:\n",
    "                                temp_severity.loc[:,'Total_readcount'] = temp_severity['Total_readcount'] // 10000\n",
    "                                temp_severity = temp_severity.groupby('Total_readcount')['Row_number'].agg(['mean', 'std']).reset_index()\n",
    "\n",
    "                                fig.add_trace(go.Scatter(x=temp_severity['Total_readcount'], y=temp_severity['mean'], mode='markers', name=f'{t} Severity {severity} Mean', marker=dict(color=severity_colors[severity], size=6), opacity=1))\n",
    "                \n",
    "                                fig.add_trace(go.Scatter(x=temp_severity['Total_readcount'], y=temp_severity['mean'], mode='lines', name=f'{t} Severity {severity} Mean Line', line=dict(color=severity_colors[severity], width=2), opacity=0.7))\n",
    "                                \n",
    "                                # fig.add_trace(go.Scatter(x=temp_severity['Total_readcount'], y=temp_severity['mean'] + temp_severity['std'], mode='markers', name=f'{t} Severity {severity} Upper Bound', marker=dict(color=severity_colors[severity]), opacity=0.7))\n",
    "                                # fig.add_trace(go.Scatter(x=temp_severity['Total_readcount'], y=temp_severity['mean'] - temp_severity['std'], mode='markers', name=f'{t} Severity {severity} Lower Bound', marker=dict(color=severity_colors[severity]), opacity=0.7))\n",
    "\n",
    "                                for i in range(len(temp_severity)):\n",
    "                                        fig.add_trace(go.Scatter(x=[temp_severity['Total_readcount'].iloc[i], temp_severity['Total_readcount'].iloc[i]],\n",
    "                                                y=[temp_severity['mean'].iloc[i] + temp_severity['std'].iloc[i], temp_severity['mean'].iloc[i] - temp_severity['std'].iloc[i]],\n",
    "                                                mode='lines', line=dict(color=severity_colors[severity]), opacity=0.5))\n",
    "\n",
    "                fig.update_layout(title=title, xaxis_title='Total number of TCR Amino Acid Squence(x10<sup>4</sup>)', yaxis_title='Total unique number of Amino Acids', yaxis_tickfont_size=15, yaxis_titlefont_size=20, xaxis_tickfont_size=15, xaxis_titlefont_size=20, \n",
    "                                        plot_bgcolor='rgba(255, 255, 255, 1)', yaxis=dict(gridcolor='lightgray'), width=700, height=700)\n",
    "                fig.show()\n",
    "\n",
    "# richness_count_row(trim_BCRLC02, 'Richness of BCR_LC 02', 'LC')\n",
    "richness_count_row(trim_TCR02, 'Richness of TCR 02', '')"
   ]
  },
  {
   "cell_type": "code",
   "execution_count": 27,
   "metadata": {},
   "outputs": [
    {
     "data": {
      "application/vnd.plotly.v1+json": {
       "config": {
        "plotlyServerURL": "https://plot.ly"
       },
       "data": [
        {
         "marker": {
          "color": "blue",
          "size": 6
         },
         "mode": "markers",
         "name": "IGM Mean 1",
         "opacity": 1,
         "type": "scatter",
         "x": [
          1,
          2,
          3,
          4,
          5,
          6
         ],
         "y": [
          2913.0524691358023,
          9127.851351351352,
          14419.181818181818,
          17414.285714285714,
          22022,
          30172
         ]
        },
        {
         "line": {
          "color": "blue",
          "width": 2
         },
         "mode": "lines",
         "name": "IGM Mean Line 1",
         "opacity": 0.7,
         "type": "scatter",
         "x": [
          1,
          2,
          3,
          4,
          5,
          6
         ],
         "y": [
          2913.0524691358023,
          9127.851351351352,
          14419.181818181818,
          17414.285714285714,
          22022,
          30172
         ]
        },
        {
         "marker": {
          "color": "blue"
         },
         "mode": "markers+text",
         "opacity": 1,
         "text": "324",
         "textposition": "top right",
         "type": "scatter",
         "x": [
          1
         ],
         "y": [
          2913.0524691358023
         ]
        },
        {
         "line": {
          "color": "blue"
         },
         "mode": "lines",
         "opacity": 0.5,
         "type": "scatter",
         "x": [
          1,
          1
         ],
         "y": [
          4764.421991595751,
          1061.682946675854
         ]
        },
        {
         "marker": {
          "color": "blue"
         },
         "mode": "markers+text",
         "opacity": 1,
         "text": "74",
         "textposition": "top right",
         "type": "scatter",
         "x": [
          2
         ],
         "y": [
          9127.851351351352
         ]
        },
        {
         "line": {
          "color": "blue"
         },
         "mode": "lines",
         "opacity": 0.5,
         "type": "scatter",
         "x": [
          2,
          2
         ],
         "y": [
          11322.500539671131,
          6933.202163031571
         ]
        },
        {
         "marker": {
          "color": "blue"
         },
         "mode": "markers+text",
         "opacity": 1,
         "text": "11",
         "textposition": "top right",
         "type": "scatter",
         "x": [
          3
         ],
         "y": [
          14419.181818181818
         ]
        },
        {
         "line": {
          "color": "blue"
         },
         "mode": "lines",
         "opacity": 0.5,
         "type": "scatter",
         "x": [
          3,
          3
         ],
         "y": [
          18509.853934550516,
          10328.50970181312
         ]
        },
        {
         "marker": {
          "color": "blue"
         },
         "mode": "markers+text",
         "opacity": 1,
         "text": "7",
         "textposition": "top right",
         "type": "scatter",
         "x": [
          4
         ],
         "y": [
          17414.285714285714
         ]
        },
        {
         "line": {
          "color": "blue"
         },
         "mode": "lines",
         "opacity": 0.5,
         "type": "scatter",
         "x": [
          4,
          4
         ],
         "y": [
          20905.73243994189,
          13922.838988629537
         ]
        },
        {
         "marker": {
          "color": "blue"
         },
         "mode": "markers+text",
         "opacity": 1,
         "text": "1",
         "textposition": "top right",
         "type": "scatter",
         "x": [
          5
         ],
         "y": [
          22022
         ]
        },
        {
         "line": {
          "color": "blue"
         },
         "mode": "lines",
         "opacity": 0.5,
         "type": "scatter",
         "x": [
          5,
          5
         ],
         "y": [
          null,
          null
         ]
        },
        {
         "marker": {
          "color": "blue"
         },
         "mode": "markers+text",
         "opacity": 1,
         "text": "3",
         "textposition": "top right",
         "type": "scatter",
         "x": [
          6
         ],
         "y": [
          30172
         ]
        },
        {
         "line": {
          "color": "blue"
         },
         "mode": "lines",
         "opacity": 0.5,
         "type": "scatter",
         "x": [
          6,
          6
         ],
         "y": [
          40297.05748131832,
          20046.942518681684
         ]
        },
        {
         "marker": {
          "color": "red",
          "size": 6
         },
         "mode": "markers",
         "name": "IGM Mean 2",
         "opacity": 1,
         "type": "scatter",
         "x": [
          1,
          2,
          3,
          6
         ],
         "y": [
          3327.913043478261,
          8789,
          14114.2,
          25041
         ]
        },
        {
         "line": {
          "color": "red",
          "width": 2
         },
         "mode": "lines",
         "name": "IGM Mean Line 2",
         "opacity": 0.7,
         "type": "scatter",
         "x": [
          1,
          2,
          3,
          6
         ],
         "y": [
          3327.913043478261,
          8789,
          14114.2,
          25041
         ]
        },
        {
         "marker": {
          "color": "red"
         },
         "mode": "markers+text",
         "opacity": 1,
         "text": "69",
         "textposition": "bottom right",
         "type": "scatter",
         "x": [
          1
         ],
         "y": [
          3327.913043478261
         ]
        },
        {
         "line": {
          "color": "red"
         },
         "mode": "lines",
         "opacity": 0.5,
         "type": "scatter",
         "x": [
          1,
          1
         ],
         "y": [
          5353.442558409302,
          1302.3835285472198
         ]
        },
        {
         "marker": {
          "color": "red"
         },
         "mode": "markers+text",
         "opacity": 1,
         "text": "30",
         "textposition": "bottom right",
         "type": "scatter",
         "x": [
          2
         ],
         "y": [
          8789
         ]
        },
        {
         "line": {
          "color": "red"
         },
         "mode": "lines",
         "opacity": 0.5,
         "type": "scatter",
         "x": [
          2,
          2
         ],
         "y": [
          11776.715849942895,
          5801.284150057104
         ]
        },
        {
         "marker": {
          "color": "red"
         },
         "mode": "markers+text",
         "opacity": 1,
         "text": "10",
         "textposition": "bottom right",
         "type": "scatter",
         "x": [
          3
         ],
         "y": [
          14114.2
         ]
        },
        {
         "line": {
          "color": "red"
         },
         "mode": "lines",
         "opacity": 0.5,
         "type": "scatter",
         "x": [
          3,
          3
         ],
         "y": [
          19697.667078995113,
          8530.732921004888
         ]
        },
        {
         "marker": {
          "color": "red"
         },
         "mode": "markers+text",
         "opacity": 1,
         "text": "1",
         "textposition": "bottom right",
         "type": "scatter",
         "x": [
          6
         ],
         "y": [
          25041
         ]
        },
        {
         "line": {
          "color": "red"
         },
         "mode": "lines",
         "opacity": 0.5,
         "type": "scatter",
         "x": [
          6,
          6
         ],
         "y": [
          null,
          null
         ]
        }
       ],
       "layout": {
        "height": 800,
        "plot_bgcolor": "rgba(255, 255, 255, 1)",
        "template": {
         "data": {
          "bar": [
           {
            "error_x": {
             "color": "#2a3f5f"
            },
            "error_y": {
             "color": "#2a3f5f"
            },
            "marker": {
             "line": {
              "color": "#E5ECF6",
              "width": 0.5
             },
             "pattern": {
              "fillmode": "overlay",
              "size": 10,
              "solidity": 0.2
             }
            },
            "type": "bar"
           }
          ],
          "barpolar": [
           {
            "marker": {
             "line": {
              "color": "#E5ECF6",
              "width": 0.5
             },
             "pattern": {
              "fillmode": "overlay",
              "size": 10,
              "solidity": 0.2
             }
            },
            "type": "barpolar"
           }
          ],
          "carpet": [
           {
            "aaxis": {
             "endlinecolor": "#2a3f5f",
             "gridcolor": "white",
             "linecolor": "white",
             "minorgridcolor": "white",
             "startlinecolor": "#2a3f5f"
            },
            "baxis": {
             "endlinecolor": "#2a3f5f",
             "gridcolor": "white",
             "linecolor": "white",
             "minorgridcolor": "white",
             "startlinecolor": "#2a3f5f"
            },
            "type": "carpet"
           }
          ],
          "choropleth": [
           {
            "colorbar": {
             "outlinewidth": 0,
             "ticks": ""
            },
            "type": "choropleth"
           }
          ],
          "contour": [
           {
            "colorbar": {
             "outlinewidth": 0,
             "ticks": ""
            },
            "colorscale": [
             [
              0,
              "#0d0887"
             ],
             [
              0.1111111111111111,
              "#46039f"
             ],
             [
              0.2222222222222222,
              "#7201a8"
             ],
             [
              0.3333333333333333,
              "#9c179e"
             ],
             [
              0.4444444444444444,
              "#bd3786"
             ],
             [
              0.5555555555555556,
              "#d8576b"
             ],
             [
              0.6666666666666666,
              "#ed7953"
             ],
             [
              0.7777777777777778,
              "#fb9f3a"
             ],
             [
              0.8888888888888888,
              "#fdca26"
             ],
             [
              1,
              "#f0f921"
             ]
            ],
            "type": "contour"
           }
          ],
          "contourcarpet": [
           {
            "colorbar": {
             "outlinewidth": 0,
             "ticks": ""
            },
            "type": "contourcarpet"
           }
          ],
          "heatmap": [
           {
            "colorbar": {
             "outlinewidth": 0,
             "ticks": ""
            },
            "colorscale": [
             [
              0,
              "#0d0887"
             ],
             [
              0.1111111111111111,
              "#46039f"
             ],
             [
              0.2222222222222222,
              "#7201a8"
             ],
             [
              0.3333333333333333,
              "#9c179e"
             ],
             [
              0.4444444444444444,
              "#bd3786"
             ],
             [
              0.5555555555555556,
              "#d8576b"
             ],
             [
              0.6666666666666666,
              "#ed7953"
             ],
             [
              0.7777777777777778,
              "#fb9f3a"
             ],
             [
              0.8888888888888888,
              "#fdca26"
             ],
             [
              1,
              "#f0f921"
             ]
            ],
            "type": "heatmap"
           }
          ],
          "heatmapgl": [
           {
            "colorbar": {
             "outlinewidth": 0,
             "ticks": ""
            },
            "colorscale": [
             [
              0,
              "#0d0887"
             ],
             [
              0.1111111111111111,
              "#46039f"
             ],
             [
              0.2222222222222222,
              "#7201a8"
             ],
             [
              0.3333333333333333,
              "#9c179e"
             ],
             [
              0.4444444444444444,
              "#bd3786"
             ],
             [
              0.5555555555555556,
              "#d8576b"
             ],
             [
              0.6666666666666666,
              "#ed7953"
             ],
             [
              0.7777777777777778,
              "#fb9f3a"
             ],
             [
              0.8888888888888888,
              "#fdca26"
             ],
             [
              1,
              "#f0f921"
             ]
            ],
            "type": "heatmapgl"
           }
          ],
          "histogram": [
           {
            "marker": {
             "pattern": {
              "fillmode": "overlay",
              "size": 10,
              "solidity": 0.2
             }
            },
            "type": "histogram"
           }
          ],
          "histogram2d": [
           {
            "colorbar": {
             "outlinewidth": 0,
             "ticks": ""
            },
            "colorscale": [
             [
              0,
              "#0d0887"
             ],
             [
              0.1111111111111111,
              "#46039f"
             ],
             [
              0.2222222222222222,
              "#7201a8"
             ],
             [
              0.3333333333333333,
              "#9c179e"
             ],
             [
              0.4444444444444444,
              "#bd3786"
             ],
             [
              0.5555555555555556,
              "#d8576b"
             ],
             [
              0.6666666666666666,
              "#ed7953"
             ],
             [
              0.7777777777777778,
              "#fb9f3a"
             ],
             [
              0.8888888888888888,
              "#fdca26"
             ],
             [
              1,
              "#f0f921"
             ]
            ],
            "type": "histogram2d"
           }
          ],
          "histogram2dcontour": [
           {
            "colorbar": {
             "outlinewidth": 0,
             "ticks": ""
            },
            "colorscale": [
             [
              0,
              "#0d0887"
             ],
             [
              0.1111111111111111,
              "#46039f"
             ],
             [
              0.2222222222222222,
              "#7201a8"
             ],
             [
              0.3333333333333333,
              "#9c179e"
             ],
             [
              0.4444444444444444,
              "#bd3786"
             ],
             [
              0.5555555555555556,
              "#d8576b"
             ],
             [
              0.6666666666666666,
              "#ed7953"
             ],
             [
              0.7777777777777778,
              "#fb9f3a"
             ],
             [
              0.8888888888888888,
              "#fdca26"
             ],
             [
              1,
              "#f0f921"
             ]
            ],
            "type": "histogram2dcontour"
           }
          ],
          "mesh3d": [
           {
            "colorbar": {
             "outlinewidth": 0,
             "ticks": ""
            },
            "type": "mesh3d"
           }
          ],
          "parcoords": [
           {
            "line": {
             "colorbar": {
              "outlinewidth": 0,
              "ticks": ""
             }
            },
            "type": "parcoords"
           }
          ],
          "pie": [
           {
            "automargin": true,
            "type": "pie"
           }
          ],
          "scatter": [
           {
            "fillpattern": {
             "fillmode": "overlay",
             "size": 10,
             "solidity": 0.2
            },
            "type": "scatter"
           }
          ],
          "scatter3d": [
           {
            "line": {
             "colorbar": {
              "outlinewidth": 0,
              "ticks": ""
             }
            },
            "marker": {
             "colorbar": {
              "outlinewidth": 0,
              "ticks": ""
             }
            },
            "type": "scatter3d"
           }
          ],
          "scattercarpet": [
           {
            "marker": {
             "colorbar": {
              "outlinewidth": 0,
              "ticks": ""
             }
            },
            "type": "scattercarpet"
           }
          ],
          "scattergeo": [
           {
            "marker": {
             "colorbar": {
              "outlinewidth": 0,
              "ticks": ""
             }
            },
            "type": "scattergeo"
           }
          ],
          "scattergl": [
           {
            "marker": {
             "colorbar": {
              "outlinewidth": 0,
              "ticks": ""
             }
            },
            "type": "scattergl"
           }
          ],
          "scattermapbox": [
           {
            "marker": {
             "colorbar": {
              "outlinewidth": 0,
              "ticks": ""
             }
            },
            "type": "scattermapbox"
           }
          ],
          "scatterpolar": [
           {
            "marker": {
             "colorbar": {
              "outlinewidth": 0,
              "ticks": ""
             }
            },
            "type": "scatterpolar"
           }
          ],
          "scatterpolargl": [
           {
            "marker": {
             "colorbar": {
              "outlinewidth": 0,
              "ticks": ""
             }
            },
            "type": "scatterpolargl"
           }
          ],
          "scatterternary": [
           {
            "marker": {
             "colorbar": {
              "outlinewidth": 0,
              "ticks": ""
             }
            },
            "type": "scatterternary"
           }
          ],
          "surface": [
           {
            "colorbar": {
             "outlinewidth": 0,
             "ticks": ""
            },
            "colorscale": [
             [
              0,
              "#0d0887"
             ],
             [
              0.1111111111111111,
              "#46039f"
             ],
             [
              0.2222222222222222,
              "#7201a8"
             ],
             [
              0.3333333333333333,
              "#9c179e"
             ],
             [
              0.4444444444444444,
              "#bd3786"
             ],
             [
              0.5555555555555556,
              "#d8576b"
             ],
             [
              0.6666666666666666,
              "#ed7953"
             ],
             [
              0.7777777777777778,
              "#fb9f3a"
             ],
             [
              0.8888888888888888,
              "#fdca26"
             ],
             [
              1,
              "#f0f921"
             ]
            ],
            "type": "surface"
           }
          ],
          "table": [
           {
            "cells": {
             "fill": {
              "color": "#EBF0F8"
             },
             "line": {
              "color": "white"
             }
            },
            "header": {
             "fill": {
              "color": "#C8D4E3"
             },
             "line": {
              "color": "white"
             }
            },
            "type": "table"
           }
          ]
         },
         "layout": {
          "annotationdefaults": {
           "arrowcolor": "#2a3f5f",
           "arrowhead": 0,
           "arrowwidth": 1
          },
          "autotypenumbers": "strict",
          "coloraxis": {
           "colorbar": {
            "outlinewidth": 0,
            "ticks": ""
           }
          },
          "colorscale": {
           "diverging": [
            [
             0,
             "#8e0152"
            ],
            [
             0.1,
             "#c51b7d"
            ],
            [
             0.2,
             "#de77ae"
            ],
            [
             0.3,
             "#f1b6da"
            ],
            [
             0.4,
             "#fde0ef"
            ],
            [
             0.5,
             "#f7f7f7"
            ],
            [
             0.6,
             "#e6f5d0"
            ],
            [
             0.7,
             "#b8e186"
            ],
            [
             0.8,
             "#7fbc41"
            ],
            [
             0.9,
             "#4d9221"
            ],
            [
             1,
             "#276419"
            ]
           ],
           "sequential": [
            [
             0,
             "#0d0887"
            ],
            [
             0.1111111111111111,
             "#46039f"
            ],
            [
             0.2222222222222222,
             "#7201a8"
            ],
            [
             0.3333333333333333,
             "#9c179e"
            ],
            [
             0.4444444444444444,
             "#bd3786"
            ],
            [
             0.5555555555555556,
             "#d8576b"
            ],
            [
             0.6666666666666666,
             "#ed7953"
            ],
            [
             0.7777777777777778,
             "#fb9f3a"
            ],
            [
             0.8888888888888888,
             "#fdca26"
            ],
            [
             1,
             "#f0f921"
            ]
           ],
           "sequentialminus": [
            [
             0,
             "#0d0887"
            ],
            [
             0.1111111111111111,
             "#46039f"
            ],
            [
             0.2222222222222222,
             "#7201a8"
            ],
            [
             0.3333333333333333,
             "#9c179e"
            ],
            [
             0.4444444444444444,
             "#bd3786"
            ],
            [
             0.5555555555555556,
             "#d8576b"
            ],
            [
             0.6666666666666666,
             "#ed7953"
            ],
            [
             0.7777777777777778,
             "#fb9f3a"
            ],
            [
             0.8888888888888888,
             "#fdca26"
            ],
            [
             1,
             "#f0f921"
            ]
           ]
          },
          "colorway": [
           "#636efa",
           "#EF553B",
           "#00cc96",
           "#ab63fa",
           "#FFA15A",
           "#19d3f3",
           "#FF6692",
           "#B6E880",
           "#FF97FF",
           "#FECB52"
          ],
          "font": {
           "color": "#2a3f5f"
          },
          "geo": {
           "bgcolor": "white",
           "lakecolor": "white",
           "landcolor": "#E5ECF6",
           "showlakes": true,
           "showland": true,
           "subunitcolor": "white"
          },
          "hoverlabel": {
           "align": "left"
          },
          "hovermode": "closest",
          "mapbox": {
           "style": "light"
          },
          "paper_bgcolor": "white",
          "plot_bgcolor": "#E5ECF6",
          "polar": {
           "angularaxis": {
            "gridcolor": "white",
            "linecolor": "white",
            "ticks": ""
           },
           "bgcolor": "#E5ECF6",
           "radialaxis": {
            "gridcolor": "white",
            "linecolor": "white",
            "ticks": ""
           }
          },
          "scene": {
           "xaxis": {
            "backgroundcolor": "#E5ECF6",
            "gridcolor": "white",
            "gridwidth": 2,
            "linecolor": "white",
            "showbackground": true,
            "ticks": "",
            "zerolinecolor": "white"
           },
           "yaxis": {
            "backgroundcolor": "#E5ECF6",
            "gridcolor": "white",
            "gridwidth": 2,
            "linecolor": "white",
            "showbackground": true,
            "ticks": "",
            "zerolinecolor": "white"
           },
           "zaxis": {
            "backgroundcolor": "#E5ECF6",
            "gridcolor": "white",
            "gridwidth": 2,
            "linecolor": "white",
            "showbackground": true,
            "ticks": "",
            "zerolinecolor": "white"
           }
          },
          "shapedefaults": {
           "line": {
            "color": "#2a3f5f"
           }
          },
          "ternary": {
           "aaxis": {
            "gridcolor": "white",
            "linecolor": "white",
            "ticks": ""
           },
           "baxis": {
            "gridcolor": "white",
            "linecolor": "white",
            "ticks": ""
           },
           "bgcolor": "#E5ECF6",
           "caxis": {
            "gridcolor": "white",
            "linecolor": "white",
            "ticks": ""
           }
          },
          "title": {
           "x": 0.05
          },
          "xaxis": {
           "automargin": true,
           "gridcolor": "white",
           "linecolor": "white",
           "ticks": "",
           "title": {
            "standoff": 15
           },
           "zerolinecolor": "white",
           "zerolinewidth": 2
          },
          "yaxis": {
           "automargin": true,
           "gridcolor": "white",
           "linecolor": "white",
           "ticks": "",
           "title": {
            "standoff": 15
           },
           "zerolinecolor": "white",
           "zerolinewidth": 2
          }
         }
        },
        "title": {
         "text": "Richness of BCR_HC 01 vs BCR_HC 02"
        },
        "width": 1000,
        "xaxis": {
         "range": [
          0,
          25
         ],
         "tickfont": {
          "size": 15
         },
         "title": {
          "font": {
           "size": 20
          },
          "text": "Total number of TCR Amino Acid Squence(x10<sup>4</sup>)"
         }
        },
        "yaxis": {
         "gridcolor": "lightgray",
         "range": [
          1000,
          40000
         ],
         "tickfont": {
          "size": 15
         },
         "title": {
          "font": {
           "size": 20
          },
          "text": "Total unique number of Amino Acids"
         }
        }
       }
      }
     },
     "metadata": {},
     "output_type": "display_data"
    },
    {
     "data": {
      "application/vnd.plotly.v1+json": {
       "config": {
        "plotlyServerURL": "https://plot.ly"
       },
       "data": [
        {
         "marker": {
          "color": "blue",
          "size": 6
         },
         "mode": "markers",
         "name": "IGG Mean 1",
         "opacity": 1,
         "type": "scatter",
         "x": [
          1,
          2,
          3,
          4,
          5,
          6,
          8,
          9
         ],
         "y": [
          628.1485714285715,
          1771.7297297297298,
          2063.235294117647,
          2162.125,
          3064,
          3227,
          2322,
          2913
         ]
        },
        {
         "line": {
          "color": "blue",
          "width": 2
         },
         "mode": "lines",
         "name": "IGG Mean Line 1",
         "opacity": 0.7,
         "type": "scatter",
         "x": [
          1,
          2,
          3,
          4,
          5,
          6,
          8,
          9
         ],
         "y": [
          628.1485714285715,
          1771.7297297297298,
          2063.235294117647,
          2162.125,
          3064,
          3227,
          2322,
          2913
         ]
        },
        {
         "marker": {
          "color": "blue"
         },
         "mode": "markers+text",
         "opacity": 1,
         "text": "350",
         "textposition": "top right",
         "type": "scatter",
         "x": [
          1
         ],
         "y": [
          628.1485714285715
         ]
        },
        {
         "line": {
          "color": "blue"
         },
         "mode": "lines",
         "opacity": 0.5,
         "type": "scatter",
         "x": [
          1,
          1
         ],
         "y": [
          1038.1025148697088,
          218.19462798743422
         ]
        },
        {
         "marker": {
          "color": "blue"
         },
         "mode": "markers+text",
         "opacity": 1,
         "text": "37",
         "textposition": "top right",
         "type": "scatter",
         "x": [
          2
         ],
         "y": [
          1771.7297297297298
         ]
        },
        {
         "line": {
          "color": "blue"
         },
         "mode": "lines",
         "opacity": 0.5,
         "type": "scatter",
         "x": [
          2,
          2
         ],
         "y": [
          2355.4719982318798,
          1187.9874612275798
         ]
        },
        {
         "marker": {
          "color": "blue"
         },
         "mode": "markers+text",
         "opacity": 1,
         "text": "17",
         "textposition": "top right",
         "type": "scatter",
         "x": [
          3
         ],
         "y": [
          2063.235294117647
         ]
        },
        {
         "line": {
          "color": "blue"
         },
         "mode": "lines",
         "opacity": 0.5,
         "type": "scatter",
         "x": [
          3,
          3
         ],
         "y": [
          2482.920969565917,
          1643.5496186693767
         ]
        },
        {
         "marker": {
          "color": "blue"
         },
         "mode": "markers+text",
         "opacity": 1,
         "text": "8",
         "textposition": "top right",
         "type": "scatter",
         "x": [
          4
         ],
         "y": [
          2162.125
         ]
        },
        {
         "line": {
          "color": "blue"
         },
         "mode": "lines",
         "opacity": 0.5,
         "type": "scatter",
         "x": [
          4,
          4
         ],
         "y": [
          2766.363939847947,
          1557.8860601520526
         ]
        },
        {
         "marker": {
          "color": "blue"
         },
         "mode": "markers+text",
         "opacity": 1,
         "text": "3",
         "textposition": "top right",
         "type": "scatter",
         "x": [
          5
         ],
         "y": [
          3064
         ]
        },
        {
         "line": {
          "color": "blue"
         },
         "mode": "lines",
         "opacity": 0.5,
         "type": "scatter",
         "x": [
          5,
          5
         ],
         "y": [
          3832.711259186439,
          2295.288740813561
         ]
        },
        {
         "marker": {
          "color": "blue"
         },
         "mode": "markers+text",
         "opacity": 1,
         "text": "1",
         "textposition": "top right",
         "type": "scatter",
         "x": [
          6
         ],
         "y": [
          3227
         ]
        },
        {
         "line": {
          "color": "blue"
         },
         "mode": "lines",
         "opacity": 0.5,
         "type": "scatter",
         "x": [
          6,
          6
         ],
         "y": [
          null,
          null
         ]
        },
        {
         "marker": {
          "color": "blue"
         },
         "mode": "markers+text",
         "opacity": 1,
         "text": "1",
         "textposition": "top right",
         "type": "scatter",
         "x": [
          8
         ],
         "y": [
          2322
         ]
        },
        {
         "line": {
          "color": "blue"
         },
         "mode": "lines",
         "opacity": 0.5,
         "type": "scatter",
         "x": [
          8,
          8
         ],
         "y": [
          null,
          null
         ]
        },
        {
         "marker": {
          "color": "blue"
         },
         "mode": "markers+text",
         "opacity": 1,
         "text": "3",
         "textposition": "top right",
         "type": "scatter",
         "x": [
          9
         ],
         "y": [
          2913
         ]
        },
        {
         "line": {
          "color": "blue"
         },
         "mode": "lines",
         "opacity": 0.5,
         "type": "scatter",
         "x": [
          9,
          9
         ],
         "y": [
          4165.037140024208,
          1660.9628599757914
         ]
        },
        {
         "marker": {
          "color": "red",
          "size": 6
         },
         "mode": "markers",
         "name": "IGG Mean 2",
         "opacity": 1,
         "type": "scatter",
         "x": [
          1,
          2,
          3,
          4,
          5,
          8,
          14
         ],
         "y": [
          721.9324324324324,
          1635.1875,
          1643,
          2144.8,
          2606.25,
          4012,
          3355
         ]
        },
        {
         "line": {
          "color": "red",
          "width": 2
         },
         "mode": "lines",
         "name": "IGG Mean Line 2",
         "opacity": 0.7,
         "type": "scatter",
         "x": [
          1,
          2,
          3,
          4,
          5,
          8,
          14
         ],
         "y": [
          721.9324324324324,
          1635.1875,
          1643,
          2144.8,
          2606.25,
          4012,
          3355
         ]
        },
        {
         "marker": {
          "color": "red"
         },
         "mode": "markers+text",
         "opacity": 1,
         "text": "74",
         "textposition": "bottom right",
         "type": "scatter",
         "x": [
          1
         ],
         "y": [
          721.9324324324324
         ]
        },
        {
         "line": {
          "color": "red"
         },
         "mode": "lines",
         "opacity": 0.5,
         "type": "scatter",
         "x": [
          1,
          1
         ],
         "y": [
          1186.085994972525,
          257.7788698923398
         ]
        },
        {
         "marker": {
          "color": "red"
         },
         "mode": "markers+text",
         "opacity": 1,
         "text": "16",
         "textposition": "bottom right",
         "type": "scatter",
         "x": [
          2
         ],
         "y": [
          1635.1875
         ]
        },
        {
         "line": {
          "color": "red"
         },
         "mode": "lines",
         "opacity": 0.5,
         "type": "scatter",
         "x": [
          2,
          2
         ],
         "y": [
          2165.2705398783446,
          1105.1044601216554
         ]
        },
        {
         "marker": {
          "color": "red"
         },
         "mode": "markers+text",
         "opacity": 1,
         "text": "8",
         "textposition": "bottom right",
         "type": "scatter",
         "x": [
          3
         ],
         "y": [
          1643
         ]
        },
        {
         "line": {
          "color": "red"
         },
         "mode": "lines",
         "opacity": 0.5,
         "type": "scatter",
         "x": [
          3,
          3
         ],
         "y": [
          2148.0895253036124,
          1137.9104746963876
         ]
        },
        {
         "marker": {
          "color": "red"
         },
         "mode": "markers+text",
         "opacity": 1,
         "text": "5",
         "textposition": "bottom right",
         "type": "scatter",
         "x": [
          4
         ],
         "y": [
          2144.8
         ]
        },
        {
         "line": {
          "color": "red"
         },
         "mode": "lines",
         "opacity": 0.5,
         "type": "scatter",
         "x": [
          4,
          4
         ],
         "y": [
          2516.4788936703294,
          1773.121106329671
         ]
        },
        {
         "marker": {
          "color": "red"
         },
         "mode": "markers+text",
         "opacity": 1,
         "text": "4",
         "textposition": "bottom right",
         "type": "scatter",
         "x": [
          5
         ],
         "y": [
          2606.25
         ]
        },
        {
         "line": {
          "color": "red"
         },
         "mode": "lines",
         "opacity": 0.5,
         "type": "scatter",
         "x": [
          5,
          5
         ],
         "y": [
          2929.7324827817833,
          2282.7675172182167
         ]
        },
        {
         "marker": {
          "color": "red"
         },
         "mode": "markers+text",
         "opacity": 1,
         "text": "1",
         "textposition": "bottom right",
         "type": "scatter",
         "x": [
          8
         ],
         "y": [
          4012
         ]
        },
        {
         "line": {
          "color": "red"
         },
         "mode": "lines",
         "opacity": 0.5,
         "type": "scatter",
         "x": [
          8,
          8
         ],
         "y": [
          null,
          null
         ]
        },
        {
         "marker": {
          "color": "red"
         },
         "mode": "markers+text",
         "opacity": 1,
         "text": "1",
         "textposition": "bottom right",
         "type": "scatter",
         "x": [
          14
         ],
         "y": [
          3355
         ]
        },
        {
         "line": {
          "color": "red"
         },
         "mode": "lines",
         "opacity": 0.5,
         "type": "scatter",
         "x": [
          14,
          14
         ],
         "y": [
          null,
          null
         ]
        }
       ],
       "layout": {
        "height": 800,
        "plot_bgcolor": "rgba(255, 255, 255, 1)",
        "template": {
         "data": {
          "bar": [
           {
            "error_x": {
             "color": "#2a3f5f"
            },
            "error_y": {
             "color": "#2a3f5f"
            },
            "marker": {
             "line": {
              "color": "#E5ECF6",
              "width": 0.5
             },
             "pattern": {
              "fillmode": "overlay",
              "size": 10,
              "solidity": 0.2
             }
            },
            "type": "bar"
           }
          ],
          "barpolar": [
           {
            "marker": {
             "line": {
              "color": "#E5ECF6",
              "width": 0.5
             },
             "pattern": {
              "fillmode": "overlay",
              "size": 10,
              "solidity": 0.2
             }
            },
            "type": "barpolar"
           }
          ],
          "carpet": [
           {
            "aaxis": {
             "endlinecolor": "#2a3f5f",
             "gridcolor": "white",
             "linecolor": "white",
             "minorgridcolor": "white",
             "startlinecolor": "#2a3f5f"
            },
            "baxis": {
             "endlinecolor": "#2a3f5f",
             "gridcolor": "white",
             "linecolor": "white",
             "minorgridcolor": "white",
             "startlinecolor": "#2a3f5f"
            },
            "type": "carpet"
           }
          ],
          "choropleth": [
           {
            "colorbar": {
             "outlinewidth": 0,
             "ticks": ""
            },
            "type": "choropleth"
           }
          ],
          "contour": [
           {
            "colorbar": {
             "outlinewidth": 0,
             "ticks": ""
            },
            "colorscale": [
             [
              0,
              "#0d0887"
             ],
             [
              0.1111111111111111,
              "#46039f"
             ],
             [
              0.2222222222222222,
              "#7201a8"
             ],
             [
              0.3333333333333333,
              "#9c179e"
             ],
             [
              0.4444444444444444,
              "#bd3786"
             ],
             [
              0.5555555555555556,
              "#d8576b"
             ],
             [
              0.6666666666666666,
              "#ed7953"
             ],
             [
              0.7777777777777778,
              "#fb9f3a"
             ],
             [
              0.8888888888888888,
              "#fdca26"
             ],
             [
              1,
              "#f0f921"
             ]
            ],
            "type": "contour"
           }
          ],
          "contourcarpet": [
           {
            "colorbar": {
             "outlinewidth": 0,
             "ticks": ""
            },
            "type": "contourcarpet"
           }
          ],
          "heatmap": [
           {
            "colorbar": {
             "outlinewidth": 0,
             "ticks": ""
            },
            "colorscale": [
             [
              0,
              "#0d0887"
             ],
             [
              0.1111111111111111,
              "#46039f"
             ],
             [
              0.2222222222222222,
              "#7201a8"
             ],
             [
              0.3333333333333333,
              "#9c179e"
             ],
             [
              0.4444444444444444,
              "#bd3786"
             ],
             [
              0.5555555555555556,
              "#d8576b"
             ],
             [
              0.6666666666666666,
              "#ed7953"
             ],
             [
              0.7777777777777778,
              "#fb9f3a"
             ],
             [
              0.8888888888888888,
              "#fdca26"
             ],
             [
              1,
              "#f0f921"
             ]
            ],
            "type": "heatmap"
           }
          ],
          "heatmapgl": [
           {
            "colorbar": {
             "outlinewidth": 0,
             "ticks": ""
            },
            "colorscale": [
             [
              0,
              "#0d0887"
             ],
             [
              0.1111111111111111,
              "#46039f"
             ],
             [
              0.2222222222222222,
              "#7201a8"
             ],
             [
              0.3333333333333333,
              "#9c179e"
             ],
             [
              0.4444444444444444,
              "#bd3786"
             ],
             [
              0.5555555555555556,
              "#d8576b"
             ],
             [
              0.6666666666666666,
              "#ed7953"
             ],
             [
              0.7777777777777778,
              "#fb9f3a"
             ],
             [
              0.8888888888888888,
              "#fdca26"
             ],
             [
              1,
              "#f0f921"
             ]
            ],
            "type": "heatmapgl"
           }
          ],
          "histogram": [
           {
            "marker": {
             "pattern": {
              "fillmode": "overlay",
              "size": 10,
              "solidity": 0.2
             }
            },
            "type": "histogram"
           }
          ],
          "histogram2d": [
           {
            "colorbar": {
             "outlinewidth": 0,
             "ticks": ""
            },
            "colorscale": [
             [
              0,
              "#0d0887"
             ],
             [
              0.1111111111111111,
              "#46039f"
             ],
             [
              0.2222222222222222,
              "#7201a8"
             ],
             [
              0.3333333333333333,
              "#9c179e"
             ],
             [
              0.4444444444444444,
              "#bd3786"
             ],
             [
              0.5555555555555556,
              "#d8576b"
             ],
             [
              0.6666666666666666,
              "#ed7953"
             ],
             [
              0.7777777777777778,
              "#fb9f3a"
             ],
             [
              0.8888888888888888,
              "#fdca26"
             ],
             [
              1,
              "#f0f921"
             ]
            ],
            "type": "histogram2d"
           }
          ],
          "histogram2dcontour": [
           {
            "colorbar": {
             "outlinewidth": 0,
             "ticks": ""
            },
            "colorscale": [
             [
              0,
              "#0d0887"
             ],
             [
              0.1111111111111111,
              "#46039f"
             ],
             [
              0.2222222222222222,
              "#7201a8"
             ],
             [
              0.3333333333333333,
              "#9c179e"
             ],
             [
              0.4444444444444444,
              "#bd3786"
             ],
             [
              0.5555555555555556,
              "#d8576b"
             ],
             [
              0.6666666666666666,
              "#ed7953"
             ],
             [
              0.7777777777777778,
              "#fb9f3a"
             ],
             [
              0.8888888888888888,
              "#fdca26"
             ],
             [
              1,
              "#f0f921"
             ]
            ],
            "type": "histogram2dcontour"
           }
          ],
          "mesh3d": [
           {
            "colorbar": {
             "outlinewidth": 0,
             "ticks": ""
            },
            "type": "mesh3d"
           }
          ],
          "parcoords": [
           {
            "line": {
             "colorbar": {
              "outlinewidth": 0,
              "ticks": ""
             }
            },
            "type": "parcoords"
           }
          ],
          "pie": [
           {
            "automargin": true,
            "type": "pie"
           }
          ],
          "scatter": [
           {
            "fillpattern": {
             "fillmode": "overlay",
             "size": 10,
             "solidity": 0.2
            },
            "type": "scatter"
           }
          ],
          "scatter3d": [
           {
            "line": {
             "colorbar": {
              "outlinewidth": 0,
              "ticks": ""
             }
            },
            "marker": {
             "colorbar": {
              "outlinewidth": 0,
              "ticks": ""
             }
            },
            "type": "scatter3d"
           }
          ],
          "scattercarpet": [
           {
            "marker": {
             "colorbar": {
              "outlinewidth": 0,
              "ticks": ""
             }
            },
            "type": "scattercarpet"
           }
          ],
          "scattergeo": [
           {
            "marker": {
             "colorbar": {
              "outlinewidth": 0,
              "ticks": ""
             }
            },
            "type": "scattergeo"
           }
          ],
          "scattergl": [
           {
            "marker": {
             "colorbar": {
              "outlinewidth": 0,
              "ticks": ""
             }
            },
            "type": "scattergl"
           }
          ],
          "scattermapbox": [
           {
            "marker": {
             "colorbar": {
              "outlinewidth": 0,
              "ticks": ""
             }
            },
            "type": "scattermapbox"
           }
          ],
          "scatterpolar": [
           {
            "marker": {
             "colorbar": {
              "outlinewidth": 0,
              "ticks": ""
             }
            },
            "type": "scatterpolar"
           }
          ],
          "scatterpolargl": [
           {
            "marker": {
             "colorbar": {
              "outlinewidth": 0,
              "ticks": ""
             }
            },
            "type": "scatterpolargl"
           }
          ],
          "scatterternary": [
           {
            "marker": {
             "colorbar": {
              "outlinewidth": 0,
              "ticks": ""
             }
            },
            "type": "scatterternary"
           }
          ],
          "surface": [
           {
            "colorbar": {
             "outlinewidth": 0,
             "ticks": ""
            },
            "colorscale": [
             [
              0,
              "#0d0887"
             ],
             [
              0.1111111111111111,
              "#46039f"
             ],
             [
              0.2222222222222222,
              "#7201a8"
             ],
             [
              0.3333333333333333,
              "#9c179e"
             ],
             [
              0.4444444444444444,
              "#bd3786"
             ],
             [
              0.5555555555555556,
              "#d8576b"
             ],
             [
              0.6666666666666666,
              "#ed7953"
             ],
             [
              0.7777777777777778,
              "#fb9f3a"
             ],
             [
              0.8888888888888888,
              "#fdca26"
             ],
             [
              1,
              "#f0f921"
             ]
            ],
            "type": "surface"
           }
          ],
          "table": [
           {
            "cells": {
             "fill": {
              "color": "#EBF0F8"
             },
             "line": {
              "color": "white"
             }
            },
            "header": {
             "fill": {
              "color": "#C8D4E3"
             },
             "line": {
              "color": "white"
             }
            },
            "type": "table"
           }
          ]
         },
         "layout": {
          "annotationdefaults": {
           "arrowcolor": "#2a3f5f",
           "arrowhead": 0,
           "arrowwidth": 1
          },
          "autotypenumbers": "strict",
          "coloraxis": {
           "colorbar": {
            "outlinewidth": 0,
            "ticks": ""
           }
          },
          "colorscale": {
           "diverging": [
            [
             0,
             "#8e0152"
            ],
            [
             0.1,
             "#c51b7d"
            ],
            [
             0.2,
             "#de77ae"
            ],
            [
             0.3,
             "#f1b6da"
            ],
            [
             0.4,
             "#fde0ef"
            ],
            [
             0.5,
             "#f7f7f7"
            ],
            [
             0.6,
             "#e6f5d0"
            ],
            [
             0.7,
             "#b8e186"
            ],
            [
             0.8,
             "#7fbc41"
            ],
            [
             0.9,
             "#4d9221"
            ],
            [
             1,
             "#276419"
            ]
           ],
           "sequential": [
            [
             0,
             "#0d0887"
            ],
            [
             0.1111111111111111,
             "#46039f"
            ],
            [
             0.2222222222222222,
             "#7201a8"
            ],
            [
             0.3333333333333333,
             "#9c179e"
            ],
            [
             0.4444444444444444,
             "#bd3786"
            ],
            [
             0.5555555555555556,
             "#d8576b"
            ],
            [
             0.6666666666666666,
             "#ed7953"
            ],
            [
             0.7777777777777778,
             "#fb9f3a"
            ],
            [
             0.8888888888888888,
             "#fdca26"
            ],
            [
             1,
             "#f0f921"
            ]
           ],
           "sequentialminus": [
            [
             0,
             "#0d0887"
            ],
            [
             0.1111111111111111,
             "#46039f"
            ],
            [
             0.2222222222222222,
             "#7201a8"
            ],
            [
             0.3333333333333333,
             "#9c179e"
            ],
            [
             0.4444444444444444,
             "#bd3786"
            ],
            [
             0.5555555555555556,
             "#d8576b"
            ],
            [
             0.6666666666666666,
             "#ed7953"
            ],
            [
             0.7777777777777778,
             "#fb9f3a"
            ],
            [
             0.8888888888888888,
             "#fdca26"
            ],
            [
             1,
             "#f0f921"
            ]
           ]
          },
          "colorway": [
           "#636efa",
           "#EF553B",
           "#00cc96",
           "#ab63fa",
           "#FFA15A",
           "#19d3f3",
           "#FF6692",
           "#B6E880",
           "#FF97FF",
           "#FECB52"
          ],
          "font": {
           "color": "#2a3f5f"
          },
          "geo": {
           "bgcolor": "white",
           "lakecolor": "white",
           "landcolor": "#E5ECF6",
           "showlakes": true,
           "showland": true,
           "subunitcolor": "white"
          },
          "hoverlabel": {
           "align": "left"
          },
          "hovermode": "closest",
          "mapbox": {
           "style": "light"
          },
          "paper_bgcolor": "white",
          "plot_bgcolor": "#E5ECF6",
          "polar": {
           "angularaxis": {
            "gridcolor": "white",
            "linecolor": "white",
            "ticks": ""
           },
           "bgcolor": "#E5ECF6",
           "radialaxis": {
            "gridcolor": "white",
            "linecolor": "white",
            "ticks": ""
           }
          },
          "scene": {
           "xaxis": {
            "backgroundcolor": "#E5ECF6",
            "gridcolor": "white",
            "gridwidth": 2,
            "linecolor": "white",
            "showbackground": true,
            "ticks": "",
            "zerolinecolor": "white"
           },
           "yaxis": {
            "backgroundcolor": "#E5ECF6",
            "gridcolor": "white",
            "gridwidth": 2,
            "linecolor": "white",
            "showbackground": true,
            "ticks": "",
            "zerolinecolor": "white"
           },
           "zaxis": {
            "backgroundcolor": "#E5ECF6",
            "gridcolor": "white",
            "gridwidth": 2,
            "linecolor": "white",
            "showbackground": true,
            "ticks": "",
            "zerolinecolor": "white"
           }
          },
          "shapedefaults": {
           "line": {
            "color": "#2a3f5f"
           }
          },
          "ternary": {
           "aaxis": {
            "gridcolor": "white",
            "linecolor": "white",
            "ticks": ""
           },
           "baxis": {
            "gridcolor": "white",
            "linecolor": "white",
            "ticks": ""
           },
           "bgcolor": "#E5ECF6",
           "caxis": {
            "gridcolor": "white",
            "linecolor": "white",
            "ticks": ""
           }
          },
          "title": {
           "x": 0.05
          },
          "xaxis": {
           "automargin": true,
           "gridcolor": "white",
           "linecolor": "white",
           "ticks": "",
           "title": {
            "standoff": 15
           },
           "zerolinecolor": "white",
           "zerolinewidth": 2
          },
          "yaxis": {
           "automargin": true,
           "gridcolor": "white",
           "linecolor": "white",
           "ticks": "",
           "title": {
            "standoff": 15
           },
           "zerolinecolor": "white",
           "zerolinewidth": 2
          }
         }
        },
        "title": {
         "text": "Richness of BCR_HC 01 vs BCR_HC 02"
        },
        "width": 1000,
        "xaxis": {
         "range": [
          0,
          25
         ],
         "tickfont": {
          "size": 15
         },
         "title": {
          "font": {
           "size": 20
          },
          "text": "Total number of TCR Amino Acid Squence(x10<sup>4</sup>)"
         }
        },
        "yaxis": {
         "gridcolor": "lightgray",
         "range": [
          1000,
          40000
         ],
         "tickfont": {
          "size": 15
         },
         "title": {
          "font": {
           "size": 20
          },
          "text": "Total unique number of Amino Acids"
         }
        }
       }
      }
     },
     "metadata": {},
     "output_type": "display_data"
    }
   ],
   "source": [
    "### 전체에 대해 boxplot으로 richness 비교하기\n",
    "### BCRHC01의 IGG vs BCRHC02의 IGG, BCRHC01의 IGM vs BCRHC02의 IGM\n",
    "### BCRLC01의 IGL vs BCRLC02의 IGL, BCRLC01의 IGK vs BCRLC02의 IGK\n",
    "### TCR01의 TRA vs TCR02의 TRA, TCR01의 TRB vs TCR02의 TRB\n",
    "### 비교될 수 있도록 BCRHC01, BCRHC02 두 개씩 나오도록\n",
    "\n",
    "def richness_boxplot(df1, df2, title, detect):\n",
    "            \n",
    "    if detect == 'HC':\n",
    "        Typelist = ['IGM', 'IGG']\n",
    "    elif detect == 'LC':\n",
    "        Typelist = ['IGK', 'IGL']\n",
    "    else:\n",
    "        Typelist = ['TRA', 'TRB']\n",
    "    \n",
    "    for t in Typelist:\n",
    "        temp1 = df1[(df1['Type'] == t)]\n",
    "        temp2 = df2[(df2['Type'] == t)]\n",
    "        fig = go.Figure() \n",
    "        \n",
    "        ### 1 이상 readcount만 확인\n",
    "        temp1 = temp1[(temp1['Total_readcount'] > 1) ]\n",
    "        temp2 = temp2[(temp2['Total_readcount'] > 1) ]\n",
    "        \n",
    "        temp1['Total_readcount'] = temp1['Total_readcount'] + 10000\n",
    "        temp2['Total_readcount'] = temp2['Total_readcount'] + 10000\n",
    "        \n",
    "        temp1.loc[:,'Total_readcount'] = temp1['Total_readcount'] // 10000\n",
    "        temp2.loc[:,'Total_readcount'] = temp2['Total_readcount'] // 10000\n",
    "        \n",
    "        temp1 = temp1[(temp1['Total_readcount'] < 25 ) ]\n",
    "        temp2 = temp2[(temp2['Total_readcount'] < 25 ) ]\n",
    "        \n",
    "        temp1 = temp1.groupby('Total_readcount')['Row_number'].agg(['mean', 'std', 'count']).reset_index()\n",
    "        temp2 = temp2.groupby('Total_readcount')['Row_number'].agg(['mean', 'std', 'count']).reset_index()\n",
    "            \n",
    "        fig.add_trace(go.Scatter(x=temp1['Total_readcount'], y=temp1['mean'], mode='markers', name=f'{t} Mean 1', marker=dict(color='blue', size=6), opacity=1))\n",
    "        fig.add_trace(go.Scatter(x=temp1['Total_readcount'], y=temp1['mean'], mode='lines', name=f'{t} Mean Line 1', line=dict(color='blue', width=2), opacity=0.7))                                    \n",
    "        for i in range(len(temp1)):\n",
    "            fig.add_trace(go.Scatter(x=[temp1['Total_readcount'].iloc[i]], y=[temp1['mean'].iloc[i]], mode='markers+text', text=str(temp1['count'].iloc[i]), textposition='top right', marker=dict(color='blue'), opacity=1))\n",
    "            fig.add_trace(go.Scatter(x=[temp1['Total_readcount'].iloc[i], temp1['Total_readcount'].iloc[i]],\n",
    "                    y=[temp1['mean'].iloc[i] + temp1['std'].iloc[i], temp1['mean'].iloc[i] - temp1['std'].iloc[i]],\n",
    "                    mode='lines', line=dict(color='blue'), opacity=0.5))\n",
    "        \n",
    "        \n",
    "        fig.add_trace(go.Scatter(x=temp2['Total_readcount'], y=temp2['mean'], mode='markers', name=f'{t} Mean 2', marker=dict(color='red', size=6), opacity=1))\n",
    "        fig.add_trace(go.Scatter(x=temp2['Total_readcount'], y=temp2['mean'], mode='lines', name=f'{t} Mean Line 2', line=dict(color='red', width=2), opacity=0.7))\n",
    "        for i in range(len(temp2)):\n",
    "            fig.add_trace(go.Scatter(x=[temp2['Total_readcount'].iloc[i]], y=[temp2['mean'].iloc[i]], mode='markers+text', text=str(temp2['count'].iloc[i]), textposition='bottom right', marker=dict(color='red'), opacity=1))\n",
    "            fig.add_trace(go.Scatter(x=[temp2['Total_readcount'].iloc[i], temp2['Total_readcount'].iloc[i]],\n",
    "                    y=[temp2['mean'].iloc[i] + temp2['std'].iloc[i], temp2['mean'].iloc[i] - temp2['std'].iloc[i]],\n",
    "                    mode='lines', line=dict(color='red'), opacity=0.5))\n",
    "        \n",
    "        fig.update_layout(title=title, xaxis_title='Total number of TCR Amino Acid Squence(x10<sup>4</sup>)', yaxis_title='Total unique number of Amino Acids', yaxis_tickfont_size=15, yaxis_titlefont_size=20, xaxis_tickfont_size=15, xaxis_titlefont_size=20,\n",
    "                        xaxis=dict(range=[0, 25]), yaxis=dict(range=[1000, 40000],gridcolor='lightgray'), plot_bgcolor='rgba(255, 255, 255, 1)', width=1000, height=800)\n",
    "        \n",
    "        fig.show()\n",
    "        \n",
    "richness_boxplot(trim_BCRHC01, trim_BCRHC02, 'Richness of BCR_HC 01 vs BCR_HC 02', 'HC')\n",
    "# richness_boxplot(trim_BCRLC01, trim_BCRLC02, 'Richness of BCR_LC 01 vs BCR_LC 02', 'LC')\n",
    "# richness_boxplot(trim_TCR01, trim_TCR02, 'Richness of TCR 01 vs TCR 02', 'TCR')"
   ]
  },
  {
   "cell_type": "code",
   "execution_count": null,
   "metadata": {},
   "outputs": [],
   "source": [
    "### 이제 "
   ]
  }
 ],
 "metadata": {
  "kernelspec": {
   "display_name": "Python 3",
   "language": "python",
   "name": "python3"
  },
  "language_info": {
   "codemirror_mode": {
    "name": "ipython",
    "version": 3
   },
   "file_extension": ".py",
   "mimetype": "text/x-python",
   "name": "python",
   "nbconvert_exporter": "python",
   "pygments_lexer": "ipython3",
   "version": "3.11.5 | packaged by Anaconda, Inc. | (main, Sep 11 2023, 13:26:23) [MSC v.1916 64 bit (AMD64)]"
  },
  "vscode": {
   "interpreter": {
    "hash": "e4cce46d6be9934fbd27f9ca0432556941ea5bdf741d4f4d64c6cd7f8dfa8fba"
   }
  }
 },
 "nbformat": 4,
 "nbformat_minor": 2
}
